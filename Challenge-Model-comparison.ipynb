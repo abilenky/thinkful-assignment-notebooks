{
 "cells": [
  {
   "cell_type": "code",
   "execution_count": 42,
   "metadata": {},
   "outputs": [],
   "source": [
    "import numpy as np\n",
    "import pandas as pd\n",
    "import matplotlib.pyplot as plt\n",
    "import seaborn as sns\n",
    "%matplotlib inline"
   ]
  },
  {
   "cell_type": "markdown",
   "metadata": {},
   "source": [
    "Data source: https://www.kaggle.com/jboysen/google-project-sunroof"
   ]
  },
  {
   "cell_type": "code",
   "execution_count": 10,
   "metadata": {},
   "outputs": [],
   "source": [
    "df = pd.read_csv('project-sunroof-postal_code-09082017.csv')"
   ]
  },
  {
   "cell_type": "code",
   "execution_count": 11,
   "metadata": {},
   "outputs": [
    {
     "data": {
      "text/html": [
       "<div>\n",
       "<style scoped>\n",
       "    .dataframe tbody tr th:only-of-type {\n",
       "        vertical-align: middle;\n",
       "    }\n",
       "\n",
       "    .dataframe tbody tr th {\n",
       "        vertical-align: top;\n",
       "    }\n",
       "\n",
       "    .dataframe thead th {\n",
       "        text-align: right;\n",
       "    }\n",
       "</style>\n",
       "<table border=\"1\" class=\"dataframe\">\n",
       "  <thead>\n",
       "    <tr style=\"text-align: right;\">\n",
       "      <th></th>\n",
       "      <th>region_name</th>\n",
       "      <th>state_name</th>\n",
       "      <th>lat_max</th>\n",
       "      <th>lat_min</th>\n",
       "      <th>lng_max</th>\n",
       "      <th>lng_min</th>\n",
       "      <th>lat_avg</th>\n",
       "      <th>lng_avg</th>\n",
       "      <th>yearly_sunlight_kwh_kw_threshold_avg</th>\n",
       "      <th>count_qualified</th>\n",
       "      <th>...</th>\n",
       "      <th>yearly_sunlight_kwh_n</th>\n",
       "      <th>yearly_sunlight_kwh_s</th>\n",
       "      <th>yearly_sunlight_kwh_e</th>\n",
       "      <th>yearly_sunlight_kwh_w</th>\n",
       "      <th>yearly_sunlight_kwh_f</th>\n",
       "      <th>yearly_sunlight_kwh_median</th>\n",
       "      <th>yearly_sunlight_kwh_total</th>\n",
       "      <th>install_size_kw_buckets_json</th>\n",
       "      <th>carbon_offset_metric_tons</th>\n",
       "      <th>existing_installs_count</th>\n",
       "    </tr>\n",
       "  </thead>\n",
       "  <tbody>\n",
       "    <tr>\n",
       "      <th>0</th>\n",
       "      <td>NaN</td>\n",
       "      <td>NaN</td>\n",
       "      <td>32.542257</td>\n",
       "      <td>32.542257</td>\n",
       "      <td>-117.030077</td>\n",
       "      <td>-117.030077</td>\n",
       "      <td>32.542257</td>\n",
       "      <td>-117.030077</td>\n",
       "      <td>1304.75</td>\n",
       "      <td>0</td>\n",
       "      <td>...</td>\n",
       "      <td>0.000000e+00</td>\n",
       "      <td>0.000000e+00</td>\n",
       "      <td>0.000000e+00</td>\n",
       "      <td>0.000000e+00</td>\n",
       "      <td>0.000000e+00</td>\n",
       "      <td>NaN</td>\n",
       "      <td>NaN</td>\n",
       "      <td>NaN</td>\n",
       "      <td>0.000000</td>\n",
       "      <td>0</td>\n",
       "    </tr>\n",
       "    <tr>\n",
       "      <th>1</th>\n",
       "      <td>1001.0</td>\n",
       "      <td>Massachusetts</td>\n",
       "      <td>42.099647</td>\n",
       "      <td>42.031153</td>\n",
       "      <td>-72.585478</td>\n",
       "      <td>-72.661521</td>\n",
       "      <td>42.067573</td>\n",
       "      <td>-72.623099</td>\n",
       "      <td>969.85</td>\n",
       "      <td>43</td>\n",
       "      <td>...</td>\n",
       "      <td>1.277903e+04</td>\n",
       "      <td>1.857622e+05</td>\n",
       "      <td>9.499651e+04</td>\n",
       "      <td>6.407655e+04</td>\n",
       "      <td>9.946072e+04</td>\n",
       "      <td>5866.558057</td>\n",
       "      <td>4.570750e+05</td>\n",
       "      <td>[[0,22],[5,10],[10,6],[15,1],[20,1],[35,2],[55...</td>\n",
       "      <td>197.909043</td>\n",
       "      <td>0</td>\n",
       "    </tr>\n",
       "    <tr>\n",
       "      <th>2</th>\n",
       "      <td>1013.0</td>\n",
       "      <td>Massachusetts</td>\n",
       "      <td>42.197571</td>\n",
       "      <td>42.127819</td>\n",
       "      <td>-72.585709</td>\n",
       "      <td>-72.626135</td>\n",
       "      <td>42.162403</td>\n",
       "      <td>-72.607630</td>\n",
       "      <td>969.85</td>\n",
       "      <td>4548</td>\n",
       "      <td>...</td>\n",
       "      <td>1.403366e+06</td>\n",
       "      <td>1.668511e+07</td>\n",
       "      <td>8.920993e+06</td>\n",
       "      <td>7.583437e+06</td>\n",
       "      <td>2.689872e+07</td>\n",
       "      <td>6425.033374</td>\n",
       "      <td>6.149163e+07</td>\n",
       "      <td>[[0,1847],[5,1763],[10,489],[15,150],[20,66],[...</td>\n",
       "      <td>26625.281247</td>\n",
       "      <td>10</td>\n",
       "    </tr>\n",
       "    <tr>\n",
       "      <th>3</th>\n",
       "      <td>1020.0</td>\n",
       "      <td>Massachusetts</td>\n",
       "      <td>42.218603</td>\n",
       "      <td>42.139015</td>\n",
       "      <td>-72.514267</td>\n",
       "      <td>-72.608908</td>\n",
       "      <td>42.176097</td>\n",
       "      <td>-72.574750</td>\n",
       "      <td>969.85</td>\n",
       "      <td>6310</td>\n",
       "      <td>...</td>\n",
       "      <td>2.884564e+06</td>\n",
       "      <td>2.185357e+07</td>\n",
       "      <td>1.561708e+07</td>\n",
       "      <td>1.473892e+07</td>\n",
       "      <td>5.168227e+07</td>\n",
       "      <td>6849.003143</td>\n",
       "      <td>1.067764e+08</td>\n",
       "      <td>[[0,2291],[5,2435],[10,842],[15,292],[20,111],...</td>\n",
       "      <td>46233.148051</td>\n",
       "      <td>15</td>\n",
       "    </tr>\n",
       "    <tr>\n",
       "      <th>4</th>\n",
       "      <td>1022.0</td>\n",
       "      <td>Massachusetts</td>\n",
       "      <td>42.213156</td>\n",
       "      <td>42.178030</td>\n",
       "      <td>-72.530488</td>\n",
       "      <td>-72.575590</td>\n",
       "      <td>42.194646</td>\n",
       "      <td>-72.558203</td>\n",
       "      <td>969.85</td>\n",
       "      <td>638</td>\n",
       "      <td>...</td>\n",
       "      <td>2.246585e+06</td>\n",
       "      <td>5.434798e+06</td>\n",
       "      <td>4.445158e+06</td>\n",
       "      <td>3.264328e+06</td>\n",
       "      <td>3.271278e+07</td>\n",
       "      <td>12660.039972</td>\n",
       "      <td>4.810365e+07</td>\n",
       "      <td>[[0,142],[5,145],[10,102],[15,68],[20,24],[25,...</td>\n",
       "      <td>20828.412212</td>\n",
       "      <td>2</td>\n",
       "    </tr>\n",
       "  </tbody>\n",
       "</table>\n",
       "<p>5 rows × 31 columns</p>\n",
       "</div>"
      ],
      "text/plain": [
       "   region_name     state_name    lat_max    lat_min     lng_max     lng_min  \\\n",
       "0          NaN            NaN  32.542257  32.542257 -117.030077 -117.030077   \n",
       "1       1001.0  Massachusetts  42.099647  42.031153  -72.585478  -72.661521   \n",
       "2       1013.0  Massachusetts  42.197571  42.127819  -72.585709  -72.626135   \n",
       "3       1020.0  Massachusetts  42.218603  42.139015  -72.514267  -72.608908   \n",
       "4       1022.0  Massachusetts  42.213156  42.178030  -72.530488  -72.575590   \n",
       "\n",
       "     lat_avg     lng_avg  yearly_sunlight_kwh_kw_threshold_avg  \\\n",
       "0  32.542257 -117.030077                               1304.75   \n",
       "1  42.067573  -72.623099                                969.85   \n",
       "2  42.162403  -72.607630                                969.85   \n",
       "3  42.176097  -72.574750                                969.85   \n",
       "4  42.194646  -72.558203                                969.85   \n",
       "\n",
       "   count_qualified  ...  yearly_sunlight_kwh_n  yearly_sunlight_kwh_s  \\\n",
       "0                0  ...           0.000000e+00           0.000000e+00   \n",
       "1               43  ...           1.277903e+04           1.857622e+05   \n",
       "2             4548  ...           1.403366e+06           1.668511e+07   \n",
       "3             6310  ...           2.884564e+06           2.185357e+07   \n",
       "4              638  ...           2.246585e+06           5.434798e+06   \n",
       "\n",
       "   yearly_sunlight_kwh_e  yearly_sunlight_kwh_w  yearly_sunlight_kwh_f  \\\n",
       "0           0.000000e+00           0.000000e+00           0.000000e+00   \n",
       "1           9.499651e+04           6.407655e+04           9.946072e+04   \n",
       "2           8.920993e+06           7.583437e+06           2.689872e+07   \n",
       "3           1.561708e+07           1.473892e+07           5.168227e+07   \n",
       "4           4.445158e+06           3.264328e+06           3.271278e+07   \n",
       "\n",
       "   yearly_sunlight_kwh_median  yearly_sunlight_kwh_total  \\\n",
       "0                         NaN                        NaN   \n",
       "1                 5866.558057               4.570750e+05   \n",
       "2                 6425.033374               6.149163e+07   \n",
       "3                 6849.003143               1.067764e+08   \n",
       "4                12660.039972               4.810365e+07   \n",
       "\n",
       "                        install_size_kw_buckets_json  \\\n",
       "0                                                NaN   \n",
       "1  [[0,22],[5,10],[10,6],[15,1],[20,1],[35,2],[55...   \n",
       "2  [[0,1847],[5,1763],[10,489],[15,150],[20,66],[...   \n",
       "3  [[0,2291],[5,2435],[10,842],[15,292],[20,111],...   \n",
       "4  [[0,142],[5,145],[10,102],[15,68],[20,24],[25,...   \n",
       "\n",
       "   carbon_offset_metric_tons  existing_installs_count  \n",
       "0                   0.000000                        0  \n",
       "1                 197.909043                        0  \n",
       "2               26625.281247                       10  \n",
       "3               46233.148051                       15  \n",
       "4               20828.412212                        2  \n",
       "\n",
       "[5 rows x 31 columns]"
      ]
     },
     "execution_count": 11,
     "metadata": {},
     "output_type": "execute_result"
    }
   ],
   "source": [
    "df.head()"
   ]
  },
  {
   "cell_type": "code",
   "execution_count": 13,
   "metadata": {
    "scrolled": true
   },
   "outputs": [
    {
     "name": "stdout",
     "output_type": "stream",
     "text": [
      "<class 'pandas.core.frame.DataFrame'>\n",
      "RangeIndex: 10621 entries, 0 to 10620\n",
      "Data columns (total 31 columns):\n",
      " #   Column                                Non-Null Count  Dtype  \n",
      "---  ------                                --------------  -----  \n",
      " 0   region_name                           10620 non-null  float64\n",
      " 1   state_name                            10620 non-null  object \n",
      " 2   lat_max                               10621 non-null  float64\n",
      " 3   lat_min                               10621 non-null  float64\n",
      " 4   lng_max                               10621 non-null  float64\n",
      " 5   lng_min                               10621 non-null  float64\n",
      " 6   lat_avg                               10621 non-null  float64\n",
      " 7   lng_avg                               10621 non-null  float64\n",
      " 8   yearly_sunlight_kwh_kw_threshold_avg  10621 non-null  float64\n",
      " 9   count_qualified                       10621 non-null  int64  \n",
      " 10  percent_covered                       10621 non-null  float64\n",
      " 11  percent_qualified                     10621 non-null  float64\n",
      " 12  number_of_panels_n                    10621 non-null  int64  \n",
      " 13  number_of_panels_s                    10621 non-null  int64  \n",
      " 14  number_of_panels_e                    10621 non-null  int64  \n",
      " 15  number_of_panels_w                    10621 non-null  int64  \n",
      " 16  number_of_panels_f                    10621 non-null  int64  \n",
      " 17  number_of_panels_median               10585 non-null  float64\n",
      " 18  number_of_panels_total                10585 non-null  float64\n",
      " 19  kw_median                             10585 non-null  float64\n",
      " 20  kw_total                              10585 non-null  float64\n",
      " 21  yearly_sunlight_kwh_n                 10621 non-null  float64\n",
      " 22  yearly_sunlight_kwh_s                 10621 non-null  float64\n",
      " 23  yearly_sunlight_kwh_e                 10621 non-null  float64\n",
      " 24  yearly_sunlight_kwh_w                 10621 non-null  float64\n",
      " 25  yearly_sunlight_kwh_f                 10621 non-null  float64\n",
      " 26  yearly_sunlight_kwh_median            10585 non-null  float64\n",
      " 27  yearly_sunlight_kwh_total             10585 non-null  float64\n",
      " 28  install_size_kw_buckets_json          10585 non-null  object \n",
      " 29  carbon_offset_metric_tons             10621 non-null  float64\n",
      " 30  existing_installs_count               10621 non-null  int64  \n",
      "dtypes: float64(22), int64(7), object(2)\n",
      "memory usage: 2.5+ MB\n"
     ]
    }
   ],
   "source": [
    "df.info()"
   ]
  },
  {
   "cell_type": "code",
   "execution_count": 14,
   "metadata": {},
   "outputs": [],
   "source": [
    "df.dropna(inplace=True)"
   ]
  },
  {
   "cell_type": "code",
   "execution_count": 15,
   "metadata": {},
   "outputs": [
    {
     "name": "stdout",
     "output_type": "stream",
     "text": [
      "<class 'pandas.core.frame.DataFrame'>\n",
      "Int64Index: 10585 entries, 1 to 10620\n",
      "Data columns (total 31 columns):\n",
      " #   Column                                Non-Null Count  Dtype  \n",
      "---  ------                                --------------  -----  \n",
      " 0   region_name                           10585 non-null  float64\n",
      " 1   state_name                            10585 non-null  object \n",
      " 2   lat_max                               10585 non-null  float64\n",
      " 3   lat_min                               10585 non-null  float64\n",
      " 4   lng_max                               10585 non-null  float64\n",
      " 5   lng_min                               10585 non-null  float64\n",
      " 6   lat_avg                               10585 non-null  float64\n",
      " 7   lng_avg                               10585 non-null  float64\n",
      " 8   yearly_sunlight_kwh_kw_threshold_avg  10585 non-null  float64\n",
      " 9   count_qualified                       10585 non-null  int64  \n",
      " 10  percent_covered                       10585 non-null  float64\n",
      " 11  percent_qualified                     10585 non-null  float64\n",
      " 12  number_of_panels_n                    10585 non-null  int64  \n",
      " 13  number_of_panels_s                    10585 non-null  int64  \n",
      " 14  number_of_panels_e                    10585 non-null  int64  \n",
      " 15  number_of_panels_w                    10585 non-null  int64  \n",
      " 16  number_of_panels_f                    10585 non-null  int64  \n",
      " 17  number_of_panels_median               10585 non-null  float64\n",
      " 18  number_of_panels_total                10585 non-null  float64\n",
      " 19  kw_median                             10585 non-null  float64\n",
      " 20  kw_total                              10585 non-null  float64\n",
      " 21  yearly_sunlight_kwh_n                 10585 non-null  float64\n",
      " 22  yearly_sunlight_kwh_s                 10585 non-null  float64\n",
      " 23  yearly_sunlight_kwh_e                 10585 non-null  float64\n",
      " 24  yearly_sunlight_kwh_w                 10585 non-null  float64\n",
      " 25  yearly_sunlight_kwh_f                 10585 non-null  float64\n",
      " 26  yearly_sunlight_kwh_median            10585 non-null  float64\n",
      " 27  yearly_sunlight_kwh_total             10585 non-null  float64\n",
      " 28  install_size_kw_buckets_json          10585 non-null  object \n",
      " 29  carbon_offset_metric_tons             10585 non-null  float64\n",
      " 30  existing_installs_count               10585 non-null  int64  \n",
      "dtypes: float64(22), int64(7), object(2)\n",
      "memory usage: 2.9+ MB\n"
     ]
    }
   ],
   "source": [
    "df.info()"
   ]
  },
  {
   "cell_type": "code",
   "execution_count": 16,
   "metadata": {},
   "outputs": [
    {
     "data": {
      "text/html": [
       "<div>\n",
       "<style scoped>\n",
       "    .dataframe tbody tr th:only-of-type {\n",
       "        vertical-align: middle;\n",
       "    }\n",
       "\n",
       "    .dataframe tbody tr th {\n",
       "        vertical-align: top;\n",
       "    }\n",
       "\n",
       "    .dataframe thead th {\n",
       "        text-align: right;\n",
       "    }\n",
       "</style>\n",
       "<table border=\"1\" class=\"dataframe\">\n",
       "  <thead>\n",
       "    <tr style=\"text-align: right;\">\n",
       "      <th></th>\n",
       "      <th>region_name</th>\n",
       "      <th>state_name</th>\n",
       "      <th>lat_max</th>\n",
       "      <th>lat_min</th>\n",
       "      <th>lng_max</th>\n",
       "      <th>lng_min</th>\n",
       "      <th>lat_avg</th>\n",
       "      <th>lng_avg</th>\n",
       "      <th>yearly_sunlight_kwh_kw_threshold_avg</th>\n",
       "      <th>count_qualified</th>\n",
       "      <th>...</th>\n",
       "      <th>yearly_sunlight_kwh_n</th>\n",
       "      <th>yearly_sunlight_kwh_s</th>\n",
       "      <th>yearly_sunlight_kwh_e</th>\n",
       "      <th>yearly_sunlight_kwh_w</th>\n",
       "      <th>yearly_sunlight_kwh_f</th>\n",
       "      <th>yearly_sunlight_kwh_median</th>\n",
       "      <th>yearly_sunlight_kwh_total</th>\n",
       "      <th>install_size_kw_buckets_json</th>\n",
       "      <th>carbon_offset_metric_tons</th>\n",
       "      <th>existing_installs_count</th>\n",
       "    </tr>\n",
       "  </thead>\n",
       "  <tbody>\n",
       "    <tr>\n",
       "      <th>1</th>\n",
       "      <td>1001.0</td>\n",
       "      <td>Massachusetts</td>\n",
       "      <td>42.099647</td>\n",
       "      <td>42.031153</td>\n",
       "      <td>-72.585478</td>\n",
       "      <td>-72.661521</td>\n",
       "      <td>42.067573</td>\n",
       "      <td>-72.623099</td>\n",
       "      <td>969.85</td>\n",
       "      <td>43</td>\n",
       "      <td>...</td>\n",
       "      <td>1.277903e+04</td>\n",
       "      <td>1.857622e+05</td>\n",
       "      <td>9.499651e+04</td>\n",
       "      <td>6.407655e+04</td>\n",
       "      <td>9.946072e+04</td>\n",
       "      <td>5866.558057</td>\n",
       "      <td>4.570750e+05</td>\n",
       "      <td>[[0,22],[5,10],[10,6],[15,1],[20,1],[35,2],[55...</td>\n",
       "      <td>197.909043</td>\n",
       "      <td>0</td>\n",
       "    </tr>\n",
       "    <tr>\n",
       "      <th>2</th>\n",
       "      <td>1013.0</td>\n",
       "      <td>Massachusetts</td>\n",
       "      <td>42.197571</td>\n",
       "      <td>42.127819</td>\n",
       "      <td>-72.585709</td>\n",
       "      <td>-72.626135</td>\n",
       "      <td>42.162403</td>\n",
       "      <td>-72.607630</td>\n",
       "      <td>969.85</td>\n",
       "      <td>4548</td>\n",
       "      <td>...</td>\n",
       "      <td>1.403366e+06</td>\n",
       "      <td>1.668511e+07</td>\n",
       "      <td>8.920993e+06</td>\n",
       "      <td>7.583437e+06</td>\n",
       "      <td>2.689872e+07</td>\n",
       "      <td>6425.033374</td>\n",
       "      <td>6.149163e+07</td>\n",
       "      <td>[[0,1847],[5,1763],[10,489],[15,150],[20,66],[...</td>\n",
       "      <td>26625.281247</td>\n",
       "      <td>10</td>\n",
       "    </tr>\n",
       "    <tr>\n",
       "      <th>3</th>\n",
       "      <td>1020.0</td>\n",
       "      <td>Massachusetts</td>\n",
       "      <td>42.218603</td>\n",
       "      <td>42.139015</td>\n",
       "      <td>-72.514267</td>\n",
       "      <td>-72.608908</td>\n",
       "      <td>42.176097</td>\n",
       "      <td>-72.574750</td>\n",
       "      <td>969.85</td>\n",
       "      <td>6310</td>\n",
       "      <td>...</td>\n",
       "      <td>2.884564e+06</td>\n",
       "      <td>2.185357e+07</td>\n",
       "      <td>1.561708e+07</td>\n",
       "      <td>1.473892e+07</td>\n",
       "      <td>5.168227e+07</td>\n",
       "      <td>6849.003143</td>\n",
       "      <td>1.067764e+08</td>\n",
       "      <td>[[0,2291],[5,2435],[10,842],[15,292],[20,111],...</td>\n",
       "      <td>46233.148051</td>\n",
       "      <td>15</td>\n",
       "    </tr>\n",
       "    <tr>\n",
       "      <th>4</th>\n",
       "      <td>1022.0</td>\n",
       "      <td>Massachusetts</td>\n",
       "      <td>42.213156</td>\n",
       "      <td>42.178030</td>\n",
       "      <td>-72.530488</td>\n",
       "      <td>-72.575590</td>\n",
       "      <td>42.194646</td>\n",
       "      <td>-72.558203</td>\n",
       "      <td>969.85</td>\n",
       "      <td>638</td>\n",
       "      <td>...</td>\n",
       "      <td>2.246585e+06</td>\n",
       "      <td>5.434798e+06</td>\n",
       "      <td>4.445158e+06</td>\n",
       "      <td>3.264328e+06</td>\n",
       "      <td>3.271278e+07</td>\n",
       "      <td>12660.039972</td>\n",
       "      <td>4.810365e+07</td>\n",
       "      <td>[[0,142],[5,145],[10,102],[15,68],[20,24],[25,...</td>\n",
       "      <td>20828.412212</td>\n",
       "      <td>2</td>\n",
       "    </tr>\n",
       "    <tr>\n",
       "      <th>5</th>\n",
       "      <td>1027.0</td>\n",
       "      <td>Massachusetts</td>\n",
       "      <td>42.328307</td>\n",
       "      <td>42.223478</td>\n",
       "      <td>-72.615752</td>\n",
       "      <td>-72.815815</td>\n",
       "      <td>42.264248</td>\n",
       "      <td>-72.681222</td>\n",
       "      <td>966.45</td>\n",
       "      <td>437</td>\n",
       "      <td>...</td>\n",
       "      <td>2.633799e+05</td>\n",
       "      <td>1.952288e+06</td>\n",
       "      <td>8.671030e+05</td>\n",
       "      <td>1.124274e+06</td>\n",
       "      <td>1.682101e+06</td>\n",
       "      <td>7116.247314</td>\n",
       "      <td>5.889146e+06</td>\n",
       "      <td>[[0,153],[5,189],[10,50],[15,17],[20,6],[25,2]...</td>\n",
       "      <td>2549.943006</td>\n",
       "      <td>7</td>\n",
       "    </tr>\n",
       "  </tbody>\n",
       "</table>\n",
       "<p>5 rows × 31 columns</p>\n",
       "</div>"
      ],
      "text/plain": [
       "   region_name     state_name    lat_max    lat_min    lng_max    lng_min  \\\n",
       "1       1001.0  Massachusetts  42.099647  42.031153 -72.585478 -72.661521   \n",
       "2       1013.0  Massachusetts  42.197571  42.127819 -72.585709 -72.626135   \n",
       "3       1020.0  Massachusetts  42.218603  42.139015 -72.514267 -72.608908   \n",
       "4       1022.0  Massachusetts  42.213156  42.178030 -72.530488 -72.575590   \n",
       "5       1027.0  Massachusetts  42.328307  42.223478 -72.615752 -72.815815   \n",
       "\n",
       "     lat_avg    lng_avg  yearly_sunlight_kwh_kw_threshold_avg  \\\n",
       "1  42.067573 -72.623099                                969.85   \n",
       "2  42.162403 -72.607630                                969.85   \n",
       "3  42.176097 -72.574750                                969.85   \n",
       "4  42.194646 -72.558203                                969.85   \n",
       "5  42.264248 -72.681222                                966.45   \n",
       "\n",
       "   count_qualified  ...  yearly_sunlight_kwh_n  yearly_sunlight_kwh_s  \\\n",
       "1               43  ...           1.277903e+04           1.857622e+05   \n",
       "2             4548  ...           1.403366e+06           1.668511e+07   \n",
       "3             6310  ...           2.884564e+06           2.185357e+07   \n",
       "4              638  ...           2.246585e+06           5.434798e+06   \n",
       "5              437  ...           2.633799e+05           1.952288e+06   \n",
       "\n",
       "   yearly_sunlight_kwh_e  yearly_sunlight_kwh_w  yearly_sunlight_kwh_f  \\\n",
       "1           9.499651e+04           6.407655e+04           9.946072e+04   \n",
       "2           8.920993e+06           7.583437e+06           2.689872e+07   \n",
       "3           1.561708e+07           1.473892e+07           5.168227e+07   \n",
       "4           4.445158e+06           3.264328e+06           3.271278e+07   \n",
       "5           8.671030e+05           1.124274e+06           1.682101e+06   \n",
       "\n",
       "   yearly_sunlight_kwh_median  yearly_sunlight_kwh_total  \\\n",
       "1                 5866.558057               4.570750e+05   \n",
       "2                 6425.033374               6.149163e+07   \n",
       "3                 6849.003143               1.067764e+08   \n",
       "4                12660.039972               4.810365e+07   \n",
       "5                 7116.247314               5.889146e+06   \n",
       "\n",
       "                        install_size_kw_buckets_json  \\\n",
       "1  [[0,22],[5,10],[10,6],[15,1],[20,1],[35,2],[55...   \n",
       "2  [[0,1847],[5,1763],[10,489],[15,150],[20,66],[...   \n",
       "3  [[0,2291],[5,2435],[10,842],[15,292],[20,111],...   \n",
       "4  [[0,142],[5,145],[10,102],[15,68],[20,24],[25,...   \n",
       "5  [[0,153],[5,189],[10,50],[15,17],[20,6],[25,2]...   \n",
       "\n",
       "   carbon_offset_metric_tons  existing_installs_count  \n",
       "1                 197.909043                        0  \n",
       "2               26625.281247                       10  \n",
       "3               46233.148051                       15  \n",
       "4               20828.412212                        2  \n",
       "5                2549.943006                        7  \n",
       "\n",
       "[5 rows x 31 columns]"
      ]
     },
     "execution_count": 16,
     "metadata": {},
     "output_type": "execute_result"
    }
   ],
   "source": [
    "df.head()"
   ]
  },
  {
   "cell_type": "code",
   "execution_count": 24,
   "metadata": {},
   "outputs": [],
   "source": [
    "df.drop('region_name', axis=1, inplace=True)"
   ]
  },
  {
   "cell_type": "code",
   "execution_count": 28,
   "metadata": {},
   "outputs": [],
   "source": [
    "df.drop(columns=['lat_max', 'lat_min', 'lng_max', 'lng_min'], inplace=True)"
   ]
  },
  {
   "cell_type": "code",
   "execution_count": 31,
   "metadata": {},
   "outputs": [
    {
     "data": {
      "text/plain": [
       "Index(['state_name', 'lat_avg', 'lng_avg',\n",
       "       'yearly_sunlight_kwh_kw_threshold_avg', 'count_qualified',\n",
       "       'percent_covered', 'percent_qualified', 'number_of_panels_n',\n",
       "       'number_of_panels_s', 'number_of_panels_e', 'number_of_panels_w',\n",
       "       'number_of_panels_f', 'number_of_panels_median',\n",
       "       'number_of_panels_total', 'kw_median', 'kw_total',\n",
       "       'yearly_sunlight_kwh_n', 'yearly_sunlight_kwh_s',\n",
       "       'yearly_sunlight_kwh_e', 'yearly_sunlight_kwh_w',\n",
       "       'yearly_sunlight_kwh_f', 'yearly_sunlight_kwh_median',\n",
       "       'yearly_sunlight_kwh_total', 'install_size_kw_buckets_json',\n",
       "       'carbon_offset_metric_tons', 'existing_installs_count'],\n",
       "      dtype='object')"
      ]
     },
     "execution_count": 31,
     "metadata": {},
     "output_type": "execute_result"
    }
   ],
   "source": [
    "df.columns"
   ]
  },
  {
   "cell_type": "code",
   "execution_count": 32,
   "metadata": {},
   "outputs": [],
   "source": [
    "df.drop(columns=['number_of_panels_n',\n",
    "       'number_of_panels_s', 'number_of_panels_e', 'number_of_panels_w',\n",
    "       'number_of_panels_f', 'number_of_panels_median'], inplace=True)"
   ]
  },
  {
   "cell_type": "code",
   "execution_count": 33,
   "metadata": {},
   "outputs": [
    {
     "data": {
      "text/html": [
       "<div>\n",
       "<style scoped>\n",
       "    .dataframe tbody tr th:only-of-type {\n",
       "        vertical-align: middle;\n",
       "    }\n",
       "\n",
       "    .dataframe tbody tr th {\n",
       "        vertical-align: top;\n",
       "    }\n",
       "\n",
       "    .dataframe thead th {\n",
       "        text-align: right;\n",
       "    }\n",
       "</style>\n",
       "<table border=\"1\" class=\"dataframe\">\n",
       "  <thead>\n",
       "    <tr style=\"text-align: right;\">\n",
       "      <th></th>\n",
       "      <th>state_name</th>\n",
       "      <th>lat_avg</th>\n",
       "      <th>lng_avg</th>\n",
       "      <th>yearly_sunlight_kwh_kw_threshold_avg</th>\n",
       "      <th>count_qualified</th>\n",
       "      <th>percent_covered</th>\n",
       "      <th>percent_qualified</th>\n",
       "      <th>number_of_panels_total</th>\n",
       "      <th>kw_median</th>\n",
       "      <th>kw_total</th>\n",
       "      <th>yearly_sunlight_kwh_n</th>\n",
       "      <th>yearly_sunlight_kwh_s</th>\n",
       "      <th>yearly_sunlight_kwh_e</th>\n",
       "      <th>yearly_sunlight_kwh_w</th>\n",
       "      <th>yearly_sunlight_kwh_f</th>\n",
       "      <th>yearly_sunlight_kwh_median</th>\n",
       "      <th>yearly_sunlight_kwh_total</th>\n",
       "      <th>install_size_kw_buckets_json</th>\n",
       "      <th>carbon_offset_metric_tons</th>\n",
       "      <th>existing_installs_count</th>\n",
       "    </tr>\n",
       "  </thead>\n",
       "  <tbody>\n",
       "    <tr>\n",
       "      <th>1</th>\n",
       "      <td>Massachusetts</td>\n",
       "      <td>42.067573</td>\n",
       "      <td>-72.623099</td>\n",
       "      <td>969.85</td>\n",
       "      <td>43</td>\n",
       "      <td>1.015313</td>\n",
       "      <td>70.491803</td>\n",
       "      <td>1586.0</td>\n",
       "      <td>4.75</td>\n",
       "      <td>396.50</td>\n",
       "      <td>1.277903e+04</td>\n",
       "      <td>1.857622e+05</td>\n",
       "      <td>9.499651e+04</td>\n",
       "      <td>6.407655e+04</td>\n",
       "      <td>9.946072e+04</td>\n",
       "      <td>5866.558057</td>\n",
       "      <td>4.570750e+05</td>\n",
       "      <td>[[0,22],[5,10],[10,6],[15,1],[20,1],[35,2],[55...</td>\n",
       "      <td>197.909043</td>\n",
       "      <td>0</td>\n",
       "    </tr>\n",
       "    <tr>\n",
       "      <th>2</th>\n",
       "      <td>Massachusetts</td>\n",
       "      <td>42.162403</td>\n",
       "      <td>-72.607630</td>\n",
       "      <td>969.85</td>\n",
       "      <td>4548</td>\n",
       "      <td>97.646046</td>\n",
       "      <td>66.852859</td>\n",
       "      <td>216345.0</td>\n",
       "      <td>5.50</td>\n",
       "      <td>54086.25</td>\n",
       "      <td>1.403366e+06</td>\n",
       "      <td>1.668511e+07</td>\n",
       "      <td>8.920993e+06</td>\n",
       "      <td>7.583437e+06</td>\n",
       "      <td>2.689872e+07</td>\n",
       "      <td>6425.033374</td>\n",
       "      <td>6.149163e+07</td>\n",
       "      <td>[[0,1847],[5,1763],[10,489],[15,150],[20,66],[...</td>\n",
       "      <td>26625.281247</td>\n",
       "      <td>10</td>\n",
       "    </tr>\n",
       "    <tr>\n",
       "      <th>3</th>\n",
       "      <td>Massachusetts</td>\n",
       "      <td>42.176097</td>\n",
       "      <td>-72.574750</td>\n",
       "      <td>969.85</td>\n",
       "      <td>6310</td>\n",
       "      <td>80.234943</td>\n",
       "      <td>73.320939</td>\n",
       "      <td>379452.0</td>\n",
       "      <td>6.00</td>\n",
       "      <td>94863.00</td>\n",
       "      <td>2.884564e+06</td>\n",
       "      <td>2.185357e+07</td>\n",
       "      <td>1.561708e+07</td>\n",
       "      <td>1.473892e+07</td>\n",
       "      <td>5.168227e+07</td>\n",
       "      <td>6849.003143</td>\n",
       "      <td>1.067764e+08</td>\n",
       "      <td>[[0,2291],[5,2435],[10,842],[15,292],[20,111],...</td>\n",
       "      <td>46233.148051</td>\n",
       "      <td>15</td>\n",
       "    </tr>\n",
       "    <tr>\n",
       "      <th>4</th>\n",
       "      <td>Massachusetts</td>\n",
       "      <td>42.194646</td>\n",
       "      <td>-72.558203</td>\n",
       "      <td>969.85</td>\n",
       "      <td>638</td>\n",
       "      <td>81.652361</td>\n",
       "      <td>83.837057</td>\n",
       "      <td>167411.0</td>\n",
       "      <td>11.50</td>\n",
       "      <td>41852.75</td>\n",
       "      <td>2.246585e+06</td>\n",
       "      <td>5.434798e+06</td>\n",
       "      <td>4.445158e+06</td>\n",
       "      <td>3.264328e+06</td>\n",
       "      <td>3.271278e+07</td>\n",
       "      <td>12660.039972</td>\n",
       "      <td>4.810365e+07</td>\n",
       "      <td>[[0,142],[5,145],[10,102],[15,68],[20,24],[25,...</td>\n",
       "      <td>20828.412212</td>\n",
       "      <td>2</td>\n",
       "    </tr>\n",
       "    <tr>\n",
       "      <th>5</th>\n",
       "      <td>Massachusetts</td>\n",
       "      <td>42.264248</td>\n",
       "      <td>-72.681222</td>\n",
       "      <td>966.45</td>\n",
       "      <td>437</td>\n",
       "      <td>9.341523</td>\n",
       "      <td>66.819572</td>\n",
       "      <td>20938.0</td>\n",
       "      <td>6.00</td>\n",
       "      <td>5234.50</td>\n",
       "      <td>2.633799e+05</td>\n",
       "      <td>1.952288e+06</td>\n",
       "      <td>8.671030e+05</td>\n",
       "      <td>1.124274e+06</td>\n",
       "      <td>1.682101e+06</td>\n",
       "      <td>7116.247314</td>\n",
       "      <td>5.889146e+06</td>\n",
       "      <td>[[0,153],[5,189],[10,50],[15,17],[20,6],[25,2]...</td>\n",
       "      <td>2549.943006</td>\n",
       "      <td>7</td>\n",
       "    </tr>\n",
       "  </tbody>\n",
       "</table>\n",
       "</div>"
      ],
      "text/plain": [
       "      state_name    lat_avg    lng_avg  yearly_sunlight_kwh_kw_threshold_avg  \\\n",
       "1  Massachusetts  42.067573 -72.623099                                969.85   \n",
       "2  Massachusetts  42.162403 -72.607630                                969.85   \n",
       "3  Massachusetts  42.176097 -72.574750                                969.85   \n",
       "4  Massachusetts  42.194646 -72.558203                                969.85   \n",
       "5  Massachusetts  42.264248 -72.681222                                966.45   \n",
       "\n",
       "   count_qualified  percent_covered  percent_qualified  \\\n",
       "1               43         1.015313          70.491803   \n",
       "2             4548        97.646046          66.852859   \n",
       "3             6310        80.234943          73.320939   \n",
       "4              638        81.652361          83.837057   \n",
       "5              437         9.341523          66.819572   \n",
       "\n",
       "   number_of_panels_total  kw_median  kw_total  yearly_sunlight_kwh_n  \\\n",
       "1                  1586.0       4.75    396.50           1.277903e+04   \n",
       "2                216345.0       5.50  54086.25           1.403366e+06   \n",
       "3                379452.0       6.00  94863.00           2.884564e+06   \n",
       "4                167411.0      11.50  41852.75           2.246585e+06   \n",
       "5                 20938.0       6.00   5234.50           2.633799e+05   \n",
       "\n",
       "   yearly_sunlight_kwh_s  yearly_sunlight_kwh_e  yearly_sunlight_kwh_w  \\\n",
       "1           1.857622e+05           9.499651e+04           6.407655e+04   \n",
       "2           1.668511e+07           8.920993e+06           7.583437e+06   \n",
       "3           2.185357e+07           1.561708e+07           1.473892e+07   \n",
       "4           5.434798e+06           4.445158e+06           3.264328e+06   \n",
       "5           1.952288e+06           8.671030e+05           1.124274e+06   \n",
       "\n",
       "   yearly_sunlight_kwh_f  yearly_sunlight_kwh_median  \\\n",
       "1           9.946072e+04                 5866.558057   \n",
       "2           2.689872e+07                 6425.033374   \n",
       "3           5.168227e+07                 6849.003143   \n",
       "4           3.271278e+07                12660.039972   \n",
       "5           1.682101e+06                 7116.247314   \n",
       "\n",
       "   yearly_sunlight_kwh_total  \\\n",
       "1               4.570750e+05   \n",
       "2               6.149163e+07   \n",
       "3               1.067764e+08   \n",
       "4               4.810365e+07   \n",
       "5               5.889146e+06   \n",
       "\n",
       "                        install_size_kw_buckets_json  \\\n",
       "1  [[0,22],[5,10],[10,6],[15,1],[20,1],[35,2],[55...   \n",
       "2  [[0,1847],[5,1763],[10,489],[15,150],[20,66],[...   \n",
       "3  [[0,2291],[5,2435],[10,842],[15,292],[20,111],...   \n",
       "4  [[0,142],[5,145],[10,102],[15,68],[20,24],[25,...   \n",
       "5  [[0,153],[5,189],[10,50],[15,17],[20,6],[25,2]...   \n",
       "\n",
       "   carbon_offset_metric_tons  existing_installs_count  \n",
       "1                 197.909043                        0  \n",
       "2               26625.281247                       10  \n",
       "3               46233.148051                       15  \n",
       "4               20828.412212                        2  \n",
       "5                2549.943006                        7  "
      ]
     },
     "execution_count": 33,
     "metadata": {},
     "output_type": "execute_result"
    }
   ],
   "source": [
    "df.head()"
   ]
  },
  {
   "cell_type": "code",
   "execution_count": 34,
   "metadata": {},
   "outputs": [
    {
     "data": {
      "text/plain": [
       "Index(['state_name', 'lat_avg', 'lng_avg',\n",
       "       'yearly_sunlight_kwh_kw_threshold_avg', 'count_qualified',\n",
       "       'percent_covered', 'percent_qualified', 'number_of_panels_total',\n",
       "       'kw_median', 'kw_total', 'yearly_sunlight_kwh_n',\n",
       "       'yearly_sunlight_kwh_s', 'yearly_sunlight_kwh_e',\n",
       "       'yearly_sunlight_kwh_w', 'yearly_sunlight_kwh_f',\n",
       "       'yearly_sunlight_kwh_median', 'yearly_sunlight_kwh_total',\n",
       "       'install_size_kw_buckets_json', 'carbon_offset_metric_tons',\n",
       "       'existing_installs_count'],\n",
       "      dtype='object')"
      ]
     },
     "execution_count": 34,
     "metadata": {},
     "output_type": "execute_result"
    }
   ],
   "source": [
    "df.columns"
   ]
  },
  {
   "cell_type": "code",
   "execution_count": 35,
   "metadata": {},
   "outputs": [],
   "source": [
    "df.drop('count_qualified', axis=1, inplace=True)"
   ]
  },
  {
   "cell_type": "code",
   "execution_count": 36,
   "metadata": {},
   "outputs": [
    {
     "data": {
      "text/plain": [
       "Index(['state_name', 'lat_avg', 'lng_avg',\n",
       "       'yearly_sunlight_kwh_kw_threshold_avg', 'percent_covered',\n",
       "       'percent_qualified', 'number_of_panels_total', 'kw_median', 'kw_total',\n",
       "       'yearly_sunlight_kwh_n', 'yearly_sunlight_kwh_s',\n",
       "       'yearly_sunlight_kwh_e', 'yearly_sunlight_kwh_w',\n",
       "       'yearly_sunlight_kwh_f', 'yearly_sunlight_kwh_median',\n",
       "       'yearly_sunlight_kwh_total', 'install_size_kw_buckets_json',\n",
       "       'carbon_offset_metric_tons', 'existing_installs_count'],\n",
       "      dtype='object')"
      ]
     },
     "execution_count": 36,
     "metadata": {},
     "output_type": "execute_result"
    }
   ],
   "source": [
    "df.columns"
   ]
  },
  {
   "cell_type": "code",
   "execution_count": 37,
   "metadata": {},
   "outputs": [],
   "source": [
    "df.drop(columns=['yearly_sunlight_kwh_n', 'yearly_sunlight_kwh_s',\n",
    "       'yearly_sunlight_kwh_e', 'yearly_sunlight_kwh_w',\n",
    "       'yearly_sunlight_kwh_f', 'yearly_sunlight_kwh_median',], inplace=True)"
   ]
  },
  {
   "cell_type": "code",
   "execution_count": 38,
   "metadata": {},
   "outputs": [
    {
     "data": {
      "text/plain": [
       "Index(['state_name', 'lat_avg', 'lng_avg',\n",
       "       'yearly_sunlight_kwh_kw_threshold_avg', 'percent_covered',\n",
       "       'percent_qualified', 'number_of_panels_total', 'kw_median', 'kw_total',\n",
       "       'yearly_sunlight_kwh_total', 'install_size_kw_buckets_json',\n",
       "       'carbon_offset_metric_tons', 'existing_installs_count'],\n",
       "      dtype='object')"
      ]
     },
     "execution_count": 38,
     "metadata": {},
     "output_type": "execute_result"
    }
   ],
   "source": [
    "df.columns"
   ]
  },
  {
   "cell_type": "code",
   "execution_count": 39,
   "metadata": {},
   "outputs": [],
   "source": [
    "df.drop('install_size_kw_buckets_json', axis=1, inplace=True)"
   ]
  },
  {
   "cell_type": "code",
   "execution_count": 40,
   "metadata": {},
   "outputs": [
    {
     "data": {
      "text/plain": [
       "Index(['state_name', 'lat_avg', 'lng_avg',\n",
       "       'yearly_sunlight_kwh_kw_threshold_avg', 'percent_covered',\n",
       "       'percent_qualified', 'number_of_panels_total', 'kw_median', 'kw_total',\n",
       "       'yearly_sunlight_kwh_total', 'carbon_offset_metric_tons',\n",
       "       'existing_installs_count'],\n",
       "      dtype='object')"
      ]
     },
     "execution_count": 40,
     "metadata": {},
     "output_type": "execute_result"
    }
   ],
   "source": [
    "df.columns"
   ]
  },
  {
   "cell_type": "code",
   "execution_count": null,
   "metadata": {},
   "outputs": [],
   "source": []
  },
  {
   "cell_type": "code",
   "execution_count": 45,
   "metadata": {},
   "outputs": [
    {
     "data": {
      "image/png": "[encoded data removed]",
      "text/plain": [
       "<Figure size 864x864 with 2 Axes>"
      ]
     },
     "metadata": {
      "needs_background": "light"
     },
     "output_type": "display_data"
    }
   ],
   "source": [
    "plt.figure(figsize=[12,12])\n",
    "sns.heatmap(df.corr(), annot=True)\n",
    "plt.show()"
   ]
  },
  {
   "cell_type": "code",
   "execution_count": 51,
   "metadata": {},
   "outputs": [
    {
     "data": {
      "text/plain": [
       "state_name                               object\n",
       "lat_avg                                 float64\n",
       "lng_avg                                 float64\n",
       "yearly_sunlight_kwh_kw_threshold_avg    float64\n",
       "percent_covered                         float64\n",
       "percent_qualified                       float64\n",
       "number_of_panels_total                  float64\n",
       "kw_median                               float64\n",
       "kw_total                                float64\n",
       "yearly_sunlight_kwh_total               float64\n",
       "carbon_offset_metric_tons               float64\n",
       "existing_installs_count                   int64\n",
       "dtype: object"
      ]
     },
     "execution_count": 51,
     "metadata": {},
     "output_type": "execute_result"
    }
   ],
   "source": [
    "df.dtypes"
   ]
  },
  {
   "cell_type": "code",
   "execution_count": 56,
   "metadata": {},
   "outputs": [],
   "source": [
    "from category_encoders import LeaveOneOutEncoder\n",
    "\n",
    "encoder = LeaveOneOutEncoder()\n",
    "df['state_name_encoded'] = encoder.fit_transform(df.state_name, df.carbon_offset_metric_tons)\n"
   ]
  },
  {
   "cell_type": "code",
   "execution_count": 96,
   "metadata": {},
   "outputs": [],
   "source": [
    "from sklearn.linear_model import LinearRegression\n",
    "from sklearn.neighbors import KNeighborsRegressor\n",
    "from sklearn.model_selection import train_test_split\n",
    "from sklearn.preprocessing import StandardScaler\n",
    "\n",
    "scale = StandardScaler()\n",
    "\n",
    "line = LinearRegression()\n",
    "\n",
    "knn = KNeighborsRegressor(n_neighbors=29)"
   ]
  },
  {
   "cell_type": "code",
   "execution_count": 97,
   "metadata": {},
   "outputs": [],
   "source": [
    "X = df.drop(columns=['carbon_offset_metric_tons', 'state_name'])\n",
    "\n",
    "y = df['carbon_offset_metric_tons']\n",
    "\n",
    "X_train, X_test, y_train, y_test = train_test_split(X, y, test_size=0.2)"
   ]
  },
  {
   "cell_type": "code",
   "execution_count": 98,
   "metadata": {},
   "outputs": [],
   "source": [
    "X_train_scale = scale.fit_transform(X_train, y_train)\n",
    "X_test_scale = scale.transform(X_test)"
   ]
  },
  {
   "cell_type": "code",
   "execution_count": 99,
   "metadata": {},
   "outputs": [
    {
     "data": {
      "text/plain": [
       "KNeighborsRegressor(algorithm='auto', leaf_size=30, metric='minkowski',\n",
       "                    metric_params=None, n_jobs=None, n_neighbors=29, p=2,\n",
       "                    weights='uniform')"
      ]
     },
     "execution_count": 99,
     "metadata": {},
     "output_type": "execute_result"
    }
   ],
   "source": [
    "line.fit(X_train_scale, y_train)\n",
    "knn.fit(X_train_scale, y_train)"
   ]
  },
  {
   "cell_type": "code",
   "execution_count": 100,
   "metadata": {},
   "outputs": [
    {
     "name": "stdout",
     "output_type": "stream",
     "text": [
      "OLS Train score: 0.9150584852867646\n",
      "OLS Test score: 0.9122643503467226\n",
      "knn Train score: 0.9699096075574711\n",
      "knn Test score: 0.9619317819108167\n",
      "\n"
     ]
    }
   ],
   "source": [
    "print(\n",
    "    f'OLS Train score: {line.score(X_train_scale, y_train)}\\n'\n",
    "    f'OLS Test score: {line.score(X_test_scale, y_test)}\\n'\n",
    "    f'knn Train score: {knn.score(X_train_scale, y_train)}\\n'\n",
    "    f'knn Test score: {knn.score(X_test_scale, y_test)}\\n'\n",
    ")\n"
   ]
  },
  {
   "cell_type": "code",
   "execution_count": 101,
   "metadata": {},
   "outputs": [
    {
     "data": {
      "text/plain": [
       "Text(0, 0.5, 'Residual')"
      ]
     },
     "execution_count": 101,
     "metadata": {},
     "output_type": "execute_result"
    },
    {
     "data": {
      "image/png": "[encoded data removed]",
      "text/plain": [
       "<Figure size 1008x360 with 2 Axes>"
      ]
     },
     "metadata": {
      "needs_background": "light"
     },
     "output_type": "display_data"
    }
   ],
   "source": [
    "plt.figure(figsize=[14,5])\n",
    "plt.subplot(1,2,1)\n",
    "line_test_pred = line.predict(X_test_scale)\n",
    "line_test_res = y_test - line_test_pred\n",
    "plt.scatter(line_test_pred, line_test_res)\n",
    "plt.title('OLS')\n",
    "plt.xlabel('Test predictions')\n",
    "plt.ylabel('Residual')\n",
    "\n",
    "plt.subplot(1,2,2)\n",
    "knn_test_pred = knn.predict(X_test_scale)\n",
    "knn_test_res = y_test - knn_test_pred\n",
    "plt.scatter(knn_test_pred, knn_test_res)\n",
    "plt.title('KNN')\n",
    "plt.xlabel('Test predictions')\n",
    "plt.ylabel('Residual')"
   ]
  },
  {
   "cell_type": "code",
   "execution_count": null,
   "metadata": {},
   "outputs": [],
   "source": []
  }
 ],
 "metadata": {
  "kernelspec": {
   "display_name": "Python 3",
   "language": "python",
   "name": "python3"
  },
  "language_info": {
   "codemirror_mode": {
    "name": "ipython",
    "version": 3
   },
   "file_extension": ".py",
   "mimetype": "text/x-python",
   "name": "python",
   "nbconvert_exporter": "python",
   "pygments_lexer": "ipython3",
   "version": "3.8.5"
  }
 },
 "nbformat": 4,
 "nbformat_minor": 4
}
