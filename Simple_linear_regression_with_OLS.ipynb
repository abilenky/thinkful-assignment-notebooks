{
 "cells": [
  {
   "cell_type": "code",
   "execution_count": 1,
   "metadata": {},
   "outputs": [
    {
     "data": {
      "application/javascript": [
       "\n",
       "            setTimeout(function() {\n",
       "                var nbb_cell_id = 1;\n",
       "                var nbb_unformatted_code = \"%load_ext nb_black\\nimport pandas as pd\\nimport numpy as np\\nimport matplotlib.pyplot as plt\\nfrom sqlalchemy import create_engine\\nimport seaborn as sns\\n\\n%matplotlib inline\";\n",
       "                var nbb_formatted_code = \"%load_ext nb_black\\nimport pandas as pd\\nimport numpy as np\\nimport matplotlib.pyplot as plt\\nfrom sqlalchemy import create_engine\\nimport seaborn as sns\\n\\n%matplotlib inline\";\n",
       "                var nbb_cells = Jupyter.notebook.get_cells();\n",
       "                for (var i = 0; i < nbb_cells.length; ++i) {\n",
       "                    if (nbb_cells[i].input_prompt_number == nbb_cell_id) {\n",
       "                        if (nbb_cells[i].get_text() == nbb_unformatted_code) {\n",
       "                             nbb_cells[i].set_text(nbb_formatted_code);\n",
       "                        }\n",
       "                        break;\n",
       "                    }\n",
       "                }\n",
       "            }, 500);\n",
       "            "
      ],
      "text/plain": [
       "<IPython.core.display.Javascript object>"
      ]
     },
     "metadata": {},
     "output_type": "display_data"
    }
   ],
   "source": [
    "%load_ext nb_black\n",
    "import pandas as pd\n",
    "import numpy as np\n",
    "import matplotlib.pyplot as plt\n",
    "from sqlalchemy import create_engine\n",
    "import seaborn as sns\n",
    "\n",
    "%matplotlib inline"
   ]
  },
  {
   "cell_type": "code",
   "execution_count": 2,
   "metadata": {},
   "outputs": [
    {
     "data": {
      "application/javascript": [
       "\n",
       "            setTimeout(function() {\n",
       "                var nbb_cell_id = 2;\n",
       "                var nbb_unformatted_code = \"postgres_user = \\\"dsbc_student\\\"\\npostgres_pw = \\\"7*.8G9QH21\\\"\\npostgres_host = \\\"142.93.121.174\\\"\\npostgres_port = \\\"5432\\\"\\npostgres_db = \\\"houseprices\\\"\\ntable_name = \\\"houseprices\\\"\\n\\ndb_url = f\\\"postgresql://{postgres_user}:{postgres_pw}@{postgres_host}:{postgres_port}/{postgres_db}\\\"\\n\\nengine = create_engine(db_url)\\n\\nprices_df = pd.read_sql_query(f\\\"SELECT * FROM {table_name};\\\", con=engine)\\n\\n# close the db connetion\\nengine.dispose()\";\n",
       "                var nbb_formatted_code = \"postgres_user = \\\"dsbc_student\\\"\\npostgres_pw = \\\"7*.8G9QH21\\\"\\npostgres_host = \\\"142.93.121.174\\\"\\npostgres_port = \\\"5432\\\"\\npostgres_db = \\\"houseprices\\\"\\ntable_name = \\\"houseprices\\\"\\n\\ndb_url = f\\\"postgresql://{postgres_user}:{postgres_pw}@{postgres_host}:{postgres_port}/{postgres_db}\\\"\\n\\nengine = create_engine(db_url)\\n\\nprices_df = pd.read_sql_query(f\\\"SELECT * FROM {table_name};\\\", con=engine)\\n\\n# close the db connetion\\nengine.dispose()\";\n",
       "                var nbb_cells = Jupyter.notebook.get_cells();\n",
       "                for (var i = 0; i < nbb_cells.length; ++i) {\n",
       "                    if (nbb_cells[i].input_prompt_number == nbb_cell_id) {\n",
       "                        if (nbb_cells[i].get_text() == nbb_unformatted_code) {\n",
       "                             nbb_cells[i].set_text(nbb_formatted_code);\n",
       "                        }\n",
       "                        break;\n",
       "                    }\n",
       "                }\n",
       "            }, 500);\n",
       "            "
      ],
      "text/plain": [
       "<IPython.core.display.Javascript object>"
      ]
     },
     "metadata": {},
     "output_type": "display_data"
    }
   ],
   "source": [
    "postgres_user = \"dsbc_student\"\n",
    "postgres_pw = \"7*.8G9QH21\"\n",
    "postgres_host = \"142.93.121.174\"\n",
    "postgres_port = \"5432\"\n",
    "postgres_db = \"houseprices\"\n",
    "table_name = \"houseprices\"\n",
    "\n",
    "db_url = f\"postgresql://{postgres_user}:{postgres_pw}@{postgres_host}:{postgres_port}/{postgres_db}\"\n",
    "\n",
    "engine = create_engine(db_url)\n",
    "\n",
    "prices_df = pd.read_sql_query(f\"SELECT * FROM {table_name};\", con=engine)\n",
    "\n",
    "# close the db connetion\n",
    "engine.dispose()"
   ]
  },
  {
   "cell_type": "code",
   "execution_count": 3,
   "metadata": {},
   "outputs": [
    {
     "data": {
      "text/html": [
       "<div>\n",
       "<style scoped>\n",
       "    .dataframe tbody tr th:only-of-type {\n",
       "        vertical-align: middle;\n",
       "    }\n",
       "\n",
       "    .dataframe tbody tr th {\n",
       "        vertical-align: top;\n",
       "    }\n",
       "\n",
       "    .dataframe thead th {\n",
       "        text-align: right;\n",
       "    }\n",
       "</style>\n",
       "<table border=\"1\" class=\"dataframe\">\n",
       "  <thead>\n",
       "    <tr style=\"text-align: right;\">\n",
       "      <th></th>\n",
       "      <th>id</th>\n",
       "      <th>mssubclass</th>\n",
       "      <th>mszoning</th>\n",
       "      <th>lotfrontage</th>\n",
       "      <th>lotarea</th>\n",
       "      <th>street</th>\n",
       "      <th>alley</th>\n",
       "      <th>lotshape</th>\n",
       "      <th>landcontour</th>\n",
       "      <th>utilities</th>\n",
       "      <th>...</th>\n",
       "      <th>poolarea</th>\n",
       "      <th>poolqc</th>\n",
       "      <th>fence</th>\n",
       "      <th>miscfeature</th>\n",
       "      <th>miscval</th>\n",
       "      <th>mosold</th>\n",
       "      <th>yrsold</th>\n",
       "      <th>saletype</th>\n",
       "      <th>salecondition</th>\n",
       "      <th>saleprice</th>\n",
       "    </tr>\n",
       "  </thead>\n",
       "  <tbody>\n",
       "    <tr>\n",
       "      <th>0</th>\n",
       "      <td>1</td>\n",
       "      <td>60</td>\n",
       "      <td>RL</td>\n",
       "      <td>65.0</td>\n",
       "      <td>8450</td>\n",
       "      <td>Pave</td>\n",
       "      <td>None</td>\n",
       "      <td>Reg</td>\n",
       "      <td>Lvl</td>\n",
       "      <td>AllPub</td>\n",
       "      <td>...</td>\n",
       "      <td>0</td>\n",
       "      <td>None</td>\n",
       "      <td>None</td>\n",
       "      <td>None</td>\n",
       "      <td>0</td>\n",
       "      <td>2</td>\n",
       "      <td>2008</td>\n",
       "      <td>WD</td>\n",
       "      <td>Normal</td>\n",
       "      <td>208500</td>\n",
       "    </tr>\n",
       "    <tr>\n",
       "      <th>1</th>\n",
       "      <td>2</td>\n",
       "      <td>20</td>\n",
       "      <td>RL</td>\n",
       "      <td>80.0</td>\n",
       "      <td>9600</td>\n",
       "      <td>Pave</td>\n",
       "      <td>None</td>\n",
       "      <td>Reg</td>\n",
       "      <td>Lvl</td>\n",
       "      <td>AllPub</td>\n",
       "      <td>...</td>\n",
       "      <td>0</td>\n",
       "      <td>None</td>\n",
       "      <td>None</td>\n",
       "      <td>None</td>\n",
       "      <td>0</td>\n",
       "      <td>5</td>\n",
       "      <td>2007</td>\n",
       "      <td>WD</td>\n",
       "      <td>Normal</td>\n",
       "      <td>181500</td>\n",
       "    </tr>\n",
       "    <tr>\n",
       "      <th>2</th>\n",
       "      <td>3</td>\n",
       "      <td>60</td>\n",
       "      <td>RL</td>\n",
       "      <td>68.0</td>\n",
       "      <td>11250</td>\n",
       "      <td>Pave</td>\n",
       "      <td>None</td>\n",
       "      <td>IR1</td>\n",
       "      <td>Lvl</td>\n",
       "      <td>AllPub</td>\n",
       "      <td>...</td>\n",
       "      <td>0</td>\n",
       "      <td>None</td>\n",
       "      <td>None</td>\n",
       "      <td>None</td>\n",
       "      <td>0</td>\n",
       "      <td>9</td>\n",
       "      <td>2008</td>\n",
       "      <td>WD</td>\n",
       "      <td>Normal</td>\n",
       "      <td>223500</td>\n",
       "    </tr>\n",
       "    <tr>\n",
       "      <th>3</th>\n",
       "      <td>4</td>\n",
       "      <td>70</td>\n",
       "      <td>RL</td>\n",
       "      <td>60.0</td>\n",
       "      <td>9550</td>\n",
       "      <td>Pave</td>\n",
       "      <td>None</td>\n",
       "      <td>IR1</td>\n",
       "      <td>Lvl</td>\n",
       "      <td>AllPub</td>\n",
       "      <td>...</td>\n",
       "      <td>0</td>\n",
       "      <td>None</td>\n",
       "      <td>None</td>\n",
       "      <td>None</td>\n",
       "      <td>0</td>\n",
       "      <td>2</td>\n",
       "      <td>2006</td>\n",
       "      <td>WD</td>\n",
       "      <td>Abnorml</td>\n",
       "      <td>140000</td>\n",
       "    </tr>\n",
       "    <tr>\n",
       "      <th>4</th>\n",
       "      <td>5</td>\n",
       "      <td>60</td>\n",
       "      <td>RL</td>\n",
       "      <td>84.0</td>\n",
       "      <td>14260</td>\n",
       "      <td>Pave</td>\n",
       "      <td>None</td>\n",
       "      <td>IR1</td>\n",
       "      <td>Lvl</td>\n",
       "      <td>AllPub</td>\n",
       "      <td>...</td>\n",
       "      <td>0</td>\n",
       "      <td>None</td>\n",
       "      <td>None</td>\n",
       "      <td>None</td>\n",
       "      <td>0</td>\n",
       "      <td>12</td>\n",
       "      <td>2008</td>\n",
       "      <td>WD</td>\n",
       "      <td>Normal</td>\n",
       "      <td>250000</td>\n",
       "    </tr>\n",
       "  </tbody>\n",
       "</table>\n",
       "<p>5 rows × 81 columns</p>\n",
       "</div>"
      ],
      "text/plain": [
       "   id  mssubclass mszoning  lotfrontage  lotarea street alley lotshape  \\\n",
       "0   1          60       RL         65.0     8450   Pave  None      Reg   \n",
       "1   2          20       RL         80.0     9600   Pave  None      Reg   \n",
       "2   3          60       RL         68.0    11250   Pave  None      IR1   \n",
       "3   4          70       RL         60.0     9550   Pave  None      IR1   \n",
       "4   5          60       RL         84.0    14260   Pave  None      IR1   \n",
       "\n",
       "  landcontour utilities  ... poolarea poolqc fence miscfeature miscval mosold  \\\n",
       "0         Lvl    AllPub  ...        0   None  None        None       0      2   \n",
       "1         Lvl    AllPub  ...        0   None  None        None       0      5   \n",
       "2         Lvl    AllPub  ...        0   None  None        None       0      9   \n",
       "3         Lvl    AllPub  ...        0   None  None        None       0      2   \n",
       "4         Lvl    AllPub  ...        0   None  None        None       0     12   \n",
       "\n",
       "  yrsold  saletype  salecondition  saleprice  \n",
       "0   2008        WD         Normal     208500  \n",
       "1   2007        WD         Normal     181500  \n",
       "2   2008        WD         Normal     223500  \n",
       "3   2006        WD        Abnorml     140000  \n",
       "4   2008        WD         Normal     250000  \n",
       "\n",
       "[5 rows x 81 columns]"
      ]
     },
     "execution_count": 3,
     "metadata": {},
     "output_type": "execute_result"
    },
    {
     "data": {
      "application/javascript": [
       "\n",
       "            setTimeout(function() {\n",
       "                var nbb_cell_id = 3;\n",
       "                var nbb_unformatted_code = \"prices_df.head()\";\n",
       "                var nbb_formatted_code = \"prices_df.head()\";\n",
       "                var nbb_cells = Jupyter.notebook.get_cells();\n",
       "                for (var i = 0; i < nbb_cells.length; ++i) {\n",
       "                    if (nbb_cells[i].input_prompt_number == nbb_cell_id) {\n",
       "                        if (nbb_cells[i].get_text() == nbb_unformatted_code) {\n",
       "                             nbb_cells[i].set_text(nbb_formatted_code);\n",
       "                        }\n",
       "                        break;\n",
       "                    }\n",
       "                }\n",
       "            }, 500);\n",
       "            "
      ],
      "text/plain": [
       "<IPython.core.display.Javascript object>"
      ]
     },
     "metadata": {},
     "output_type": "display_data"
    }
   ],
   "source": [
    "prices_df.head()"
   ]
  },
  {
   "cell_type": "markdown",
   "metadata": {},
   "source": [
    "### Investigate the data, and do any necessary data cleaning."
   ]
  },
  {
   "cell_type": "code",
   "execution_count": 4,
   "metadata": {},
   "outputs": [
    {
     "name": "stdout",
     "output_type": "stream",
     "text": [
      "(1460, 81)\n"
     ]
    },
    {
     "data": {
      "text/plain": [
       "poolqc          0.995205\n",
       "miscfeature     0.963014\n",
       "alley           0.937671\n",
       "fence           0.807534\n",
       "fireplacequ     0.472603\n",
       "lotfrontage     0.177397\n",
       "garagecond      0.055479\n",
       "garagetype      0.055479\n",
       "garageyrblt     0.055479\n",
       "garagefinish    0.055479\n",
       "garagequal      0.055479\n",
       "bsmtexposure    0.026027\n",
       "bsmtfintype2    0.026027\n",
       "bsmtfintype1    0.025342\n",
       "bsmtcond        0.025342\n",
       "bsmtqual        0.025342\n",
       "masvnrarea      0.005479\n",
       "masvnrtype      0.005479\n",
       "electrical      0.000685\n",
       "utilities       0.000000\n",
       "dtype: float64"
      ]
     },
     "execution_count": 4,
     "metadata": {},
     "output_type": "execute_result"
    },
    {
     "data": {
      "application/javascript": [
       "\n",
       "            setTimeout(function() {\n",
       "                var nbb_cell_id = 4;\n",
       "                var nbb_unformatted_code = \"print(prices_df.shape)\\n(prices_df.isnull().sum() / prices_df.isnull().count()).sort_values(\\n    ascending=False\\n).head(20)\";\n",
       "                var nbb_formatted_code = \"print(prices_df.shape)\\n(prices_df.isnull().sum() / prices_df.isnull().count()).sort_values(\\n    ascending=False\\n).head(20)\";\n",
       "                var nbb_cells = Jupyter.notebook.get_cells();\n",
       "                for (var i = 0; i < nbb_cells.length; ++i) {\n",
       "                    if (nbb_cells[i].input_prompt_number == nbb_cell_id) {\n",
       "                        if (nbb_cells[i].get_text() == nbb_unformatted_code) {\n",
       "                             nbb_cells[i].set_text(nbb_formatted_code);\n",
       "                        }\n",
       "                        break;\n",
       "                    }\n",
       "                }\n",
       "            }, 500);\n",
       "            "
      ],
      "text/plain": [
       "<IPython.core.display.Javascript object>"
      ]
     },
     "metadata": {},
     "output_type": "display_data"
    }
   ],
   "source": [
    "print(prices_df.shape)\n",
    "(prices_df.isnull().sum() / prices_df.isnull().count()).sort_values(\n",
    "    ascending=False\n",
    ").head(20)"
   ]
  },
  {
   "cell_type": "code",
   "execution_count": 5,
   "metadata": {},
   "outputs": [
    {
     "name": "stdout",
     "output_type": "stream",
     "text": [
      "garagetype      0.055479\n",
      "garageyrblt     0.055479\n",
      "garagefinish    0.055479\n",
      "garagequal      0.055479\n",
      "garagecond      0.055479\n",
      "bsmtfintype2    0.026027\n",
      "bsmtexposure    0.026027\n",
      "bsmtfintype1    0.025342\n",
      "bsmtcond        0.025342\n",
      "bsmtqual        0.025342\n",
      "masvnrtype      0.005479\n",
      "masvnrarea      0.005479\n",
      "electrical      0.000685\n",
      "yearremodadd    0.000000\n",
      "dtype: float64\n"
     ]
    },
    {
     "data": {
      "text/html": [
       "<div>\n",
       "<style scoped>\n",
       "    .dataframe tbody tr th:only-of-type {\n",
       "        vertical-align: middle;\n",
       "    }\n",
       "\n",
       "    .dataframe tbody tr th {\n",
       "        vertical-align: top;\n",
       "    }\n",
       "\n",
       "    .dataframe thead th {\n",
       "        text-align: right;\n",
       "    }\n",
       "</style>\n",
       "<table border=\"1\" class=\"dataframe\">\n",
       "  <thead>\n",
       "    <tr style=\"text-align: right;\">\n",
       "      <th></th>\n",
       "      <th>mssubclass</th>\n",
       "      <th>mszoning</th>\n",
       "      <th>lotarea</th>\n",
       "      <th>street</th>\n",
       "      <th>lotshape</th>\n",
       "      <th>landcontour</th>\n",
       "      <th>utilities</th>\n",
       "      <th>lotconfig</th>\n",
       "      <th>landslope</th>\n",
       "      <th>neighborhood</th>\n",
       "      <th>...</th>\n",
       "      <th>enclosedporch</th>\n",
       "      <th>threessnporch</th>\n",
       "      <th>screenporch</th>\n",
       "      <th>poolarea</th>\n",
       "      <th>miscval</th>\n",
       "      <th>mosold</th>\n",
       "      <th>yrsold</th>\n",
       "      <th>saletype</th>\n",
       "      <th>salecondition</th>\n",
       "      <th>saleprice</th>\n",
       "    </tr>\n",
       "  </thead>\n",
       "  <tbody>\n",
       "    <tr>\n",
       "      <th>0</th>\n",
       "      <td>60</td>\n",
       "      <td>RL</td>\n",
       "      <td>8450</td>\n",
       "      <td>Pave</td>\n",
       "      <td>Reg</td>\n",
       "      <td>Lvl</td>\n",
       "      <td>AllPub</td>\n",
       "      <td>Inside</td>\n",
       "      <td>Gtl</td>\n",
       "      <td>CollgCr</td>\n",
       "      <td>...</td>\n",
       "      <td>0</td>\n",
       "      <td>0</td>\n",
       "      <td>0</td>\n",
       "      <td>0</td>\n",
       "      <td>0</td>\n",
       "      <td>2</td>\n",
       "      <td>2008</td>\n",
       "      <td>WD</td>\n",
       "      <td>Normal</td>\n",
       "      <td>208500</td>\n",
       "    </tr>\n",
       "    <tr>\n",
       "      <th>1</th>\n",
       "      <td>20</td>\n",
       "      <td>RL</td>\n",
       "      <td>9600</td>\n",
       "      <td>Pave</td>\n",
       "      <td>Reg</td>\n",
       "      <td>Lvl</td>\n",
       "      <td>AllPub</td>\n",
       "      <td>FR2</td>\n",
       "      <td>Gtl</td>\n",
       "      <td>Veenker</td>\n",
       "      <td>...</td>\n",
       "      <td>0</td>\n",
       "      <td>0</td>\n",
       "      <td>0</td>\n",
       "      <td>0</td>\n",
       "      <td>0</td>\n",
       "      <td>5</td>\n",
       "      <td>2007</td>\n",
       "      <td>WD</td>\n",
       "      <td>Normal</td>\n",
       "      <td>181500</td>\n",
       "    </tr>\n",
       "    <tr>\n",
       "      <th>2</th>\n",
       "      <td>60</td>\n",
       "      <td>RL</td>\n",
       "      <td>11250</td>\n",
       "      <td>Pave</td>\n",
       "      <td>IR1</td>\n",
       "      <td>Lvl</td>\n",
       "      <td>AllPub</td>\n",
       "      <td>Inside</td>\n",
       "      <td>Gtl</td>\n",
       "      <td>CollgCr</td>\n",
       "      <td>...</td>\n",
       "      <td>0</td>\n",
       "      <td>0</td>\n",
       "      <td>0</td>\n",
       "      <td>0</td>\n",
       "      <td>0</td>\n",
       "      <td>9</td>\n",
       "      <td>2008</td>\n",
       "      <td>WD</td>\n",
       "      <td>Normal</td>\n",
       "      <td>223500</td>\n",
       "    </tr>\n",
       "    <tr>\n",
       "      <th>3</th>\n",
       "      <td>70</td>\n",
       "      <td>RL</td>\n",
       "      <td>9550</td>\n",
       "      <td>Pave</td>\n",
       "      <td>IR1</td>\n",
       "      <td>Lvl</td>\n",
       "      <td>AllPub</td>\n",
       "      <td>Corner</td>\n",
       "      <td>Gtl</td>\n",
       "      <td>Crawfor</td>\n",
       "      <td>...</td>\n",
       "      <td>272</td>\n",
       "      <td>0</td>\n",
       "      <td>0</td>\n",
       "      <td>0</td>\n",
       "      <td>0</td>\n",
       "      <td>2</td>\n",
       "      <td>2006</td>\n",
       "      <td>WD</td>\n",
       "      <td>Abnorml</td>\n",
       "      <td>140000</td>\n",
       "    </tr>\n",
       "    <tr>\n",
       "      <th>4</th>\n",
       "      <td>60</td>\n",
       "      <td>RL</td>\n",
       "      <td>14260</td>\n",
       "      <td>Pave</td>\n",
       "      <td>IR1</td>\n",
       "      <td>Lvl</td>\n",
       "      <td>AllPub</td>\n",
       "      <td>FR2</td>\n",
       "      <td>Gtl</td>\n",
       "      <td>NoRidge</td>\n",
       "      <td>...</td>\n",
       "      <td>0</td>\n",
       "      <td>0</td>\n",
       "      <td>0</td>\n",
       "      <td>0</td>\n",
       "      <td>0</td>\n",
       "      <td>12</td>\n",
       "      <td>2008</td>\n",
       "      <td>WD</td>\n",
       "      <td>Normal</td>\n",
       "      <td>250000</td>\n",
       "    </tr>\n",
       "  </tbody>\n",
       "</table>\n",
       "<p>5 rows × 74 columns</p>\n",
       "</div>"
      ],
      "text/plain": [
       "   mssubclass mszoning  lotarea street lotshape landcontour utilities  \\\n",
       "0          60       RL     8450   Pave      Reg         Lvl    AllPub   \n",
       "1          20       RL     9600   Pave      Reg         Lvl    AllPub   \n",
       "2          60       RL    11250   Pave      IR1         Lvl    AllPub   \n",
       "3          70       RL     9550   Pave      IR1         Lvl    AllPub   \n",
       "4          60       RL    14260   Pave      IR1         Lvl    AllPub   \n",
       "\n",
       "  lotconfig landslope neighborhood  ... enclosedporch threessnporch  \\\n",
       "0    Inside       Gtl      CollgCr  ...             0             0   \n",
       "1       FR2       Gtl      Veenker  ...             0             0   \n",
       "2    Inside       Gtl      CollgCr  ...             0             0   \n",
       "3    Corner       Gtl      Crawfor  ...           272             0   \n",
       "4       FR2       Gtl      NoRidge  ...             0             0   \n",
       "\n",
       "  screenporch poolarea  miscval  mosold  yrsold  saletype salecondition  \\\n",
       "0           0        0        0       2    2008        WD        Normal   \n",
       "1           0        0        0       5    2007        WD        Normal   \n",
       "2           0        0        0       9    2008        WD        Normal   \n",
       "3           0        0        0       2    2006        WD       Abnorml   \n",
       "4           0        0        0      12    2008        WD        Normal   \n",
       "\n",
       "  saleprice  \n",
       "0    208500  \n",
       "1    181500  \n",
       "2    223500  \n",
       "3    140000  \n",
       "4    250000  \n",
       "\n",
       "[5 rows x 74 columns]"
      ]
     },
     "execution_count": 5,
     "metadata": {},
     "output_type": "execute_result"
    },
    {
     "data": {
      "application/javascript": [
       "\n",
       "            setTimeout(function() {\n",
       "                var nbb_cell_id = 5;\n",
       "                var nbb_unformatted_code = \"# 'lotfrontage', 'fireplacequ', 'fence', 'alley', 'miscfeature', 'poolqc' have more than\\n# 10% null values so we will drop those columns\\nprices_df2 = prices_df.copy()\\ncols_to_drop = [\\\"lotfrontage\\\", \\\"fireplacequ\\\", \\\"fence\\\", \\\"alley\\\", \\\"miscfeature\\\", \\\"poolqc\\\", \\\"id\\\"]\\nprices_df2.drop(columns=cols_to_drop, inplace=True)\\nprint((prices_df2.isnull().sum() / prices_df2.isnull().count()).sort_values(ascending=False).head(14))\\nprices_df2.head()\";\n",
       "                var nbb_formatted_code = \"# 'lotfrontage', 'fireplacequ', 'fence', 'alley', 'miscfeature', 'poolqc' have more than\\n# 10% null values so we will drop those columns\\nprices_df2 = prices_df.copy()\\ncols_to_drop = [\\n    \\\"lotfrontage\\\",\\n    \\\"fireplacequ\\\",\\n    \\\"fence\\\",\\n    \\\"alley\\\",\\n    \\\"miscfeature\\\",\\n    \\\"poolqc\\\",\\n    \\\"id\\\",\\n]\\nprices_df2.drop(columns=cols_to_drop, inplace=True)\\nprint(\\n    (prices_df2.isnull().sum() / prices_df2.isnull().count())\\n    .sort_values(ascending=False)\\n    .head(14)\\n)\\nprices_df2.head()\";\n",
       "                var nbb_cells = Jupyter.notebook.get_cells();\n",
       "                for (var i = 0; i < nbb_cells.length; ++i) {\n",
       "                    if (nbb_cells[i].input_prompt_number == nbb_cell_id) {\n",
       "                        if (nbb_cells[i].get_text() == nbb_unformatted_code) {\n",
       "                             nbb_cells[i].set_text(nbb_formatted_code);\n",
       "                        }\n",
       "                        break;\n",
       "                    }\n",
       "                }\n",
       "            }, 500);\n",
       "            "
      ],
      "text/plain": [
       "<IPython.core.display.Javascript object>"
      ]
     },
     "metadata": {},
     "output_type": "display_data"
    }
   ],
   "source": [
    "# 'lotfrontage', 'fireplacequ', 'fence', 'alley', 'miscfeature', 'poolqc' have more than\n",
    "# 10% null values so we will drop those columns\n",
    "prices_df2 = prices_df.copy()\n",
    "cols_to_drop = [\"lotfrontage\", \"fireplacequ\", \"fence\", \"alley\", \"miscfeature\", \"poolqc\", \"id\"]\n",
    "prices_df2.drop(columns=cols_to_drop, inplace=True)\n",
    "print((prices_df2.isnull().sum() / prices_df2.isnull().count()).sort_values(ascending=False).head(14))\n",
    "prices_df2.head()\n"
   ]
  },
  {
   "cell_type": "code",
   "execution_count": 6,
   "metadata": {},
   "outputs": [
    {
     "data": {
      "text/plain": [
       "Index(['garagetype', 'garageyrblt', 'garagefinish', 'garagequal', 'garagecond',\n",
       "       'bsmtfintype2', 'bsmtexposure', 'bsmtfintype1', 'bsmtcond', 'bsmtqual',\n",
       "       'masvnrtype', 'masvnrarea', 'electrical'],\n",
       "      dtype='object')"
      ]
     },
     "execution_count": 6,
     "metadata": {},
     "output_type": "execute_result"
    },
    {
     "data": {
      "application/javascript": [
       "\n",
       "            setTimeout(function() {\n",
       "                var nbb_cell_id = 6;\n",
       "                var nbb_unformatted_code = \"cols_with_nulls = (\\n    (prices_df2.isnull().sum() / prices_df2.isnull().count())\\n    .sort_values(ascending=False)\\n    .head(13)\\n    .index\\n)\\ncols_with_nulls\";\n",
       "                var nbb_formatted_code = \"cols_with_nulls = (\\n    (prices_df2.isnull().sum() / prices_df2.isnull().count())\\n    .sort_values(ascending=False)\\n    .head(13)\\n    .index\\n)\\ncols_with_nulls\";\n",
       "                var nbb_cells = Jupyter.notebook.get_cells();\n",
       "                for (var i = 0; i < nbb_cells.length; ++i) {\n",
       "                    if (nbb_cells[i].input_prompt_number == nbb_cell_id) {\n",
       "                        if (nbb_cells[i].get_text() == nbb_unformatted_code) {\n",
       "                             nbb_cells[i].set_text(nbb_formatted_code);\n",
       "                        }\n",
       "                        break;\n",
       "                    }\n",
       "                }\n",
       "            }, 500);\n",
       "            "
      ],
      "text/plain": [
       "<IPython.core.display.Javascript object>"
      ]
     },
     "metadata": {},
     "output_type": "display_data"
    }
   ],
   "source": [
    "cols_with_nulls = (\n",
    "    (prices_df2.isnull().sum() / prices_df2.isnull().count())\n",
    "    .sort_values(ascending=False)\n",
    "    .head(13)\n",
    "    .index\n",
    ")\n",
    "cols_with_nulls"
   ]
  },
  {
   "cell_type": "code",
   "execution_count": 7,
   "metadata": {},
   "outputs": [
    {
     "data": {
      "text/plain": [
       "saleprice       0.0\n",
       "roofstyle       0.0\n",
       "exterior1st     0.0\n",
       "exterior2nd     0.0\n",
       "masvnrtype      0.0\n",
       "masvnrarea      0.0\n",
       "exterqual       0.0\n",
       "extercond       0.0\n",
       "foundation      0.0\n",
       "bsmtqual        0.0\n",
       "bsmtcond        0.0\n",
       "bsmtexposure    0.0\n",
       "dtype: float64"
      ]
     },
     "execution_count": 7,
     "metadata": {},
     "output_type": "execute_result"
    },
    {
     "data": {
      "application/javascript": [
       "\n",
       "            setTimeout(function() {\n",
       "                var nbb_cell_id = 7;\n",
       "                var nbb_unformatted_code = \"prices_df2.dropna(inplace=True)\\n(prices_df2.isnull().sum() / prices_df2.isnull().count()).sort_values(\\n    ascending=False\\n).head(12)\";\n",
       "                var nbb_formatted_code = \"prices_df2.dropna(inplace=True)\\n(prices_df2.isnull().sum() / prices_df2.isnull().count()).sort_values(\\n    ascending=False\\n).head(12)\";\n",
       "                var nbb_cells = Jupyter.notebook.get_cells();\n",
       "                for (var i = 0; i < nbb_cells.length; ++i) {\n",
       "                    if (nbb_cells[i].input_prompt_number == nbb_cell_id) {\n",
       "                        if (nbb_cells[i].get_text() == nbb_unformatted_code) {\n",
       "                             nbb_cells[i].set_text(nbb_formatted_code);\n",
       "                        }\n",
       "                        break;\n",
       "                    }\n",
       "                }\n",
       "            }, 500);\n",
       "            "
      ],
      "text/plain": [
       "<IPython.core.display.Javascript object>"
      ]
     },
     "metadata": {},
     "output_type": "display_data"
    }
   ],
   "source": [
    "prices_df2.dropna(inplace=True)\n",
    "(prices_df2.isnull().sum() / prices_df2.isnull().count()).sort_values(\n",
    "    ascending=False\n",
    ").head(12)"
   ]
  },
  {
   "cell_type": "markdown",
   "metadata": {},
   "source": [
    "### Explore the data and find some variables that you think would be useful in predicting house prices."
   ]
  },
  {
   "cell_type": "code",
   "execution_count": 19,
   "metadata": {},
   "outputs": [
    {
     "data": {
      "text/plain": [
       "<AxesSubplot:>"
      ]
     },
     "execution_count": 19,
     "metadata": {},
     "output_type": "execute_result"
    },
    {
     "data": {
      "image/png": "[encoded data removed]",
      "text/plain": [
       "<Figure size 720x864 with 1 Axes>"
      ]
     },
     "metadata": {
      "needs_background": "light"
     },
     "output_type": "display_data"
    },
    {
     "data": {
      "application/javascript": [
       "\n",
       "            setTimeout(function() {\n",
       "                var nbb_cell_id = 19;\n",
       "                var nbb_unformatted_code = \"corr_data = prices_df2.corrwith(prices_df2[\\\"saleprice\\\"]).sort_values(ascending=False)\\nplt.figure(figsize=[10, 12])\\nsns.barplot(x=corr_data.values, y=corr_data.index)\";\n",
       "                var nbb_formatted_code = \"corr_data = prices_df2.corrwith(prices_df2[\\\"saleprice\\\"]).sort_values(ascending=False)\\nplt.figure(figsize=[10, 12])\\nsns.barplot(x=corr_data.values, y=corr_data.index)\";\n",
       "                var nbb_cells = Jupyter.notebook.get_cells();\n",
       "                for (var i = 0; i < nbb_cells.length; ++i) {\n",
       "                    if (nbb_cells[i].input_prompt_number == nbb_cell_id) {\n",
       "                        if (nbb_cells[i].get_text() == nbb_unformatted_code) {\n",
       "                             nbb_cells[i].set_text(nbb_formatted_code);\n",
       "                        }\n",
       "                        break;\n",
       "                    }\n",
       "                }\n",
       "            }, 500);\n",
       "            "
      ],
      "text/plain": [
       "<IPython.core.display.Javascript object>"
      ]
     },
     "metadata": {},
     "output_type": "display_data"
    }
   ],
   "source": [
    "corr_data = prices_df2.corrwith(prices_df2[\"saleprice\"]).sort_values(ascending=False)\n",
    "plt.figure(figsize=[10, 12])\n",
    "sns.barplot(x=corr_data.values, y=corr_data.index)"
   ]
  },
  {
   "cell_type": "code",
   "execution_count": 26,
   "metadata": {},
   "outputs": [
    {
     "data": {
      "text/plain": [
       "saleprice        1.000000\n",
       "overallqual      0.783546\n",
       "grlivarea        0.711706\n",
       "garagecars       0.640154\n",
       "garagearea       0.607535\n",
       "firstflrsf       0.604714\n",
       "totalbsmtsf      0.602042\n",
       "fullbath         0.569313\n",
       "totrmsabvgrd     0.551821\n",
       "yearbuilt        0.504297\n",
       "yearremodadd     0.501435\n",
       "garageyrblt      0.481730\n",
       "masvnrarea       0.465811\n",
       "fireplaces       0.445434\n",
       "bsmtfinsf1       0.359677\n",
       "openporchsf      0.322786\n",
       "secondflrsf      0.311354\n",
       "wooddecksf       0.305983\n",
       "halfbath         0.258175\n",
       "lotarea          0.254757\n",
       "bsmtfullbath     0.209695\n",
       "bsmtunfsf        0.191689\n",
       "bedroomabvgr     0.169266\n",
       "overallcond     -0.108627\n",
       "kitchenabvgr    -0.111408\n",
       "enclosedporch   -0.127385\n",
       "dtype: float64"
      ]
     },
     "execution_count": 26,
     "metadata": {},
     "output_type": "execute_result"
    },
    {
     "data": {
      "application/javascript": [
       "\n",
       "            setTimeout(function() {\n",
       "                var nbb_cell_id = 26;\n",
       "                var nbb_unformatted_code = \"corr_data.iloc[np.where(abs(corr_data.values) >= 0.1)]\";\n",
       "                var nbb_formatted_code = \"corr_data.iloc[np.where(abs(corr_data.values) >= 0.1)]\";\n",
       "                var nbb_cells = Jupyter.notebook.get_cells();\n",
       "                for (var i = 0; i < nbb_cells.length; ++i) {\n",
       "                    if (nbb_cells[i].input_prompt_number == nbb_cell_id) {\n",
       "                        if (nbb_cells[i].get_text() == nbb_unformatted_code) {\n",
       "                             nbb_cells[i].set_text(nbb_formatted_code);\n",
       "                        }\n",
       "                        break;\n",
       "                    }\n",
       "                }\n",
       "            }, 500);\n",
       "            "
      ],
      "text/plain": [
       "<IPython.core.display.Javascript object>"
      ]
     },
     "metadata": {},
     "output_type": "display_data"
    }
   ],
   "source": [
    "corr_data.iloc[np.where(abs(corr_data.values) >= 0.1)]"
   ]
  },
  {
   "cell_type": "code",
   "execution_count": 27,
   "metadata": {},
   "outputs": [
    {
     "data": {
      "text/plain": [
       "Index(['saleprice', 'overallqual', 'grlivarea', 'garagecars', 'garagearea',\n",
       "       'firstflrsf', 'totalbsmtsf', 'fullbath', 'totrmsabvgrd', 'yearbuilt',\n",
       "       'yearremodadd', 'garageyrblt', 'masvnrarea', 'fireplaces', 'bsmtfinsf1',\n",
       "       'openporchsf', 'secondflrsf', 'wooddecksf', 'halfbath', 'lotarea',\n",
       "       'bsmtfullbath', 'bsmtunfsf', 'bedroomabvgr', 'overallcond',\n",
       "       'kitchenabvgr', 'enclosedporch'],\n",
       "      dtype='object')"
      ]
     },
     "execution_count": 27,
     "metadata": {},
     "output_type": "execute_result"
    },
    {
     "data": {
      "application/javascript": [
       "\n",
       "            setTimeout(function() {\n",
       "                var nbb_cell_id = 27;\n",
       "                var nbb_unformatted_code = \"feature_cols = corr_data.iloc[np.where(abs(corr_data.values) >= 0.1)].index\\nfeature_cols\";\n",
       "                var nbb_formatted_code = \"feature_cols = corr_data.iloc[np.where(abs(corr_data.values) >= 0.1)].index\\nfeature_cols\";\n",
       "                var nbb_cells = Jupyter.notebook.get_cells();\n",
       "                for (var i = 0; i < nbb_cells.length; ++i) {\n",
       "                    if (nbb_cells[i].input_prompt_number == nbb_cell_id) {\n",
       "                        if (nbb_cells[i].get_text() == nbb_unformatted_code) {\n",
       "                             nbb_cells[i].set_text(nbb_formatted_code);\n",
       "                        }\n",
       "                        break;\n",
       "                    }\n",
       "                }\n",
       "            }, 500);\n",
       "            "
      ],
      "text/plain": [
       "<IPython.core.display.Javascript object>"
      ]
     },
     "metadata": {},
     "output_type": "display_data"
    }
   ],
   "source": [
    "feature_cols = corr_data.iloc[np.where(abs(corr_data.values) >= 0.1)].index\n",
    "feature_cols"
   ]
  },
  {
   "cell_type": "markdown",
   "metadata": {},
   "source": [
    "### Build your initial model using these features and estimate the parameters using OLS."
   ]
  },
  {
   "cell_type": "code",
   "execution_count": 28,
   "metadata": {},
   "outputs": [
    {
     "data": {
      "application/javascript": [
       "\n",
       "            setTimeout(function() {\n",
       "                var nbb_cell_id = 28;\n",
       "                var nbb_unformatted_code = \"import statsmodels.api as sm\";\n",
       "                var nbb_formatted_code = \"import statsmodels.api as sm\";\n",
       "                var nbb_cells = Jupyter.notebook.get_cells();\n",
       "                for (var i = 0; i < nbb_cells.length; ++i) {\n",
       "                    if (nbb_cells[i].input_prompt_number == nbb_cell_id) {\n",
       "                        if (nbb_cells[i].get_text() == nbb_unformatted_code) {\n",
       "                             nbb_cells[i].set_text(nbb_formatted_code);\n",
       "                        }\n",
       "                        break;\n",
       "                    }\n",
       "                }\n",
       "            }, 500);\n",
       "            "
      ],
      "text/plain": [
       "<IPython.core.display.Javascript object>"
      ]
     },
     "metadata": {},
     "output_type": "display_data"
    }
   ],
   "source": [
    "import statsmodels.api as sm\n",
    "\n"
   ]
  },
  {
   "cell_type": "code",
   "execution_count": 41,
   "metadata": {},
   "outputs": [
    {
     "data": {
      "application/javascript": [
       "\n",
       "            setTimeout(function() {\n",
       "                var nbb_cell_id = 41;\n",
       "                var nbb_unformatted_code = \"y = prices_df2[\\\"saleprice\\\"]\\nX = prices_df2[feature_cols]\\nX = X.drop(\\\"saleprice\\\", axis=1)\";\n",
       "                var nbb_formatted_code = \"y = prices_df2[\\\"saleprice\\\"]\\nX = prices_df2[feature_cols]\\nX = X.drop(\\\"saleprice\\\", axis=1)\";\n",
       "                var nbb_cells = Jupyter.notebook.get_cells();\n",
       "                for (var i = 0; i < nbb_cells.length; ++i) {\n",
       "                    if (nbb_cells[i].input_prompt_number == nbb_cell_id) {\n",
       "                        if (nbb_cells[i].get_text() == nbb_unformatted_code) {\n",
       "                             nbb_cells[i].set_text(nbb_formatted_code);\n",
       "                        }\n",
       "                        break;\n",
       "                    }\n",
       "                }\n",
       "            }, 500);\n",
       "            "
      ],
      "text/plain": [
       "<IPython.core.display.Javascript object>"
      ]
     },
     "metadata": {},
     "output_type": "display_data"
    }
   ],
   "source": [
    "y = prices_df2[\"saleprice\"]\n",
    "X = prices_df2[feature_cols]\n",
    "X = X.drop(\"saleprice\", axis=1)"
   ]
  },
  {
   "cell_type": "code",
   "execution_count": 42,
   "metadata": {},
   "outputs": [
    {
     "data": {
      "application/javascript": [
       "\n",
       "            setTimeout(function() {\n",
       "                var nbb_cell_id = 42;\n",
       "                var nbb_unformatted_code = \"X = sm.add_constant(X)\";\n",
       "                var nbb_formatted_code = \"X = sm.add_constant(X)\";\n",
       "                var nbb_cells = Jupyter.notebook.get_cells();\n",
       "                for (var i = 0; i < nbb_cells.length; ++i) {\n",
       "                    if (nbb_cells[i].input_prompt_number == nbb_cell_id) {\n",
       "                        if (nbb_cells[i].get_text() == nbb_unformatted_code) {\n",
       "                             nbb_cells[i].set_text(nbb_formatted_code);\n",
       "                        }\n",
       "                        break;\n",
       "                    }\n",
       "                }\n",
       "            }, 500);\n",
       "            "
      ],
      "text/plain": [
       "<IPython.core.display.Javascript object>"
      ]
     },
     "metadata": {},
     "output_type": "display_data"
    }
   ],
   "source": [
    "X = sm.add_constant(X)"
   ]
  },
  {
   "cell_type": "code",
   "execution_count": 46,
   "metadata": {},
   "outputs": [
    {
     "data": {
      "text/html": [
       "<table class=\"simpletable\">\n",
       "<caption>OLS Regression Results</caption>\n",
       "<tr>\n",
       "  <th>Dep. Variable:</th>        <td>saleprice</td>    <th>  R-squared:         </th> <td>   0.801</td> \n",
       "</tr>\n",
       "<tr>\n",
       "  <th>Model:</th>                   <td>OLS</td>       <th>  Adj. R-squared:    </th> <td>   0.798</td> \n",
       "</tr>\n",
       "<tr>\n",
       "  <th>Method:</th>             <td>Least Squares</td>  <th>  F-statistic:       </th> <td>   211.6</td> \n",
       "</tr>\n",
       "<tr>\n",
       "  <th>Date:</th>             <td>Mon, 19 Oct 2020</td> <th>  Prob (F-statistic):</th>  <td>  0.00</td>  \n",
       "</tr>\n",
       "<tr>\n",
       "  <th>Time:</th>                 <td>16:57:58</td>     <th>  Log-Likelihood:    </th> <td> -15904.</td> \n",
       "</tr>\n",
       "<tr>\n",
       "  <th>No. Observations:</th>      <td>  1338</td>      <th>  AIC:               </th> <td>3.186e+04</td>\n",
       "</tr>\n",
       "<tr>\n",
       "  <th>Df Residuals:</th>          <td>  1312</td>      <th>  BIC:               </th> <td>3.200e+04</td>\n",
       "</tr>\n",
       "<tr>\n",
       "  <th>Df Model:</th>              <td>    25</td>      <th>                     </th>     <td> </td>    \n",
       "</tr>\n",
       "<tr>\n",
       "  <th>Covariance Type:</th>      <td>nonrobust</td>    <th>                     </th>     <td> </td>    \n",
       "</tr>\n",
       "</table>\n",
       "<table class=\"simpletable\">\n",
       "<tr>\n",
       "        <td></td>           <th>coef</th>     <th>std err</th>      <th>t</th>      <th>P>|t|</th>  <th>[0.025</th>    <th>0.975]</th>  \n",
       "</tr>\n",
       "<tr>\n",
       "  <th>const</th>         <td>-8.588e+05</td> <td> 1.57e+05</td> <td>   -5.466</td> <td> 0.000</td> <td>-1.17e+06</td> <td>-5.51e+05</td>\n",
       "</tr>\n",
       "<tr>\n",
       "  <th>overallqual</th>   <td> 1.807e+04</td> <td> 1285.224</td> <td>   14.062</td> <td> 0.000</td> <td> 1.56e+04</td> <td> 2.06e+04</td>\n",
       "</tr>\n",
       "<tr>\n",
       "  <th>grlivarea</th>     <td>   23.3553</td> <td>   24.912</td> <td>    0.937</td> <td> 0.349</td> <td>  -25.517</td> <td>   72.228</td>\n",
       "</tr>\n",
       "<tr>\n",
       "  <th>garagecars</th>    <td> 1.554e+04</td> <td> 3108.508</td> <td>    4.999</td> <td> 0.000</td> <td> 9440.847</td> <td> 2.16e+04</td>\n",
       "</tr>\n",
       "<tr>\n",
       "  <th>garagearea</th>    <td>    9.9663</td> <td>   10.487</td> <td>    0.950</td> <td> 0.342</td> <td>  -10.606</td> <td>   30.539</td>\n",
       "</tr>\n",
       "<tr>\n",
       "  <th>firstflrsf</th>    <td>   16.2364</td> <td>   25.664</td> <td>    0.633</td> <td> 0.527</td> <td>  -34.111</td> <td>   66.584</td>\n",
       "</tr>\n",
       "<tr>\n",
       "  <th>totalbsmtsf</th>   <td>   21.7940</td> <td>    8.429</td> <td>    2.586</td> <td> 0.010</td> <td>    5.259</td> <td>   38.329</td>\n",
       "</tr>\n",
       "<tr>\n",
       "  <th>fullbath</th>      <td> -109.0310</td> <td> 3084.887</td> <td>   -0.035</td> <td> 0.972</td> <td>-6160.881</td> <td> 5942.819</td>\n",
       "</tr>\n",
       "<tr>\n",
       "  <th>totrmsabvgrd</th>  <td> 6550.0794</td> <td> 1302.498</td> <td>    5.029</td> <td> 0.000</td> <td> 3994.872</td> <td> 9105.287</td>\n",
       "</tr>\n",
       "<tr>\n",
       "  <th>yearbuilt</th>     <td>  317.9304</td> <td>   79.334</td> <td>    4.008</td> <td> 0.000</td> <td>  162.295</td> <td>  473.565</td>\n",
       "</tr>\n",
       "<tr>\n",
       "  <th>yearremodadd</th>  <td>  157.9738</td> <td>   76.556</td> <td>    2.064</td> <td> 0.039</td> <td>    7.788</td> <td>  308.159</td>\n",
       "</tr>\n",
       "<tr>\n",
       "  <th>garageyrblt</th>   <td>  -79.1474</td> <td>   82.537</td> <td>   -0.959</td> <td> 0.338</td> <td> -241.066</td> <td>   82.771</td>\n",
       "</tr>\n",
       "<tr>\n",
       "  <th>masvnrarea</th>    <td>   27.0743</td> <td>    6.163</td> <td>    4.393</td> <td> 0.000</td> <td>   14.983</td> <td>   39.165</td>\n",
       "</tr>\n",
       "<tr>\n",
       "  <th>fireplaces</th>    <td> 4264.2825</td> <td> 1861.904</td> <td>    2.290</td> <td> 0.022</td> <td>  611.648</td> <td> 7916.917</td>\n",
       "</tr>\n",
       "<tr>\n",
       "  <th>bsmtfinsf1</th>    <td>    6.9237</td> <td>    6.274</td> <td>    1.104</td> <td> 0.270</td> <td>   -5.384</td> <td>   19.232</td>\n",
       "</tr>\n",
       "<tr>\n",
       "  <th>openporchsf</th>   <td>   -3.4162</td> <td>   16.484</td> <td>   -0.207</td> <td> 0.836</td> <td>  -35.754</td> <td>   28.921</td>\n",
       "</tr>\n",
       "<tr>\n",
       "  <th>secondflrsf</th>   <td>   18.2750</td> <td>   24.998</td> <td>    0.731</td> <td> 0.465</td> <td>  -30.765</td> <td>   67.315</td>\n",
       "</tr>\n",
       "<tr>\n",
       "  <th>wooddecksf</th>    <td>   19.3090</td> <td>    8.246</td> <td>    2.342</td> <td> 0.019</td> <td>    3.132</td> <td>   35.486</td>\n",
       "</tr>\n",
       "<tr>\n",
       "  <th>halfbath</th>      <td>-3386.6470</td> <td> 2874.959</td> <td>   -1.178</td> <td> 0.239</td> <td>-9026.666</td> <td> 2253.372</td>\n",
       "</tr>\n",
       "<tr>\n",
       "  <th>lotarea</th>       <td>    0.4286</td> <td>    0.103</td> <td>    4.152</td> <td> 0.000</td> <td>    0.226</td> <td>    0.631</td>\n",
       "</tr>\n",
       "<tr>\n",
       "  <th>bsmtfullbath</th>  <td> 7152.8127</td> <td> 2661.163</td> <td>    2.688</td> <td> 0.007</td> <td> 1932.212</td> <td> 1.24e+04</td>\n",
       "</tr>\n",
       "<tr>\n",
       "  <th>bsmtunfsf</th>     <td>   -2.4705</td> <td>    6.357</td> <td>   -0.389</td> <td> 0.698</td> <td>  -14.941</td> <td>   10.000</td>\n",
       "</tr>\n",
       "<tr>\n",
       "  <th>bedroomabvgr</th>  <td>-7731.4663</td> <td> 1863.294</td> <td>   -4.149</td> <td> 0.000</td> <td>-1.14e+04</td> <td>-4076.105</td>\n",
       "</tr>\n",
       "<tr>\n",
       "  <th>overallcond</th>   <td> 6058.2501</td> <td> 1150.833</td> <td>    5.264</td> <td> 0.000</td> <td> 3800.576</td> <td> 8315.925</td>\n",
       "</tr>\n",
       "<tr>\n",
       "  <th>kitchenabvgr</th>  <td>-3.973e+04</td> <td> 6295.598</td> <td>   -6.311</td> <td> 0.000</td> <td>-5.21e+04</td> <td>-2.74e+04</td>\n",
       "</tr>\n",
       "<tr>\n",
       "  <th>enclosedporch</th> <td>    3.6031</td> <td>   17.868</td> <td>    0.202</td> <td> 0.840</td> <td>  -31.450</td> <td>   38.656</td>\n",
       "</tr>\n",
       "</table>\n",
       "<table class=\"simpletable\">\n",
       "<tr>\n",
       "  <th>Omnibus:</th>       <td>782.368</td> <th>  Durbin-Watson:     </th>  <td>   1.952</td> \n",
       "</tr>\n",
       "<tr>\n",
       "  <th>Prob(Omnibus):</th> <td> 0.000</td>  <th>  Jarque-Bera (JB):  </th> <td>147775.089</td>\n",
       "</tr>\n",
       "<tr>\n",
       "  <th>Skew:</th>          <td>-1.618</td>  <th>  Prob(JB):          </th>  <td>    0.00</td> \n",
       "</tr>\n",
       "<tr>\n",
       "  <th>Kurtosis:</th>      <td>54.383</td>  <th>  Cond. No.          </th>  <td>2.46e+06</td> \n",
       "</tr>\n",
       "</table><br/><br/>Notes:<br/>[1] Standard Errors assume that the covariance matrix of the errors is correctly specified.<br/>[2] The condition number is large, 2.46e+06. This might indicate that there are<br/>strong multicollinearity or other numerical problems."
      ],
      "text/plain": [
       "<class 'statsmodels.iolib.summary.Summary'>\n",
       "\"\"\"\n",
       "                            OLS Regression Results                            \n",
       "==============================================================================\n",
       "Dep. Variable:              saleprice   R-squared:                       0.801\n",
       "Model:                            OLS   Adj. R-squared:                  0.798\n",
       "Method:                 Least Squares   F-statistic:                     211.6\n",
       "Date:                Mon, 19 Oct 2020   Prob (F-statistic):               0.00\n",
       "Time:                        16:57:58   Log-Likelihood:                -15904.\n",
       "No. Observations:                1338   AIC:                         3.186e+04\n",
       "Df Residuals:                    1312   BIC:                         3.200e+04\n",
       "Df Model:                          25                                         \n",
       "Covariance Type:            nonrobust                                         \n",
       "=================================================================================\n",
       "                    coef    std err          t      P>|t|      [0.025      0.975]\n",
       "---------------------------------------------------------------------------------\n",
       "const         -8.588e+05   1.57e+05     -5.466      0.000   -1.17e+06   -5.51e+05\n",
       "overallqual    1.807e+04   1285.224     14.062      0.000    1.56e+04    2.06e+04\n",
       "grlivarea        23.3553     24.912      0.937      0.349     -25.517      72.228\n",
       "garagecars     1.554e+04   3108.508      4.999      0.000    9440.847    2.16e+04\n",
       "garagearea        9.9663     10.487      0.950      0.342     -10.606      30.539\n",
       "firstflrsf       16.2364     25.664      0.633      0.527     -34.111      66.584\n",
       "totalbsmtsf      21.7940      8.429      2.586      0.010       5.259      38.329\n",
       "fullbath       -109.0310   3084.887     -0.035      0.972   -6160.881    5942.819\n",
       "totrmsabvgrd   6550.0794   1302.498      5.029      0.000    3994.872    9105.287\n",
       "yearbuilt       317.9304     79.334      4.008      0.000     162.295     473.565\n",
       "yearremodadd    157.9738     76.556      2.064      0.039       7.788     308.159\n",
       "garageyrblt     -79.1474     82.537     -0.959      0.338    -241.066      82.771\n",
       "masvnrarea       27.0743      6.163      4.393      0.000      14.983      39.165\n",
       "fireplaces     4264.2825   1861.904      2.290      0.022     611.648    7916.917\n",
       "bsmtfinsf1        6.9237      6.274      1.104      0.270      -5.384      19.232\n",
       "openporchsf      -3.4162     16.484     -0.207      0.836     -35.754      28.921\n",
       "secondflrsf      18.2750     24.998      0.731      0.465     -30.765      67.315\n",
       "wooddecksf       19.3090      8.246      2.342      0.019       3.132      35.486\n",
       "halfbath      -3386.6470   2874.959     -1.178      0.239   -9026.666    2253.372\n",
       "lotarea           0.4286      0.103      4.152      0.000       0.226       0.631\n",
       "bsmtfullbath   7152.8127   2661.163      2.688      0.007    1932.212    1.24e+04\n",
       "bsmtunfsf        -2.4705      6.357     -0.389      0.698     -14.941      10.000\n",
       "bedroomabvgr  -7731.4663   1863.294     -4.149      0.000   -1.14e+04   -4076.105\n",
       "overallcond    6058.2501   1150.833      5.264      0.000    3800.576    8315.925\n",
       "kitchenabvgr  -3.973e+04   6295.598     -6.311      0.000   -5.21e+04   -2.74e+04\n",
       "enclosedporch     3.6031     17.868      0.202      0.840     -31.450      38.656\n",
       "==============================================================================\n",
       "Omnibus:                      782.368   Durbin-Watson:                   1.952\n",
       "Prob(Omnibus):                  0.000   Jarque-Bera (JB):           147775.089\n",
       "Skew:                          -1.618   Prob(JB):                         0.00\n",
       "Kurtosis:                      54.383   Cond. No.                     2.46e+06\n",
       "==============================================================================\n",
       "\n",
       "Notes:\n",
       "[1] Standard Errors assume that the covariance matrix of the errors is correctly specified.\n",
       "[2] The condition number is large, 2.46e+06. This might indicate that there are\n",
       "strong multicollinearity or other numerical problems.\n",
       "\"\"\""
      ]
     },
     "execution_count": 46,
     "metadata": {},
     "output_type": "execute_result"
    },
    {
     "data": {
      "application/javascript": [
       "\n",
       "            setTimeout(function() {\n",
       "                var nbb_cell_id = 46;\n",
       "                var nbb_unformatted_code = \"results = sm.OLS(y,X).fit()\\nresults.summary()\";\n",
       "                var nbb_formatted_code = \"results = sm.OLS(y, X).fit()\\nresults.summary()\";\n",
       "                var nbb_cells = Jupyter.notebook.get_cells();\n",
       "                for (var i = 0; i < nbb_cells.length; ++i) {\n",
       "                    if (nbb_cells[i].input_prompt_number == nbb_cell_id) {\n",
       "                        if (nbb_cells[i].get_text() == nbb_unformatted_code) {\n",
       "                             nbb_cells[i].set_text(nbb_formatted_code);\n",
       "                        }\n",
       "                        break;\n",
       "                    }\n",
       "                }\n",
       "            }, 500);\n",
       "            "
      ],
      "text/plain": [
       "<IPython.core.display.Javascript object>"
      ]
     },
     "metadata": {},
     "output_type": "display_data"
    }
   ],
   "source": [
    "results = sm.OLS(y, X).fit()\n",
    "results.summary()"
   ]
  },
  {
   "cell_type": "code",
   "execution_count": 50,
   "metadata": {},
   "outputs": [
    {
     "data": {
      "text/plain": [
       "0       223596.467410\n",
       "1       191578.671281\n",
       "2       217270.912817\n",
       "3       198262.563091\n",
       "4       297090.972926\n",
       "            ...      \n",
       "1455    180737.769587\n",
       "1456    242096.131570\n",
       "1457    240762.521538\n",
       "1458    129529.508490\n",
       "1459    146605.700727\n",
       "Length: 1338, dtype: float64"
      ]
     },
     "execution_count": 50,
     "metadata": {},
     "output_type": "execute_result"
    },
    {
     "data": {
      "application/javascript": [
       "\n",
       "            setTimeout(function() {\n",
       "                var nbb_cell_id = 50;\n",
       "                var nbb_unformatted_code = \"results.predict(X)\";\n",
       "                var nbb_formatted_code = \"results.predict(X)\";\n",
       "                var nbb_cells = Jupyter.notebook.get_cells();\n",
       "                for (var i = 0; i < nbb_cells.length; ++i) {\n",
       "                    if (nbb_cells[i].input_prompt_number == nbb_cell_id) {\n",
       "                        if (nbb_cells[i].get_text() == nbb_unformatted_code) {\n",
       "                             nbb_cells[i].set_text(nbb_formatted_code);\n",
       "                        }\n",
       "                        break;\n",
       "                    }\n",
       "                }\n",
       "            }, 500);\n",
       "            "
      ],
      "text/plain": [
       "<IPython.core.display.Javascript object>"
      ]
     },
     "metadata": {},
     "output_type": "display_data"
    }
   ],
   "source": [
    "results.predict(X)"
   ]
  },
  {
   "cell_type": "code",
   "execution_count": null,
   "metadata": {},
   "outputs": [],
   "source": []
  }
 ],
 "metadata": {
  "kernelspec": {
   "display_name": "Python 3",
   "language": "python",
   "name": "python3"
  },
  "language_info": {
   "codemirror_mode": {
    "name": "ipython",
    "version": 3
   },
   "file_extension": ".py",
   "mimetype": "text/x-python",
   "name": "python",
   "nbconvert_exporter": "python",
   "pygments_lexer": "ipython3",
   "version": "3.8.5"
  }
 },
 "nbformat": 4,
 "nbformat_minor": 4
}
