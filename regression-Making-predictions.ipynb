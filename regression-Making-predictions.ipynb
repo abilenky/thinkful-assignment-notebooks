{
 "cells": [
  {
   "cell_type": "code",
   "execution_count": 1,
   "metadata": {},
   "outputs": [
    {
     "data": {
      "application/javascript": [
       "\n",
       "            setTimeout(function() {\n",
       "                var nbb_cell_id = 1;\n",
       "                var nbb_unformatted_code = \"%load_ext nb_black\\nimport pandas as pd\\nimport numpy as np\\nimport matplotlib.pyplot as plt\\nfrom sqlalchemy import create_engine\\nimport seaborn as sns\\n\\n%matplotlib inline\";\n",
       "                var nbb_formatted_code = \"%load_ext nb_black\\nimport pandas as pd\\nimport numpy as np\\nimport matplotlib.pyplot as plt\\nfrom sqlalchemy import create_engine\\nimport seaborn as sns\\n\\n%matplotlib inline\";\n",
       "                var nbb_cells = Jupyter.notebook.get_cells();\n",
       "                for (var i = 0; i < nbb_cells.length; ++i) {\n",
       "                    if (nbb_cells[i].input_prompt_number == nbb_cell_id) {\n",
       "                        if (nbb_cells[i].get_text() == nbb_unformatted_code) {\n",
       "                             nbb_cells[i].set_text(nbb_formatted_code);\n",
       "                        }\n",
       "                        break;\n",
       "                    }\n",
       "                }\n",
       "            }, 500);\n",
       "            "
      ],
      "text/plain": [
       "<IPython.core.display.Javascript object>"
      ]
     },
     "metadata": {},
     "output_type": "display_data"
    }
   ],
   "source": [
    "%load_ext nb_black\n",
    "import pandas as pd\n",
    "import numpy as np\n",
    "import matplotlib.pyplot as plt\n",
    "from sqlalchemy import create_engine\n",
    "import seaborn as sns\n",
    "\n",
    "%matplotlib inline"
   ]
  },
  {
   "cell_type": "code",
   "execution_count": 2,
   "metadata": {},
   "outputs": [
    {
     "data": {
      "application/javascript": [
       "\n",
       "            setTimeout(function() {\n",
       "                var nbb_cell_id = 2;\n",
       "                var nbb_unformatted_code = \"# Load the houseprices data from Thinkful's database.\\npostgres_user = \\\"dsbc_student\\\"\\npostgres_pw = \\\"7*.8G9QH21\\\"\\npostgres_host = \\\"142.93.121.174\\\"\\npostgres_port = \\\"5432\\\"\\npostgres_db = \\\"houseprices\\\"\\ntable_name = \\\"houseprices\\\"\\n\\ndb_url = f\\\"postgresql://{postgres_user}:{postgres_pw}@{postgres_host}:{postgres_port}/{postgres_db}\\\"\\n\\nengine = create_engine(db_url)\\n\\nprices_df = pd.read_sql_query(f\\\"SELECT * FROM {table_name};\\\", con=engine)\\n\\n# close the db connetion\\nengine.dispose()\";\n",
       "                var nbb_formatted_code = \"# Load the houseprices data from Thinkful's database.\\npostgres_user = \\\"dsbc_student\\\"\\npostgres_pw = \\\"7*.8G9QH21\\\"\\npostgres_host = \\\"142.93.121.174\\\"\\npostgres_port = \\\"5432\\\"\\npostgres_db = \\\"houseprices\\\"\\ntable_name = \\\"houseprices\\\"\\n\\ndb_url = f\\\"postgresql://{postgres_user}:{postgres_pw}@{postgres_host}:{postgres_port}/{postgres_db}\\\"\\n\\nengine = create_engine(db_url)\\n\\nprices_df = pd.read_sql_query(f\\\"SELECT * FROM {table_name};\\\", con=engine)\\n\\n# close the db connetion\\nengine.dispose()\";\n",
       "                var nbb_cells = Jupyter.notebook.get_cells();\n",
       "                for (var i = 0; i < nbb_cells.length; ++i) {\n",
       "                    if (nbb_cells[i].input_prompt_number == nbb_cell_id) {\n",
       "                        if (nbb_cells[i].get_text() == nbb_unformatted_code) {\n",
       "                             nbb_cells[i].set_text(nbb_formatted_code);\n",
       "                        }\n",
       "                        break;\n",
       "                    }\n",
       "                }\n",
       "            }, 500);\n",
       "            "
      ],
      "text/plain": [
       "<IPython.core.display.Javascript object>"
      ]
     },
     "metadata": {},
     "output_type": "display_data"
    }
   ],
   "source": [
    "# Load the houseprices data from Thinkful's database.\n",
    "postgres_user = \"dsbc_student\"\n",
    "postgres_pw = \"7*.8G9QH21\"\n",
    "postgres_host = \"142.93.121.174\"\n",
    "postgres_port = \"5432\"\n",
    "postgres_db = \"houseprices\"\n",
    "table_name = \"houseprices\"\n",
    "\n",
    "db_url = f\"postgresql://{postgres_user}:{postgres_pw}@{postgres_host}:{postgres_port}/{postgres_db}\"\n",
    "\n",
    "engine = create_engine(db_url)\n",
    "\n",
    "prices_df = pd.read_sql_query(f\"SELECT * FROM {table_name};\", con=engine)\n",
    "\n",
    "# close the db connetion\n",
    "engine.dispose()"
   ]
  },
  {
   "cell_type": "code",
   "execution_count": 3,
   "metadata": {},
   "outputs": [
    {
     "name": "stdout",
     "output_type": "stream",
     "text": [
      "garagetype      0.055479\n",
      "garageyrblt     0.055479\n",
      "garagefinish    0.055479\n",
      "garagequal      0.055479\n",
      "garagecond      0.055479\n",
      "bsmtfintype2    0.026027\n",
      "bsmtexposure    0.026027\n",
      "bsmtfintype1    0.025342\n",
      "bsmtcond        0.025342\n",
      "bsmtqual        0.025342\n",
      "masvnrtype      0.005479\n",
      "masvnrarea      0.005479\n",
      "electrical      0.000685\n",
      "yearremodadd    0.000000\n",
      "dtype: float64\n"
     ]
    },
    {
     "data": {
      "text/html": [
       "<div>\n",
       "<style scoped>\n",
       "    .dataframe tbody tr th:only-of-type {\n",
       "        vertical-align: middle;\n",
       "    }\n",
       "\n",
       "    .dataframe tbody tr th {\n",
       "        vertical-align: top;\n",
       "    }\n",
       "\n",
       "    .dataframe thead th {\n",
       "        text-align: right;\n",
       "    }\n",
       "</style>\n",
       "<table border=\"1\" class=\"dataframe\">\n",
       "  <thead>\n",
       "    <tr style=\"text-align: right;\">\n",
       "      <th></th>\n",
       "      <th>mssubclass</th>\n",
       "      <th>mszoning</th>\n",
       "      <th>lotarea</th>\n",
       "      <th>street</th>\n",
       "      <th>lotshape</th>\n",
       "      <th>landcontour</th>\n",
       "      <th>utilities</th>\n",
       "      <th>lotconfig</th>\n",
       "      <th>landslope</th>\n",
       "      <th>neighborhood</th>\n",
       "      <th>...</th>\n",
       "      <th>enclosedporch</th>\n",
       "      <th>threessnporch</th>\n",
       "      <th>screenporch</th>\n",
       "      <th>poolarea</th>\n",
       "      <th>miscval</th>\n",
       "      <th>mosold</th>\n",
       "      <th>yrsold</th>\n",
       "      <th>saletype</th>\n",
       "      <th>salecondition</th>\n",
       "      <th>saleprice</th>\n",
       "    </tr>\n",
       "  </thead>\n",
       "  <tbody>\n",
       "    <tr>\n",
       "      <th>0</th>\n",
       "      <td>60</td>\n",
       "      <td>RL</td>\n",
       "      <td>8450</td>\n",
       "      <td>Pave</td>\n",
       "      <td>Reg</td>\n",
       "      <td>Lvl</td>\n",
       "      <td>AllPub</td>\n",
       "      <td>Inside</td>\n",
       "      <td>Gtl</td>\n",
       "      <td>CollgCr</td>\n",
       "      <td>...</td>\n",
       "      <td>0</td>\n",
       "      <td>0</td>\n",
       "      <td>0</td>\n",
       "      <td>0</td>\n",
       "      <td>0</td>\n",
       "      <td>2</td>\n",
       "      <td>2008</td>\n",
       "      <td>WD</td>\n",
       "      <td>Normal</td>\n",
       "      <td>208500</td>\n",
       "    </tr>\n",
       "    <tr>\n",
       "      <th>1</th>\n",
       "      <td>20</td>\n",
       "      <td>RL</td>\n",
       "      <td>9600</td>\n",
       "      <td>Pave</td>\n",
       "      <td>Reg</td>\n",
       "      <td>Lvl</td>\n",
       "      <td>AllPub</td>\n",
       "      <td>FR2</td>\n",
       "      <td>Gtl</td>\n",
       "      <td>Veenker</td>\n",
       "      <td>...</td>\n",
       "      <td>0</td>\n",
       "      <td>0</td>\n",
       "      <td>0</td>\n",
       "      <td>0</td>\n",
       "      <td>0</td>\n",
       "      <td>5</td>\n",
       "      <td>2007</td>\n",
       "      <td>WD</td>\n",
       "      <td>Normal</td>\n",
       "      <td>181500</td>\n",
       "    </tr>\n",
       "    <tr>\n",
       "      <th>2</th>\n",
       "      <td>60</td>\n",
       "      <td>RL</td>\n",
       "      <td>11250</td>\n",
       "      <td>Pave</td>\n",
       "      <td>IR1</td>\n",
       "      <td>Lvl</td>\n",
       "      <td>AllPub</td>\n",
       "      <td>Inside</td>\n",
       "      <td>Gtl</td>\n",
       "      <td>CollgCr</td>\n",
       "      <td>...</td>\n",
       "      <td>0</td>\n",
       "      <td>0</td>\n",
       "      <td>0</td>\n",
       "      <td>0</td>\n",
       "      <td>0</td>\n",
       "      <td>9</td>\n",
       "      <td>2008</td>\n",
       "      <td>WD</td>\n",
       "      <td>Normal</td>\n",
       "      <td>223500</td>\n",
       "    </tr>\n",
       "    <tr>\n",
       "      <th>3</th>\n",
       "      <td>70</td>\n",
       "      <td>RL</td>\n",
       "      <td>9550</td>\n",
       "      <td>Pave</td>\n",
       "      <td>IR1</td>\n",
       "      <td>Lvl</td>\n",
       "      <td>AllPub</td>\n",
       "      <td>Corner</td>\n",
       "      <td>Gtl</td>\n",
       "      <td>Crawfor</td>\n",
       "      <td>...</td>\n",
       "      <td>272</td>\n",
       "      <td>0</td>\n",
       "      <td>0</td>\n",
       "      <td>0</td>\n",
       "      <td>0</td>\n",
       "      <td>2</td>\n",
       "      <td>2006</td>\n",
       "      <td>WD</td>\n",
       "      <td>Abnorml</td>\n",
       "      <td>140000</td>\n",
       "    </tr>\n",
       "    <tr>\n",
       "      <th>4</th>\n",
       "      <td>60</td>\n",
       "      <td>RL</td>\n",
       "      <td>14260</td>\n",
       "      <td>Pave</td>\n",
       "      <td>IR1</td>\n",
       "      <td>Lvl</td>\n",
       "      <td>AllPub</td>\n",
       "      <td>FR2</td>\n",
       "      <td>Gtl</td>\n",
       "      <td>NoRidge</td>\n",
       "      <td>...</td>\n",
       "      <td>0</td>\n",
       "      <td>0</td>\n",
       "      <td>0</td>\n",
       "      <td>0</td>\n",
       "      <td>0</td>\n",
       "      <td>12</td>\n",
       "      <td>2008</td>\n",
       "      <td>WD</td>\n",
       "      <td>Normal</td>\n",
       "      <td>250000</td>\n",
       "    </tr>\n",
       "  </tbody>\n",
       "</table>\n",
       "<p>5 rows × 74 columns</p>\n",
       "</div>"
      ],
      "text/plain": [
       "   mssubclass mszoning  lotarea street lotshape landcontour utilities  \\\n",
       "0          60       RL     8450   Pave      Reg         Lvl    AllPub   \n",
       "1          20       RL     9600   Pave      Reg         Lvl    AllPub   \n",
       "2          60       RL    11250   Pave      IR1         Lvl    AllPub   \n",
       "3          70       RL     9550   Pave      IR1         Lvl    AllPub   \n",
       "4          60       RL    14260   Pave      IR1         Lvl    AllPub   \n",
       "\n",
       "  lotconfig landslope neighborhood  ... enclosedporch threessnporch  \\\n",
       "0    Inside       Gtl      CollgCr  ...             0             0   \n",
       "1       FR2       Gtl      Veenker  ...             0             0   \n",
       "2    Inside       Gtl      CollgCr  ...             0             0   \n",
       "3    Corner       Gtl      Crawfor  ...           272             0   \n",
       "4       FR2       Gtl      NoRidge  ...             0             0   \n",
       "\n",
       "  screenporch poolarea  miscval  mosold  yrsold  saletype salecondition  \\\n",
       "0           0        0        0       2    2008        WD        Normal   \n",
       "1           0        0        0       5    2007        WD        Normal   \n",
       "2           0        0        0       9    2008        WD        Normal   \n",
       "3           0        0        0       2    2006        WD       Abnorml   \n",
       "4           0        0        0      12    2008        WD        Normal   \n",
       "\n",
       "  saleprice  \n",
       "0    208500  \n",
       "1    181500  \n",
       "2    223500  \n",
       "3    140000  \n",
       "4    250000  \n",
       "\n",
       "[5 rows x 74 columns]"
      ]
     },
     "execution_count": 3,
     "metadata": {},
     "output_type": "execute_result"
    },
    {
     "data": {
      "application/javascript": [
       "\n",
       "            setTimeout(function() {\n",
       "                var nbb_cell_id = 3;\n",
       "                var nbb_unformatted_code = \"prices_df2 = prices_df.copy()\\ncols_to_drop = [\\n    \\\"lotfrontage\\\",\\n    \\\"fireplacequ\\\",\\n    \\\"fence\\\",\\n    \\\"alley\\\",\\n    \\\"miscfeature\\\",\\n    \\\"poolqc\\\",\\n    \\\"id\\\",\\n]\\nprices_df2.drop(columns=cols_to_drop, inplace=True)\\nprint(\\n    (prices_df2.isnull().sum() / prices_df2.isnull().count())\\n    .sort_values(ascending=False)\\n    .head(14)\\n)\\nprices_df2.head()\";\n",
       "                var nbb_formatted_code = \"prices_df2 = prices_df.copy()\\ncols_to_drop = [\\n    \\\"lotfrontage\\\",\\n    \\\"fireplacequ\\\",\\n    \\\"fence\\\",\\n    \\\"alley\\\",\\n    \\\"miscfeature\\\",\\n    \\\"poolqc\\\",\\n    \\\"id\\\",\\n]\\nprices_df2.drop(columns=cols_to_drop, inplace=True)\\nprint(\\n    (prices_df2.isnull().sum() / prices_df2.isnull().count())\\n    .sort_values(ascending=False)\\n    .head(14)\\n)\\nprices_df2.head()\";\n",
       "                var nbb_cells = Jupyter.notebook.get_cells();\n",
       "                for (var i = 0; i < nbb_cells.length; ++i) {\n",
       "                    if (nbb_cells[i].input_prompt_number == nbb_cell_id) {\n",
       "                        if (nbb_cells[i].get_text() == nbb_unformatted_code) {\n",
       "                             nbb_cells[i].set_text(nbb_formatted_code);\n",
       "                        }\n",
       "                        break;\n",
       "                    }\n",
       "                }\n",
       "            }, 500);\n",
       "            "
      ],
      "text/plain": [
       "<IPython.core.display.Javascript object>"
      ]
     },
     "metadata": {},
     "output_type": "display_data"
    }
   ],
   "source": [
    "prices_df2 = prices_df.copy()\n",
    "cols_to_drop = [\n",
    "    \"lotfrontage\",\n",
    "    \"fireplacequ\",\n",
    "    \"fence\",\n",
    "    \"alley\",\n",
    "    \"miscfeature\",\n",
    "    \"poolqc\",\n",
    "    \"id\",\n",
    "]\n",
    "prices_df2.drop(columns=cols_to_drop, inplace=True)\n",
    "print(\n",
    "    (prices_df2.isnull().sum() / prices_df2.isnull().count())\n",
    "    .sort_values(ascending=False)\n",
    "    .head(14)\n",
    ")\n",
    "prices_df2.head()\n",
    "\n"
   ]
  },
  {
   "cell_type": "code",
   "execution_count": 4,
   "metadata": {},
   "outputs": [
    {
     "data": {
      "text/plain": [
       "saleprice       0.0\n",
       "roofstyle       0.0\n",
       "exterior1st     0.0\n",
       "exterior2nd     0.0\n",
       "masvnrtype      0.0\n",
       "masvnrarea      0.0\n",
       "exterqual       0.0\n",
       "extercond       0.0\n",
       "foundation      0.0\n",
       "bsmtqual        0.0\n",
       "bsmtcond        0.0\n",
       "bsmtexposure    0.0\n",
       "dtype: float64"
      ]
     },
     "execution_count": 4,
     "metadata": {},
     "output_type": "execute_result"
    },
    {
     "data": {
      "application/javascript": [
       "\n",
       "            setTimeout(function() {\n",
       "                var nbb_cell_id = 4;\n",
       "                var nbb_unformatted_code = \"cols_with_nulls = (\\n    (prices_df2.isnull().sum() / prices_df2.isnull().count())\\n    .sort_values(ascending=False)\\n    .head(13)\\n    .index\\n)\\n\\nprices_df2.dropna(inplace=True)\\n(prices_df2.isnull().sum() / prices_df2.isnull().count()).sort_values(\\n    ascending=False\\n).head(12)\";\n",
       "                var nbb_formatted_code = \"cols_with_nulls = (\\n    (prices_df2.isnull().sum() / prices_df2.isnull().count())\\n    .sort_values(ascending=False)\\n    .head(13)\\n    .index\\n)\\n\\nprices_df2.dropna(inplace=True)\\n(prices_df2.isnull().sum() / prices_df2.isnull().count()).sort_values(\\n    ascending=False\\n).head(12)\";\n",
       "                var nbb_cells = Jupyter.notebook.get_cells();\n",
       "                for (var i = 0; i < nbb_cells.length; ++i) {\n",
       "                    if (nbb_cells[i].input_prompt_number == nbb_cell_id) {\n",
       "                        if (nbb_cells[i].get_text() == nbb_unformatted_code) {\n",
       "                             nbb_cells[i].set_text(nbb_formatted_code);\n",
       "                        }\n",
       "                        break;\n",
       "                    }\n",
       "                }\n",
       "            }, 500);\n",
       "            "
      ],
      "text/plain": [
       "<IPython.core.display.Javascript object>"
      ]
     },
     "metadata": {},
     "output_type": "display_data"
    }
   ],
   "source": [
    "cols_with_nulls = (\n",
    "    (prices_df2.isnull().sum() / prices_df2.isnull().count())\n",
    "    .sort_values(ascending=False)\n",
    "    .head(13)\n",
    "    .index\n",
    ")\n",
    "\n",
    "prices_df2.dropna(inplace=True)\n",
    "(prices_df2.isnull().sum() / prices_df2.isnull().count()).sort_values(\n",
    "    ascending=False\n",
    ").head(12)"
   ]
  },
  {
   "cell_type": "code",
   "execution_count": 5,
   "metadata": {},
   "outputs": [
    {
     "data": {
      "application/javascript": [
       "\n",
       "            setTimeout(function() {\n",
       "                var nbb_cell_id = 5;\n",
       "                var nbb_unformatted_code = \"y = prices_df2[\\\"saleprice\\\"]\\nX = prices_df2.select_dtypes(include=\\\"number\\\")\\nX = X.drop(\\\"saleprice\\\", axis=1)\";\n",
       "                var nbb_formatted_code = \"y = prices_df2[\\\"saleprice\\\"]\\nX = prices_df2.select_dtypes(include=\\\"number\\\")\\nX = X.drop(\\\"saleprice\\\", axis=1)\";\n",
       "                var nbb_cells = Jupyter.notebook.get_cells();\n",
       "                for (var i = 0; i < nbb_cells.length; ++i) {\n",
       "                    if (nbb_cells[i].input_prompt_number == nbb_cell_id) {\n",
       "                        if (nbb_cells[i].get_text() == nbb_unformatted_code) {\n",
       "                             nbb_cells[i].set_text(nbb_formatted_code);\n",
       "                        }\n",
       "                        break;\n",
       "                    }\n",
       "                }\n",
       "            }, 500);\n",
       "            "
      ],
      "text/plain": [
       "<IPython.core.display.Javascript object>"
      ]
     },
     "metadata": {},
     "output_type": "display_data"
    }
   ],
   "source": [
    "y = prices_df2[\"saleprice\"]\n",
    "X = prices_df2.select_dtypes(include=\"number\")\n",
    "X = X.drop(\"saleprice\", axis=1)"
   ]
  },
  {
   "cell_type": "code",
   "execution_count": 6,
   "metadata": {},
   "outputs": [
    {
     "data": {
      "application/javascript": [
       "\n",
       "            setTimeout(function() {\n",
       "                var nbb_cell_id = 6;\n",
       "                var nbb_unformatted_code = \"# Split your data into train and test sets.\\n\\nfrom sklearn.model_selection import train_test_split\\n\\nX_train, X_test, y_train, y_test = train_test_split(X, y, test_size=0.2)\";\n",
       "                var nbb_formatted_code = \"# Split your data into train and test sets.\\n\\nfrom sklearn.model_selection import train_test_split\\n\\nX_train, X_test, y_train, y_test = train_test_split(X, y, test_size=0.2)\";\n",
       "                var nbb_cells = Jupyter.notebook.get_cells();\n",
       "                for (var i = 0; i < nbb_cells.length; ++i) {\n",
       "                    if (nbb_cells[i].input_prompt_number == nbb_cell_id) {\n",
       "                        if (nbb_cells[i].get_text() == nbb_unformatted_code) {\n",
       "                             nbb_cells[i].set_text(nbb_formatted_code);\n",
       "                        }\n",
       "                        break;\n",
       "                    }\n",
       "                }\n",
       "            }, 500);\n",
       "            "
      ],
      "text/plain": [
       "<IPython.core.display.Javascript object>"
      ]
     },
     "metadata": {},
     "output_type": "display_data"
    }
   ],
   "source": [
    "# Split your data into train and test sets.\n",
    "\n",
    "from sklearn.model_selection import train_test_split\n",
    "\n",
    "X_train, X_test, y_train, y_test = train_test_split(X, y, test_size=0.2)"
   ]
  },
  {
   "cell_type": "markdown",
   "metadata": {},
   "source": [
    "#### Estimate your model from the previous checkpoint in the train set. Assess the goodness of fit of your model."
   ]
  },
  {
   "cell_type": "code",
   "execution_count": 7,
   "metadata": {},
   "outputs": [
    {
     "data": {
      "text/html": [
       "<table class=\"simpletable\">\n",
       "<caption>OLS Regression Results</caption>\n",
       "<tr>\n",
       "  <th>Dep. Variable:</th>        <td>saleprice</td>    <th>  R-squared:         </th> <td>   0.791</td> \n",
       "</tr>\n",
       "<tr>\n",
       "  <th>Model:</th>                   <td>OLS</td>       <th>  Adj. R-squared:    </th> <td>   0.784</td> \n",
       "</tr>\n",
       "<tr>\n",
       "  <th>Method:</th>             <td>Least Squares</td>  <th>  F-statistic:       </th> <td>   118.8</td> \n",
       "</tr>\n",
       "<tr>\n",
       "  <th>Date:</th>             <td>Wed, 21 Oct 2020</td> <th>  Prob (F-statistic):</th>  <td>  0.00</td>  \n",
       "</tr>\n",
       "<tr>\n",
       "  <th>Time:</th>                 <td>15:39:07</td>     <th>  Log-Likelihood:    </th> <td> -12725.</td> \n",
       "</tr>\n",
       "<tr>\n",
       "  <th>No. Observations:</th>      <td>  1070</td>      <th>  AIC:               </th> <td>2.552e+04</td>\n",
       "</tr>\n",
       "<tr>\n",
       "  <th>Df Residuals:</th>          <td>  1036</td>      <th>  BIC:               </th> <td>2.569e+04</td>\n",
       "</tr>\n",
       "<tr>\n",
       "  <th>Df Model:</th>              <td>    33</td>      <th>                     </th>     <td> </td>    \n",
       "</tr>\n",
       "<tr>\n",
       "  <th>Covariance Type:</th>      <td>nonrobust</td>    <th>                     </th>     <td> </td>    \n",
       "</tr>\n",
       "</table>\n",
       "<table class=\"simpletable\">\n",
       "<tr>\n",
       "        <td></td>           <th>coef</th>     <th>std err</th>      <th>t</th>      <th>P>|t|</th>  <th>[0.025</th>    <th>0.975]</th>  \n",
       "</tr>\n",
       "<tr>\n",
       "  <th>const</th>         <td>  1.31e+05</td> <td>  1.7e+06</td> <td>    0.077</td> <td> 0.939</td> <td>-3.21e+06</td> <td> 3.47e+06</td>\n",
       "</tr>\n",
       "<tr>\n",
       "  <th>mssubclass</th>    <td> -174.3426</td> <td>   33.054</td> <td>   -5.275</td> <td> 0.000</td> <td> -239.203</td> <td> -109.482</td>\n",
       "</tr>\n",
       "<tr>\n",
       "  <th>lotarea</th>       <td>    0.2056</td> <td>    0.136</td> <td>    1.511</td> <td> 0.131</td> <td>   -0.061</td> <td>    0.473</td>\n",
       "</tr>\n",
       "<tr>\n",
       "  <th>overallqual</th>   <td> 1.864e+04</td> <td> 1506.480</td> <td>   12.372</td> <td> 0.000</td> <td> 1.57e+04</td> <td> 2.16e+04</td>\n",
       "</tr>\n",
       "<tr>\n",
       "  <th>overallcond</th>   <td> 5012.3433</td> <td> 1318.355</td> <td>    3.802</td> <td> 0.000</td> <td> 2425.392</td> <td> 7599.294</td>\n",
       "</tr>\n",
       "<tr>\n",
       "  <th>yearbuilt</th>     <td>  373.6313</td> <td>   89.291</td> <td>    4.184</td> <td> 0.000</td> <td>  198.419</td> <td>  548.843</td>\n",
       "</tr>\n",
       "<tr>\n",
       "  <th>yearremodadd</th>  <td>  158.7443</td> <td>   87.199</td> <td>    1.820</td> <td> 0.069</td> <td>  -12.363</td> <td>  329.851</td>\n",
       "</tr>\n",
       "<tr>\n",
       "  <th>masvnrarea</th>    <td>   22.8359</td> <td>    7.123</td> <td>    3.206</td> <td> 0.001</td> <td>    8.859</td> <td>   36.813</td>\n",
       "</tr>\n",
       "<tr>\n",
       "  <th>bsmtfinsf1</th>    <td>    9.3689</td> <td>    3.083</td> <td>    3.039</td> <td> 0.002</td> <td>    3.320</td> <td>   15.418</td>\n",
       "</tr>\n",
       "<tr>\n",
       "  <th>bsmtfinsf2</th>    <td>    1.8990</td> <td>    5.462</td> <td>    0.348</td> <td> 0.728</td> <td>   -8.818</td> <td>   12.616</td>\n",
       "</tr>\n",
       "<tr>\n",
       "  <th>bsmtunfsf</th>     <td>    0.6188</td> <td>    3.164</td> <td>    0.196</td> <td> 0.845</td> <td>   -5.590</td> <td>    6.827</td>\n",
       "</tr>\n",
       "<tr>\n",
       "  <th>totalbsmtsf</th>   <td>   11.8868</td> <td>    5.525</td> <td>    2.152</td> <td> 0.032</td> <td>    1.046</td> <td>   22.728</td>\n",
       "</tr>\n",
       "<tr>\n",
       "  <th>firstflrsf</th>    <td>   10.3093</td> <td>   10.183</td> <td>    1.012</td> <td> 0.312</td> <td>   -9.672</td> <td>   30.291</td>\n",
       "</tr>\n",
       "<tr>\n",
       "  <th>secondflrsf</th>   <td>   20.1491</td> <td>    9.145</td> <td>    2.203</td> <td> 0.028</td> <td>    2.203</td> <td>   38.095</td>\n",
       "</tr>\n",
       "<tr>\n",
       "  <th>lowqualfinsf</th>  <td>   -4.5640</td> <td>   25.650</td> <td>   -0.178</td> <td> 0.859</td> <td>  -54.895</td> <td>   45.767</td>\n",
       "</tr>\n",
       "<tr>\n",
       "  <th>grlivarea</th>     <td>   25.8944</td> <td>    9.356</td> <td>    2.768</td> <td> 0.006</td> <td>    7.535</td> <td>   44.254</td>\n",
       "</tr>\n",
       "<tr>\n",
       "  <th>bsmtfullbath</th>  <td> 9283.3486</td> <td> 3169.389</td> <td>    2.929</td> <td> 0.003</td> <td> 3064.194</td> <td> 1.55e+04</td>\n",
       "</tr>\n",
       "<tr>\n",
       "  <th>bsmthalfbath</th>  <td> 3878.2134</td> <td> 4795.535</td> <td>    0.809</td> <td> 0.419</td> <td>-5531.856</td> <td> 1.33e+04</td>\n",
       "</tr>\n",
       "<tr>\n",
       "  <th>fullbath</th>      <td>  733.6435</td> <td> 3524.756</td> <td>    0.208</td> <td> 0.835</td> <td>-6182.833</td> <td> 7650.120</td>\n",
       "</tr>\n",
       "<tr>\n",
       "  <th>halfbath</th>      <td>-4764.4611</td> <td> 3300.378</td> <td>   -1.444</td> <td> 0.149</td> <td>-1.12e+04</td> <td> 1711.728</td>\n",
       "</tr>\n",
       "<tr>\n",
       "  <th>bedroomabvgr</th>  <td>-9446.0737</td> <td> 2182.064</td> <td>   -4.329</td> <td> 0.000</td> <td>-1.37e+04</td> <td>-5164.304</td>\n",
       "</tr>\n",
       "<tr>\n",
       "  <th>kitchenabvgr</th>  <td>-2.494e+04</td> <td> 7354.766</td> <td>   -3.391</td> <td> 0.001</td> <td>-3.94e+04</td> <td>-1.05e+04</td>\n",
       "</tr>\n",
       "<tr>\n",
       "  <th>totrmsabvgrd</th>  <td> 6259.5362</td> <td> 1504.787</td> <td>    4.160</td> <td> 0.000</td> <td> 3306.759</td> <td> 9212.313</td>\n",
       "</tr>\n",
       "<tr>\n",
       "  <th>fireplaces</th>    <td> 5073.5615</td> <td> 2135.830</td> <td>    2.375</td> <td> 0.018</td> <td>  882.515</td> <td> 9264.608</td>\n",
       "</tr>\n",
       "<tr>\n",
       "  <th>garageyrblt</th>   <td>  -98.7880</td> <td>   94.611</td> <td>   -1.044</td> <td> 0.297</td> <td> -284.439</td> <td>   86.863</td>\n",
       "</tr>\n",
       "<tr>\n",
       "  <th>garagecars</th>    <td> 1.524e+04</td> <td> 3555.286</td> <td>    4.287</td> <td> 0.000</td> <td> 8266.770</td> <td> 2.22e+04</td>\n",
       "</tr>\n",
       "<tr>\n",
       "  <th>garagearea</th>    <td>   11.8310</td> <td>   12.242</td> <td>    0.966</td> <td> 0.334</td> <td>  -12.192</td> <td>   35.854</td>\n",
       "</tr>\n",
       "<tr>\n",
       "  <th>wooddecksf</th>    <td>   25.6660</td> <td>    9.757</td> <td>    2.630</td> <td> 0.009</td> <td>    6.520</td> <td>   44.812</td>\n",
       "</tr>\n",
       "<tr>\n",
       "  <th>openporchsf</th>   <td>   -7.0360</td> <td>   18.921</td> <td>   -0.372</td> <td> 0.710</td> <td>  -44.164</td> <td>   30.092</td>\n",
       "</tr>\n",
       "<tr>\n",
       "  <th>enclosedporch</th> <td>   12.5311</td> <td>   21.289</td> <td>    0.589</td> <td> 0.556</td> <td>  -29.243</td> <td>   54.305</td>\n",
       "</tr>\n",
       "<tr>\n",
       "  <th>threessnporch</th> <td>   25.1886</td> <td>   35.405</td> <td>    0.711</td> <td> 0.477</td> <td>  -44.285</td> <td>   94.663</td>\n",
       "</tr>\n",
       "<tr>\n",
       "  <th>screenporch</th>   <td>   33.1093</td> <td>   20.617</td> <td>    1.606</td> <td> 0.109</td> <td>   -7.347</td> <td>   73.566</td>\n",
       "</tr>\n",
       "<tr>\n",
       "  <th>poolarea</th>      <td>  -14.9284</td> <td>   26.024</td> <td>   -0.574</td> <td> 0.566</td> <td>  -65.994</td> <td>   36.137</td>\n",
       "</tr>\n",
       "<tr>\n",
       "  <th>miscval</th>       <td>   -0.0919</td> <td>    2.202</td> <td>   -0.042</td> <td> 0.967</td> <td>   -4.413</td> <td>    4.230</td>\n",
       "</tr>\n",
       "<tr>\n",
       "  <th>mosold</th>        <td> -264.6889</td> <td>  423.209</td> <td>   -0.625</td> <td> 0.532</td> <td>-1095.134</td> <td>  565.757</td>\n",
       "</tr>\n",
       "<tr>\n",
       "  <th>yrsold</th>        <td> -522.3808</td> <td>  843.490</td> <td>   -0.619</td> <td> 0.536</td> <td>-2177.525</td> <td> 1132.764</td>\n",
       "</tr>\n",
       "</table>\n",
       "<table class=\"simpletable\">\n",
       "<tr>\n",
       "  <th>Omnibus:</th>       <td>501.727</td> <th>  Durbin-Watson:     </th> <td>   2.067</td> \n",
       "</tr>\n",
       "<tr>\n",
       "  <th>Prob(Omnibus):</th> <td> 0.000</td>  <th>  Jarque-Bera (JB):  </th> <td>83232.726</td>\n",
       "</tr>\n",
       "<tr>\n",
       "  <th>Skew:</th>          <td>-1.048</td>  <th>  Prob(JB):          </th> <td>    0.00</td> \n",
       "</tr>\n",
       "<tr>\n",
       "  <th>Kurtosis:</th>      <td>46.157</td>  <th>  Cond. No.          </th> <td>1.25e+16</td> \n",
       "</tr>\n",
       "</table><br/><br/>Notes:<br/>[1] Standard Errors assume that the covariance matrix of the errors is correctly specified.<br/>[2] The smallest eigenvalue is 1.4e-21. This might indicate that there are<br/>strong multicollinearity problems or that the design matrix is singular."
      ],
      "text/plain": [
       "<class 'statsmodels.iolib.summary.Summary'>\n",
       "\"\"\"\n",
       "                            OLS Regression Results                            \n",
       "==============================================================================\n",
       "Dep. Variable:              saleprice   R-squared:                       0.791\n",
       "Model:                            OLS   Adj. R-squared:                  0.784\n",
       "Method:                 Least Squares   F-statistic:                     118.8\n",
       "Date:                Wed, 21 Oct 2020   Prob (F-statistic):               0.00\n",
       "Time:                        15:39:07   Log-Likelihood:                -12725.\n",
       "No. Observations:                1070   AIC:                         2.552e+04\n",
       "Df Residuals:                    1036   BIC:                         2.569e+04\n",
       "Df Model:                          33                                         \n",
       "Covariance Type:            nonrobust                                         \n",
       "=================================================================================\n",
       "                    coef    std err          t      P>|t|      [0.025      0.975]\n",
       "---------------------------------------------------------------------------------\n",
       "const           1.31e+05    1.7e+06      0.077      0.939   -3.21e+06    3.47e+06\n",
       "mssubclass     -174.3426     33.054     -5.275      0.000    -239.203    -109.482\n",
       "lotarea           0.2056      0.136      1.511      0.131      -0.061       0.473\n",
       "overallqual    1.864e+04   1506.480     12.372      0.000    1.57e+04    2.16e+04\n",
       "overallcond    5012.3433   1318.355      3.802      0.000    2425.392    7599.294\n",
       "yearbuilt       373.6313     89.291      4.184      0.000     198.419     548.843\n",
       "yearremodadd    158.7443     87.199      1.820      0.069     -12.363     329.851\n",
       "masvnrarea       22.8359      7.123      3.206      0.001       8.859      36.813\n",
       "bsmtfinsf1        9.3689      3.083      3.039      0.002       3.320      15.418\n",
       "bsmtfinsf2        1.8990      5.462      0.348      0.728      -8.818      12.616\n",
       "bsmtunfsf         0.6188      3.164      0.196      0.845      -5.590       6.827\n",
       "totalbsmtsf      11.8868      5.525      2.152      0.032       1.046      22.728\n",
       "firstflrsf       10.3093     10.183      1.012      0.312      -9.672      30.291\n",
       "secondflrsf      20.1491      9.145      2.203      0.028       2.203      38.095\n",
       "lowqualfinsf     -4.5640     25.650     -0.178      0.859     -54.895      45.767\n",
       "grlivarea        25.8944      9.356      2.768      0.006       7.535      44.254\n",
       "bsmtfullbath   9283.3486   3169.389      2.929      0.003    3064.194    1.55e+04\n",
       "bsmthalfbath   3878.2134   4795.535      0.809      0.419   -5531.856    1.33e+04\n",
       "fullbath        733.6435   3524.756      0.208      0.835   -6182.833    7650.120\n",
       "halfbath      -4764.4611   3300.378     -1.444      0.149   -1.12e+04    1711.728\n",
       "bedroomabvgr  -9446.0737   2182.064     -4.329      0.000   -1.37e+04   -5164.304\n",
       "kitchenabvgr  -2.494e+04   7354.766     -3.391      0.001   -3.94e+04   -1.05e+04\n",
       "totrmsabvgrd   6259.5362   1504.787      4.160      0.000    3306.759    9212.313\n",
       "fireplaces     5073.5615   2135.830      2.375      0.018     882.515    9264.608\n",
       "garageyrblt     -98.7880     94.611     -1.044      0.297    -284.439      86.863\n",
       "garagecars     1.524e+04   3555.286      4.287      0.000    8266.770    2.22e+04\n",
       "garagearea       11.8310     12.242      0.966      0.334     -12.192      35.854\n",
       "wooddecksf       25.6660      9.757      2.630      0.009       6.520      44.812\n",
       "openporchsf      -7.0360     18.921     -0.372      0.710     -44.164      30.092\n",
       "enclosedporch    12.5311     21.289      0.589      0.556     -29.243      54.305\n",
       "threessnporch    25.1886     35.405      0.711      0.477     -44.285      94.663\n",
       "screenporch      33.1093     20.617      1.606      0.109      -7.347      73.566\n",
       "poolarea        -14.9284     26.024     -0.574      0.566     -65.994      36.137\n",
       "miscval          -0.0919      2.202     -0.042      0.967      -4.413       4.230\n",
       "mosold         -264.6889    423.209     -0.625      0.532   -1095.134     565.757\n",
       "yrsold         -522.3808    843.490     -0.619      0.536   -2177.525    1132.764\n",
       "==============================================================================\n",
       "Omnibus:                      501.727   Durbin-Watson:                   2.067\n",
       "Prob(Omnibus):                  0.000   Jarque-Bera (JB):            83232.726\n",
       "Skew:                          -1.048   Prob(JB):                         0.00\n",
       "Kurtosis:                      46.157   Cond. No.                     1.25e+16\n",
       "==============================================================================\n",
       "\n",
       "Notes:\n",
       "[1] Standard Errors assume that the covariance matrix of the errors is correctly specified.\n",
       "[2] The smallest eigenvalue is 1.4e-21. This might indicate that there are\n",
       "strong multicollinearity problems or that the design matrix is singular.\n",
       "\"\"\""
      ]
     },
     "execution_count": 7,
     "metadata": {},
     "output_type": "execute_result"
    },
    {
     "data": {
      "application/javascript": [
       "\n",
       "            setTimeout(function() {\n",
       "                var nbb_cell_id = 7;\n",
       "                var nbb_unformatted_code = \"\\nimport statsmodels.api as sm\\n\\nX_train_constant = sm.add_constant(X_train)\\n\\nresults = sm.OLS(y_train, X_train_constant).fit()\\nresults.summary()\";\n",
       "                var nbb_formatted_code = \"import statsmodels.api as sm\\n\\nX_train_constant = sm.add_constant(X_train)\\n\\nresults = sm.OLS(y_train, X_train_constant).fit()\\nresults.summary()\";\n",
       "                var nbb_cells = Jupyter.notebook.get_cells();\n",
       "                for (var i = 0; i < nbb_cells.length; ++i) {\n",
       "                    if (nbb_cells[i].input_prompt_number == nbb_cell_id) {\n",
       "                        if (nbb_cells[i].get_text() == nbb_unformatted_code) {\n",
       "                             nbb_cells[i].set_text(nbb_formatted_code);\n",
       "                        }\n",
       "                        break;\n",
       "                    }\n",
       "                }\n",
       "            }, 500);\n",
       "            "
      ],
      "text/plain": [
       "<IPython.core.display.Javascript object>"
      ]
     },
     "metadata": {},
     "output_type": "display_data"
    }
   ],
   "source": [
    "import statsmodels.api as sm\n",
    "\n",
    "X_train_constant = sm.add_constant(X_train)\n",
    "\n",
    "results = sm.OLS(y_train, X_train_constant).fit()\n",
    "results.summary()"
   ]
  },
  {
   "cell_type": "markdown",
   "metadata": {},
   "source": [
    "#### Predict the house prices in the test set, and evaluate the performance of your model using the metrics we mentioned in this checkpoint."
   ]
  },
  {
   "cell_type": "code",
   "execution_count": 8,
   "metadata": {},
   "outputs": [
    {
     "data": {
      "application/javascript": [
       "\n",
       "            setTimeout(function() {\n",
       "                var nbb_cell_id = 8;\n",
       "                var nbb_unformatted_code = \"X_test_constant = sm.add_constant(X_test)\\ny_test_pred = results.predict(X_test_constant)\";\n",
       "                var nbb_formatted_code = \"X_test_constant = sm.add_constant(X_test)\\ny_test_pred = results.predict(X_test_constant)\";\n",
       "                var nbb_cells = Jupyter.notebook.get_cells();\n",
       "                for (var i = 0; i < nbb_cells.length; ++i) {\n",
       "                    if (nbb_cells[i].input_prompt_number == nbb_cell_id) {\n",
       "                        if (nbb_cells[i].get_text() == nbb_unformatted_code) {\n",
       "                             nbb_cells[i].set_text(nbb_formatted_code);\n",
       "                        }\n",
       "                        break;\n",
       "                    }\n",
       "                }\n",
       "            }, 500);\n",
       "            "
      ],
      "text/plain": [
       "<IPython.core.display.Javascript object>"
      ]
     },
     "metadata": {},
     "output_type": "display_data"
    }
   ],
   "source": [
    "X_test_constant = sm.add_constant(X_test)\n",
    "y_test_pred = results.predict(X_test_constant)"
   ]
  },
  {
   "cell_type": "code",
   "execution_count": 9,
   "metadata": {},
   "outputs": [
    {
     "data": {
      "text/plain": [
       "Text(0, 0.5, 'Predicted prices')"
      ]
     },
     "execution_count": 9,
     "metadata": {},
     "output_type": "execute_result"
    },
    {
     "data": {
      "image/png": "[encoded data removed]",
      "text/plain": [
       "<Figure size 432x288 with 1 Axes>"
      ]
     },
     "metadata": {
      "needs_background": "light"
     },
     "output_type": "display_data"
    },
    {
     "data": {
      "application/javascript": [
       "\n",
       "            setTimeout(function() {\n",
       "                var nbb_cell_id = 9;\n",
       "                var nbb_unformatted_code = \"plt.scatter(y_test, y_test_pred)\\nplt.plot(y_test, y_test, color=\\\"r\\\")\\nplt.xlabel(\\\"True prices\\\")\\nplt.ylabel(\\\"Predicted prices\\\")\";\n",
       "                var nbb_formatted_code = \"plt.scatter(y_test, y_test_pred)\\nplt.plot(y_test, y_test, color=\\\"r\\\")\\nplt.xlabel(\\\"True prices\\\")\\nplt.ylabel(\\\"Predicted prices\\\")\";\n",
       "                var nbb_cells = Jupyter.notebook.get_cells();\n",
       "                for (var i = 0; i < nbb_cells.length; ++i) {\n",
       "                    if (nbb_cells[i].input_prompt_number == nbb_cell_id) {\n",
       "                        if (nbb_cells[i].get_text() == nbb_unformatted_code) {\n",
       "                             nbb_cells[i].set_text(nbb_formatted_code);\n",
       "                        }\n",
       "                        break;\n",
       "                    }\n",
       "                }\n",
       "            }, 500);\n",
       "            "
      ],
      "text/plain": [
       "<IPython.core.display.Javascript object>"
      ]
     },
     "metadata": {},
     "output_type": "display_data"
    }
   ],
   "source": [
    "plt.scatter(y_test, y_test_pred)\n",
    "plt.plot(y_test, y_test, color=\"r\")\n",
    "plt.xlabel(\"True prices\")\n",
    "plt.ylabel(\"Predicted prices\")"
   ]
  },
  {
   "cell_type": "code",
   "execution_count": 10,
   "metadata": {},
   "outputs": [
    {
     "name": "stdout",
     "output_type": "stream",
     "text": [
      "Mean absolute error: 20422.940180930123\n",
      "MSE: 1024526177.564161\n",
      "RMSE: 32008.2204685634\n",
      "MAPE: 10.675509456160356\n"
     ]
    },
    {
     "data": {
      "application/javascript": [
       "\n",
       "            setTimeout(function() {\n",
       "                var nbb_cell_id = 10;\n",
       "                var nbb_unformatted_code = \"from sklearn.metrics import mean_absolute_error, mean_squared_error\\n\\nprint(\\n    f\\\"Mean absolute error: {mean_absolute_error(y_test, y_test_pred)}\\\\n\\\"\\n    f\\\"MSE: {mean_squared_error(y_test, y_test_pred)}\\\\n\\\"\\n    f\\\"RMSE: {mean_squared_error(y_test, y_test_pred, squared=False)}\\\\n\\\"\\n    f\\\"MAPE: {np.mean(np.abs((y_test - y_test_pred) / y_test)) * 100}\\\"\\n)\";\n",
       "                var nbb_formatted_code = \"from sklearn.metrics import mean_absolute_error, mean_squared_error\\n\\nprint(\\n    f\\\"Mean absolute error: {mean_absolute_error(y_test, y_test_pred)}\\\\n\\\"\\n    f\\\"MSE: {mean_squared_error(y_test, y_test_pred)}\\\\n\\\"\\n    f\\\"RMSE: {mean_squared_error(y_test, y_test_pred, squared=False)}\\\\n\\\"\\n    f\\\"MAPE: {np.mean(np.abs((y_test - y_test_pred) / y_test)) * 100}\\\"\\n)\";\n",
       "                var nbb_cells = Jupyter.notebook.get_cells();\n",
       "                for (var i = 0; i < nbb_cells.length; ++i) {\n",
       "                    if (nbb_cells[i].input_prompt_number == nbb_cell_id) {\n",
       "                        if (nbb_cells[i].get_text() == nbb_unformatted_code) {\n",
       "                             nbb_cells[i].set_text(nbb_formatted_code);\n",
       "                        }\n",
       "                        break;\n",
       "                    }\n",
       "                }\n",
       "            }, 500);\n",
       "            "
      ],
      "text/plain": [
       "<IPython.core.display.Javascript object>"
      ]
     },
     "metadata": {},
     "output_type": "display_data"
    }
   ],
   "source": [
    "from sklearn.metrics import mean_absolute_error, mean_squared_error\n",
    "\n",
    "print(\n",
    "    f\"Mean absolute error: {mean_absolute_error(y_test, y_test_pred)}\\n\"\n",
    "    f\"MSE: {mean_squared_error(y_test, y_test_pred)}\\n\"\n",
    "    f\"RMSE: {mean_squared_error(y_test, y_test_pred, squared=False)}\\n\"\n",
    "    f\"MAPE: {np.mean(np.abs((y_test - y_test_pred) / y_test)) * 100}\"\n",
    ")"
   ]
  },
  {
   "cell_type": "code",
   "execution_count": 11,
   "metadata": {},
   "outputs": [
    {
     "data": {
      "text/plain": [
       "['mssubclass',\n",
       " 'overallqual',\n",
       " 'overallcond',\n",
       " 'yearbuilt',\n",
       " 'masvnrarea',\n",
       " 'bsmtfinsf1',\n",
       " 'totalbsmtsf',\n",
       " 'secondflrsf',\n",
       " 'grlivarea',\n",
       " 'bsmtfullbath',\n",
       " 'bedroomabvgr',\n",
       " 'kitchenabvgr',\n",
       " 'totrmsabvgrd',\n",
       " 'fireplaces',\n",
       " 'garagecars',\n",
       " 'wooddecksf']"
      ]
     },
     "execution_count": 11,
     "metadata": {},
     "output_type": "execute_result"
    },
    {
     "data": {
      "application/javascript": [
       "\n",
       "            setTimeout(function() {\n",
       "                var nbb_cell_id = 11;\n",
       "                var nbb_unformatted_code = \"significant_cols = list(results.pvalues.loc[results.pvalues < 0.05].index)\\nsignificant_cols\";\n",
       "                var nbb_formatted_code = \"significant_cols = list(results.pvalues.loc[results.pvalues < 0.05].index)\\nsignificant_cols\";\n",
       "                var nbb_cells = Jupyter.notebook.get_cells();\n",
       "                for (var i = 0; i < nbb_cells.length; ++i) {\n",
       "                    if (nbb_cells[i].input_prompt_number == nbb_cell_id) {\n",
       "                        if (nbb_cells[i].get_text() == nbb_unformatted_code) {\n",
       "                             nbb_cells[i].set_text(nbb_formatted_code);\n",
       "                        }\n",
       "                        break;\n",
       "                    }\n",
       "                }\n",
       "            }, 500);\n",
       "            "
      ],
      "text/plain": [
       "<IPython.core.display.Javascript object>"
      ]
     },
     "metadata": {},
     "output_type": "display_data"
    }
   ],
   "source": [
    "significant_cols = list(results.pvalues.loc[results.pvalues < 0.05].index)\n",
    "significant_cols"
   ]
  },
  {
   "cell_type": "code",
   "execution_count": 12,
   "metadata": {},
   "outputs": [
    {
     "data": {
      "text/html": [
       "<table class=\"simpletable\">\n",
       "<caption>OLS Regression Results</caption>\n",
       "<tr>\n",
       "  <th>Dep. Variable:</th>        <td>saleprice</td>    <th>  R-squared:         </th> <td>   0.789</td> \n",
       "</tr>\n",
       "<tr>\n",
       "  <th>Model:</th>                   <td>OLS</td>       <th>  Adj. R-squared:    </th> <td>   0.786</td> \n",
       "</tr>\n",
       "<tr>\n",
       "  <th>Method:</th>             <td>Least Squares</td>  <th>  F-statistic:       </th> <td>   246.7</td> \n",
       "</tr>\n",
       "<tr>\n",
       "  <th>Date:</th>             <td>Wed, 21 Oct 2020</td> <th>  Prob (F-statistic):</th>  <td>  0.00</td>  \n",
       "</tr>\n",
       "<tr>\n",
       "  <th>Time:</th>                 <td>15:39:07</td>     <th>  Log-Likelihood:    </th> <td> -12741.</td> \n",
       "</tr>\n",
       "<tr>\n",
       "  <th>No. Observations:</th>      <td>  1070</td>      <th>  AIC:               </th> <td>2.552e+04</td>\n",
       "</tr>\n",
       "<tr>\n",
       "  <th>Df Residuals:</th>          <td>  1053</td>      <th>  BIC:               </th> <td>2.560e+04</td>\n",
       "</tr>\n",
       "<tr>\n",
       "  <th>Df Model:</th>              <td>    16</td>      <th>                     </th>     <td> </td>    \n",
       "</tr>\n",
       "<tr>\n",
       "  <th>Covariance Type:</th>      <td>nonrobust</td>    <th>                     </th>     <td> </td>    \n",
       "</tr>\n",
       "</table>\n",
       "<table class=\"simpletable\">\n",
       "<tr>\n",
       "        <td></td>          <th>coef</th>     <th>std err</th>      <th>t</th>      <th>P>|t|</th>  <th>[0.025</th>    <th>0.975]</th>  \n",
       "</tr>\n",
       "<tr>\n",
       "  <th>const</th>        <td> -7.12e+05</td> <td> 1.13e+05</td> <td>   -6.278</td> <td> 0.000</td> <td>-9.35e+05</td> <td>-4.89e+05</td>\n",
       "</tr>\n",
       "<tr>\n",
       "  <th>mssubclass</th>   <td> -169.5260</td> <td>   32.873</td> <td>   -5.157</td> <td> 0.000</td> <td> -234.030</td> <td> -105.022</td>\n",
       "</tr>\n",
       "<tr>\n",
       "  <th>overallqual</th>  <td> 1.917e+04</td> <td> 1433.135</td> <td>   13.379</td> <td> 0.000</td> <td> 1.64e+04</td> <td>  2.2e+04</td>\n",
       "</tr>\n",
       "<tr>\n",
       "  <th>overallcond</th>  <td> 6059.8017</td> <td> 1183.824</td> <td>    5.119</td> <td> 0.000</td> <td> 3736.880</td> <td> 8382.724</td>\n",
       "</tr>\n",
       "<tr>\n",
       "  <th>yearbuilt</th>    <td>  325.5488</td> <td>   57.333</td> <td>    5.678</td> <td> 0.000</td> <td>  213.049</td> <td>  438.049</td>\n",
       "</tr>\n",
       "<tr>\n",
       "  <th>masvnrarea</th>   <td>   25.7289</td> <td>    7.009</td> <td>    3.671</td> <td> 0.000</td> <td>   11.975</td> <td>   39.483</td>\n",
       "</tr>\n",
       "<tr>\n",
       "  <th>bsmtfinsf1</th>   <td>    8.2291</td> <td>    3.577</td> <td>    2.300</td> <td> 0.022</td> <td>    1.210</td> <td>   15.248</td>\n",
       "</tr>\n",
       "<tr>\n",
       "  <th>totalbsmtsf</th>  <td>    9.4704</td> <td>    6.735</td> <td>    1.406</td> <td> 0.160</td> <td>   -3.745</td> <td>   22.685</td>\n",
       "</tr>\n",
       "<tr>\n",
       "  <th>secondflrsf</th>  <td>    2.0248</td> <td>    6.935</td> <td>    0.292</td> <td> 0.770</td> <td>  -11.584</td> <td>   15.634</td>\n",
       "</tr>\n",
       "<tr>\n",
       "  <th>grlivarea</th>    <td>   45.3486</td> <td>    7.688</td> <td>    5.899</td> <td> 0.000</td> <td>   30.264</td> <td>   60.433</td>\n",
       "</tr>\n",
       "<tr>\n",
       "  <th>bsmtfullbath</th> <td> 1.025e+04</td> <td> 2826.664</td> <td>    3.628</td> <td> 0.000</td> <td> 4708.303</td> <td> 1.58e+04</td>\n",
       "</tr>\n",
       "<tr>\n",
       "  <th>bedroomabvgr</th> <td>-8326.3800</td> <td> 2032.604</td> <td>   -4.096</td> <td> 0.000</td> <td>-1.23e+04</td> <td>-4337.965</td>\n",
       "</tr>\n",
       "<tr>\n",
       "  <th>kitchenabvgr</th> <td>-2.455e+04</td> <td> 7469.223</td> <td>   -3.287</td> <td> 0.001</td> <td>-3.92e+04</td> <td>-9895.300</td>\n",
       "</tr>\n",
       "<tr>\n",
       "  <th>totrmsabvgrd</th> <td> 4874.3441</td> <td> 1517.585</td> <td>    3.212</td> <td> 0.001</td> <td> 1896.509</td> <td> 7852.179</td>\n",
       "</tr>\n",
       "<tr>\n",
       "  <th>fireplaces</th>   <td> 6235.3351</td> <td> 2014.627</td> <td>    3.095</td> <td> 0.002</td> <td> 2282.195</td> <td> 1.02e+04</td>\n",
       "</tr>\n",
       "<tr>\n",
       "  <th>garagecars</th>   <td> 1.662e+04</td> <td> 2422.330</td> <td>    6.860</td> <td> 0.000</td> <td> 1.19e+04</td> <td> 2.14e+04</td>\n",
       "</tr>\n",
       "<tr>\n",
       "  <th>wooddecksf</th>   <td>   27.7890</td> <td>    9.202</td> <td>    3.020</td> <td> 0.003</td> <td>    9.733</td> <td>   45.844</td>\n",
       "</tr>\n",
       "</table>\n",
       "<table class=\"simpletable\">\n",
       "<tr>\n",
       "  <th>Omnibus:</th>       <td>513.268</td> <th>  Durbin-Watson:     </th> <td>   1.995</td> \n",
       "</tr>\n",
       "<tr>\n",
       "  <th>Prob(Omnibus):</th> <td> 0.000</td>  <th>  Jarque-Bera (JB):  </th> <td>76175.488</td>\n",
       "</tr>\n",
       "<tr>\n",
       "  <th>Skew:</th>          <td>-1.131</td>  <th>  Prob(JB):          </th> <td>    0.00</td> \n",
       "</tr>\n",
       "<tr>\n",
       "  <th>Kurtosis:</th>      <td>44.273</td>  <th>  Cond. No.          </th> <td>2.91e+05</td> \n",
       "</tr>\n",
       "</table><br/><br/>Notes:<br/>[1] Standard Errors assume that the covariance matrix of the errors is correctly specified.<br/>[2] The condition number is large, 2.91e+05. This might indicate that there are<br/>strong multicollinearity or other numerical problems."
      ],
      "text/plain": [
       "<class 'statsmodels.iolib.summary.Summary'>\n",
       "\"\"\"\n",
       "                            OLS Regression Results                            \n",
       "==============================================================================\n",
       "Dep. Variable:              saleprice   R-squared:                       0.789\n",
       "Model:                            OLS   Adj. R-squared:                  0.786\n",
       "Method:                 Least Squares   F-statistic:                     246.7\n",
       "Date:                Wed, 21 Oct 2020   Prob (F-statistic):               0.00\n",
       "Time:                        15:39:07   Log-Likelihood:                -12741.\n",
       "No. Observations:                1070   AIC:                         2.552e+04\n",
       "Df Residuals:                    1053   BIC:                         2.560e+04\n",
       "Df Model:                          16                                         \n",
       "Covariance Type:            nonrobust                                         \n",
       "================================================================================\n",
       "                   coef    std err          t      P>|t|      [0.025      0.975]\n",
       "--------------------------------------------------------------------------------\n",
       "const         -7.12e+05   1.13e+05     -6.278      0.000   -9.35e+05   -4.89e+05\n",
       "mssubclass    -169.5260     32.873     -5.157      0.000    -234.030    -105.022\n",
       "overallqual   1.917e+04   1433.135     13.379      0.000    1.64e+04     2.2e+04\n",
       "overallcond   6059.8017   1183.824      5.119      0.000    3736.880    8382.724\n",
       "yearbuilt      325.5488     57.333      5.678      0.000     213.049     438.049\n",
       "masvnrarea      25.7289      7.009      3.671      0.000      11.975      39.483\n",
       "bsmtfinsf1       8.2291      3.577      2.300      0.022       1.210      15.248\n",
       "totalbsmtsf      9.4704      6.735      1.406      0.160      -3.745      22.685\n",
       "secondflrsf      2.0248      6.935      0.292      0.770     -11.584      15.634\n",
       "grlivarea       45.3486      7.688      5.899      0.000      30.264      60.433\n",
       "bsmtfullbath  1.025e+04   2826.664      3.628      0.000    4708.303    1.58e+04\n",
       "bedroomabvgr -8326.3800   2032.604     -4.096      0.000   -1.23e+04   -4337.965\n",
       "kitchenabvgr -2.455e+04   7469.223     -3.287      0.001   -3.92e+04   -9895.300\n",
       "totrmsabvgrd  4874.3441   1517.585      3.212      0.001    1896.509    7852.179\n",
       "fireplaces    6235.3351   2014.627      3.095      0.002    2282.195    1.02e+04\n",
       "garagecars    1.662e+04   2422.330      6.860      0.000    1.19e+04    2.14e+04\n",
       "wooddecksf      27.7890      9.202      3.020      0.003       9.733      45.844\n",
       "==============================================================================\n",
       "Omnibus:                      513.268   Durbin-Watson:                   1.995\n",
       "Prob(Omnibus):                  0.000   Jarque-Bera (JB):            76175.488\n",
       "Skew:                          -1.131   Prob(JB):                         0.00\n",
       "Kurtosis:                      44.273   Cond. No.                     2.91e+05\n",
       "==============================================================================\n",
       "\n",
       "Notes:\n",
       "[1] Standard Errors assume that the covariance matrix of the errors is correctly specified.\n",
       "[2] The condition number is large, 2.91e+05. This might indicate that there are\n",
       "strong multicollinearity or other numerical problems.\n",
       "\"\"\""
      ]
     },
     "execution_count": 12,
     "metadata": {},
     "output_type": "execute_result"
    },
    {
     "data": {
      "application/javascript": [
       "\n",
       "            setTimeout(function() {\n",
       "                var nbb_cell_id = 12;\n",
       "                var nbb_unformatted_code = \"X = prices_df2[significant_cols]\\n\\nX_train, X_test, y_train, y_test = train_test_split(X, y, test_size=0.2)\\n\\nX_train_constant = sm.add_constant(X_train)\\n\\nresults = sm.OLS(y_train, X_train_constant).fit()\\nresults.summary()\";\n",
       "                var nbb_formatted_code = \"X = prices_df2[significant_cols]\\n\\nX_train, X_test, y_train, y_test = train_test_split(X, y, test_size=0.2)\\n\\nX_train_constant = sm.add_constant(X_train)\\n\\nresults = sm.OLS(y_train, X_train_constant).fit()\\nresults.summary()\";\n",
       "                var nbb_cells = Jupyter.notebook.get_cells();\n",
       "                for (var i = 0; i < nbb_cells.length; ++i) {\n",
       "                    if (nbb_cells[i].input_prompt_number == nbb_cell_id) {\n",
       "                        if (nbb_cells[i].get_text() == nbb_unformatted_code) {\n",
       "                             nbb_cells[i].set_text(nbb_formatted_code);\n",
       "                        }\n",
       "                        break;\n",
       "                    }\n",
       "                }\n",
       "            }, 500);\n",
       "            "
      ],
      "text/plain": [
       "<IPython.core.display.Javascript object>"
      ]
     },
     "metadata": {},
     "output_type": "display_data"
    }
   ],
   "source": [
    "X = prices_df2[significant_cols]\n",
    "\n",
    "X_train, X_test, y_train, y_test = train_test_split(X, y, test_size=0.2)\n",
    "\n",
    "X_train_constant = sm.add_constant(X_train)\n",
    "\n",
    "results = sm.OLS(y_train, X_train_constant).fit()\n",
    "results.summary()"
   ]
  },
  {
   "cell_type": "code",
   "execution_count": 13,
   "metadata": {},
   "outputs": [
    {
     "data": {
      "text/plain": [
       "Text(0, 0.5, 'Predicted prices')"
      ]
     },
     "execution_count": 13,
     "metadata": {},
     "output_type": "execute_result"
    },
    {
     "data": {
      "image/png": "[encoded data removed]",
      "text/plain": [
       "<Figure size 432x288 with 1 Axes>"
      ]
     },
     "metadata": {
      "needs_background": "light"
     },
     "output_type": "display_data"
    },
    {
     "data": {
      "application/javascript": [
       "\n",
       "            setTimeout(function() {\n",
       "                var nbb_cell_id = 13;\n",
       "                var nbb_unformatted_code = \"X_test_constant = sm.add_constant(X_test)\\ny_test_pred = results.predict(X_test_constant)\\nplt.scatter(y_test, y_test_pred)\\nplt.plot(y_test, y_test, color=\\\"r\\\")\\nplt.xlabel(\\\"True prices\\\")\\nplt.ylabel(\\\"Predicted prices\\\")\";\n",
       "                var nbb_formatted_code = \"X_test_constant = sm.add_constant(X_test)\\ny_test_pred = results.predict(X_test_constant)\\nplt.scatter(y_test, y_test_pred)\\nplt.plot(y_test, y_test, color=\\\"r\\\")\\nplt.xlabel(\\\"True prices\\\")\\nplt.ylabel(\\\"Predicted prices\\\")\";\n",
       "                var nbb_cells = Jupyter.notebook.get_cells();\n",
       "                for (var i = 0; i < nbb_cells.length; ++i) {\n",
       "                    if (nbb_cells[i].input_prompt_number == nbb_cell_id) {\n",
       "                        if (nbb_cells[i].get_text() == nbb_unformatted_code) {\n",
       "                             nbb_cells[i].set_text(nbb_formatted_code);\n",
       "                        }\n",
       "                        break;\n",
       "                    }\n",
       "                }\n",
       "            }, 500);\n",
       "            "
      ],
      "text/plain": [
       "<IPython.core.display.Javascript object>"
      ]
     },
     "metadata": {},
     "output_type": "display_data"
    }
   ],
   "source": [
    "X_test_constant = sm.add_constant(X_test)\n",
    "y_test_pred = results.predict(X_test_constant)\n",
    "plt.scatter(y_test, y_test_pred)\n",
    "plt.plot(y_test, y_test, color=\"r\")\n",
    "plt.xlabel(\"True prices\")\n",
    "plt.ylabel(\"Predicted prices\")\n"
   ]
  },
  {
   "cell_type": "code",
   "execution_count": 14,
   "metadata": {},
   "outputs": [
    {
     "name": "stdout",
     "output_type": "stream",
     "text": [
      "Mean absolute error: 20950.74267411103\n",
      "MSE: 1010413383.6740065\n",
      "RMSE: 31787.00023081773\n",
      "MAPE: 11.45228617228427\n"
     ]
    },
    {
     "data": {
      "application/javascript": [
       "\n",
       "            setTimeout(function() {\n",
       "                var nbb_cell_id = 14;\n",
       "                var nbb_unformatted_code = \"print(\\n    f\\\"Mean absolute error: {mean_absolute_error(y_test, y_test_pred)}\\\\n\\\"\\n    f\\\"MSE: {mean_squared_error(y_test, y_test_pred)}\\\\n\\\"\\n    f\\\"RMSE: {mean_squared_error(y_test, y_test_pred, squared=False)}\\\\n\\\"\\n    f\\\"MAPE: {np.mean(np.abs((y_test - y_test_pred) / y_test)) * 100}\\\"\\n)\";\n",
       "                var nbb_formatted_code = \"print(\\n    f\\\"Mean absolute error: {mean_absolute_error(y_test, y_test_pred)}\\\\n\\\"\\n    f\\\"MSE: {mean_squared_error(y_test, y_test_pred)}\\\\n\\\"\\n    f\\\"RMSE: {mean_squared_error(y_test, y_test_pred, squared=False)}\\\\n\\\"\\n    f\\\"MAPE: {np.mean(np.abs((y_test - y_test_pred) / y_test)) * 100}\\\"\\n)\";\n",
       "                var nbb_cells = Jupyter.notebook.get_cells();\n",
       "                for (var i = 0; i < nbb_cells.length; ++i) {\n",
       "                    if (nbb_cells[i].input_prompt_number == nbb_cell_id) {\n",
       "                        if (nbb_cells[i].get_text() == nbb_unformatted_code) {\n",
       "                             nbb_cells[i].set_text(nbb_formatted_code);\n",
       "                        }\n",
       "                        break;\n",
       "                    }\n",
       "                }\n",
       "            }, 500);\n",
       "            "
      ],
      "text/plain": [
       "<IPython.core.display.Javascript object>"
      ]
     },
     "metadata": {},
     "output_type": "display_data"
    }
   ],
   "source": [
    "print(\n",
    "    f\"Mean absolute error: {mean_absolute_error(y_test, y_test_pred)}\\n\"\n",
    "    f\"MSE: {mean_squared_error(y_test, y_test_pred)}\\n\"\n",
    "    f\"RMSE: {mean_squared_error(y_test, y_test_pred, squared=False)}\\n\"\n",
    "    f\"MAPE: {np.mean(np.abs((y_test - y_test_pred) / y_test)) * 100}\"\n",
    ")"
   ]
  },
  {
   "cell_type": "code",
   "execution_count": null,
   "metadata": {},
   "outputs": [],
   "source": []
  }
 ],
 "metadata": {
  "kernelspec": {
   "display_name": "Python 3",
   "language": "python",
   "name": "python3"
  },
  "language_info": {
   "codemirror_mode": {
    "name": "ipython",
    "version": 3
   },
   "file_extension": ".py",
   "mimetype": "text/x-python",
   "name": "python",
   "nbconvert_exporter": "python",
   "pygments_lexer": "ipython3",
   "version": "3.8.5"
  }
 },
 "nbformat": 4,
 "nbformat_minor": 4
}
