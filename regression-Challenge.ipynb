{
 "cells": [
  {
   "cell_type": "code",
   "execution_count": 1,
   "metadata": {},
   "outputs": [
    {
     "data": {
      "application/javascript": [
       "\n",
       "            setTimeout(function() {\n",
       "                var nbb_cell_id = 1;\n",
       "                var nbb_unformatted_code = \"%load_ext nb_black\\nimport pandas as pd\\nimport numpy as np\\nimport matplotlib.pyplot as plt\\nfrom sqlalchemy import create_engine\\nimport seaborn as sns\\n\\n%matplotlib inline\";\n",
       "                var nbb_formatted_code = \"%load_ext nb_black\\nimport pandas as pd\\nimport numpy as np\\nimport matplotlib.pyplot as plt\\nfrom sqlalchemy import create_engine\\nimport seaborn as sns\\n\\n%matplotlib inline\";\n",
       "                var nbb_cells = Jupyter.notebook.get_cells();\n",
       "                for (var i = 0; i < nbb_cells.length; ++i) {\n",
       "                    if (nbb_cells[i].input_prompt_number == nbb_cell_id) {\n",
       "                        if (nbb_cells[i].get_text() == nbb_unformatted_code) {\n",
       "                             nbb_cells[i].set_text(nbb_formatted_code);\n",
       "                        }\n",
       "                        break;\n",
       "                    }\n",
       "                }\n",
       "            }, 500);\n",
       "            "
      ],
      "text/plain": [
       "<IPython.core.display.Javascript object>"
      ]
     },
     "metadata": {},
     "output_type": "display_data"
    }
   ],
   "source": [
    "%load_ext nb_black\n",
    "import pandas as pd\n",
    "import numpy as np\n",
    "import matplotlib.pyplot as plt\n",
    "from sqlalchemy import create_engine\n",
    "import seaborn as sns\n",
    "\n",
    "%matplotlib inline"
   ]
  },
  {
   "cell_type": "code",
   "execution_count": 2,
   "metadata": {},
   "outputs": [
    {
     "data": {
      "application/javascript": [
       "\n",
       "            setTimeout(function() {\n",
       "                var nbb_cell_id = 2;\n",
       "                var nbb_unformatted_code = \"# Load the houseprices data from Thinkful's database.\\npostgres_user = \\\"dsbc_student\\\"\\npostgres_pw = \\\"7*.8G9QH21\\\"\\npostgres_host = \\\"142.93.121.174\\\"\\npostgres_port = \\\"5432\\\"\\npostgres_db = \\\"houseprices\\\"\\ntable_name = \\\"houseprices\\\"\\n\\ndb_url = f\\\"postgresql://{postgres_user}:{postgres_pw}@{postgres_host}:{postgres_port}/{postgres_db}\\\"\\n\\nengine = create_engine(db_url)\\n\\nprices_df = pd.read_sql_query(f\\\"SELECT * FROM {table_name};\\\", con=engine)\\n\\n# close the db connetion\\nengine.dispose()\";\n",
       "                var nbb_formatted_code = \"# Load the houseprices data from Thinkful's database.\\npostgres_user = \\\"dsbc_student\\\"\\npostgres_pw = \\\"7*.8G9QH21\\\"\\npostgres_host = \\\"142.93.121.174\\\"\\npostgres_port = \\\"5432\\\"\\npostgres_db = \\\"houseprices\\\"\\ntable_name = \\\"houseprices\\\"\\n\\ndb_url = f\\\"postgresql://{postgres_user}:{postgres_pw}@{postgres_host}:{postgres_port}/{postgres_db}\\\"\\n\\nengine = create_engine(db_url)\\n\\nprices_df = pd.read_sql_query(f\\\"SELECT * FROM {table_name};\\\", con=engine)\\n\\n# close the db connetion\\nengine.dispose()\";\n",
       "                var nbb_cells = Jupyter.notebook.get_cells();\n",
       "                for (var i = 0; i < nbb_cells.length; ++i) {\n",
       "                    if (nbb_cells[i].input_prompt_number == nbb_cell_id) {\n",
       "                        if (nbb_cells[i].get_text() == nbb_unformatted_code) {\n",
       "                             nbb_cells[i].set_text(nbb_formatted_code);\n",
       "                        }\n",
       "                        break;\n",
       "                    }\n",
       "                }\n",
       "            }, 500);\n",
       "            "
      ],
      "text/plain": [
       "<IPython.core.display.Javascript object>"
      ]
     },
     "metadata": {},
     "output_type": "display_data"
    }
   ],
   "source": [
    "# Load the houseprices data from Thinkful's database.\n",
    "postgres_user = \"dsbc_student\"\n",
    "postgres_pw = \"7*.8G9QH21\"\n",
    "postgres_host = \"142.93.121.174\"\n",
    "postgres_port = \"5432\"\n",
    "postgres_db = \"houseprices\"\n",
    "table_name = \"houseprices\"\n",
    "\n",
    "db_url = f\"postgresql://{postgres_user}:{postgres_pw}@{postgres_host}:{postgres_port}/{postgres_db}\"\n",
    "\n",
    "engine = create_engine(db_url)\n",
    "\n",
    "prices_df = pd.read_sql_query(f\"SELECT * FROM {table_name};\", con=engine)\n",
    "\n",
    "# close the db connetion\n",
    "engine.dispose()"
   ]
  },
  {
   "cell_type": "code",
   "execution_count": 3,
   "metadata": {},
   "outputs": [
    {
     "data": {
      "text/html": [
       "<div>\n",
       "<style scoped>\n",
       "    .dataframe tbody tr th:only-of-type {\n",
       "        vertical-align: middle;\n",
       "    }\n",
       "\n",
       "    .dataframe tbody tr th {\n",
       "        vertical-align: top;\n",
       "    }\n",
       "\n",
       "    .dataframe thead th {\n",
       "        text-align: right;\n",
       "    }\n",
       "</style>\n",
       "<table border=\"1\" class=\"dataframe\">\n",
       "  <thead>\n",
       "    <tr style=\"text-align: right;\">\n",
       "      <th></th>\n",
       "      <th>id</th>\n",
       "      <th>mssubclass</th>\n",
       "      <th>mszoning</th>\n",
       "      <th>lotfrontage</th>\n",
       "      <th>lotarea</th>\n",
       "      <th>street</th>\n",
       "      <th>alley</th>\n",
       "      <th>lotshape</th>\n",
       "      <th>landcontour</th>\n",
       "      <th>utilities</th>\n",
       "      <th>...</th>\n",
       "      <th>poolarea</th>\n",
       "      <th>poolqc</th>\n",
       "      <th>fence</th>\n",
       "      <th>miscfeature</th>\n",
       "      <th>miscval</th>\n",
       "      <th>mosold</th>\n",
       "      <th>yrsold</th>\n",
       "      <th>saletype</th>\n",
       "      <th>salecondition</th>\n",
       "      <th>saleprice</th>\n",
       "    </tr>\n",
       "  </thead>\n",
       "  <tbody>\n",
       "    <tr>\n",
       "      <th>0</th>\n",
       "      <td>1</td>\n",
       "      <td>60</td>\n",
       "      <td>RL</td>\n",
       "      <td>65.0</td>\n",
       "      <td>8450</td>\n",
       "      <td>Pave</td>\n",
       "      <td>None</td>\n",
       "      <td>Reg</td>\n",
       "      <td>Lvl</td>\n",
       "      <td>AllPub</td>\n",
       "      <td>...</td>\n",
       "      <td>0</td>\n",
       "      <td>None</td>\n",
       "      <td>None</td>\n",
       "      <td>None</td>\n",
       "      <td>0</td>\n",
       "      <td>2</td>\n",
       "      <td>2008</td>\n",
       "      <td>WD</td>\n",
       "      <td>Normal</td>\n",
       "      <td>208500</td>\n",
       "    </tr>\n",
       "    <tr>\n",
       "      <th>1</th>\n",
       "      <td>2</td>\n",
       "      <td>20</td>\n",
       "      <td>RL</td>\n",
       "      <td>80.0</td>\n",
       "      <td>9600</td>\n",
       "      <td>Pave</td>\n",
       "      <td>None</td>\n",
       "      <td>Reg</td>\n",
       "      <td>Lvl</td>\n",
       "      <td>AllPub</td>\n",
       "      <td>...</td>\n",
       "      <td>0</td>\n",
       "      <td>None</td>\n",
       "      <td>None</td>\n",
       "      <td>None</td>\n",
       "      <td>0</td>\n",
       "      <td>5</td>\n",
       "      <td>2007</td>\n",
       "      <td>WD</td>\n",
       "      <td>Normal</td>\n",
       "      <td>181500</td>\n",
       "    </tr>\n",
       "    <tr>\n",
       "      <th>2</th>\n",
       "      <td>3</td>\n",
       "      <td>60</td>\n",
       "      <td>RL</td>\n",
       "      <td>68.0</td>\n",
       "      <td>11250</td>\n",
       "      <td>Pave</td>\n",
       "      <td>None</td>\n",
       "      <td>IR1</td>\n",
       "      <td>Lvl</td>\n",
       "      <td>AllPub</td>\n",
       "      <td>...</td>\n",
       "      <td>0</td>\n",
       "      <td>None</td>\n",
       "      <td>None</td>\n",
       "      <td>None</td>\n",
       "      <td>0</td>\n",
       "      <td>9</td>\n",
       "      <td>2008</td>\n",
       "      <td>WD</td>\n",
       "      <td>Normal</td>\n",
       "      <td>223500</td>\n",
       "    </tr>\n",
       "    <tr>\n",
       "      <th>3</th>\n",
       "      <td>4</td>\n",
       "      <td>70</td>\n",
       "      <td>RL</td>\n",
       "      <td>60.0</td>\n",
       "      <td>9550</td>\n",
       "      <td>Pave</td>\n",
       "      <td>None</td>\n",
       "      <td>IR1</td>\n",
       "      <td>Lvl</td>\n",
       "      <td>AllPub</td>\n",
       "      <td>...</td>\n",
       "      <td>0</td>\n",
       "      <td>None</td>\n",
       "      <td>None</td>\n",
       "      <td>None</td>\n",
       "      <td>0</td>\n",
       "      <td>2</td>\n",
       "      <td>2006</td>\n",
       "      <td>WD</td>\n",
       "      <td>Abnorml</td>\n",
       "      <td>140000</td>\n",
       "    </tr>\n",
       "    <tr>\n",
       "      <th>4</th>\n",
       "      <td>5</td>\n",
       "      <td>60</td>\n",
       "      <td>RL</td>\n",
       "      <td>84.0</td>\n",
       "      <td>14260</td>\n",
       "      <td>Pave</td>\n",
       "      <td>None</td>\n",
       "      <td>IR1</td>\n",
       "      <td>Lvl</td>\n",
       "      <td>AllPub</td>\n",
       "      <td>...</td>\n",
       "      <td>0</td>\n",
       "      <td>None</td>\n",
       "      <td>None</td>\n",
       "      <td>None</td>\n",
       "      <td>0</td>\n",
       "      <td>12</td>\n",
       "      <td>2008</td>\n",
       "      <td>WD</td>\n",
       "      <td>Normal</td>\n",
       "      <td>250000</td>\n",
       "    </tr>\n",
       "  </tbody>\n",
       "</table>\n",
       "<p>5 rows × 81 columns</p>\n",
       "</div>"
      ],
      "text/plain": [
       "   id  mssubclass mszoning  lotfrontage  lotarea street alley lotshape  \\\n",
       "0   1          60       RL         65.0     8450   Pave  None      Reg   \n",
       "1   2          20       RL         80.0     9600   Pave  None      Reg   \n",
       "2   3          60       RL         68.0    11250   Pave  None      IR1   \n",
       "3   4          70       RL         60.0     9550   Pave  None      IR1   \n",
       "4   5          60       RL         84.0    14260   Pave  None      IR1   \n",
       "\n",
       "  landcontour utilities  ... poolarea poolqc fence miscfeature miscval mosold  \\\n",
       "0         Lvl    AllPub  ...        0   None  None        None       0      2   \n",
       "1         Lvl    AllPub  ...        0   None  None        None       0      5   \n",
       "2         Lvl    AllPub  ...        0   None  None        None       0      9   \n",
       "3         Lvl    AllPub  ...        0   None  None        None       0      2   \n",
       "4         Lvl    AllPub  ...        0   None  None        None       0     12   \n",
       "\n",
       "  yrsold  saletype  salecondition  saleprice  \n",
       "0   2008        WD         Normal     208500  \n",
       "1   2007        WD         Normal     181500  \n",
       "2   2008        WD         Normal     223500  \n",
       "3   2006        WD        Abnorml     140000  \n",
       "4   2008        WD         Normal     250000  \n",
       "\n",
       "[5 rows x 81 columns]"
      ]
     },
     "execution_count": 3,
     "metadata": {},
     "output_type": "execute_result"
    },
    {
     "data": {
      "application/javascript": [
       "\n",
       "            setTimeout(function() {\n",
       "                var nbb_cell_id = 3;\n",
       "                var nbb_unformatted_code = \"prices_df.head()\";\n",
       "                var nbb_formatted_code = \"prices_df.head()\";\n",
       "                var nbb_cells = Jupyter.notebook.get_cells();\n",
       "                for (var i = 0; i < nbb_cells.length; ++i) {\n",
       "                    if (nbb_cells[i].input_prompt_number == nbb_cell_id) {\n",
       "                        if (nbb_cells[i].get_text() == nbb_unformatted_code) {\n",
       "                             nbb_cells[i].set_text(nbb_formatted_code);\n",
       "                        }\n",
       "                        break;\n",
       "                    }\n",
       "                }\n",
       "            }, 500);\n",
       "            "
      ],
      "text/plain": [
       "<IPython.core.display.Javascript object>"
      ]
     },
     "metadata": {},
     "output_type": "display_data"
    }
   ],
   "source": [
    "prices_df.head()"
   ]
  },
  {
   "cell_type": "code",
   "execution_count": 4,
   "metadata": {},
   "outputs": [
    {
     "data": {
      "text/plain": [
       "(1460, 81)"
      ]
     },
     "execution_count": 4,
     "metadata": {},
     "output_type": "execute_result"
    },
    {
     "data": {
      "application/javascript": [
       "\n",
       "            setTimeout(function() {\n",
       "                var nbb_cell_id = 4;\n",
       "                var nbb_unformatted_code = \"prices_df.shape\";\n",
       "                var nbb_formatted_code = \"prices_df.shape\";\n",
       "                var nbb_cells = Jupyter.notebook.get_cells();\n",
       "                for (var i = 0; i < nbb_cells.length; ++i) {\n",
       "                    if (nbb_cells[i].input_prompt_number == nbb_cell_id) {\n",
       "                        if (nbb_cells[i].get_text() == nbb_unformatted_code) {\n",
       "                             nbb_cells[i].set_text(nbb_formatted_code);\n",
       "                        }\n",
       "                        break;\n",
       "                    }\n",
       "                }\n",
       "            }, 500);\n",
       "            "
      ],
      "text/plain": [
       "<IPython.core.display.Javascript object>"
      ]
     },
     "metadata": {},
     "output_type": "display_data"
    }
   ],
   "source": [
    "prices_df.shape"
   ]
  },
  {
   "cell_type": "code",
   "execution_count": 5,
   "metadata": {},
   "outputs": [
    {
     "data": {
      "text/plain": [
       "38"
      ]
     },
     "execution_count": 5,
     "metadata": {},
     "output_type": "execute_result"
    },
    {
     "data": {
      "application/javascript": [
       "\n",
       "            setTimeout(function() {\n",
       "                var nbb_cell_id = 5;\n",
       "                var nbb_unformatted_code = \"len(prices_df.select_dtypes(include=\\\"number\\\").columns)\";\n",
       "                var nbb_formatted_code = \"len(prices_df.select_dtypes(include=\\\"number\\\").columns)\";\n",
       "                var nbb_cells = Jupyter.notebook.get_cells();\n",
       "                for (var i = 0; i < nbb_cells.length; ++i) {\n",
       "                    if (nbb_cells[i].input_prompt_number == nbb_cell_id) {\n",
       "                        if (nbb_cells[i].get_text() == nbb_unformatted_code) {\n",
       "                             nbb_cells[i].set_text(nbb_formatted_code);\n",
       "                        }\n",
       "                        break;\n",
       "                    }\n",
       "                }\n",
       "            }, 500);\n",
       "            "
      ],
      "text/plain": [
       "<IPython.core.display.Javascript object>"
      ]
     },
     "metadata": {},
     "output_type": "display_data"
    }
   ],
   "source": [
    "len(prices_df.select_dtypes(include=\"number\").columns)"
   ]
  },
  {
   "cell_type": "code",
   "execution_count": 6,
   "metadata": {},
   "outputs": [
    {
     "data": {
      "text/plain": [
       "poolqc          1453\n",
       "miscfeature     1406\n",
       "alley           1369\n",
       "fence           1179\n",
       "fireplacequ      690\n",
       "lotfrontage      259\n",
       "garagecond        81\n",
       "garagetype        81\n",
       "garageyrblt       81\n",
       "garagefinish      81\n",
       "garagequal        81\n",
       "bsmtexposure      38\n",
       "bsmtfintype2      38\n",
       "bsmtfintype1      37\n",
       "bsmtcond          37\n",
       "bsmtqual          37\n",
       "masvnrarea         8\n",
       "masvnrtype         8\n",
       "electrical         1\n",
       "utilities          0\n",
       "yearremodadd       0\n",
       "mssubclass         0\n",
       "foundation         0\n",
       "extercond          0\n",
       "exterqual          0\n",
       "exterior2nd        0\n",
       "exterior1st        0\n",
       "roofmatl           0\n",
       "roofstyle          0\n",
       "yearbuilt          0\n",
       "lotconfig          0\n",
       "overallcond        0\n",
       "overallqual        0\n",
       "housestyle         0\n",
       "bldgtype           0\n",
       "dtype: int64"
      ]
     },
     "execution_count": 6,
     "metadata": {},
     "output_type": "execute_result"
    },
    {
     "data": {
      "application/javascript": [
       "\n",
       "            setTimeout(function() {\n",
       "                var nbb_cell_id = 6;\n",
       "                var nbb_unformatted_code = \"prices_df.isnull().sum().sort_values(ascending=False).head(35)\";\n",
       "                var nbb_formatted_code = \"prices_df.isnull().sum().sort_values(ascending=False).head(35)\";\n",
       "                var nbb_cells = Jupyter.notebook.get_cells();\n",
       "                for (var i = 0; i < nbb_cells.length; ++i) {\n",
       "                    if (nbb_cells[i].input_prompt_number == nbb_cell_id) {\n",
       "                        if (nbb_cells[i].get_text() == nbb_unformatted_code) {\n",
       "                             nbb_cells[i].set_text(nbb_formatted_code);\n",
       "                        }\n",
       "                        break;\n",
       "                    }\n",
       "                }\n",
       "            }, 500);\n",
       "            "
      ],
      "text/plain": [
       "<IPython.core.display.Javascript object>"
      ]
     },
     "metadata": {},
     "output_type": "display_data"
    }
   ],
   "source": [
    "prices_df.isnull().sum().sort_values(ascending=False).head(35)"
   ]
  },
  {
   "cell_type": "code",
   "execution_count": 7,
   "metadata": {},
   "outputs": [
    {
     "data": {
      "image/png": "[encoded data removed]",
      "text/plain": [
       "<Figure size 432x288 with 1 Axes>"
      ]
     },
     "metadata": {
      "needs_background": "light"
     },
     "output_type": "display_data"
    },
    {
     "data": {
      "application/javascript": [
       "\n",
       "            setTimeout(function() {\n",
       "                var nbb_cell_id = 7;\n",
       "                var nbb_unformatted_code = \"plt.hist(prices_df.saleprice)\\nplt.show()\";\n",
       "                var nbb_formatted_code = \"plt.hist(prices_df.saleprice)\\nplt.show()\";\n",
       "                var nbb_cells = Jupyter.notebook.get_cells();\n",
       "                for (var i = 0; i < nbb_cells.length; ++i) {\n",
       "                    if (nbb_cells[i].input_prompt_number == nbb_cell_id) {\n",
       "                        if (nbb_cells[i].get_text() == nbb_unformatted_code) {\n",
       "                             nbb_cells[i].set_text(nbb_formatted_code);\n",
       "                        }\n",
       "                        break;\n",
       "                    }\n",
       "                }\n",
       "            }, 500);\n",
       "            "
      ],
      "text/plain": [
       "<IPython.core.display.Javascript object>"
      ]
     },
     "metadata": {},
     "output_type": "display_data"
    }
   ],
   "source": [
    "plt.hist(prices_df.saleprice)\n",
    "plt.show()"
   ]
  },
  {
   "cell_type": "code",
   "execution_count": 8,
   "metadata": {},
   "outputs": [
    {
     "data": {
      "text/plain": [
       "{'whiskers': [<matplotlib.lines.Line2D at 0x7ff963c7ed00>,\n",
       "  <matplotlib.lines.Line2D at 0x7ff963c8d0d0>],\n",
       " 'caps': [<matplotlib.lines.Line2D at 0x7ff963c8d430>,\n",
       "  <matplotlib.lines.Line2D at 0x7ff963c8d790>],\n",
       " 'boxes': [<matplotlib.lines.Line2D at 0x7ff963c7e9a0>],\n",
       " 'medians': [<matplotlib.lines.Line2D at 0x7ff963c8daf0>],\n",
       " 'fliers': [<matplotlib.lines.Line2D at 0x7ff963c8de50>],\n",
       " 'means': []}"
      ]
     },
     "execution_count": 8,
     "metadata": {},
     "output_type": "execute_result"
    },
    {
     "data": {
      "image/png": "[encoded data removed]",
      "text/plain": [
       "<Figure size 432x288 with 1 Axes>"
      ]
     },
     "metadata": {
      "needs_background": "light"
     },
     "output_type": "display_data"
    },
    {
     "data": {
      "application/javascript": [
       "\n",
       "            setTimeout(function() {\n",
       "                var nbb_cell_id = 8;\n",
       "                var nbb_unformatted_code = \"plt.boxplot(prices_df.saleprice)\";\n",
       "                var nbb_formatted_code = \"plt.boxplot(prices_df.saleprice)\";\n",
       "                var nbb_cells = Jupyter.notebook.get_cells();\n",
       "                for (var i = 0; i < nbb_cells.length; ++i) {\n",
       "                    if (nbb_cells[i].input_prompt_number == nbb_cell_id) {\n",
       "                        if (nbb_cells[i].get_text() == nbb_unformatted_code) {\n",
       "                             nbb_cells[i].set_text(nbb_formatted_code);\n",
       "                        }\n",
       "                        break;\n",
       "                    }\n",
       "                }\n",
       "            }, 500);\n",
       "            "
      ],
      "text/plain": [
       "<IPython.core.display.Javascript object>"
      ]
     },
     "metadata": {},
     "output_type": "display_data"
    }
   ],
   "source": [
    "plt.boxplot(prices_df.saleprice)"
   ]
  },
  {
   "cell_type": "code",
   "execution_count": 9,
   "metadata": {},
   "outputs": [
    {
     "data": {
      "application/javascript": [
       "\n",
       "            setTimeout(function() {\n",
       "                var nbb_cell_id = 9;\n",
       "                var nbb_unformatted_code = \"prices_df2 = prices_df.copy()\";\n",
       "                var nbb_formatted_code = \"prices_df2 = prices_df.copy()\";\n",
       "                var nbb_cells = Jupyter.notebook.get_cells();\n",
       "                for (var i = 0; i < nbb_cells.length; ++i) {\n",
       "                    if (nbb_cells[i].input_prompt_number == nbb_cell_id) {\n",
       "                        if (nbb_cells[i].get_text() == nbb_unformatted_code) {\n",
       "                             nbb_cells[i].set_text(nbb_formatted_code);\n",
       "                        }\n",
       "                        break;\n",
       "                    }\n",
       "                }\n",
       "            }, 500);\n",
       "            "
      ],
      "text/plain": [
       "<IPython.core.display.Javascript object>"
      ]
     },
     "metadata": {},
     "output_type": "display_data"
    }
   ],
   "source": [
    "prices_df2 = prices_df.copy()"
   ]
  },
  {
   "cell_type": "code",
   "execution_count": 10,
   "metadata": {},
   "outputs": [
    {
     "data": {
      "application/javascript": [
       "\n",
       "            setTimeout(function() {\n",
       "                var nbb_cell_id = 10;\n",
       "                var nbb_unformatted_code = \"# prices_df2 = prices_df2.loc[prices_df[\\\"saleprice\\\"] < 500000]\";\n",
       "                var nbb_formatted_code = \"# prices_df2 = prices_df2.loc[prices_df[\\\"saleprice\\\"] < 500000]\";\n",
       "                var nbb_cells = Jupyter.notebook.get_cells();\n",
       "                for (var i = 0; i < nbb_cells.length; ++i) {\n",
       "                    if (nbb_cells[i].input_prompt_number == nbb_cell_id) {\n",
       "                        if (nbb_cells[i].get_text() == nbb_unformatted_code) {\n",
       "                             nbb_cells[i].set_text(nbb_formatted_code);\n",
       "                        }\n",
       "                        break;\n",
       "                    }\n",
       "                }\n",
       "            }, 500);\n",
       "            "
      ],
      "text/plain": [
       "<IPython.core.display.Javascript object>"
      ]
     },
     "metadata": {},
     "output_type": "display_data"
    }
   ],
   "source": [
    "# prices_df2 = prices_df2.loc[prices_df[\"saleprice\"] < 500000]"
   ]
  },
  {
   "cell_type": "code",
   "execution_count": 11,
   "metadata": {},
   "outputs": [
    {
     "name": "stdout",
     "output_type": "stream",
     "text": [
      "lotfrontage     0.177397\n",
      "garagetype      0.055479\n",
      "garageyrblt     0.055479\n",
      "garagecond      0.055479\n",
      "garagequal      0.055479\n",
      "garagefinish    0.055479\n",
      "bsmtexposure    0.026027\n",
      "bsmtfintype2    0.026027\n",
      "bsmtfintype1    0.025342\n",
      "bsmtcond        0.025342\n",
      "bsmtqual        0.025342\n",
      "masvnrarea      0.005479\n",
      "masvnrtype      0.005479\n",
      "electrical      0.000685\n",
      "dtype: float64\n"
     ]
    },
    {
     "data": {
      "text/html": [
       "<div>\n",
       "<style scoped>\n",
       "    .dataframe tbody tr th:only-of-type {\n",
       "        vertical-align: middle;\n",
       "    }\n",
       "\n",
       "    .dataframe tbody tr th {\n",
       "        vertical-align: top;\n",
       "    }\n",
       "\n",
       "    .dataframe thead th {\n",
       "        text-align: right;\n",
       "    }\n",
       "</style>\n",
       "<table border=\"1\" class=\"dataframe\">\n",
       "  <thead>\n",
       "    <tr style=\"text-align: right;\">\n",
       "      <th></th>\n",
       "      <th>mssubclass</th>\n",
       "      <th>mszoning</th>\n",
       "      <th>lotfrontage</th>\n",
       "      <th>lotarea</th>\n",
       "      <th>street</th>\n",
       "      <th>lotshape</th>\n",
       "      <th>landcontour</th>\n",
       "      <th>utilities</th>\n",
       "      <th>lotconfig</th>\n",
       "      <th>landslope</th>\n",
       "      <th>...</th>\n",
       "      <th>enclosedporch</th>\n",
       "      <th>threessnporch</th>\n",
       "      <th>screenporch</th>\n",
       "      <th>poolarea</th>\n",
       "      <th>miscval</th>\n",
       "      <th>mosold</th>\n",
       "      <th>yrsold</th>\n",
       "      <th>saletype</th>\n",
       "      <th>salecondition</th>\n",
       "      <th>saleprice</th>\n",
       "    </tr>\n",
       "  </thead>\n",
       "  <tbody>\n",
       "    <tr>\n",
       "      <th>0</th>\n",
       "      <td>60</td>\n",
       "      <td>RL</td>\n",
       "      <td>65.0</td>\n",
       "      <td>8450</td>\n",
       "      <td>Pave</td>\n",
       "      <td>Reg</td>\n",
       "      <td>Lvl</td>\n",
       "      <td>AllPub</td>\n",
       "      <td>Inside</td>\n",
       "      <td>Gtl</td>\n",
       "      <td>...</td>\n",
       "      <td>0</td>\n",
       "      <td>0</td>\n",
       "      <td>0</td>\n",
       "      <td>0</td>\n",
       "      <td>0</td>\n",
       "      <td>2</td>\n",
       "      <td>2008</td>\n",
       "      <td>WD</td>\n",
       "      <td>Normal</td>\n",
       "      <td>208500</td>\n",
       "    </tr>\n",
       "    <tr>\n",
       "      <th>1</th>\n",
       "      <td>20</td>\n",
       "      <td>RL</td>\n",
       "      <td>80.0</td>\n",
       "      <td>9600</td>\n",
       "      <td>Pave</td>\n",
       "      <td>Reg</td>\n",
       "      <td>Lvl</td>\n",
       "      <td>AllPub</td>\n",
       "      <td>FR2</td>\n",
       "      <td>Gtl</td>\n",
       "      <td>...</td>\n",
       "      <td>0</td>\n",
       "      <td>0</td>\n",
       "      <td>0</td>\n",
       "      <td>0</td>\n",
       "      <td>0</td>\n",
       "      <td>5</td>\n",
       "      <td>2007</td>\n",
       "      <td>WD</td>\n",
       "      <td>Normal</td>\n",
       "      <td>181500</td>\n",
       "    </tr>\n",
       "    <tr>\n",
       "      <th>2</th>\n",
       "      <td>60</td>\n",
       "      <td>RL</td>\n",
       "      <td>68.0</td>\n",
       "      <td>11250</td>\n",
       "      <td>Pave</td>\n",
       "      <td>IR1</td>\n",
       "      <td>Lvl</td>\n",
       "      <td>AllPub</td>\n",
       "      <td>Inside</td>\n",
       "      <td>Gtl</td>\n",
       "      <td>...</td>\n",
       "      <td>0</td>\n",
       "      <td>0</td>\n",
       "      <td>0</td>\n",
       "      <td>0</td>\n",
       "      <td>0</td>\n",
       "      <td>9</td>\n",
       "      <td>2008</td>\n",
       "      <td>WD</td>\n",
       "      <td>Normal</td>\n",
       "      <td>223500</td>\n",
       "    </tr>\n",
       "    <tr>\n",
       "      <th>3</th>\n",
       "      <td>70</td>\n",
       "      <td>RL</td>\n",
       "      <td>60.0</td>\n",
       "      <td>9550</td>\n",
       "      <td>Pave</td>\n",
       "      <td>IR1</td>\n",
       "      <td>Lvl</td>\n",
       "      <td>AllPub</td>\n",
       "      <td>Corner</td>\n",
       "      <td>Gtl</td>\n",
       "      <td>...</td>\n",
       "      <td>272</td>\n",
       "      <td>0</td>\n",
       "      <td>0</td>\n",
       "      <td>0</td>\n",
       "      <td>0</td>\n",
       "      <td>2</td>\n",
       "      <td>2006</td>\n",
       "      <td>WD</td>\n",
       "      <td>Abnorml</td>\n",
       "      <td>140000</td>\n",
       "    </tr>\n",
       "    <tr>\n",
       "      <th>4</th>\n",
       "      <td>60</td>\n",
       "      <td>RL</td>\n",
       "      <td>84.0</td>\n",
       "      <td>14260</td>\n",
       "      <td>Pave</td>\n",
       "      <td>IR1</td>\n",
       "      <td>Lvl</td>\n",
       "      <td>AllPub</td>\n",
       "      <td>FR2</td>\n",
       "      <td>Gtl</td>\n",
       "      <td>...</td>\n",
       "      <td>0</td>\n",
       "      <td>0</td>\n",
       "      <td>0</td>\n",
       "      <td>0</td>\n",
       "      <td>0</td>\n",
       "      <td>12</td>\n",
       "      <td>2008</td>\n",
       "      <td>WD</td>\n",
       "      <td>Normal</td>\n",
       "      <td>250000</td>\n",
       "    </tr>\n",
       "  </tbody>\n",
       "</table>\n",
       "<p>5 rows × 75 columns</p>\n",
       "</div>"
      ],
      "text/plain": [
       "   mssubclass mszoning  lotfrontage  lotarea street lotshape landcontour  \\\n",
       "0          60       RL         65.0     8450   Pave      Reg         Lvl   \n",
       "1          20       RL         80.0     9600   Pave      Reg         Lvl   \n",
       "2          60       RL         68.0    11250   Pave      IR1         Lvl   \n",
       "3          70       RL         60.0     9550   Pave      IR1         Lvl   \n",
       "4          60       RL         84.0    14260   Pave      IR1         Lvl   \n",
       "\n",
       "  utilities lotconfig landslope  ... enclosedporch threessnporch screenporch  \\\n",
       "0    AllPub    Inside       Gtl  ...             0             0           0   \n",
       "1    AllPub       FR2       Gtl  ...             0             0           0   \n",
       "2    AllPub    Inside       Gtl  ...             0             0           0   \n",
       "3    AllPub    Corner       Gtl  ...           272             0           0   \n",
       "4    AllPub       FR2       Gtl  ...             0             0           0   \n",
       "\n",
       "  poolarea miscval  mosold  yrsold  saletype  salecondition saleprice  \n",
       "0        0       0       2    2008        WD         Normal    208500  \n",
       "1        0       0       5    2007        WD         Normal    181500  \n",
       "2        0       0       9    2008        WD         Normal    223500  \n",
       "3        0       0       2    2006        WD        Abnorml    140000  \n",
       "4        0       0      12    2008        WD         Normal    250000  \n",
       "\n",
       "[5 rows x 75 columns]"
      ]
     },
     "execution_count": 11,
     "metadata": {},
     "output_type": "execute_result"
    },
    {
     "data": {
      "application/javascript": [
       "\n",
       "            setTimeout(function() {\n",
       "                var nbb_cell_id = 11;\n",
       "                var nbb_unformatted_code = \"\\ncols_to_drop = [\\n    \\\"fireplacequ\\\",\\n    \\\"fence\\\",\\n    \\\"alley\\\",\\n    \\\"miscfeature\\\",\\n    \\\"poolqc\\\",\\n    \\\"id\\\"\\n]\\nprices_df2.drop(columns=cols_to_drop, inplace=True)\\nprint(\\n    (prices_df2.isnull().sum() / prices_df2.isnull().count())\\n    .sort_values(ascending=False)\\n    .head(14)\\n)\\nprices_df2.head()\";\n",
       "                var nbb_formatted_code = \"cols_to_drop = [\\\"fireplacequ\\\", \\\"fence\\\", \\\"alley\\\", \\\"miscfeature\\\", \\\"poolqc\\\", \\\"id\\\"]\\nprices_df2.drop(columns=cols_to_drop, inplace=True)\\nprint(\\n    (prices_df2.isnull().sum() / prices_df2.isnull().count())\\n    .sort_values(ascending=False)\\n    .head(14)\\n)\\nprices_df2.head()\";\n",
       "                var nbb_cells = Jupyter.notebook.get_cells();\n",
       "                for (var i = 0; i < nbb_cells.length; ++i) {\n",
       "                    if (nbb_cells[i].input_prompt_number == nbb_cell_id) {\n",
       "                        if (nbb_cells[i].get_text() == nbb_unformatted_code) {\n",
       "                             nbb_cells[i].set_text(nbb_formatted_code);\n",
       "                        }\n",
       "                        break;\n",
       "                    }\n",
       "                }\n",
       "            }, 500);\n",
       "            "
      ],
      "text/plain": [
       "<IPython.core.display.Javascript object>"
      ]
     },
     "metadata": {},
     "output_type": "display_data"
    }
   ],
   "source": [
    "\n",
    "cols_to_drop = [\n",
    "    \"fireplacequ\",\n",
    "    \"fence\",\n",
    "    \"alley\",\n",
    "    \"miscfeature\",\n",
    "    \"poolqc\",\n",
    "    \"id\"\n",
    "]\n",
    "prices_df2.drop(columns=cols_to_drop, inplace=True)\n",
    "print(\n",
    "    (prices_df2.isnull().sum() / prices_df2.isnull().count())\n",
    "    .sort_values(ascending=False)\n",
    "    .head(14)\n",
    ")\n",
    "prices_df2.head()\n",
    "\n"
   ]
  },
  {
   "cell_type": "code",
   "execution_count": 12,
   "metadata": {},
   "outputs": [
    {
     "data": {
      "text/plain": [
       "saleprice       0.0\n",
       "yearremodadd    0.0\n",
       "roofmatl        0.0\n",
       "exterior1st     0.0\n",
       "exterior2nd     0.0\n",
       "masvnrtype      0.0\n",
       "masvnrarea      0.0\n",
       "exterqual       0.0\n",
       "extercond       0.0\n",
       "foundation      0.0\n",
       "bsmtqual        0.0\n",
       "bsmtcond        0.0\n",
       "dtype: float64"
      ]
     },
     "execution_count": 12,
     "metadata": {},
     "output_type": "execute_result"
    },
    {
     "data": {
      "application/javascript": [
       "\n",
       "            setTimeout(function() {\n",
       "                var nbb_cell_id = 12;\n",
       "                var nbb_unformatted_code = \"cols_with_nulls = (\\n    (prices_df2.isnull().sum() / prices_df2.isnull().count())\\n    .sort_values(ascending=False)\\n    .index\\n)\\n\\nprices_df2.dropna(inplace=True)\\n(prices_df2.isnull().sum() / prices_df2.isnull().count()).sort_values(\\n    ascending=False\\n).head(12)\";\n",
       "                var nbb_formatted_code = \"cols_with_nulls = (\\n    (prices_df2.isnull().sum() / prices_df2.isnull().count())\\n    .sort_values(ascending=False)\\n    .index\\n)\\n\\nprices_df2.dropna(inplace=True)\\n(prices_df2.isnull().sum() / prices_df2.isnull().count()).sort_values(\\n    ascending=False\\n).head(12)\";\n",
       "                var nbb_cells = Jupyter.notebook.get_cells();\n",
       "                for (var i = 0; i < nbb_cells.length; ++i) {\n",
       "                    if (nbb_cells[i].input_prompt_number == nbb_cell_id) {\n",
       "                        if (nbb_cells[i].get_text() == nbb_unformatted_code) {\n",
       "                             nbb_cells[i].set_text(nbb_formatted_code);\n",
       "                        }\n",
       "                        break;\n",
       "                    }\n",
       "                }\n",
       "            }, 500);\n",
       "            "
      ],
      "text/plain": [
       "<IPython.core.display.Javascript object>"
      ]
     },
     "metadata": {},
     "output_type": "display_data"
    }
   ],
   "source": [
    "cols_with_nulls = (\n",
    "    (prices_df2.isnull().sum() / prices_df2.isnull().count())\n",
    "    .sort_values(ascending=False)\n",
    "    .index\n",
    ")\n",
    "\n",
    "prices_df2.dropna(inplace=True)\n",
    "(prices_df2.isnull().sum() / prices_df2.isnull().count()).sort_values(\n",
    "    ascending=False\n",
    ").head(12)"
   ]
  },
  {
   "cell_type": "code",
   "execution_count": 13,
   "metadata": {},
   "outputs": [
    {
     "data": {
      "application/javascript": [
       "\n",
       "            setTimeout(function() {\n",
       "                var nbb_cell_id = 13;\n",
       "                var nbb_unformatted_code = \"y = prices_df2[\\\"saleprice\\\"]\\nX = prices_df2.select_dtypes(include=\\\"number\\\")\\nX = X.drop(\\\"saleprice\\\", axis=1)\";\n",
       "                var nbb_formatted_code = \"y = prices_df2[\\\"saleprice\\\"]\\nX = prices_df2.select_dtypes(include=\\\"number\\\")\\nX = X.drop(\\\"saleprice\\\", axis=1)\";\n",
       "                var nbb_cells = Jupyter.notebook.get_cells();\n",
       "                for (var i = 0; i < nbb_cells.length; ++i) {\n",
       "                    if (nbb_cells[i].input_prompt_number == nbb_cell_id) {\n",
       "                        if (nbb_cells[i].get_text() == nbb_unformatted_code) {\n",
       "                             nbb_cells[i].set_text(nbb_formatted_code);\n",
       "                        }\n",
       "                        break;\n",
       "                    }\n",
       "                }\n",
       "            }, 500);\n",
       "            "
      ],
      "text/plain": [
       "<IPython.core.display.Javascript object>"
      ]
     },
     "metadata": {},
     "output_type": "display_data"
    }
   ],
   "source": [
    "y = prices_df2[\"saleprice\"]\n",
    "X = prices_df2.select_dtypes(include=\"number\")\n",
    "X = X.drop(\"saleprice\", axis=1)"
   ]
  },
  {
   "cell_type": "code",
   "execution_count": 14,
   "metadata": {},
   "outputs": [
    {
     "data": {
      "application/javascript": [
       "\n",
       "            setTimeout(function() {\n",
       "                var nbb_cell_id = 14;\n",
       "                var nbb_unformatted_code = \"# Split data into train and test sets.\\n\\nfrom sklearn.model_selection import train_test_split\\n\\nX_train, X_test, y_train, y_test = train_test_split(X, y, test_size=0.2)\";\n",
       "                var nbb_formatted_code = \"# Split data into train and test sets.\\n\\nfrom sklearn.model_selection import train_test_split\\n\\nX_train, X_test, y_train, y_test = train_test_split(X, y, test_size=0.2)\";\n",
       "                var nbb_cells = Jupyter.notebook.get_cells();\n",
       "                for (var i = 0; i < nbb_cells.length; ++i) {\n",
       "                    if (nbb_cells[i].input_prompt_number == nbb_cell_id) {\n",
       "                        if (nbb_cells[i].get_text() == nbb_unformatted_code) {\n",
       "                             nbb_cells[i].set_text(nbb_formatted_code);\n",
       "                        }\n",
       "                        break;\n",
       "                    }\n",
       "                }\n",
       "            }, 500);\n",
       "            "
      ],
      "text/plain": [
       "<IPython.core.display.Javascript object>"
      ]
     },
     "metadata": {},
     "output_type": "display_data"
    }
   ],
   "source": [
    "# Split data into train and test sets.\n",
    "\n",
    "from sklearn.model_selection import train_test_split\n",
    "\n",
    "X_train, X_test, y_train, y_test = train_test_split(X, y, test_size=0.2)"
   ]
  },
  {
   "cell_type": "code",
   "execution_count": 15,
   "metadata": {},
   "outputs": [
    {
     "data": {
      "application/javascript": [
       "\n",
       "            setTimeout(function() {\n",
       "                var nbb_cell_id = 15;\n",
       "                var nbb_unformatted_code = \"from sklearn.linear_model import LinearRegression, Lasso, Ridge, ElasticNet\\nfrom sklearn.model_selection import GridSearchCV\";\n",
       "                var nbb_formatted_code = \"from sklearn.linear_model import LinearRegression, Lasso, Ridge, ElasticNet\\nfrom sklearn.model_selection import GridSearchCV\";\n",
       "                var nbb_cells = Jupyter.notebook.get_cells();\n",
       "                for (var i = 0; i < nbb_cells.length; ++i) {\n",
       "                    if (nbb_cells[i].input_prompt_number == nbb_cell_id) {\n",
       "                        if (nbb_cells[i].get_text() == nbb_unformatted_code) {\n",
       "                             nbb_cells[i].set_text(nbb_formatted_code);\n",
       "                        }\n",
       "                        break;\n",
       "                    }\n",
       "                }\n",
       "            }, 500);\n",
       "            "
      ],
      "text/plain": [
       "<IPython.core.display.Javascript object>"
      ]
     },
     "metadata": {},
     "output_type": "display_data"
    }
   ],
   "source": [
    "from sklearn.linear_model import LinearRegression, Lasso, Ridge, ElasticNet\n",
    "from sklearn.model_selection import GridSearchCV\n"
   ]
  },
  {
   "cell_type": "code",
   "execution_count": 16,
   "metadata": {},
   "outputs": [
    {
     "data": {
      "application/javascript": [
       "\n",
       "            setTimeout(function() {\n",
       "                var nbb_cell_id = 16;\n",
       "                var nbb_unformatted_code = \"from sklearn.metrics import mean_absolute_error, mean_squared_error\";\n",
       "                var nbb_formatted_code = \"from sklearn.metrics import mean_absolute_error, mean_squared_error\";\n",
       "                var nbb_cells = Jupyter.notebook.get_cells();\n",
       "                for (var i = 0; i < nbb_cells.length; ++i) {\n",
       "                    if (nbb_cells[i].input_prompt_number == nbb_cell_id) {\n",
       "                        if (nbb_cells[i].get_text() == nbb_unformatted_code) {\n",
       "                             nbb_cells[i].set_text(nbb_formatted_code);\n",
       "                        }\n",
       "                        break;\n",
       "                    }\n",
       "                }\n",
       "            }, 500);\n",
       "            "
      ],
      "text/plain": [
       "<IPython.core.display.Javascript object>"
      ]
     },
     "metadata": {},
     "output_type": "display_data"
    }
   ],
   "source": [
    "from sklearn.metrics import mean_absolute_error, mean_squared_error\n",
    "\n"
   ]
  },
  {
   "cell_type": "code",
   "execution_count": 17,
   "metadata": {},
   "outputs": [
    {
     "data": {
      "application/javascript": [
       "\n",
       "            setTimeout(function() {\n",
       "                var nbb_cell_id = 17;\n",
       "                var nbb_unformatted_code = \"# Ridge\\ngrid = {\\\"alpha\\\": np.logspace(-3, 5, 9)}\\nridge_cv = GridSearchCV(Ridge(), grid, cv=5)\\nridge_cv.fit(X_train, y_train)\\ny_test_pred = ridge_cv.best_estimator_.predict(X_test)\";\n",
       "                var nbb_formatted_code = \"# Ridge\\ngrid = {\\\"alpha\\\": np.logspace(-3, 5, 9)}\\nridge_cv = GridSearchCV(Ridge(), grid, cv=5)\\nridge_cv.fit(X_train, y_train)\\ny_test_pred = ridge_cv.best_estimator_.predict(X_test)\";\n",
       "                var nbb_cells = Jupyter.notebook.get_cells();\n",
       "                for (var i = 0; i < nbb_cells.length; ++i) {\n",
       "                    if (nbb_cells[i].input_prompt_number == nbb_cell_id) {\n",
       "                        if (nbb_cells[i].get_text() == nbb_unformatted_code) {\n",
       "                             nbb_cells[i].set_text(nbb_formatted_code);\n",
       "                        }\n",
       "                        break;\n",
       "                    }\n",
       "                }\n",
       "            }, 500);\n",
       "            "
      ],
      "text/plain": [
       "<IPython.core.display.Javascript object>"
      ]
     },
     "metadata": {},
     "output_type": "display_data"
    }
   ],
   "source": [
    "# Ridge\n",
    "grid = {\"alpha\": np.logspace(-3, 5, 9)}\n",
    "ridge_cv = GridSearchCV(Ridge(), grid, cv=5)\n",
    "ridge_cv.fit(X_train, y_train)\n",
    "y_test_pred = ridge_cv.best_estimator_.predict(X_test)"
   ]
  },
  {
   "cell_type": "code",
   "execution_count": 18,
   "metadata": {},
   "outputs": [
    {
     "name": "stdout",
     "output_type": "stream",
     "text": [
      "alpha: 10.0\n",
      "Train score: 0.799\n",
      "Test: score: 0.843\n",
      "Mean absolute error: 22209.891\n",
      "MSE: 882752016.794\n",
      "RMSE: 29711.143\n",
      "MAPE: 13.839\n"
     ]
    },
    {
     "data": {
      "application/javascript": [
       "\n",
       "            setTimeout(function() {\n",
       "                var nbb_cell_id = 18;\n",
       "                var nbb_unformatted_code = \"print(\\n    f\\\"alpha: {ridge_cv.best_estimator_.alpha}\\\\n\\\"\\n    f\\\"Train score: {ridge_cv.best_estimator_.score(X_train, y_train):.3f}\\\\n\\\"\\n    f\\\"Test: score: {ridge_cv.best_estimator_.score(X_test, y_test):.3f}\\\\n\\\"\\n    f\\\"Mean absolute error: {mean_absolute_error(y_test, y_test_pred):.3f}\\\\n\\\"\\n    f\\\"MSE: {mean_squared_error(y_test, y_test_pred):.3f}\\\\n\\\"\\n    f\\\"RMSE: {mean_squared_error(y_test, y_test_pred, squared=False):.3f}\\\\n\\\"\\n    f\\\"MAPE: {np.mean(np.abs((y_test - y_test_pred) / y_test)) * 100:.3f}\\\"\\n)\";\n",
       "                var nbb_formatted_code = \"print(\\n    f\\\"alpha: {ridge_cv.best_estimator_.alpha}\\\\n\\\"\\n    f\\\"Train score: {ridge_cv.best_estimator_.score(X_train, y_train):.3f}\\\\n\\\"\\n    f\\\"Test: score: {ridge_cv.best_estimator_.score(X_test, y_test):.3f}\\\\n\\\"\\n    f\\\"Mean absolute error: {mean_absolute_error(y_test, y_test_pred):.3f}\\\\n\\\"\\n    f\\\"MSE: {mean_squared_error(y_test, y_test_pred):.3f}\\\\n\\\"\\n    f\\\"RMSE: {mean_squared_error(y_test, y_test_pred, squared=False):.3f}\\\\n\\\"\\n    f\\\"MAPE: {np.mean(np.abs((y_test - y_test_pred) / y_test)) * 100:.3f}\\\"\\n)\";\n",
       "                var nbb_cells = Jupyter.notebook.get_cells();\n",
       "                for (var i = 0; i < nbb_cells.length; ++i) {\n",
       "                    if (nbb_cells[i].input_prompt_number == nbb_cell_id) {\n",
       "                        if (nbb_cells[i].get_text() == nbb_unformatted_code) {\n",
       "                             nbb_cells[i].set_text(nbb_formatted_code);\n",
       "                        }\n",
       "                        break;\n",
       "                    }\n",
       "                }\n",
       "            }, 500);\n",
       "            "
      ],
      "text/plain": [
       "<IPython.core.display.Javascript object>"
      ]
     },
     "metadata": {},
     "output_type": "display_data"
    }
   ],
   "source": [
    "print(\n",
    "    f\"alpha: {ridge_cv.best_estimator_.alpha}\\n\"\n",
    "    f\"Train score: {ridge_cv.best_estimator_.score(X_train, y_train):.3f}\\n\"\n",
    "    f\"Test: score: {ridge_cv.best_estimator_.score(X_test, y_test):.3f}\\n\"\n",
    "    f\"Mean absolute error: {mean_absolute_error(y_test, y_test_pred):.3f}\\n\"\n",
    "    f\"MSE: {mean_squared_error(y_test, y_test_pred):.3f}\\n\"\n",
    "    f\"RMSE: {mean_squared_error(y_test, y_test_pred, squared=False):.3f}\\n\"\n",
    "    f\"MAPE: {np.mean(np.abs((y_test - y_test_pred) / y_test)) * 100:.3f}\"\n",
    ")"
   ]
  },
  {
   "cell_type": "code",
   "execution_count": 19,
   "metadata": {},
   "outputs": [
    {
     "data": {
      "text/plain": [
       "Text(0, 0.5, 'Predicted prices')"
      ]
     },
     "execution_count": 19,
     "metadata": {},
     "output_type": "execute_result"
    },
    {
     "data": {
      "image/png": "[encoded data removed]",
      "text/plain": [
       "<Figure size 432x288 with 1 Axes>"
      ]
     },
     "metadata": {
      "needs_background": "light"
     },
     "output_type": "display_data"
    },
    {
     "data": {
      "application/javascript": [
       "\n",
       "            setTimeout(function() {\n",
       "                var nbb_cell_id = 19;\n",
       "                var nbb_unformatted_code = \"plt.scatter(y_test, y_test_pred)\\nplt.plot(y_test, y_test, color=\\\"r\\\")\\nplt.xlabel(\\\"True prices\\\")\\nplt.ylabel(\\\"Predicted prices\\\")\";\n",
       "                var nbb_formatted_code = \"plt.scatter(y_test, y_test_pred)\\nplt.plot(y_test, y_test, color=\\\"r\\\")\\nplt.xlabel(\\\"True prices\\\")\\nplt.ylabel(\\\"Predicted prices\\\")\";\n",
       "                var nbb_cells = Jupyter.notebook.get_cells();\n",
       "                for (var i = 0; i < nbb_cells.length; ++i) {\n",
       "                    if (nbb_cells[i].input_prompt_number == nbb_cell_id) {\n",
       "                        if (nbb_cells[i].get_text() == nbb_unformatted_code) {\n",
       "                             nbb_cells[i].set_text(nbb_formatted_code);\n",
       "                        }\n",
       "                        break;\n",
       "                    }\n",
       "                }\n",
       "            }, 500);\n",
       "            "
      ],
      "text/plain": [
       "<IPython.core.display.Javascript object>"
      ]
     },
     "metadata": {},
     "output_type": "display_data"
    }
   ],
   "source": [
    "plt.scatter(y_test, y_test_pred)\n",
    "plt.plot(y_test, y_test, color=\"r\")\n",
    "plt.xlabel(\"True prices\")\n",
    "plt.ylabel(\"Predicted prices\")"
   ]
  },
  {
   "cell_type": "code",
   "execution_count": 20,
   "metadata": {},
   "outputs": [
    {
     "name": "stderr",
     "output_type": "stream",
     "text": [
      "/Users/abilenky/miniconda3/lib/python3.8/site-packages/sklearn/linear_model/_coordinate_descent.py:474: ConvergenceWarning: Objective did not converge. You might want to increase the number of iterations. Duality gap: 42942746712.3396, tolerance: 517778630.9684587\n",
      "  model = cd_fast.enet_coordinate_descent(\n",
      "/Users/abilenky/miniconda3/lib/python3.8/site-packages/sklearn/linear_model/_coordinate_descent.py:474: ConvergenceWarning: Objective did not converge. You might want to increase the number of iterations. Duality gap: 42942867029.31653, tolerance: 517778630.9684587\n",
      "  model = cd_fast.enet_coordinate_descent(\n",
      "/Users/abilenky/miniconda3/lib/python3.8/site-packages/sklearn/linear_model/_coordinate_descent.py:474: ConvergenceWarning: Objective did not converge. You might want to increase the number of iterations. Duality gap: 42945006040.73572, tolerance: 517778630.9684587\n",
      "  model = cd_fast.enet_coordinate_descent(\n",
      "/Users/abilenky/miniconda3/lib/python3.8/site-packages/sklearn/linear_model/_coordinate_descent.py:474: ConvergenceWarning: Objective did not converge. You might want to increase the number of iterations. Duality gap: 42966513635.7489, tolerance: 517778630.9684587\n",
      "  model = cd_fast.enet_coordinate_descent(\n",
      "/Users/abilenky/miniconda3/lib/python3.8/site-packages/sklearn/linear_model/_coordinate_descent.py:474: ConvergenceWarning: Objective did not converge. You might want to increase the number of iterations. Duality gap: 43179512999.51611, tolerance: 517778630.9684587\n",
      "  model = cd_fast.enet_coordinate_descent(\n"
     ]
    },
    {
     "data": {
      "application/javascript": [
       "\n",
       "            setTimeout(function() {\n",
       "                var nbb_cell_id = 20;\n",
       "                var nbb_unformatted_code = \"# Lasso\\nlasso_cv = GridSearchCV(Lasso(max_iter=10000), grid, cv=5)\\nlasso_cv.fit(X_train, y_train)\\ny_test_pred = lasso_cv.best_estimator_.predict(X_test)\";\n",
       "                var nbb_formatted_code = \"# Lasso\\nlasso_cv = GridSearchCV(Lasso(max_iter=10000), grid, cv=5)\\nlasso_cv.fit(X_train, y_train)\\ny_test_pred = lasso_cv.best_estimator_.predict(X_test)\";\n",
       "                var nbb_cells = Jupyter.notebook.get_cells();\n",
       "                for (var i = 0; i < nbb_cells.length; ++i) {\n",
       "                    if (nbb_cells[i].input_prompt_number == nbb_cell_id) {\n",
       "                        if (nbb_cells[i].get_text() == nbb_unformatted_code) {\n",
       "                             nbb_cells[i].set_text(nbb_formatted_code);\n",
       "                        }\n",
       "                        break;\n",
       "                    }\n",
       "                }\n",
       "            }, 500);\n",
       "            "
      ],
      "text/plain": [
       "<IPython.core.display.Javascript object>"
      ]
     },
     "metadata": {},
     "output_type": "display_data"
    }
   ],
   "source": [
    "# Lasso\n",
    "lasso_cv = GridSearchCV(Lasso(max_iter=10000), grid, cv=5)\n",
    "lasso_cv.fit(X_train, y_train)\n",
    "y_test_pred = lasso_cv.best_estimator_.predict(X_test)"
   ]
  },
  {
   "cell_type": "code",
   "execution_count": 21,
   "metadata": {},
   "outputs": [
    {
     "name": "stdout",
     "output_type": "stream",
     "text": [
      "alpha: 1000.0\n",
      "Train score: 0.793\n",
      "Test: score: 0.845\n",
      "Mean absolute error: 21789.447\n",
      "MSE: 874502844.843\n",
      "RMSE: 29571.994\n",
      "MAPE: 13.486\n"
     ]
    },
    {
     "data": {
      "application/javascript": [
       "\n",
       "            setTimeout(function() {\n",
       "                var nbb_cell_id = 21;\n",
       "                var nbb_unformatted_code = \"print(\\n    f\\\"alpha: {lasso_cv.best_estimator_.alpha}\\\\n\\\"\\n    f\\\"Train score: {lasso_cv.best_estimator_.score(X_train, y_train):.3f}\\\\n\\\"\\n    f\\\"Test: score: {lasso_cv.best_estimator_.score(X_test, y_test):.3f}\\\\n\\\"\\n    f\\\"Mean absolute error: {mean_absolute_error(y_test, y_test_pred):.3f}\\\\n\\\"\\n    f\\\"MSE: {mean_squared_error(y_test, y_test_pred):.3f}\\\\n\\\"\\n    f\\\"RMSE: {mean_squared_error(y_test, y_test_pred, squared=False):.3f}\\\\n\\\"\\n    f\\\"MAPE: {np.mean(np.abs((y_test - y_test_pred) / y_test)) * 100:.3f}\\\"\\n)\";\n",
       "                var nbb_formatted_code = \"print(\\n    f\\\"alpha: {lasso_cv.best_estimator_.alpha}\\\\n\\\"\\n    f\\\"Train score: {lasso_cv.best_estimator_.score(X_train, y_train):.3f}\\\\n\\\"\\n    f\\\"Test: score: {lasso_cv.best_estimator_.score(X_test, y_test):.3f}\\\\n\\\"\\n    f\\\"Mean absolute error: {mean_absolute_error(y_test, y_test_pred):.3f}\\\\n\\\"\\n    f\\\"MSE: {mean_squared_error(y_test, y_test_pred):.3f}\\\\n\\\"\\n    f\\\"RMSE: {mean_squared_error(y_test, y_test_pred, squared=False):.3f}\\\\n\\\"\\n    f\\\"MAPE: {np.mean(np.abs((y_test - y_test_pred) / y_test)) * 100:.3f}\\\"\\n)\";\n",
       "                var nbb_cells = Jupyter.notebook.get_cells();\n",
       "                for (var i = 0; i < nbb_cells.length; ++i) {\n",
       "                    if (nbb_cells[i].input_prompt_number == nbb_cell_id) {\n",
       "                        if (nbb_cells[i].get_text() == nbb_unformatted_code) {\n",
       "                             nbb_cells[i].set_text(nbb_formatted_code);\n",
       "                        }\n",
       "                        break;\n",
       "                    }\n",
       "                }\n",
       "            }, 500);\n",
       "            "
      ],
      "text/plain": [
       "<IPython.core.display.Javascript object>"
      ]
     },
     "metadata": {},
     "output_type": "display_data"
    }
   ],
   "source": [
    "print(\n",
    "    f\"alpha: {lasso_cv.best_estimator_.alpha}\\n\"\n",
    "    f\"Train score: {lasso_cv.best_estimator_.score(X_train, y_train):.3f}\\n\"\n",
    "    f\"Test: score: {lasso_cv.best_estimator_.score(X_test, y_test):.3f}\\n\"\n",
    "    f\"Mean absolute error: {mean_absolute_error(y_test, y_test_pred):.3f}\\n\"\n",
    "    f\"MSE: {mean_squared_error(y_test, y_test_pred):.3f}\\n\"\n",
    "    f\"RMSE: {mean_squared_error(y_test, y_test_pred, squared=False):.3f}\\n\"\n",
    "    f\"MAPE: {np.mean(np.abs((y_test - y_test_pred) / y_test)) * 100:.3f}\"\n",
    ")"
   ]
  },
  {
   "cell_type": "code",
   "execution_count": 22,
   "metadata": {},
   "outputs": [
    {
     "data": {
      "text/plain": [
       "Text(0, 0.5, 'Predicted prices')"
      ]
     },
     "execution_count": 22,
     "metadata": {},
     "output_type": "execute_result"
    },
    {
     "data": {
      "image/png": "[encoded data removed]",
      "text/plain": [
       "<Figure size 432x288 with 1 Axes>"
      ]
     },
     "metadata": {
      "needs_background": "light"
     },
     "output_type": "display_data"
    },
    {
     "data": {
      "application/javascript": [
       "\n",
       "            setTimeout(function() {\n",
       "                var nbb_cell_id = 22;\n",
       "                var nbb_unformatted_code = \"plt.scatter(y_test, y_test_pred)\\nplt.plot(y_test, y_test, color=\\\"r\\\")\\nplt.xlabel(\\\"True prices\\\")\\nplt.ylabel(\\\"Predicted prices\\\")\";\n",
       "                var nbb_formatted_code = \"plt.scatter(y_test, y_test_pred)\\nplt.plot(y_test, y_test, color=\\\"r\\\")\\nplt.xlabel(\\\"True prices\\\")\\nplt.ylabel(\\\"Predicted prices\\\")\";\n",
       "                var nbb_cells = Jupyter.notebook.get_cells();\n",
       "                for (var i = 0; i < nbb_cells.length; ++i) {\n",
       "                    if (nbb_cells[i].input_prompt_number == nbb_cell_id) {\n",
       "                        if (nbb_cells[i].get_text() == nbb_unformatted_code) {\n",
       "                             nbb_cells[i].set_text(nbb_formatted_code);\n",
       "                        }\n",
       "                        break;\n",
       "                    }\n",
       "                }\n",
       "            }, 500);\n",
       "            "
      ],
      "text/plain": [
       "<IPython.core.display.Javascript object>"
      ]
     },
     "metadata": {},
     "output_type": "display_data"
    }
   ],
   "source": [
    "plt.scatter(y_test, y_test_pred)\n",
    "plt.plot(y_test, y_test, color=\"r\")\n",
    "plt.xlabel(\"True prices\")\n",
    "plt.ylabel(\"Predicted prices\")"
   ]
  },
  {
   "cell_type": "code",
   "execution_count": 23,
   "metadata": {},
   "outputs": [
    {
     "name": "stdout",
     "output_type": "stream",
     "text": [
      "Fitting 5 folds for each of 36 candidates, totalling 180 fits\n"
     ]
    },
    {
     "name": "stderr",
     "output_type": "stream",
     "text": [
      "[Parallel(n_jobs=1)]: Using backend SequentialBackend with 1 concurrent workers.\n",
      "/Users/abilenky/miniconda3/lib/python3.8/site-packages/sklearn/linear_model/_coordinate_descent.py:474: ConvergenceWarning: Objective did not converge. You might want to increase the number of iterations. Duality gap: 457599487127.6323, tolerance: 479289592.00731117\n",
      "  model = cd_fast.enet_coordinate_descent(\n",
      "/Users/abilenky/miniconda3/lib/python3.8/site-packages/sklearn/linear_model/_coordinate_descent.py:474: ConvergenceWarning: Objective did not converge. You might want to increase the number of iterations. Duality gap: 486596660817.35925, tolerance: 517778630.9684587\n",
      "  model = cd_fast.enet_coordinate_descent(\n",
      "/Users/abilenky/miniconda3/lib/python3.8/site-packages/sklearn/linear_model/_coordinate_descent.py:474: ConvergenceWarning: Objective did not converge. You might want to increase the number of iterations. Duality gap: 555577170536.7197, tolerance: 516698598.3375909\n",
      "  model = cd_fast.enet_coordinate_descent(\n",
      "/Users/abilenky/miniconda3/lib/python3.8/site-packages/sklearn/linear_model/_coordinate_descent.py:474: ConvergenceWarning: Objective did not converge. You might want to increase the number of iterations. Duality gap: 390221650924.92053, tolerance: 528840960.0464107\n",
      "  model = cd_fast.enet_coordinate_descent(\n",
      "/Users/abilenky/miniconda3/lib/python3.8/site-packages/sklearn/linear_model/_coordinate_descent.py:474: ConvergenceWarning: Objective did not converge. You might want to increase the number of iterations. Duality gap: 506589507052.2223, tolerance: 486023054.7027714\n",
      "  model = cd_fast.enet_coordinate_descent(\n",
      "/Users/abilenky/miniconda3/lib/python3.8/site-packages/sklearn/linear_model/_coordinate_descent.py:474: ConvergenceWarning: Objective did not converge. You might want to increase the number of iterations. Duality gap: 443453149771.3251, tolerance: 479289592.00731117\n",
      "  model = cd_fast.enet_coordinate_descent(\n",
      "/Users/abilenky/miniconda3/lib/python3.8/site-packages/sklearn/linear_model/_coordinate_descent.py:474: ConvergenceWarning: Objective did not converge. You might want to increase the number of iterations. Duality gap: 477510555457.8354, tolerance: 517778630.9684587\n",
      "  model = cd_fast.enet_coordinate_descent(\n",
      "/Users/abilenky/miniconda3/lib/python3.8/site-packages/sklearn/linear_model/_coordinate_descent.py:474: ConvergenceWarning: Objective did not converge. You might want to increase the number of iterations. Duality gap: 543986671836.74744, tolerance: 516698598.3375909\n",
      "  model = cd_fast.enet_coordinate_descent(\n",
      "/Users/abilenky/miniconda3/lib/python3.8/site-packages/sklearn/linear_model/_coordinate_descent.py:474: ConvergenceWarning: Objective did not converge. You might want to increase the number of iterations. Duality gap: 380477389482.64923, tolerance: 528840960.0464107\n",
      "  model = cd_fast.enet_coordinate_descent(\n",
      "/Users/abilenky/miniconda3/lib/python3.8/site-packages/sklearn/linear_model/_coordinate_descent.py:474: ConvergenceWarning: Objective did not converge. You might want to increase the number of iterations. Duality gap: 494888089697.2105, tolerance: 486023054.7027714\n",
      "  model = cd_fast.enet_coordinate_descent(\n",
      "/Users/abilenky/miniconda3/lib/python3.8/site-packages/sklearn/linear_model/_coordinate_descent.py:474: ConvergenceWarning: Objective did not converge. You might want to increase the number of iterations. Duality gap: 402536266525.75195, tolerance: 479289592.00731117\n",
      "  model = cd_fast.enet_coordinate_descent(\n",
      "/Users/abilenky/miniconda3/lib/python3.8/site-packages/sklearn/linear_model/_coordinate_descent.py:474: ConvergenceWarning: Objective did not converge. You might want to increase the number of iterations. Duality gap: 451026065987.2933, tolerance: 517778630.9684587\n",
      "  model = cd_fast.enet_coordinate_descent(\n",
      "/Users/abilenky/miniconda3/lib/python3.8/site-packages/sklearn/linear_model/_coordinate_descent.py:474: ConvergenceWarning: Objective did not converge. You might want to increase the number of iterations. Duality gap: 510249757291.60504, tolerance: 516698598.3375909\n",
      "  model = cd_fast.enet_coordinate_descent(\n",
      "/Users/abilenky/miniconda3/lib/python3.8/site-packages/sklearn/linear_model/_coordinate_descent.py:474: ConvergenceWarning: Objective did not converge. You might want to increase the number of iterations. Duality gap: 352843130054.90283, tolerance: 528840960.0464107\n",
      "  model = cd_fast.enet_coordinate_descent(\n",
      "/Users/abilenky/miniconda3/lib/python3.8/site-packages/sklearn/linear_model/_coordinate_descent.py:474: ConvergenceWarning: Objective did not converge. You might want to increase the number of iterations. Duality gap: 460871720879.92053, tolerance: 486023054.7027714\n",
      "  model = cd_fast.enet_coordinate_descent(\n",
      "/Users/abilenky/miniconda3/lib/python3.8/site-packages/sklearn/linear_model/_coordinate_descent.py:474: ConvergenceWarning: Objective did not converge. You might want to increase the number of iterations. Duality gap: 42942746712.3396, tolerance: 517778630.9684587\n",
      "  model = cd_fast.enet_coordinate_descent(\n",
      "/Users/abilenky/miniconda3/lib/python3.8/site-packages/sklearn/linear_model/_coordinate_descent.py:474: ConvergenceWarning: Objective did not converge. You might want to increase the number of iterations. Duality gap: 461159584914.78406, tolerance: 479289592.00731117\n",
      "  model = cd_fast.enet_coordinate_descent(\n",
      "/Users/abilenky/miniconda3/lib/python3.8/site-packages/sklearn/linear_model/_coordinate_descent.py:474: ConvergenceWarning: Objective did not converge. You might want to increase the number of iterations. Duality gap: 490126906080.78784, tolerance: 517778630.9684587\n",
      "  model = cd_fast.enet_coordinate_descent(\n",
      "/Users/abilenky/miniconda3/lib/python3.8/site-packages/sklearn/linear_model/_coordinate_descent.py:474: ConvergenceWarning: Objective did not converge. You might want to increase the number of iterations. Duality gap: 559722051399.5171, tolerance: 516698598.3375909\n",
      "  model = cd_fast.enet_coordinate_descent(\n",
      "/Users/abilenky/miniconda3/lib/python3.8/site-packages/sklearn/linear_model/_coordinate_descent.py:474: ConvergenceWarning: Objective did not converge. You might want to increase the number of iterations. Duality gap: 393832759351.9549, tolerance: 528840960.0464107\n",
      "  model = cd_fast.enet_coordinate_descent(\n",
      "/Users/abilenky/miniconda3/lib/python3.8/site-packages/sklearn/linear_model/_coordinate_descent.py:474: ConvergenceWarning: Objective did not converge. You might want to increase the number of iterations. Duality gap: 510549429084.08246, tolerance: 486023054.7027714\n",
      "  model = cd_fast.enet_coordinate_descent(\n",
      "/Users/abilenky/miniconda3/lib/python3.8/site-packages/sklearn/linear_model/_coordinate_descent.py:474: ConvergenceWarning: Objective did not converge. You might want to increase the number of iterations. Duality gap: 446328213268.87427, tolerance: 479289592.00731117\n",
      "  model = cd_fast.enet_coordinate_descent(\n",
      "/Users/abilenky/miniconda3/lib/python3.8/site-packages/sklearn/linear_model/_coordinate_descent.py:474: ConvergenceWarning: Objective did not converge. You might want to increase the number of iterations. Duality gap: 480019836798.88086, tolerance: 517778630.9684587\n",
      "  model = cd_fast.enet_coordinate_descent(\n",
      "/Users/abilenky/miniconda3/lib/python3.8/site-packages/sklearn/linear_model/_coordinate_descent.py:474: ConvergenceWarning: Objective did not converge. You might want to increase the number of iterations. Duality gap: 547076946564.1366, tolerance: 516698598.3375909\n",
      "  model = cd_fast.enet_coordinate_descent(\n",
      "/Users/abilenky/miniconda3/lib/python3.8/site-packages/sklearn/linear_model/_coordinate_descent.py:474: ConvergenceWarning: Objective did not converge. You might want to increase the number of iterations. Duality gap: 382956594846.1459, tolerance: 528840960.0464107\n",
      "  model = cd_fast.enet_coordinate_descent(\n",
      "/Users/abilenky/miniconda3/lib/python3.8/site-packages/sklearn/linear_model/_coordinate_descent.py:474: ConvergenceWarning: Objective did not converge. You might want to increase the number of iterations. Duality gap: 497751197082.64996, tolerance: 486023054.7027714\n",
      "  model = cd_fast.enet_coordinate_descent(\n",
      "/Users/abilenky/miniconda3/lib/python3.8/site-packages/sklearn/linear_model/_coordinate_descent.py:474: ConvergenceWarning: Objective did not converge. You might want to increase the number of iterations. Duality gap: 404672654679.4751, tolerance: 479289592.00731117\n",
      "  model = cd_fast.enet_coordinate_descent(\n"
     ]
    },
    {
     "name": "stderr",
     "output_type": "stream",
     "text": [
      "/Users/abilenky/miniconda3/lib/python3.8/site-packages/sklearn/linear_model/_coordinate_descent.py:474: ConvergenceWarning: Objective did not converge. You might want to increase the number of iterations. Duality gap: 452464301908.4079, tolerance: 517778630.9684587\n",
      "  model = cd_fast.enet_coordinate_descent(\n",
      "/Users/abilenky/miniconda3/lib/python3.8/site-packages/sklearn/linear_model/_coordinate_descent.py:474: ConvergenceWarning: Objective did not converge. You might want to increase the number of iterations. Duality gap: 512200700103.17474, tolerance: 516698598.3375909\n",
      "  model = cd_fast.enet_coordinate_descent(\n",
      "/Users/abilenky/miniconda3/lib/python3.8/site-packages/sklearn/linear_model/_coordinate_descent.py:474: ConvergenceWarning: Objective did not converge. You might want to increase the number of iterations. Duality gap: 354053852028.02576, tolerance: 528840960.0464107\n",
      "  model = cd_fast.enet_coordinate_descent(\n",
      "/Users/abilenky/miniconda3/lib/python3.8/site-packages/sklearn/linear_model/_coordinate_descent.py:474: ConvergenceWarning: Objective did not converge. You might want to increase the number of iterations. Duality gap: 462580457621.1093, tolerance: 486023054.7027714\n",
      "  model = cd_fast.enet_coordinate_descent(\n",
      "/Users/abilenky/miniconda3/lib/python3.8/site-packages/sklearn/linear_model/_coordinate_descent.py:474: ConvergenceWarning: Objective did not converge. You might want to increase the number of iterations. Duality gap: 42942867029.31653, tolerance: 517778630.9684587\n",
      "  model = cd_fast.enet_coordinate_descent(\n",
      "/Users/abilenky/miniconda3/lib/python3.8/site-packages/sklearn/linear_model/_coordinate_descent.py:474: ConvergenceWarning: Objective did not converge. You might want to increase the number of iterations. Duality gap: 482331062716.0129, tolerance: 479289592.00731117\n",
      "  model = cd_fast.enet_coordinate_descent(\n",
      "/Users/abilenky/miniconda3/lib/python3.8/site-packages/sklearn/linear_model/_coordinate_descent.py:474: ConvergenceWarning: Objective did not converge. You might want to increase the number of iterations. Duality gap: 513579081471.1266, tolerance: 517778630.9684587\n",
      "  model = cd_fast.enet_coordinate_descent(\n",
      "/Users/abilenky/miniconda3/lib/python3.8/site-packages/sklearn/linear_model/_coordinate_descent.py:474: ConvergenceWarning: Objective did not converge. You might want to increase the number of iterations. Duality gap: 583919818281.5863, tolerance: 516698598.3375909\n",
      "  model = cd_fast.enet_coordinate_descent(\n",
      "/Users/abilenky/miniconda3/lib/python3.8/site-packages/sklearn/linear_model/_coordinate_descent.py:474: ConvergenceWarning: Objective did not converge. You might want to increase the number of iterations. Duality gap: 412270790833.2618, tolerance: 528840960.0464107\n",
      "  model = cd_fast.enet_coordinate_descent(\n",
      "/Users/abilenky/miniconda3/lib/python3.8/site-packages/sklearn/linear_model/_coordinate_descent.py:474: ConvergenceWarning: Objective did not converge. You might want to increase the number of iterations. Duality gap: 535739414902.82623, tolerance: 486023054.7027714\n",
      "  model = cd_fast.enet_coordinate_descent(\n",
      "/Users/abilenky/miniconda3/lib/python3.8/site-packages/sklearn/linear_model/_coordinate_descent.py:474: ConvergenceWarning: Objective did not converge. You might want to increase the number of iterations. Duality gap: 463752025198.7427, tolerance: 479289592.00731117\n",
      "  model = cd_fast.enet_coordinate_descent(\n",
      "/Users/abilenky/miniconda3/lib/python3.8/site-packages/sklearn/linear_model/_coordinate_descent.py:474: ConvergenceWarning: Objective did not converge. You might want to increase the number of iterations. Duality gap: 497594723602.55835, tolerance: 517778630.9684587\n",
      "  model = cd_fast.enet_coordinate_descent(\n",
      "/Users/abilenky/miniconda3/lib/python3.8/site-packages/sklearn/linear_model/_coordinate_descent.py:474: ConvergenceWarning: Objective did not converge. You might want to increase the number of iterations. Duality gap: 566239916317.4666, tolerance: 516698598.3375909\n",
      "  model = cd_fast.enet_coordinate_descent(\n",
      "/Users/abilenky/miniconda3/lib/python3.8/site-packages/sklearn/linear_model/_coordinate_descent.py:474: ConvergenceWarning: Objective did not converge. You might want to increase the number of iterations. Duality gap: 396815343653.1084, tolerance: 528840960.0464107\n",
      "  model = cd_fast.enet_coordinate_descent(\n",
      "/Users/abilenky/miniconda3/lib/python3.8/site-packages/sklearn/linear_model/_coordinate_descent.py:474: ConvergenceWarning: Objective did not converge. You might want to increase the number of iterations. Duality gap: 517130258200.52295, tolerance: 486023054.7027714\n",
      "  model = cd_fast.enet_coordinate_descent(\n",
      "/Users/abilenky/miniconda3/lib/python3.8/site-packages/sklearn/linear_model/_coordinate_descent.py:474: ConvergenceWarning: Objective did not converge. You might want to increase the number of iterations. Duality gap: 418516703097.928, tolerance: 479289592.00731117\n",
      "  model = cd_fast.enet_coordinate_descent(\n",
      "/Users/abilenky/miniconda3/lib/python3.8/site-packages/sklearn/linear_model/_coordinate_descent.py:474: ConvergenceWarning: Objective did not converge. You might want to increase the number of iterations. Duality gap: 463203795395.1098, tolerance: 517778630.9684587\n",
      "  model = cd_fast.enet_coordinate_descent(\n",
      "/Users/abilenky/miniconda3/lib/python3.8/site-packages/sklearn/linear_model/_coordinate_descent.py:474: ConvergenceWarning: Objective did not converge. You might want to increase the number of iterations. Duality gap: 525597978519.3365, tolerance: 516698598.3375909\n",
      "  model = cd_fast.enet_coordinate_descent(\n",
      "/Users/abilenky/miniconda3/lib/python3.8/site-packages/sklearn/linear_model/_coordinate_descent.py:474: ConvergenceWarning: Objective did not converge. You might want to increase the number of iterations. Duality gap: 362017822900.32794, tolerance: 528840960.0464107\n",
      "  model = cd_fast.enet_coordinate_descent(\n",
      "/Users/abilenky/miniconda3/lib/python3.8/site-packages/sklearn/linear_model/_coordinate_descent.py:474: ConvergenceWarning: Objective did not converge. You might want to increase the number of iterations. Duality gap: 475069456528.2938, tolerance: 486023054.7027714\n",
      "  model = cd_fast.enet_coordinate_descent(\n",
      "/Users/abilenky/miniconda3/lib/python3.8/site-packages/sklearn/linear_model/_coordinate_descent.py:474: ConvergenceWarning: Objective did not converge. You might want to increase the number of iterations. Duality gap: 42945006040.73572, tolerance: 517778630.9684587\n",
      "  model = cd_fast.enet_coordinate_descent(\n",
      "/Users/abilenky/miniconda3/lib/python3.8/site-packages/sklearn/linear_model/_coordinate_descent.py:474: ConvergenceWarning: Objective did not converge. You might want to increase the number of iterations. Duality gap: 554606186241.4233, tolerance: 479289592.00731117\n",
      "  model = cd_fast.enet_coordinate_descent(\n",
      "/Users/abilenky/miniconda3/lib/python3.8/site-packages/sklearn/linear_model/_coordinate_descent.py:474: ConvergenceWarning: Objective did not converge. You might want to increase the number of iterations. Duality gap: 591339887617.2043, tolerance: 517778630.9684587\n",
      "  model = cd_fast.enet_coordinate_descent(\n",
      "/Users/abilenky/miniconda3/lib/python3.8/site-packages/sklearn/linear_model/_coordinate_descent.py:474: ConvergenceWarning: Objective did not converge. You might want to increase the number of iterations. Duality gap: 663228105948.8715, tolerance: 516698598.3375909\n",
      "  model = cd_fast.enet_coordinate_descent(\n",
      "/Users/abilenky/miniconda3/lib/python3.8/site-packages/sklearn/linear_model/_coordinate_descent.py:474: ConvergenceWarning: Objective did not converge. You might want to increase the number of iterations. Duality gap: 472366238259.27936, tolerance: 528840960.0464107\n",
      "  model = cd_fast.enet_coordinate_descent(\n",
      "/Users/abilenky/miniconda3/lib/python3.8/site-packages/sklearn/linear_model/_coordinate_descent.py:474: ConvergenceWarning: Objective did not converge. You might want to increase the number of iterations. Duality gap: 614156757363.0791, tolerance: 486023054.7027714\n",
      "  model = cd_fast.enet_coordinate_descent(\n",
      "/Users/abilenky/miniconda3/lib/python3.8/site-packages/sklearn/linear_model/_coordinate_descent.py:474: ConvergenceWarning: Objective did not converge. You might want to increase the number of iterations. Duality gap: 527961329684.0328, tolerance: 479289592.00731117\n",
      "  model = cd_fast.enet_coordinate_descent(\n"
     ]
    },
    {
     "name": "stderr",
     "output_type": "stream",
     "text": [
      "/Users/abilenky/miniconda3/lib/python3.8/site-packages/sklearn/linear_model/_coordinate_descent.py:474: ConvergenceWarning: Objective did not converge. You might want to increase the number of iterations. Duality gap: 565351358832.577, tolerance: 517778630.9684587\n",
      "  model = cd_fast.enet_coordinate_descent(\n",
      "/Users/abilenky/miniconda3/lib/python3.8/site-packages/sklearn/linear_model/_coordinate_descent.py:474: ConvergenceWarning: Objective did not converge. You might want to increase the number of iterations. Duality gap: 636249171496.2264, tolerance: 516698598.3375909\n",
      "  model = cd_fast.enet_coordinate_descent(\n",
      "/Users/abilenky/miniconda3/lib/python3.8/site-packages/sklearn/linear_model/_coordinate_descent.py:474: ConvergenceWarning: Objective did not converge. You might want to increase the number of iterations. Duality gap: 447177136812.9403, tolerance: 528840960.0464107\n",
      "  model = cd_fast.enet_coordinate_descent(\n",
      "/Users/abilenky/miniconda3/lib/python3.8/site-packages/sklearn/linear_model/_coordinate_descent.py:474: ConvergenceWarning: Objective did not converge. You might want to increase the number of iterations. Duality gap: 587242720545.1969, tolerance: 486023054.7027714\n",
      "  model = cd_fast.enet_coordinate_descent(\n",
      "/Users/abilenky/miniconda3/lib/python3.8/site-packages/sklearn/linear_model/_coordinate_descent.py:474: ConvergenceWarning: Objective did not converge. You might want to increase the number of iterations. Duality gap: 470016143750.05096, tolerance: 479289592.00731117\n",
      "  model = cd_fast.enet_coordinate_descent(\n",
      "/Users/abilenky/miniconda3/lib/python3.8/site-packages/sklearn/linear_model/_coordinate_descent.py:474: ConvergenceWarning: Objective did not converge. You might want to increase the number of iterations. Duality gap: 512238813824.28876, tolerance: 517778630.9684587\n",
      "  model = cd_fast.enet_coordinate_descent(\n",
      "/Users/abilenky/miniconda3/lib/python3.8/site-packages/sklearn/linear_model/_coordinate_descent.py:474: ConvergenceWarning: Objective did not converge. You might want to increase the number of iterations. Duality gap: 579544513054.9286, tolerance: 516698598.3375909\n",
      "  model = cd_fast.enet_coordinate_descent(\n",
      "/Users/abilenky/miniconda3/lib/python3.8/site-packages/sklearn/linear_model/_coordinate_descent.py:474: ConvergenceWarning: Objective did not converge. You might want to increase the number of iterations. Duality gap: 395480941090.25543, tolerance: 528840960.0464107\n",
      "  model = cd_fast.enet_coordinate_descent(\n",
      "/Users/abilenky/miniconda3/lib/python3.8/site-packages/sklearn/linear_model/_coordinate_descent.py:474: ConvergenceWarning: Objective did not converge. You might want to increase the number of iterations. Duality gap: 529020098030.3456, tolerance: 486023054.7027714\n",
      "  model = cd_fast.enet_coordinate_descent(\n",
      "/Users/abilenky/miniconda3/lib/python3.8/site-packages/sklearn/linear_model/_coordinate_descent.py:474: ConvergenceWarning: Objective did not converge. You might want to increase the number of iterations. Duality gap: 42966513635.7489, tolerance: 517778630.9684587\n",
      "  model = cd_fast.enet_coordinate_descent(\n",
      "/Users/abilenky/miniconda3/lib/python3.8/site-packages/sklearn/linear_model/_coordinate_descent.py:474: ConvergenceWarning: Objective did not converge. You might want to increase the number of iterations. Duality gap: 612652183363.156, tolerance: 479289592.00731117\n",
      "  model = cd_fast.enet_coordinate_descent(\n",
      "/Users/abilenky/miniconda3/lib/python3.8/site-packages/sklearn/linear_model/_coordinate_descent.py:474: ConvergenceWarning: Objective did not converge. You might want to increase the number of iterations. Duality gap: 649531712899.9867, tolerance: 517778630.9684587\n",
      "  model = cd_fast.enet_coordinate_descent(\n",
      "/Users/abilenky/miniconda3/lib/python3.8/site-packages/sklearn/linear_model/_coordinate_descent.py:474: ConvergenceWarning: Objective did not converge. You might want to increase the number of iterations. Duality gap: 726607154867.4027, tolerance: 516698598.3375909\n",
      "  model = cd_fast.enet_coordinate_descent(\n",
      "/Users/abilenky/miniconda3/lib/python3.8/site-packages/sklearn/linear_model/_coordinate_descent.py:474: ConvergenceWarning: Objective did not converge. You might want to increase the number of iterations. Duality gap: 518149251700.05676, tolerance: 528840960.0464107\n",
      "  model = cd_fast.enet_coordinate_descent(\n",
      "/Users/abilenky/miniconda3/lib/python3.8/site-packages/sklearn/linear_model/_coordinate_descent.py:474: ConvergenceWarning: Objective did not converge. You might want to increase the number of iterations. Duality gap: 672198787282.7963, tolerance: 486023054.7027714\n",
      "  model = cd_fast.enet_coordinate_descent(\n",
      "/Users/abilenky/miniconda3/lib/python3.8/site-packages/sklearn/linear_model/_coordinate_descent.py:474: ConvergenceWarning: Objective did not converge. You might want to increase the number of iterations. Duality gap: 592527672059.5692, tolerance: 479289592.00731117\n",
      "  model = cd_fast.enet_coordinate_descent(\n",
      "/Users/abilenky/miniconda3/lib/python3.8/site-packages/sklearn/linear_model/_coordinate_descent.py:474: ConvergenceWarning: Objective did not converge. You might want to increase the number of iterations. Duality gap: 629170640172.5099, tolerance: 517778630.9684587\n",
      "  model = cd_fast.enet_coordinate_descent(\n",
      "/Users/abilenky/miniconda3/lib/python3.8/site-packages/sklearn/linear_model/_coordinate_descent.py:474: ConvergenceWarning: Objective did not converge. You might want to increase the number of iterations. Duality gap: 707234317272.4302, tolerance: 516698598.3375909\n",
      "  model = cd_fast.enet_coordinate_descent(\n",
      "/Users/abilenky/miniconda3/lib/python3.8/site-packages/sklearn/linear_model/_coordinate_descent.py:474: ConvergenceWarning: Objective did not converge. You might want to increase the number of iterations. Duality gap: 498303214366.2904, tolerance: 528840960.0464107\n",
      "  model = cd_fast.enet_coordinate_descent(\n",
      "/Users/abilenky/miniconda3/lib/python3.8/site-packages/sklearn/linear_model/_coordinate_descent.py:474: ConvergenceWarning: Objective did not converge. You might want to increase the number of iterations. Duality gap: 652565030968.5865, tolerance: 486023054.7027714\n",
      "  model = cd_fast.enet_coordinate_descent(\n",
      "/Users/abilenky/miniconda3/lib/python3.8/site-packages/sklearn/linear_model/_coordinate_descent.py:474: ConvergenceWarning: Objective did not converge. You might want to increase the number of iterations. Duality gap: 547169365796.50507, tolerance: 479289592.00731117\n",
      "  model = cd_fast.enet_coordinate_descent(\n",
      "/Users/abilenky/miniconda3/lib/python3.8/site-packages/sklearn/linear_model/_coordinate_descent.py:474: ConvergenceWarning: Objective did not converge. You might want to increase the number of iterations. Duality gap: 584294876026.7605, tolerance: 517778630.9684587\n",
      "  model = cd_fast.enet_coordinate_descent(\n",
      "/Users/abilenky/miniconda3/lib/python3.8/site-packages/sklearn/linear_model/_coordinate_descent.py:474: ConvergenceWarning: Objective did not converge. You might want to increase the number of iterations. Duality gap: 663266255228.6593, tolerance: 516698598.3375909\n",
      "  model = cd_fast.enet_coordinate_descent(\n",
      "/Users/abilenky/miniconda3/lib/python3.8/site-packages/sklearn/linear_model/_coordinate_descent.py:474: ConvergenceWarning: Objective did not converge. You might want to increase the number of iterations. Duality gap: 453391888959.5318, tolerance: 528840960.0464107\n",
      "  model = cd_fast.enet_coordinate_descent(\n",
      "/Users/abilenky/miniconda3/lib/python3.8/site-packages/sklearn/linear_model/_coordinate_descent.py:474: ConvergenceWarning: Objective did not converge. You might want to increase the number of iterations. Duality gap: 607927150734.0881, tolerance: 486023054.7027714\n",
      "  model = cd_fast.enet_coordinate_descent(\n",
      "/Users/abilenky/miniconda3/lib/python3.8/site-packages/sklearn/linear_model/_coordinate_descent.py:474: ConvergenceWarning: Objective did not converge. You might want to increase the number of iterations. Duality gap: 43179512999.51611, tolerance: 517778630.9684587\n",
      "  model = cd_fast.enet_coordinate_descent(\n",
      "/Users/abilenky/miniconda3/lib/python3.8/site-packages/sklearn/linear_model/_coordinate_descent.py:474: ConvergenceWarning: Objective did not converge. You might want to increase the number of iterations. Duality gap: 3140863694.970703, tolerance: 479289592.00731117\n",
      "  model = cd_fast.enet_coordinate_descent(\n"
     ]
    },
    {
     "name": "stderr",
     "output_type": "stream",
     "text": [
      "/Users/abilenky/miniconda3/lib/python3.8/site-packages/sklearn/linear_model/_coordinate_descent.py:474: ConvergenceWarning: Objective did not converge. You might want to increase the number of iterations. Duality gap: 527461103.1430664, tolerance: 517778630.9684587\n",
      "  model = cd_fast.enet_coordinate_descent(\n",
      "[Parallel(n_jobs=1)]: Done 180 out of 180 | elapsed:   39.5s finished\n"
     ]
    },
    {
     "data": {
      "application/javascript": [
       "\n",
       "            setTimeout(function() {\n",
       "                var nbb_cell_id = 23;\n",
       "                var nbb_unformatted_code = \"# ElasticNet\\n\\ngrid = {\\\"alpha\\\": np.logspace(-3, 5, 9),\\n        'l1_ratio':[0.25,0.5,0.75, 1]\\n       }\\n\\n\\nelastic_cv = GridSearchCV(ElasticNet(max_iter=10000), grid, cv=5, verbose=1)\\nelastic_cv.fit(X_train, y_train)\\ny_test_pred = elastic_cv.best_estimator_.predict(X_test)\";\n",
       "                var nbb_formatted_code = \"# ElasticNet\\n\\ngrid = {\\\"alpha\\\": np.logspace(-3, 5, 9), \\\"l1_ratio\\\": [0.25, 0.5, 0.75, 1]}\\n\\n\\nelastic_cv = GridSearchCV(ElasticNet(max_iter=10000), grid, cv=5, verbose=1)\\nelastic_cv.fit(X_train, y_train)\\ny_test_pred = elastic_cv.best_estimator_.predict(X_test)\";\n",
       "                var nbb_cells = Jupyter.notebook.get_cells();\n",
       "                for (var i = 0; i < nbb_cells.length; ++i) {\n",
       "                    if (nbb_cells[i].input_prompt_number == nbb_cell_id) {\n",
       "                        if (nbb_cells[i].get_text() == nbb_unformatted_code) {\n",
       "                             nbb_cells[i].set_text(nbb_formatted_code);\n",
       "                        }\n",
       "                        break;\n",
       "                    }\n",
       "                }\n",
       "            }, 500);\n",
       "            "
      ],
      "text/plain": [
       "<IPython.core.display.Javascript object>"
      ]
     },
     "metadata": {},
     "output_type": "display_data"
    }
   ],
   "source": [
    "# ElasticNet\n",
    "\n",
    "grid = {\"alpha\": np.logspace(-3, 5, 9),\n",
    "        'l1_ratio':[0.25,0.5,0.75, 1]\n",
    "       }\n",
    "\n",
    "\n",
    "elastic_cv = GridSearchCV(ElasticNet(max_iter=10000), grid, cv=5, verbose=1)\n",
    "elastic_cv.fit(X_train, y_train)\n",
    "y_test_pred = elastic_cv.best_estimator_.predict(X_test)\n"
   ]
  },
  {
   "cell_type": "code",
   "execution_count": 24,
   "metadata": {},
   "outputs": [
    {
     "name": "stdout",
     "output_type": "stream",
     "text": [
      "alpha: 1000.0\n",
      "l1 ratio: 1\n",
      "Train score: 0.793\n",
      "Test: score: 0.845\n",
      "Mean absolute error: 21789.447\n",
      "MSE: 874502844.843\n",
      "RMSE: 29571.994\n",
      "MAPE: 13.486\n"
     ]
    },
    {
     "data": {
      "application/javascript": [
       "\n",
       "            setTimeout(function() {\n",
       "                var nbb_cell_id = 24;\n",
       "                var nbb_unformatted_code = \"print(\\n    f\\\"alpha: {elastic_cv.best_estimator_.alpha}\\\\n\\\"\\n    f\\\"l1 ratio: {elastic_cv.best_estimator_.l1_ratio}\\\\n\\\"\\n    f\\\"Train score: {elastic_cv.best_estimator_.score(X_train, y_train):.3f}\\\\n\\\"\\n    f\\\"Test: score: {elastic_cv.best_estimator_.score(X_test, y_test):.3f}\\\\n\\\"\\n    f\\\"Mean absolute error: {mean_absolute_error(y_test, y_test_pred):.3f}\\\\n\\\"\\n    f\\\"MSE: {mean_squared_error(y_test, y_test_pred):.3f}\\\\n\\\"\\n    f\\\"RMSE: {mean_squared_error(y_test, y_test_pred, squared=False):.3f}\\\\n\\\"\\n    f\\\"MAPE: {np.mean(np.abs((y_test - y_test_pred) / y_test)) * 100:.3f}\\\"\\n)\";\n",
       "                var nbb_formatted_code = \"print(\\n    f\\\"alpha: {elastic_cv.best_estimator_.alpha}\\\\n\\\"\\n    f\\\"l1 ratio: {elastic_cv.best_estimator_.l1_ratio}\\\\n\\\"\\n    f\\\"Train score: {elastic_cv.best_estimator_.score(X_train, y_train):.3f}\\\\n\\\"\\n    f\\\"Test: score: {elastic_cv.best_estimator_.score(X_test, y_test):.3f}\\\\n\\\"\\n    f\\\"Mean absolute error: {mean_absolute_error(y_test, y_test_pred):.3f}\\\\n\\\"\\n    f\\\"MSE: {mean_squared_error(y_test, y_test_pred):.3f}\\\\n\\\"\\n    f\\\"RMSE: {mean_squared_error(y_test, y_test_pred, squared=False):.3f}\\\\n\\\"\\n    f\\\"MAPE: {np.mean(np.abs((y_test - y_test_pred) / y_test)) * 100:.3f}\\\"\\n)\";\n",
       "                var nbb_cells = Jupyter.notebook.get_cells();\n",
       "                for (var i = 0; i < nbb_cells.length; ++i) {\n",
       "                    if (nbb_cells[i].input_prompt_number == nbb_cell_id) {\n",
       "                        if (nbb_cells[i].get_text() == nbb_unformatted_code) {\n",
       "                             nbb_cells[i].set_text(nbb_formatted_code);\n",
       "                        }\n",
       "                        break;\n",
       "                    }\n",
       "                }\n",
       "            }, 500);\n",
       "            "
      ],
      "text/plain": [
       "<IPython.core.display.Javascript object>"
      ]
     },
     "metadata": {},
     "output_type": "display_data"
    }
   ],
   "source": [
    "print(\n",
    "    f\"alpha: {elastic_cv.best_estimator_.alpha}\\n\"\n",
    "    f\"l1 ratio: {elastic_cv.best_estimator_.l1_ratio}\\n\"\n",
    "    f\"Train score: {elastic_cv.best_estimator_.score(X_train, y_train):.3f}\\n\"\n",
    "    f\"Test: score: {elastic_cv.best_estimator_.score(X_test, y_test):.3f}\\n\"\n",
    "    f\"Mean absolute error: {mean_absolute_error(y_test, y_test_pred):.3f}\\n\"\n",
    "    f\"MSE: {mean_squared_error(y_test, y_test_pred):.3f}\\n\"\n",
    "    f\"RMSE: {mean_squared_error(y_test, y_test_pred, squared=False):.3f}\\n\"\n",
    "    f\"MAPE: {np.mean(np.abs((y_test - y_test_pred) / y_test)) * 100:.3f}\"\n",
    ")"
   ]
  },
  {
   "cell_type": "code",
   "execution_count": 25,
   "metadata": {},
   "outputs": [
    {
     "data": {
      "text/plain": [
       "Text(0, 0.5, 'Predicted prices')"
      ]
     },
     "execution_count": 25,
     "metadata": {},
     "output_type": "execute_result"
    },
    {
     "data": {
      "image/png": "[encoded data removed]",
      "text/plain": [
       "<Figure size 432x288 with 1 Axes>"
      ]
     },
     "metadata": {
      "needs_background": "light"
     },
     "output_type": "display_data"
    },
    {
     "data": {
      "application/javascript": [
       "\n",
       "            setTimeout(function() {\n",
       "                var nbb_cell_id = 25;\n",
       "                var nbb_unformatted_code = \"plt.scatter(y_test, y_test_pred)\\nplt.plot(y_test, y_test, color=\\\"r\\\")\\nplt.xlabel(\\\"True prices\\\")\\nplt.ylabel(\\\"Predicted prices\\\")\";\n",
       "                var nbb_formatted_code = \"plt.scatter(y_test, y_test_pred)\\nplt.plot(y_test, y_test, color=\\\"r\\\")\\nplt.xlabel(\\\"True prices\\\")\\nplt.ylabel(\\\"Predicted prices\\\")\";\n",
       "                var nbb_cells = Jupyter.notebook.get_cells();\n",
       "                for (var i = 0; i < nbb_cells.length; ++i) {\n",
       "                    if (nbb_cells[i].input_prompt_number == nbb_cell_id) {\n",
       "                        if (nbb_cells[i].get_text() == nbb_unformatted_code) {\n",
       "                             nbb_cells[i].set_text(nbb_formatted_code);\n",
       "                        }\n",
       "                        break;\n",
       "                    }\n",
       "                }\n",
       "            }, 500);\n",
       "            "
      ],
      "text/plain": [
       "<IPython.core.display.Javascript object>"
      ]
     },
     "metadata": {},
     "output_type": "display_data"
    }
   ],
   "source": [
    "plt.scatter(y_test, y_test_pred)\n",
    "plt.plot(y_test, y_test, color=\"r\")\n",
    "plt.xlabel(\"True prices\")\n",
    "plt.ylabel(\"Predicted prices\")"
   ]
  },
  {
   "cell_type": "code",
   "execution_count": 36,
   "metadata": {},
   "outputs": [
    {
     "data": {
      "text/plain": [
       "[2006, 2007, 2008, 2009, 2010]"
      ]
     },
     "execution_count": 36,
     "metadata": {},
     "output_type": "execute_result"
    },
    {
     "data": {
      "application/javascript": [
       "\n",
       "            setTimeout(function() {\n",
       "                var nbb_cell_id = 36;\n",
       "                var nbb_unformatted_code = \"years = list(prices_df.yrsold.unique())\\nyears.sort()\\nyears\";\n",
       "                var nbb_formatted_code = \"years = list(prices_df.yrsold.unique())\\nyears.sort()\\nyears\";\n",
       "                var nbb_cells = Jupyter.notebook.get_cells();\n",
       "                for (var i = 0; i < nbb_cells.length; ++i) {\n",
       "                    if (nbb_cells[i].input_prompt_number == nbb_cell_id) {\n",
       "                        if (nbb_cells[i].get_text() == nbb_unformatted_code) {\n",
       "                             nbb_cells[i].set_text(nbb_formatted_code);\n",
       "                        }\n",
       "                        break;\n",
       "                    }\n",
       "                }\n",
       "            }, 500);\n",
       "            "
      ],
      "text/plain": [
       "<IPython.core.display.Javascript object>"
      ]
     },
     "metadata": {},
     "output_type": "display_data"
    }
   ],
   "source": [
    "years = list(prices_df.yrsold.unique())\n",
    "years.sort()\n",
    "years"
   ]
  },
  {
   "cell_type": "markdown",
   "metadata": {},
   "source": [
    "interest rates found here: http://www.freddiemac.com/pmms/pmms30.html\n"
   ]
  },
  {
   "cell_type": "code",
   "execution_count": 37,
   "metadata": {},
   "outputs": [
    {
     "data": {
      "application/javascript": [
       "\n",
       "            setTimeout(function() {\n",
       "                var nbb_cell_id = 37;\n",
       "                var nbb_unformatted_code = \"interest_rates = {2006:6.41, 2007:6.34, 2008:6.03, 2009:5.04, 2010:4.69}\";\n",
       "                var nbb_formatted_code = \"interest_rates = {2006: 6.41, 2007: 6.34, 2008: 6.03, 2009: 5.04, 2010: 4.69}\";\n",
       "                var nbb_cells = Jupyter.notebook.get_cells();\n",
       "                for (var i = 0; i < nbb_cells.length; ++i) {\n",
       "                    if (nbb_cells[i].input_prompt_number == nbb_cell_id) {\n",
       "                        if (nbb_cells[i].get_text() == nbb_unformatted_code) {\n",
       "                             nbb_cells[i].set_text(nbb_formatted_code);\n",
       "                        }\n",
       "                        break;\n",
       "                    }\n",
       "                }\n",
       "            }, 500);\n",
       "            "
      ],
      "text/plain": [
       "<IPython.core.display.Javascript object>"
      ]
     },
     "metadata": {},
     "output_type": "display_data"
    }
   ],
   "source": [
    "interest_rates = {2006: 6.41, 2007: 6.34, 2008: 6.03, 2009: 5.04, 2010: 4.69}"
   ]
  },
  {
   "cell_type": "code",
   "execution_count": 42,
   "metadata": {},
   "outputs": [
    {
     "data": {
      "application/javascript": [
       "\n",
       "            setTimeout(function() {\n",
       "                var nbb_cell_id = 42;\n",
       "                var nbb_unformatted_code = \"X['interest_rate'] = X.yrsold.map(interest_rates)\\n\\nX_train, X_test, y_train, y_test = train_test_split(X, y, test_size=0.2)\";\n",
       "                var nbb_formatted_code = \"X[\\\"interest_rate\\\"] = X.yrsold.map(interest_rates)\\n\\nX_train, X_test, y_train, y_test = train_test_split(X, y, test_size=0.2)\";\n",
       "                var nbb_cells = Jupyter.notebook.get_cells();\n",
       "                for (var i = 0; i < nbb_cells.length; ++i) {\n",
       "                    if (nbb_cells[i].input_prompt_number == nbb_cell_id) {\n",
       "                        if (nbb_cells[i].get_text() == nbb_unformatted_code) {\n",
       "                             nbb_cells[i].set_text(nbb_formatted_code);\n",
       "                        }\n",
       "                        break;\n",
       "                    }\n",
       "                }\n",
       "            }, 500);\n",
       "            "
      ],
      "text/plain": [
       "<IPython.core.display.Javascript object>"
      ]
     },
     "metadata": {},
     "output_type": "display_data"
    }
   ],
   "source": [
    "X[\"interest_rate\"] = X.yrsold.map(interest_rates)\n",
    "\n",
    "X_train, X_test, y_train, y_test = train_test_split(X, y, test_size=0.2)"
   ]
  },
  {
   "cell_type": "code",
   "execution_count": 45,
   "metadata": {},
   "outputs": [
    {
     "name": "stdout",
     "output_type": "stream",
     "text": [
      "alpha: 10.0\n",
      "Train score: 0.799\n",
      "Test: score: 0.832\n",
      "Mean absolute error: 22303.752\n",
      "MSE: 1091574994.372\n",
      "RMSE: 33038.992\n",
      "MAPE: 12.697\n"
     ]
    },
    {
     "data": {
      "image/png": "[encoded data removed]",
      "text/plain": [
       "<Figure size 432x288 with 1 Axes>"
      ]
     },
     "metadata": {
      "needs_background": "light"
     },
     "output_type": "display_data"
    },
    {
     "data": {
      "application/javascript": [
       "\n",
       "            setTimeout(function() {\n",
       "                var nbb_cell_id = 45;\n",
       "                var nbb_unformatted_code = \"# Ridge\\ngrid = {\\\"alpha\\\": np.logspace(-3, 5, 9)}\\nridge_cv = GridSearchCV(Ridge(), grid, cv=5)\\nridge_cv.fit(X_train, y_train)\\ny_test_pred = ridge_cv.best_estimator_.predict(X_test)\\n\\nprint(\\n    f\\\"alpha: {ridge_cv.best_estimator_.alpha}\\\\n\\\"\\n    f\\\"Train score: {ridge_cv.best_estimator_.score(X_train, y_train):.3f}\\\\n\\\"\\n    f\\\"Test: score: {ridge_cv.best_estimator_.score(X_test, y_test):.3f}\\\\n\\\"\\n    f\\\"Mean absolute error: {mean_absolute_error(y_test, y_test_pred):.3f}\\\\n\\\"\\n    f\\\"MSE: {mean_squared_error(y_test, y_test_pred):.3f}\\\\n\\\"\\n    f\\\"RMSE: {mean_squared_error(y_test, y_test_pred, squared=False):.3f}\\\\n\\\"\\n    f\\\"MAPE: {np.mean(np.abs((y_test - y_test_pred) / y_test)) * 100:.3f}\\\"\\n)\\n\\nplt.scatter(y_test, y_test_pred)\\nplt.plot(y_test, y_test, color=\\\"r\\\")\\nplt.xlabel(\\\"True prices\\\")\\nplt.ylabel(\\\"Predicted prices\\\")\\nplt.show()\";\n",
       "                var nbb_formatted_code = \"# Ridge\\ngrid = {\\\"alpha\\\": np.logspace(-3, 5, 9)}\\nridge_cv = GridSearchCV(Ridge(), grid, cv=5)\\nridge_cv.fit(X_train, y_train)\\ny_test_pred = ridge_cv.best_estimator_.predict(X_test)\\n\\nprint(\\n    f\\\"alpha: {ridge_cv.best_estimator_.alpha}\\\\n\\\"\\n    f\\\"Train score: {ridge_cv.best_estimator_.score(X_train, y_train):.3f}\\\\n\\\"\\n    f\\\"Test: score: {ridge_cv.best_estimator_.score(X_test, y_test):.3f}\\\\n\\\"\\n    f\\\"Mean absolute error: {mean_absolute_error(y_test, y_test_pred):.3f}\\\\n\\\"\\n    f\\\"MSE: {mean_squared_error(y_test, y_test_pred):.3f}\\\\n\\\"\\n    f\\\"RMSE: {mean_squared_error(y_test, y_test_pred, squared=False):.3f}\\\\n\\\"\\n    f\\\"MAPE: {np.mean(np.abs((y_test - y_test_pred) / y_test)) * 100:.3f}\\\"\\n)\\n\\nplt.scatter(y_test, y_test_pred)\\nplt.plot(y_test, y_test, color=\\\"r\\\")\\nplt.xlabel(\\\"True prices\\\")\\nplt.ylabel(\\\"Predicted prices\\\")\\nplt.show()\";\n",
       "                var nbb_cells = Jupyter.notebook.get_cells();\n",
       "                for (var i = 0; i < nbb_cells.length; ++i) {\n",
       "                    if (nbb_cells[i].input_prompt_number == nbb_cell_id) {\n",
       "                        if (nbb_cells[i].get_text() == nbb_unformatted_code) {\n",
       "                             nbb_cells[i].set_text(nbb_formatted_code);\n",
       "                        }\n",
       "                        break;\n",
       "                    }\n",
       "                }\n",
       "            }, 500);\n",
       "            "
      ],
      "text/plain": [
       "<IPython.core.display.Javascript object>"
      ]
     },
     "metadata": {},
     "output_type": "display_data"
    }
   ],
   "source": [
    "# Ridge\n",
    "grid = {\"alpha\": np.logspace(-3, 5, 9)}\n",
    "ridge_cv = GridSearchCV(Ridge(), grid, cv=5)\n",
    "ridge_cv.fit(X_train, y_train)\n",
    "y_test_pred = ridge_cv.best_estimator_.predict(X_test)\n",
    "\n",
    "print(\n",
    "    f\"alpha: {ridge_cv.best_estimator_.alpha}\\n\"\n",
    "    f\"Train score: {ridge_cv.best_estimator_.score(X_train, y_train):.3f}\\n\"\n",
    "    f\"Test: score: {ridge_cv.best_estimator_.score(X_test, y_test):.3f}\\n\"\n",
    "    f\"Mean absolute error: {mean_absolute_error(y_test, y_test_pred):.3f}\\n\"\n",
    "    f\"MSE: {mean_squared_error(y_test, y_test_pred):.3f}\\n\"\n",
    "    f\"RMSE: {mean_squared_error(y_test, y_test_pred, squared=False):.3f}\\n\"\n",
    "    f\"MAPE: {np.mean(np.abs((y_test - y_test_pred) / y_test)) * 100:.3f}\"\n",
    ")\n",
    "\n",
    "plt.scatter(y_test, y_test_pred)\n",
    "plt.plot(y_test, y_test, color=\"r\")\n",
    "plt.xlabel(\"True prices\")\n",
    "plt.ylabel(\"Predicted prices\")\n",
    "plt.show()"
   ]
  },
  {
   "cell_type": "code",
   "execution_count": 46,
   "metadata": {},
   "outputs": [
    {
     "name": "stderr",
     "output_type": "stream",
     "text": [
      "/Users/abilenky/miniconda3/lib/python3.8/site-packages/sklearn/linear_model/_coordinate_descent.py:474: ConvergenceWarning: Objective did not converge. You might want to increase the number of iterations. Duality gap: 35443220452.35339, tolerance: 458755213.2800377\n",
      "  model = cd_fast.enet_coordinate_descent(\n",
      "/Users/abilenky/miniconda3/lib/python3.8/site-packages/sklearn/linear_model/_coordinate_descent.py:474: ConvergenceWarning: Objective did not converge. You might want to increase the number of iterations. Duality gap: 41868548951.780396, tolerance: 516752288.6302931\n",
      "  model = cd_fast.enet_coordinate_descent(\n",
      "/Users/abilenky/miniconda3/lib/python3.8/site-packages/sklearn/linear_model/_coordinate_descent.py:474: ConvergenceWarning: Objective did not converge. You might want to increase the number of iterations. Duality gap: 42618384155.61145, tolerance: 509905960.9684177\n",
      "  model = cd_fast.enet_coordinate_descent(\n",
      "/Users/abilenky/miniconda3/lib/python3.8/site-packages/sklearn/linear_model/_coordinate_descent.py:474: ConvergenceWarning: Objective did not converge. You might want to increase the number of iterations. Duality gap: 35443428524.98486, tolerance: 458755213.2800377\n",
      "  model = cd_fast.enet_coordinate_descent(\n",
      "/Users/abilenky/miniconda3/lib/python3.8/site-packages/sklearn/linear_model/_coordinate_descent.py:474: ConvergenceWarning: Objective did not converge. You might want to increase the number of iterations. Duality gap: 41868859042.572754, tolerance: 516752288.6302931\n",
      "  model = cd_fast.enet_coordinate_descent(\n",
      "/Users/abilenky/miniconda3/lib/python3.8/site-packages/sklearn/linear_model/_coordinate_descent.py:474: ConvergenceWarning: Objective did not converge. You might want to increase the number of iterations. Duality gap: 42618766574.347046, tolerance: 509905960.9684177\n",
      "  model = cd_fast.enet_coordinate_descent(\n",
      "/Users/abilenky/miniconda3/lib/python3.8/site-packages/sklearn/linear_model/_coordinate_descent.py:474: ConvergenceWarning: Objective did not converge. You might want to increase the number of iterations. Duality gap: 35445627469.56433, tolerance: 458755213.2800377\n",
      "  model = cd_fast.enet_coordinate_descent(\n",
      "/Users/abilenky/miniconda3/lib/python3.8/site-packages/sklearn/linear_model/_coordinate_descent.py:474: ConvergenceWarning: Objective did not converge. You might want to increase the number of iterations. Duality gap: 41870914089.46399, tolerance: 516752288.6302931\n",
      "  model = cd_fast.enet_coordinate_descent(\n",
      "/Users/abilenky/miniconda3/lib/python3.8/site-packages/sklearn/linear_model/_coordinate_descent.py:474: ConvergenceWarning: Objective did not converge. You might want to increase the number of iterations. Duality gap: 42620965945.34131, tolerance: 509905960.9684177\n",
      "  model = cd_fast.enet_coordinate_descent(\n",
      "/Users/abilenky/miniconda3/lib/python3.8/site-packages/sklearn/linear_model/_coordinate_descent.py:474: ConvergenceWarning: Objective did not converge. You might want to increase the number of iterations. Duality gap: 35467648480.11499, tolerance: 458755213.2800377\n",
      "  model = cd_fast.enet_coordinate_descent(\n",
      "/Users/abilenky/miniconda3/lib/python3.8/site-packages/sklearn/linear_model/_coordinate_descent.py:474: ConvergenceWarning: Objective did not converge. You might want to increase the number of iterations. Duality gap: 41891445735.12622, tolerance: 516752288.6302931\n",
      "  model = cd_fast.enet_coordinate_descent(\n",
      "/Users/abilenky/miniconda3/lib/python3.8/site-packages/sklearn/linear_model/_coordinate_descent.py:474: ConvergenceWarning: Objective did not converge. You might want to increase the number of iterations. Duality gap: 42643057038.17297, tolerance: 509905960.9684177\n",
      "  model = cd_fast.enet_coordinate_descent(\n"
     ]
    },
    {
     "name": "stdout",
     "output_type": "stream",
     "text": [
      "alpha: 100.0\n",
      "Train score: 0.799\n",
      "Test: score: 0.832\n",
      "Mean absolute error: 22352.681\n",
      "MSE: 1089821239.009\n",
      "RMSE: 33012.441\n",
      "MAPE: 12.740\n"
     ]
    },
    {
     "data": {
      "image/png": "[encoded data removed]",
      "text/plain": [
       "<Figure size 432x288 with 1 Axes>"
      ]
     },
     "metadata": {
      "needs_background": "light"
     },
     "output_type": "display_data"
    },
    {
     "data": {
      "application/javascript": [
       "\n",
       "            setTimeout(function() {\n",
       "                var nbb_cell_id = 46;\n",
       "                var nbb_unformatted_code = \"# Lasso\\nlasso_cv = GridSearchCV(Lasso(max_iter=10000), grid, cv=5)\\nlasso_cv.fit(X_train, y_train)\\ny_test_pred = lasso_cv.best_estimator_.predict(X_test)\\n\\nprint(\\n    f\\\"alpha: {lasso_cv.best_estimator_.alpha}\\\\n\\\"\\n    f\\\"Train score: {lasso_cv.best_estimator_.score(X_train, y_train):.3f}\\\\n\\\"\\n    f\\\"Test: score: {lasso_cv.best_estimator_.score(X_test, y_test):.3f}\\\\n\\\"\\n    f\\\"Mean absolute error: {mean_absolute_error(y_test, y_test_pred):.3f}\\\\n\\\"\\n    f\\\"MSE: {mean_squared_error(y_test, y_test_pred):.3f}\\\\n\\\"\\n    f\\\"RMSE: {mean_squared_error(y_test, y_test_pred, squared=False):.3f}\\\\n\\\"\\n    f\\\"MAPE: {np.mean(np.abs((y_test - y_test_pred) / y_test)) * 100:.3f}\\\"\\n)\\n\\nplt.scatter(y_test, y_test_pred)\\nplt.plot(y_test, y_test, color=\\\"r\\\")\\nplt.xlabel(\\\"True prices\\\")\\nplt.ylabel(\\\"Predicted prices\\\")\\nplt.show()\";\n",
       "                var nbb_formatted_code = \"# Lasso\\nlasso_cv = GridSearchCV(Lasso(max_iter=10000), grid, cv=5)\\nlasso_cv.fit(X_train, y_train)\\ny_test_pred = lasso_cv.best_estimator_.predict(X_test)\\n\\nprint(\\n    f\\\"alpha: {lasso_cv.best_estimator_.alpha}\\\\n\\\"\\n    f\\\"Train score: {lasso_cv.best_estimator_.score(X_train, y_train):.3f}\\\\n\\\"\\n    f\\\"Test: score: {lasso_cv.best_estimator_.score(X_test, y_test):.3f}\\\\n\\\"\\n    f\\\"Mean absolute error: {mean_absolute_error(y_test, y_test_pred):.3f}\\\\n\\\"\\n    f\\\"MSE: {mean_squared_error(y_test, y_test_pred):.3f}\\\\n\\\"\\n    f\\\"RMSE: {mean_squared_error(y_test, y_test_pred, squared=False):.3f}\\\\n\\\"\\n    f\\\"MAPE: {np.mean(np.abs((y_test - y_test_pred) / y_test)) * 100:.3f}\\\"\\n)\\n\\nplt.scatter(y_test, y_test_pred)\\nplt.plot(y_test, y_test, color=\\\"r\\\")\\nplt.xlabel(\\\"True prices\\\")\\nplt.ylabel(\\\"Predicted prices\\\")\\nplt.show()\";\n",
       "                var nbb_cells = Jupyter.notebook.get_cells();\n",
       "                for (var i = 0; i < nbb_cells.length; ++i) {\n",
       "                    if (nbb_cells[i].input_prompt_number == nbb_cell_id) {\n",
       "                        if (nbb_cells[i].get_text() == nbb_unformatted_code) {\n",
       "                             nbb_cells[i].set_text(nbb_formatted_code);\n",
       "                        }\n",
       "                        break;\n",
       "                    }\n",
       "                }\n",
       "            }, 500);\n",
       "            "
      ],
      "text/plain": [
       "<IPython.core.display.Javascript object>"
      ]
     },
     "metadata": {},
     "output_type": "display_data"
    }
   ],
   "source": [
    "# Lasso\n",
    "lasso_cv = GridSearchCV(Lasso(max_iter=10000), grid, cv=5)\n",
    "lasso_cv.fit(X_train, y_train)\n",
    "y_test_pred = lasso_cv.best_estimator_.predict(X_test)\n",
    "\n",
    "print(\n",
    "    f\"alpha: {lasso_cv.best_estimator_.alpha}\\n\"\n",
    "    f\"Train score: {lasso_cv.best_estimator_.score(X_train, y_train):.3f}\\n\"\n",
    "    f\"Test: score: {lasso_cv.best_estimator_.score(X_test, y_test):.3f}\\n\"\n",
    "    f\"Mean absolute error: {mean_absolute_error(y_test, y_test_pred):.3f}\\n\"\n",
    "    f\"MSE: {mean_squared_error(y_test, y_test_pred):.3f}\\n\"\n",
    "    f\"RMSE: {mean_squared_error(y_test, y_test_pred, squared=False):.3f}\\n\"\n",
    "    f\"MAPE: {np.mean(np.abs((y_test - y_test_pred) / y_test)) * 100:.3f}\"\n",
    ")\n",
    "\n",
    "plt.scatter(y_test, y_test_pred)\n",
    "plt.plot(y_test, y_test, color=\"r\")\n",
    "plt.xlabel(\"True prices\")\n",
    "plt.ylabel(\"Predicted prices\")\n",
    "plt.show()"
   ]
  },
  {
   "cell_type": "code",
   "execution_count": 47,
   "metadata": {},
   "outputs": [
    {
     "name": "stdout",
     "output_type": "stream",
     "text": [
      "Fitting 5 folds for each of 36 candidates, totalling 180 fits\n"
     ]
    },
    {
     "name": "stderr",
     "output_type": "stream",
     "text": [
      "[Parallel(n_jobs=1)]: Using backend SequentialBackend with 1 concurrent workers.\n",
      "/Users/abilenky/miniconda3/lib/python3.8/site-packages/sklearn/linear_model/_coordinate_descent.py:474: ConvergenceWarning: Objective did not converge. You might want to increase the number of iterations. Duality gap: 362743726772.51624, tolerance: 496437308.40510345\n",
      "  model = cd_fast.enet_coordinate_descent(\n",
      "/Users/abilenky/miniconda3/lib/python3.8/site-packages/sklearn/linear_model/_coordinate_descent.py:474: ConvergenceWarning: Objective did not converge. You might want to increase the number of iterations. Duality gap: 424250175676.62537, tolerance: 473805653.9611684\n",
      "  model = cd_fast.enet_coordinate_descent(\n",
      "/Users/abilenky/miniconda3/lib/python3.8/site-packages/sklearn/linear_model/_coordinate_descent.py:474: ConvergenceWarning: Objective did not converge. You might want to increase the number of iterations. Duality gap: 446756342379.45807, tolerance: 458755213.2800377\n",
      "  model = cd_fast.enet_coordinate_descent(\n",
      "/Users/abilenky/miniconda3/lib/python3.8/site-packages/sklearn/linear_model/_coordinate_descent.py:474: ConvergenceWarning: Objective did not converge. You might want to increase the number of iterations. Duality gap: 521673038637.18036, tolerance: 516752288.6302931\n",
      "  model = cd_fast.enet_coordinate_descent(\n",
      "/Users/abilenky/miniconda3/lib/python3.8/site-packages/sklearn/linear_model/_coordinate_descent.py:474: ConvergenceWarning: Objective did not converge. You might want to increase the number of iterations. Duality gap: 546887553954.9386, tolerance: 509905960.9684177\n",
      "  model = cd_fast.enet_coordinate_descent(\n",
      "/Users/abilenky/miniconda3/lib/python3.8/site-packages/sklearn/linear_model/_coordinate_descent.py:474: ConvergenceWarning: Objective did not converge. You might want to increase the number of iterations. Duality gap: 353645752801.0654, tolerance: 496437308.40510345\n",
      "  model = cd_fast.enet_coordinate_descent(\n",
      "/Users/abilenky/miniconda3/lib/python3.8/site-packages/sklearn/linear_model/_coordinate_descent.py:474: ConvergenceWarning: Objective did not converge. You might want to increase the number of iterations. Duality gap: 402741891529.7654, tolerance: 473805653.9611684\n",
      "  model = cd_fast.enet_coordinate_descent(\n",
      "/Users/abilenky/miniconda3/lib/python3.8/site-packages/sklearn/linear_model/_coordinate_descent.py:474: ConvergenceWarning: Objective did not converge. You might want to increase the number of iterations. Duality gap: 425702474847.2155, tolerance: 458755213.2800377\n",
      "  model = cd_fast.enet_coordinate_descent(\n",
      "/Users/abilenky/miniconda3/lib/python3.8/site-packages/sklearn/linear_model/_coordinate_descent.py:474: ConvergenceWarning: Objective did not converge. You might want to increase the number of iterations. Duality gap: 475249591993.16003, tolerance: 516752288.6302931\n",
      "  model = cd_fast.enet_coordinate_descent(\n",
      "/Users/abilenky/miniconda3/lib/python3.8/site-packages/sklearn/linear_model/_coordinate_descent.py:474: ConvergenceWarning: Objective did not converge. You might want to increase the number of iterations. Duality gap: 520155990629.34155, tolerance: 509905960.9684177\n",
      "  model = cd_fast.enet_coordinate_descent(\n",
      "/Users/abilenky/miniconda3/lib/python3.8/site-packages/sklearn/linear_model/_coordinate_descent.py:474: ConvergenceWarning: Objective did not converge. You might want to increase the number of iterations. Duality gap: 327719008515.2916, tolerance: 496437308.40510345\n",
      "  model = cd_fast.enet_coordinate_descent(\n",
      "/Users/abilenky/miniconda3/lib/python3.8/site-packages/sklearn/linear_model/_coordinate_descent.py:474: ConvergenceWarning: Objective did not converge. You might want to increase the number of iterations. Duality gap: 341748792406.14215, tolerance: 473805653.9611684\n",
      "  model = cd_fast.enet_coordinate_descent(\n",
      "/Users/abilenky/miniconda3/lib/python3.8/site-packages/sklearn/linear_model/_coordinate_descent.py:474: ConvergenceWarning: Objective did not converge. You might want to increase the number of iterations. Duality gap: 360002544688.5863, tolerance: 458755213.2800377\n",
      "  model = cd_fast.enet_coordinate_descent(\n",
      "/Users/abilenky/miniconda3/lib/python3.8/site-packages/sklearn/linear_model/_coordinate_descent.py:474: ConvergenceWarning: Objective did not converge. You might want to increase the number of iterations. Duality gap: 325423873688.20984, tolerance: 516752288.6302931\n",
      "  model = cd_fast.enet_coordinate_descent(\n",
      "/Users/abilenky/miniconda3/lib/python3.8/site-packages/sklearn/linear_model/_coordinate_descent.py:474: ConvergenceWarning: Objective did not converge. You might want to increase the number of iterations. Duality gap: 436523591849.1727, tolerance: 509905960.9684177\n",
      "  model = cd_fast.enet_coordinate_descent(\n",
      "/Users/abilenky/miniconda3/lib/python3.8/site-packages/sklearn/linear_model/_coordinate_descent.py:474: ConvergenceWarning: Objective did not converge. You might want to increase the number of iterations. Duality gap: 35443220452.35339, tolerance: 458755213.2800377\n",
      "  model = cd_fast.enet_coordinate_descent(\n",
      "/Users/abilenky/miniconda3/lib/python3.8/site-packages/sklearn/linear_model/_coordinate_descent.py:474: ConvergenceWarning: Objective did not converge. You might want to increase the number of iterations. Duality gap: 41868548951.780396, tolerance: 516752288.6302931\n",
      "  model = cd_fast.enet_coordinate_descent(\n",
      "/Users/abilenky/miniconda3/lib/python3.8/site-packages/sklearn/linear_model/_coordinate_descent.py:474: ConvergenceWarning: Objective did not converge. You might want to increase the number of iterations. Duality gap: 42618384155.61145, tolerance: 509905960.9684177\n",
      "  model = cd_fast.enet_coordinate_descent(\n",
      "/Users/abilenky/miniconda3/lib/python3.8/site-packages/sklearn/linear_model/_coordinate_descent.py:474: ConvergenceWarning: Objective did not converge. You might want to increase the number of iterations. Duality gap: 365709764415.4916, tolerance: 496437308.40510345\n",
      "  model = cd_fast.enet_coordinate_descent(\n",
      "/Users/abilenky/miniconda3/lib/python3.8/site-packages/sklearn/linear_model/_coordinate_descent.py:474: ConvergenceWarning: Objective did not converge. You might want to increase the number of iterations. Duality gap: 429221926342.8675, tolerance: 473805653.9611684\n",
      "  model = cd_fast.enet_coordinate_descent(\n",
      "/Users/abilenky/miniconda3/lib/python3.8/site-packages/sklearn/linear_model/_coordinate_descent.py:474: ConvergenceWarning: Objective did not converge. You might want to increase the number of iterations. Duality gap: 451184282899.58044, tolerance: 458755213.2800377\n",
      "  model = cd_fast.enet_coordinate_descent(\n",
      "/Users/abilenky/miniconda3/lib/python3.8/site-packages/sklearn/linear_model/_coordinate_descent.py:474: ConvergenceWarning: Objective did not converge. You might want to increase the number of iterations. Duality gap: 528124515399.9728, tolerance: 516752288.6302931\n",
      "  model = cd_fast.enet_coordinate_descent(\n",
      "/Users/abilenky/miniconda3/lib/python3.8/site-packages/sklearn/linear_model/_coordinate_descent.py:474: ConvergenceWarning: Objective did not converge. You might want to increase the number of iterations. Duality gap: 551720851498.7524, tolerance: 509905960.9684177\n",
      "  model = cd_fast.enet_coordinate_descent(\n",
      "/Users/abilenky/miniconda3/lib/python3.8/site-packages/sklearn/linear_model/_coordinate_descent.py:474: ConvergenceWarning: Objective did not converge. You might want to increase the number of iterations. Duality gap: 355672449924.4936, tolerance: 496437308.40510345\n",
      "  model = cd_fast.enet_coordinate_descent(\n",
      "/Users/abilenky/miniconda3/lib/python3.8/site-packages/sklearn/linear_model/_coordinate_descent.py:474: ConvergenceWarning: Objective did not converge. You might want to increase the number of iterations. Duality gap: 407235287039.50397, tolerance: 473805653.9611684\n",
      "  model = cd_fast.enet_coordinate_descent(\n",
      "/Users/abilenky/miniconda3/lib/python3.8/site-packages/sklearn/linear_model/_coordinate_descent.py:474: ConvergenceWarning: Objective did not converge. You might want to increase the number of iterations. Duality gap: 429612973497.01904, tolerance: 458755213.2800377\n",
      "  model = cd_fast.enet_coordinate_descent(\n",
      "/Users/abilenky/miniconda3/lib/python3.8/site-packages/sklearn/linear_model/_coordinate_descent.py:474: ConvergenceWarning: Objective did not converge. You might want to increase the number of iterations. Duality gap: 483629866771.0985, tolerance: 516752288.6302931\n",
      "  model = cd_fast.enet_coordinate_descent(\n"
     ]
    },
    {
     "name": "stderr",
     "output_type": "stream",
     "text": [
      "/Users/abilenky/miniconda3/lib/python3.8/site-packages/sklearn/linear_model/_coordinate_descent.py:474: ConvergenceWarning: Objective did not converge. You might want to increase the number of iterations. Duality gap: 524670230676.1959, tolerance: 509905960.9684177\n",
      "  model = cd_fast.enet_coordinate_descent(\n",
      "/Users/abilenky/miniconda3/lib/python3.8/site-packages/sklearn/linear_model/_coordinate_descent.py:474: ConvergenceWarning: Objective did not converge. You might want to increase the number of iterations. Duality gap: 328701111529.5443, tolerance: 496437308.40510345\n",
      "  model = cd_fast.enet_coordinate_descent(\n",
      "/Users/abilenky/miniconda3/lib/python3.8/site-packages/sklearn/linear_model/_coordinate_descent.py:474: ConvergenceWarning: Objective did not converge. You might want to increase the number of iterations. Duality gap: 345652535836.82794, tolerance: 473805653.9611684\n",
      "  model = cd_fast.enet_coordinate_descent(\n",
      "/Users/abilenky/miniconda3/lib/python3.8/site-packages/sklearn/linear_model/_coordinate_descent.py:474: ConvergenceWarning: Objective did not converge. You might want to increase the number of iterations. Duality gap: 363589126528.79474, tolerance: 458755213.2800377\n",
      "  model = cd_fast.enet_coordinate_descent(\n",
      "/Users/abilenky/miniconda3/lib/python3.8/site-packages/sklearn/linear_model/_coordinate_descent.py:474: ConvergenceWarning: Objective did not converge. You might want to increase the number of iterations. Duality gap: 337467965556.7076, tolerance: 516752288.6302931\n",
      "  model = cd_fast.enet_coordinate_descent(\n",
      "/Users/abilenky/miniconda3/lib/python3.8/site-packages/sklearn/linear_model/_coordinate_descent.py:474: ConvergenceWarning: Objective did not converge. You might want to increase the number of iterations. Duality gap: 441019041214.3792, tolerance: 509905960.9684177\n",
      "  model = cd_fast.enet_coordinate_descent(\n",
      "/Users/abilenky/miniconda3/lib/python3.8/site-packages/sklearn/linear_model/_coordinate_descent.py:474: ConvergenceWarning: Objective did not converge. You might want to increase the number of iterations. Duality gap: 35443428524.98486, tolerance: 458755213.2800377\n",
      "  model = cd_fast.enet_coordinate_descent(\n",
      "/Users/abilenky/miniconda3/lib/python3.8/site-packages/sklearn/linear_model/_coordinate_descent.py:474: ConvergenceWarning: Objective did not converge. You might want to increase the number of iterations. Duality gap: 41868859042.572754, tolerance: 516752288.6302931\n",
      "  model = cd_fast.enet_coordinate_descent(\n",
      "/Users/abilenky/miniconda3/lib/python3.8/site-packages/sklearn/linear_model/_coordinate_descent.py:474: ConvergenceWarning: Objective did not converge. You might want to increase the number of iterations. Duality gap: 42618766574.347046, tolerance: 509905960.9684177\n",
      "  model = cd_fast.enet_coordinate_descent(\n",
      "/Users/abilenky/miniconda3/lib/python3.8/site-packages/sklearn/linear_model/_coordinate_descent.py:474: ConvergenceWarning: Objective did not converge. You might want to increase the number of iterations. Duality gap: 381230588901.71375, tolerance: 496437308.40510345\n",
      "  model = cd_fast.enet_coordinate_descent(\n",
      "/Users/abilenky/miniconda3/lib/python3.8/site-packages/sklearn/linear_model/_coordinate_descent.py:474: ConvergenceWarning: Objective did not converge. You might want to increase the number of iterations. Duality gap: 455465679315.5953, tolerance: 473805653.9611684\n",
      "  model = cd_fast.enet_coordinate_descent(\n",
      "/Users/abilenky/miniconda3/lib/python3.8/site-packages/sklearn/linear_model/_coordinate_descent.py:474: ConvergenceWarning: Objective did not converge. You might want to increase the number of iterations. Duality gap: 474977010074.16034, tolerance: 458755213.2800377\n",
      "  model = cd_fast.enet_coordinate_descent(\n",
      "/Users/abilenky/miniconda3/lib/python3.8/site-packages/sklearn/linear_model/_coordinate_descent.py:474: ConvergenceWarning: Objective did not converge. You might want to increase the number of iterations. Duality gap: 556722841785.6959, tolerance: 516752288.6302931\n",
      "  model = cd_fast.enet_coordinate_descent(\n",
      "/Users/abilenky/miniconda3/lib/python3.8/site-packages/sklearn/linear_model/_coordinate_descent.py:474: ConvergenceWarning: Objective did not converge. You might want to increase the number of iterations. Duality gap: 577569203285.6571, tolerance: 509905960.9684177\n",
      "  model = cd_fast.enet_coordinate_descent(\n",
      "/Users/abilenky/miniconda3/lib/python3.8/site-packages/sklearn/linear_model/_coordinate_descent.py:474: ConvergenceWarning: Objective did not converge. You might want to increase the number of iterations. Duality gap: 367334484424.11633, tolerance: 496437308.40510345\n",
      "  model = cd_fast.enet_coordinate_descent(\n",
      "/Users/abilenky/miniconda3/lib/python3.8/site-packages/sklearn/linear_model/_coordinate_descent.py:474: ConvergenceWarning: Objective did not converge. You might want to increase the number of iterations. Duality gap: 430732356954.45435, tolerance: 473805653.9611684\n",
      "  model = cd_fast.enet_coordinate_descent(\n",
      "/Users/abilenky/miniconda3/lib/python3.8/site-packages/sklearn/linear_model/_coordinate_descent.py:474: ConvergenceWarning: Objective did not converge. You might want to increase the number of iterations. Duality gap: 450263542768.975, tolerance: 458755213.2800377\n",
      "  model = cd_fast.enet_coordinate_descent(\n",
      "/Users/abilenky/miniconda3/lib/python3.8/site-packages/sklearn/linear_model/_coordinate_descent.py:474: ConvergenceWarning: Objective did not converge. You might want to increase the number of iterations. Duality gap: 515947349229.00946, tolerance: 516752288.6302931\n",
      "  model = cd_fast.enet_coordinate_descent(\n",
      "/Users/abilenky/miniconda3/lib/python3.8/site-packages/sklearn/linear_model/_coordinate_descent.py:474: ConvergenceWarning: Objective did not converge. You might want to increase the number of iterations. Duality gap: 548958990456.5217, tolerance: 509905960.9684177\n",
      "  model = cd_fast.enet_coordinate_descent(\n",
      "/Users/abilenky/miniconda3/lib/python3.8/site-packages/sklearn/linear_model/_coordinate_descent.py:474: ConvergenceWarning: Objective did not converge. You might want to increase the number of iterations. Duality gap: 335398327760.40265, tolerance: 496437308.40510345\n",
      "  model = cd_fast.enet_coordinate_descent(\n",
      "/Users/abilenky/miniconda3/lib/python3.8/site-packages/sklearn/linear_model/_coordinate_descent.py:474: ConvergenceWarning: Objective did not converge. You might want to increase the number of iterations. Duality gap: 367851641590.2977, tolerance: 473805653.9611684\n",
      "  model = cd_fast.enet_coordinate_descent(\n",
      "/Users/abilenky/miniconda3/lib/python3.8/site-packages/sklearn/linear_model/_coordinate_descent.py:474: ConvergenceWarning: Objective did not converge. You might want to increase the number of iterations. Duality gap: 383222421372.50305, tolerance: 458755213.2800377\n",
      "  model = cd_fast.enet_coordinate_descent(\n",
      "/Users/abilenky/miniconda3/lib/python3.8/site-packages/sklearn/linear_model/_coordinate_descent.py:474: ConvergenceWarning: Objective did not converge. You might want to increase the number of iterations. Duality gap: 389172003988.5864, tolerance: 516752288.6302931\n",
      "  model = cd_fast.enet_coordinate_descent(\n",
      "/Users/abilenky/miniconda3/lib/python3.8/site-packages/sklearn/linear_model/_coordinate_descent.py:474: ConvergenceWarning: Objective did not converge. You might want to increase the number of iterations. Duality gap: 465433671760.50964, tolerance: 509905960.9684177\n",
      "  model = cd_fast.enet_coordinate_descent(\n",
      "/Users/abilenky/miniconda3/lib/python3.8/site-packages/sklearn/linear_model/_coordinate_descent.py:474: ConvergenceWarning: Objective did not converge. You might want to increase the number of iterations. Duality gap: 35445627469.56433, tolerance: 458755213.2800377\n",
      "  model = cd_fast.enet_coordinate_descent(\n",
      "/Users/abilenky/miniconda3/lib/python3.8/site-packages/sklearn/linear_model/_coordinate_descent.py:474: ConvergenceWarning: Objective did not converge. You might want to increase the number of iterations. Duality gap: 41870914089.46399, tolerance: 516752288.6302931\n",
      "  model = cd_fast.enet_coordinate_descent(\n",
      "/Users/abilenky/miniconda3/lib/python3.8/site-packages/sklearn/linear_model/_coordinate_descent.py:474: ConvergenceWarning: Objective did not converge. You might want to increase the number of iterations. Duality gap: 42620965945.34131, tolerance: 509905960.9684177\n",
      "  model = cd_fast.enet_coordinate_descent(\n"
     ]
    },
    {
     "name": "stderr",
     "output_type": "stream",
     "text": [
      "/Users/abilenky/miniconda3/lib/python3.8/site-packages/sklearn/linear_model/_coordinate_descent.py:474: ConvergenceWarning: Objective did not converge. You might want to increase the number of iterations. Duality gap: 431399494036.56854, tolerance: 496437308.40510345\n",
      "  model = cd_fast.enet_coordinate_descent(\n",
      "/Users/abilenky/miniconda3/lib/python3.8/site-packages/sklearn/linear_model/_coordinate_descent.py:474: ConvergenceWarning: Objective did not converge. You might want to increase the number of iterations. Duality gap: 539453016671.16895, tolerance: 473805653.9611684\n",
      "  model = cd_fast.enet_coordinate_descent(\n",
      "/Users/abilenky/miniconda3/lib/python3.8/site-packages/sklearn/linear_model/_coordinate_descent.py:474: ConvergenceWarning: Objective did not converge. You might want to increase the number of iterations. Duality gap: 547815905291.8109, tolerance: 458755213.2800377\n",
      "  model = cd_fast.enet_coordinate_descent(\n",
      "/Users/abilenky/miniconda3/lib/python3.8/site-packages/sklearn/linear_model/_coordinate_descent.py:474: ConvergenceWarning: Objective did not converge. You might want to increase the number of iterations. Duality gap: 638559139003.6035, tolerance: 516752288.6302931\n",
      "  model = cd_fast.enet_coordinate_descent(\n",
      "/Users/abilenky/miniconda3/lib/python3.8/site-packages/sklearn/linear_model/_coordinate_descent.py:474: ConvergenceWarning: Objective did not converge. You might want to increase the number of iterations. Duality gap: 655878462372.9259, tolerance: 509905960.9684177\n",
      "  model = cd_fast.enet_coordinate_descent(\n",
      "/Users/abilenky/miniconda3/lib/python3.8/site-packages/sklearn/linear_model/_coordinate_descent.py:474: ConvergenceWarning: Objective did not converge. You might want to increase the number of iterations. Duality gap: 409277753754.71515, tolerance: 496437308.40510345\n",
      "  model = cd_fast.enet_coordinate_descent(\n",
      "/Users/abilenky/miniconda3/lib/python3.8/site-packages/sklearn/linear_model/_coordinate_descent.py:474: ConvergenceWarning: Objective did not converge. You might want to increase the number of iterations. Duality gap: 507685912904.58044, tolerance: 473805653.9611684\n",
      "  model = cd_fast.enet_coordinate_descent(\n",
      "/Users/abilenky/miniconda3/lib/python3.8/site-packages/sklearn/linear_model/_coordinate_descent.py:474: ConvergenceWarning: Objective did not converge. You might want to increase the number of iterations. Duality gap: 517758522393.9388, tolerance: 458755213.2800377\n",
      "  model = cd_fast.enet_coordinate_descent(\n",
      "/Users/abilenky/miniconda3/lib/python3.8/site-packages/sklearn/linear_model/_coordinate_descent.py:474: ConvergenceWarning: Objective did not converge. You might want to increase the number of iterations. Duality gap: 597946496742.157, tolerance: 516752288.6302931\n",
      "  model = cd_fast.enet_coordinate_descent(\n",
      "/Users/abilenky/miniconda3/lib/python3.8/site-packages/sklearn/linear_model/_coordinate_descent.py:474: ConvergenceWarning: Objective did not converge. You might want to increase the number of iterations. Duality gap: 622581072952.1388, tolerance: 509905960.9684177\n",
      "  model = cd_fast.enet_coordinate_descent(\n",
      "/Users/abilenky/miniconda3/lib/python3.8/site-packages/sklearn/linear_model/_coordinate_descent.py:474: ConvergenceWarning: Objective did not converge. You might want to increase the number of iterations. Duality gap: 362904787141.50146, tolerance: 496437308.40510345\n",
      "  model = cd_fast.enet_coordinate_descent(\n",
      "/Users/abilenky/miniconda3/lib/python3.8/site-packages/sklearn/linear_model/_coordinate_descent.py:474: ConvergenceWarning: Objective did not converge. You might want to increase the number of iterations. Duality gap: 435796348868.69745, tolerance: 473805653.9611684\n",
      "  model = cd_fast.enet_coordinate_descent(\n",
      "/Users/abilenky/miniconda3/lib/python3.8/site-packages/sklearn/linear_model/_coordinate_descent.py:474: ConvergenceWarning: Objective did not converge. You might want to increase the number of iterations. Duality gap: 443060658779.77527, tolerance: 458755213.2800377\n",
      "  model = cd_fast.enet_coordinate_descent(\n",
      "/Users/abilenky/miniconda3/lib/python3.8/site-packages/sklearn/linear_model/_coordinate_descent.py:474: ConvergenceWarning: Objective did not converge. You might want to increase the number of iterations. Duality gap: 486621894201.10767, tolerance: 516752288.6302931\n",
      "  model = cd_fast.enet_coordinate_descent(\n",
      "/Users/abilenky/miniconda3/lib/python3.8/site-packages/sklearn/linear_model/_coordinate_descent.py:474: ConvergenceWarning: Objective did not converge. You might want to increase the number of iterations. Duality gap: 542085596940.4481, tolerance: 509905960.9684177\n",
      "  model = cd_fast.enet_coordinate_descent(\n",
      "/Users/abilenky/miniconda3/lib/python3.8/site-packages/sklearn/linear_model/_coordinate_descent.py:474: ConvergenceWarning: Objective did not converge. You might want to increase the number of iterations. Duality gap: 35467648480.11499, tolerance: 458755213.2800377\n",
      "  model = cd_fast.enet_coordinate_descent(\n",
      "/Users/abilenky/miniconda3/lib/python3.8/site-packages/sklearn/linear_model/_coordinate_descent.py:474: ConvergenceWarning: Objective did not converge. You might want to increase the number of iterations. Duality gap: 41891445735.12622, tolerance: 516752288.6302931\n",
      "  model = cd_fast.enet_coordinate_descent(\n",
      "/Users/abilenky/miniconda3/lib/python3.8/site-packages/sklearn/linear_model/_coordinate_descent.py:474: ConvergenceWarning: Objective did not converge. You might want to increase the number of iterations. Duality gap: 42643057038.17297, tolerance: 509905960.9684177\n",
      "  model = cd_fast.enet_coordinate_descent(\n",
      "/Users/abilenky/miniconda3/lib/python3.8/site-packages/sklearn/linear_model/_coordinate_descent.py:474: ConvergenceWarning: Objective did not converge. You might want to increase the number of iterations. Duality gap: 466597435434.7625, tolerance: 496437308.40510345\n",
      "  model = cd_fast.enet_coordinate_descent(\n",
      "/Users/abilenky/miniconda3/lib/python3.8/site-packages/sklearn/linear_model/_coordinate_descent.py:474: ConvergenceWarning: Objective did not converge. You might want to increase the number of iterations. Duality gap: 607676371284.419, tolerance: 473805653.9611684\n",
      "  model = cd_fast.enet_coordinate_descent(\n",
      "/Users/abilenky/miniconda3/lib/python3.8/site-packages/sklearn/linear_model/_coordinate_descent.py:474: ConvergenceWarning: Objective did not converge. You might want to increase the number of iterations. Duality gap: 601094589769.6064, tolerance: 458755213.2800377\n",
      "  model = cd_fast.enet_coordinate_descent(\n",
      "/Users/abilenky/miniconda3/lib/python3.8/site-packages/sklearn/linear_model/_coordinate_descent.py:474: ConvergenceWarning: Objective did not converge. You might want to increase the number of iterations. Duality gap: 698312034610.4548, tolerance: 516752288.6302931\n",
      "  model = cd_fast.enet_coordinate_descent(\n",
      "/Users/abilenky/miniconda3/lib/python3.8/site-packages/sklearn/linear_model/_coordinate_descent.py:474: ConvergenceWarning: Objective did not converge. You might want to increase the number of iterations. Duality gap: 712418693378.0332, tolerance: 509905960.9684177\n",
      "  model = cd_fast.enet_coordinate_descent(\n",
      "/Users/abilenky/miniconda3/lib/python3.8/site-packages/sklearn/linear_model/_coordinate_descent.py:474: ConvergenceWarning: Objective did not converge. You might want to increase the number of iterations. Duality gap: 444049651651.0161, tolerance: 496437308.40510345\n",
      "  model = cd_fast.enet_coordinate_descent(\n",
      "/Users/abilenky/miniconda3/lib/python3.8/site-packages/sklearn/linear_model/_coordinate_descent.py:474: ConvergenceWarning: Objective did not converge. You might want to increase the number of iterations. Duality gap: 584613483388.8165, tolerance: 473805653.9611684\n",
      "  model = cd_fast.enet_coordinate_descent(\n",
      "/Users/abilenky/miniconda3/lib/python3.8/site-packages/sklearn/linear_model/_coordinate_descent.py:474: ConvergenceWarning: Objective did not converge. You might want to increase the number of iterations. Duality gap: 575979406394.2681, tolerance: 458755213.2800377\n",
      "  model = cd_fast.enet_coordinate_descent(\n",
      "/Users/abilenky/miniconda3/lib/python3.8/site-packages/sklearn/linear_model/_coordinate_descent.py:474: ConvergenceWarning: Objective did not converge. You might want to increase the number of iterations. Duality gap: 666223018380.862, tolerance: 516752288.6302931\n",
      "  model = cd_fast.enet_coordinate_descent(\n"
     ]
    },
    {
     "name": "stderr",
     "output_type": "stream",
     "text": [
      "/Users/abilenky/miniconda3/lib/python3.8/site-packages/sklearn/linear_model/_coordinate_descent.py:474: ConvergenceWarning: Objective did not converge. You might want to increase the number of iterations. Duality gap: 686805464842.7284, tolerance: 509905960.9684177\n",
      "  model = cd_fast.enet_coordinate_descent(\n",
      "/Users/abilenky/miniconda3/lib/python3.8/site-packages/sklearn/linear_model/_coordinate_descent.py:474: ConvergenceWarning: Objective did not converge. You might want to increase the number of iterations. Duality gap: 396555464285.48846, tolerance: 496437308.40510345\n",
      "  model = cd_fast.enet_coordinate_descent(\n",
      "/Users/abilenky/miniconda3/lib/python3.8/site-packages/sklearn/linear_model/_coordinate_descent.py:474: ConvergenceWarning: Objective did not converge. You might want to increase the number of iterations. Duality gap: 531702105765.5935, tolerance: 473805653.9611684\n",
      "  model = cd_fast.enet_coordinate_descent(\n",
      "/Users/abilenky/miniconda3/lib/python3.8/site-packages/sklearn/linear_model/_coordinate_descent.py:474: ConvergenceWarning: Objective did not converge. You might want to increase the number of iterations. Duality gap: 522479915297.8507, tolerance: 458755213.2800377\n",
      "  model = cd_fast.enet_coordinate_descent(\n",
      "/Users/abilenky/miniconda3/lib/python3.8/site-packages/sklearn/linear_model/_coordinate_descent.py:474: ConvergenceWarning: Objective did not converge. You might want to increase the number of iterations. Duality gap: 588498851982.7322, tolerance: 516752288.6302931\n",
      "  model = cd_fast.enet_coordinate_descent(\n",
      "/Users/abilenky/miniconda3/lib/python3.8/site-packages/sklearn/linear_model/_coordinate_descent.py:474: ConvergenceWarning: Objective did not converge. You might want to increase the number of iterations. Duality gap: 627733356545.6428, tolerance: 509905960.9684177\n",
      "  model = cd_fast.enet_coordinate_descent(\n",
      "[Parallel(n_jobs=1)]: Done 180 out of 180 | elapsed:   45.1s finished\n",
      "/Users/abilenky/miniconda3/lib/python3.8/site-packages/sklearn/linear_model/_coordinate_descent.py:474: ConvergenceWarning: Objective did not converge. You might want to increase the number of iterations. Duality gap: 483946468148.81604, tolerance: 614014525.7077606\n",
      "  model = cd_fast.enet_coordinate_descent(\n"
     ]
    },
    {
     "name": "stdout",
     "output_type": "stream",
     "text": [
      "alpha: 0.1\n",
      "Train score: 0.798\n",
      "Test: score: 0.833\n",
      "Mean absolute error: 22124.522\n",
      "MSE: 1082076136.012\n",
      "RMSE: 32894.926\n",
      "MAPE: 12.565\n"
     ]
    },
    {
     "data": {
      "image/png": "[encoded data removed]",
      "text/plain": [
       "<Figure size 432x288 with 1 Axes>"
      ]
     },
     "metadata": {
      "needs_background": "light"
     },
     "output_type": "display_data"
    },
    {
     "data": {
      "application/javascript": [
       "\n",
       "            setTimeout(function() {\n",
       "                var nbb_cell_id = 47;\n",
       "                var nbb_unformatted_code = \"# ElasticNet\\n\\ngrid = {\\\"alpha\\\": np.logspace(-3, 5, 9),\\n        'l1_ratio':[0.25,0.5,0.75, 1]\\n       }\\n\\n\\nelastic_cv = GridSearchCV(ElasticNet(max_iter=10000), grid, cv=5, verbose=1)\\nelastic_cv.fit(X_train, y_train)\\ny_test_pred = elastic_cv.best_estimator_.predict(X_test)\\n\\nprint(\\n    f\\\"alpha: {elastic_cv.best_estimator_.alpha}\\\\n\\\"\\n    f\\\"Train score: {elastic_cv.best_estimator_.score(X_train, y_train):.3f}\\\\n\\\"\\n    f\\\"Test: score: {elastic_cv.best_estimator_.score(X_test, y_test):.3f}\\\\n\\\"\\n    f\\\"Mean absolute error: {mean_absolute_error(y_test, y_test_pred):.3f}\\\\n\\\"\\n    f\\\"MSE: {mean_squared_error(y_test, y_test_pred):.3f}\\\\n\\\"\\n    f\\\"RMSE: {mean_squared_error(y_test, y_test_pred, squared=False):.3f}\\\\n\\\"\\n    f\\\"MAPE: {np.mean(np.abs((y_test - y_test_pred) / y_test)) * 100:.3f}\\\"\\n)\\n\\nplt.scatter(y_test, y_test_pred)\\nplt.plot(y_test, y_test, color=\\\"r\\\")\\nplt.xlabel(\\\"True prices\\\")\\nplt.ylabel(\\\"Predicted prices\\\")\\nplt.show()\";\n",
       "                var nbb_formatted_code = \"# ElasticNet\\n\\ngrid = {\\\"alpha\\\": np.logspace(-3, 5, 9), \\\"l1_ratio\\\": [0.25, 0.5, 0.75, 1]}\\n\\n\\nelastic_cv = GridSearchCV(ElasticNet(max_iter=10000), grid, cv=5, verbose=1)\\nelastic_cv.fit(X_train, y_train)\\ny_test_pred = elastic_cv.best_estimator_.predict(X_test)\\n\\nprint(\\n    f\\\"alpha: {elastic_cv.best_estimator_.alpha}\\\\n\\\"\\n    f\\\"Train score: {elastic_cv.best_estimator_.score(X_train, y_train):.3f}\\\\n\\\"\\n    f\\\"Test: score: {elastic_cv.best_estimator_.score(X_test, y_test):.3f}\\\\n\\\"\\n    f\\\"Mean absolute error: {mean_absolute_error(y_test, y_test_pred):.3f}\\\\n\\\"\\n    f\\\"MSE: {mean_squared_error(y_test, y_test_pred):.3f}\\\\n\\\"\\n    f\\\"RMSE: {mean_squared_error(y_test, y_test_pred, squared=False):.3f}\\\\n\\\"\\n    f\\\"MAPE: {np.mean(np.abs((y_test - y_test_pred) / y_test)) * 100:.3f}\\\"\\n)\\n\\nplt.scatter(y_test, y_test_pred)\\nplt.plot(y_test, y_test, color=\\\"r\\\")\\nplt.xlabel(\\\"True prices\\\")\\nplt.ylabel(\\\"Predicted prices\\\")\\nplt.show()\";\n",
       "                var nbb_cells = Jupyter.notebook.get_cells();\n",
       "                for (var i = 0; i < nbb_cells.length; ++i) {\n",
       "                    if (nbb_cells[i].input_prompt_number == nbb_cell_id) {\n",
       "                        if (nbb_cells[i].get_text() == nbb_unformatted_code) {\n",
       "                             nbb_cells[i].set_text(nbb_formatted_code);\n",
       "                        }\n",
       "                        break;\n",
       "                    }\n",
       "                }\n",
       "            }, 500);\n",
       "            "
      ],
      "text/plain": [
       "<IPython.core.display.Javascript object>"
      ]
     },
     "metadata": {},
     "output_type": "display_data"
    }
   ],
   "source": [
    "# ElasticNet\n",
    "\n",
    "grid = {\"alpha\": np.logspace(-3, 5, 9), \"l1_ratio\": [0.25, 0.5, 0.75, 1]}\n",
    "\n",
    "\n",
    "elastic_cv = GridSearchCV(ElasticNet(max_iter=10000), grid, cv=5, verbose=1)\n",
    "elastic_cv.fit(X_train, y_train)\n",
    "y_test_pred = elastic_cv.best_estimator_.predict(X_test)\n",
    "\n",
    "print(\n",
    "    f\"alpha: {elastic_cv.best_estimator_.alpha}\\n\"\n",
    "    f\"Train score: {elastic_cv.best_estimator_.score(X_train, y_train):.3f}\\n\"\n",
    "    f\"Test: score: {elastic_cv.best_estimator_.score(X_test, y_test):.3f}\\n\"\n",
    "    f\"Mean absolute error: {mean_absolute_error(y_test, y_test_pred):.3f}\\n\"\n",
    "    f\"MSE: {mean_squared_error(y_test, y_test_pred):.3f}\\n\"\n",
    "    f\"RMSE: {mean_squared_error(y_test, y_test_pred, squared=False):.3f}\\n\"\n",
    "    f\"MAPE: {np.mean(np.abs((y_test - y_test_pred) / y_test)) * 100:.3f}\"\n",
    ")\n",
    "\n",
    "plt.scatter(y_test, y_test_pred)\n",
    "plt.plot(y_test, y_test, color=\"r\")\n",
    "plt.xlabel(\"True prices\")\n",
    "plt.ylabel(\"Predicted prices\")\n",
    "plt.show()"
   ]
  },
  {
   "cell_type": "code",
   "execution_count": null,
   "metadata": {},
   "outputs": [],
   "source": []
  }
 ],
 "metadata": {
  "kernelspec": {
   "display_name": "Python 3",
   "language": "python",
   "name": "python3"
  },
  "language_info": {
   "codemirror_mode": {
    "name": "ipython",
    "version": 3
   },
   "file_extension": ".py",
   "mimetype": "text/x-python",
   "name": "python",
   "nbconvert_exporter": "python",
   "pygments_lexer": "ipython3",
   "version": "3.8.5"
  }
 },
 "nbformat": 4,
 "nbformat_minor": 4
}
