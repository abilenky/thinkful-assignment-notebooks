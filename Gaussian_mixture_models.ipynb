{
 "cells": [
  {
   "cell_type": "code",
   "execution_count": 1,
   "metadata": {},
   "outputs": [
    {
     "data": {
      "application/javascript": [
       "\n",
       "            setTimeout(function() {\n",
       "                var nbb_cell_id = 1;\n",
       "                var nbb_unformatted_code = \"%load_ext nb_black\";\n",
       "                var nbb_formatted_code = \"%load_ext nb_black\";\n",
       "                var nbb_cells = Jupyter.notebook.get_cells();\n",
       "                for (var i = 0; i < nbb_cells.length; ++i) {\n",
       "                    if (nbb_cells[i].input_prompt_number == nbb_cell_id) {\n",
       "                        if (nbb_cells[i].get_text() == nbb_unformatted_code) {\n",
       "                             nbb_cells[i].set_text(nbb_formatted_code);\n",
       "                        }\n",
       "                        break;\n",
       "                    }\n",
       "                }\n",
       "            }, 500);\n",
       "            "
      ],
      "text/plain": [
       "<IPython.core.display.Javascript object>"
      ]
     },
     "metadata": {},
     "output_type": "display_data"
    }
   ],
   "source": [
    "%load_ext nb_black"
   ]
  },
  {
   "cell_type": "code",
   "execution_count": 6,
   "metadata": {},
   "outputs": [
    {
     "data": {
      "application/javascript": [
       "\n",
       "            setTimeout(function() {\n",
       "                var nbb_cell_id = 6;\n",
       "                var nbb_unformatted_code = \"import numpy as np\\nimport pandas as pd\\nimport scipy\\nimport matplotlib.pyplot as plt\\nimport seaborn as sns\\nfrom sklearn.cluster import AgglomerativeClustering, KMeans\\nfrom sklearn.mixture import GaussianMixture\\nfrom scipy.cluster.hierarchy import dendrogram, linkage\\nfrom sklearn.preprocessing import StandardScaler\\nfrom sklearn import metrics\";\n",
       "                var nbb_formatted_code = \"import numpy as np\\nimport pandas as pd\\nimport scipy\\nimport matplotlib.pyplot as plt\\nimport seaborn as sns\\nfrom sklearn.cluster import AgglomerativeClustering, KMeans\\nfrom sklearn.mixture import GaussianMixture\\nfrom scipy.cluster.hierarchy import dendrogram, linkage\\nfrom sklearn.preprocessing import StandardScaler\\nfrom sklearn import metrics\";\n",
       "                var nbb_cells = Jupyter.notebook.get_cells();\n",
       "                for (var i = 0; i < nbb_cells.length; ++i) {\n",
       "                    if (nbb_cells[i].input_prompt_number == nbb_cell_id) {\n",
       "                        if (nbb_cells[i].get_text() == nbb_unformatted_code) {\n",
       "                             nbb_cells[i].set_text(nbb_formatted_code);\n",
       "                        }\n",
       "                        break;\n",
       "                    }\n",
       "                }\n",
       "            }, 500);\n",
       "            "
      ],
      "text/plain": [
       "<IPython.core.display.Javascript object>"
      ]
     },
     "metadata": {},
     "output_type": "display_data"
    }
   ],
   "source": [
    "import numpy as np\n",
    "import pandas as pd\n",
    "import scipy\n",
    "import matplotlib.pyplot as plt\n",
    "import seaborn as sns\n",
    "from sklearn.cluster import AgglomerativeClustering, KMeans\n",
    "from sklearn.mixture import GaussianMixture\n",
    "from scipy.cluster.hierarchy import dendrogram, linkage\n",
    "from sklearn.preprocessing import StandardScaler\n",
    "from sklearn import metrics"
   ]
  },
  {
   "cell_type": "code",
   "execution_count": 3,
   "metadata": {},
   "outputs": [
    {
     "data": {
      "application/javascript": [
       "\n",
       "            setTimeout(function() {\n",
       "                var nbb_cell_id = 3;\n",
       "                var nbb_unformatted_code = \"from sqlalchemy import create_engine\\n\\npostgres_user = \\\"dsbc_student\\\"\\npostgres_pw = \\\"7*.8G9QH21\\\"\\npostgres_host = \\\"142.93.121.174\\\"\\npostgres_port = \\\"5432\\\"\\npostgres_db = \\\"heartdisease\\\"\\n\\nengine = create_engine(\\n    f\\\"postgresql://{postgres_user}:{postgres_pw}@{postgres_host}:{postgres_port}/{postgres_db}\\\"\\n)\\n\\nsql = \\\"\\\"\\\"\\n    SELECT * FROM heartdisease\\n\\\"\\\"\\\"\\n\\nheartdisease_df = pd.read_sql(sql, engine)\\nengine.dispose()\";\n",
       "                var nbb_formatted_code = \"from sqlalchemy import create_engine\\n\\npostgres_user = \\\"dsbc_student\\\"\\npostgres_pw = \\\"7*.8G9QH21\\\"\\npostgres_host = \\\"142.93.121.174\\\"\\npostgres_port = \\\"5432\\\"\\npostgres_db = \\\"heartdisease\\\"\\n\\nengine = create_engine(\\n    f\\\"postgresql://{postgres_user}:{postgres_pw}@{postgres_host}:{postgres_port}/{postgres_db}\\\"\\n)\\n\\nsql = \\\"\\\"\\\"\\n    SELECT * FROM heartdisease\\n\\\"\\\"\\\"\\n\\nheartdisease_df = pd.read_sql(sql, engine)\\nengine.dispose()\";\n",
       "                var nbb_cells = Jupyter.notebook.get_cells();\n",
       "                for (var i = 0; i < nbb_cells.length; ++i) {\n",
       "                    if (nbb_cells[i].input_prompt_number == nbb_cell_id) {\n",
       "                        if (nbb_cells[i].get_text() == nbb_unformatted_code) {\n",
       "                             nbb_cells[i].set_text(nbb_formatted_code);\n",
       "                        }\n",
       "                        break;\n",
       "                    }\n",
       "                }\n",
       "            }, 500);\n",
       "            "
      ],
      "text/plain": [
       "<IPython.core.display.Javascript object>"
      ]
     },
     "metadata": {},
     "output_type": "display_data"
    }
   ],
   "source": [
    "from sqlalchemy import create_engine\n",
    "\n",
    "postgres_user = \"dsbc_student\"\n",
    "postgres_pw = \"7*.8G9QH21\"\n",
    "postgres_host = \"142.93.121.174\"\n",
    "postgres_port = \"5432\"\n",
    "postgres_db = \"heartdisease\"\n",
    "\n",
    "engine = create_engine(\n",
    "    f\"postgresql://{postgres_user}:{postgres_pw}@{postgres_host}:{postgres_port}/{postgres_db}\"\n",
    ")\n",
    "\n",
    "sql = \"\"\"\n",
    "    SELECT * FROM heartdisease\n",
    "\"\"\"\n",
    "\n",
    "heartdisease_df = pd.read_sql(sql, engine)\n",
    "engine.dispose()"
   ]
  },
  {
   "cell_type": "code",
   "execution_count": 4,
   "metadata": {},
   "outputs": [
    {
     "data": {
      "application/javascript": [
       "\n",
       "            setTimeout(function() {\n",
       "                var nbb_cell_id = 4;\n",
       "                var nbb_unformatted_code = \"# Define the features and the outcome\\nX = heartdisease_df.iloc[:, :13]\\ny = heartdisease_df.iloc[:, 13]\\n\\n# Replace missing values (marked by `?`) with a `0`\\nX = X.replace(to_replace=\\\"?\\\", value=0)\\n\\n# Binarize y so that `1` means heart disease diagnosis and `0` means no diagnosis\\ny = np.where(y > 0, 0, 1)\\n\\nscaler = StandardScaler()\\nX_std = scaler.fit_transform(X)\";\n",
       "                var nbb_formatted_code = \"# Define the features and the outcome\\nX = heartdisease_df.iloc[:, :13]\\ny = heartdisease_df.iloc[:, 13]\\n\\n# Replace missing values (marked by `?`) with a `0`\\nX = X.replace(to_replace=\\\"?\\\", value=0)\\n\\n# Binarize y so that `1` means heart disease diagnosis and `0` means no diagnosis\\ny = np.where(y > 0, 0, 1)\\n\\nscaler = StandardScaler()\\nX_std = scaler.fit_transform(X)\";\n",
       "                var nbb_cells = Jupyter.notebook.get_cells();\n",
       "                for (var i = 0; i < nbb_cells.length; ++i) {\n",
       "                    if (nbb_cells[i].input_prompt_number == nbb_cell_id) {\n",
       "                        if (nbb_cells[i].get_text() == nbb_unformatted_code) {\n",
       "                             nbb_cells[i].set_text(nbb_formatted_code);\n",
       "                        }\n",
       "                        break;\n",
       "                    }\n",
       "                }\n",
       "            }, 500);\n",
       "            "
      ],
      "text/plain": [
       "<IPython.core.display.Javascript object>"
      ]
     },
     "metadata": {},
     "output_type": "display_data"
    }
   ],
   "source": [
    "# Define the features and the outcome\n",
    "X = heartdisease_df.iloc[:, :13]\n",
    "y = heartdisease_df.iloc[:, 13]\n",
    "\n",
    "# Replace missing values (marked by `?`) with a `0`\n",
    "X = X.replace(to_replace=\"?\", value=0)\n",
    "\n",
    "# Binarize y so that `1` means heart disease diagnosis and `0` means no diagnosis\n",
    "y = np.where(y > 0, 0, 1)\n",
    "\n",
    "scaler = StandardScaler()\n",
    "X_std = scaler.fit_transform(X)"
   ]
  },
  {
   "cell_type": "markdown",
   "metadata": {},
   "source": [
    "1. Apply GMM to the heart disease dataset by setting n_components=2. Get ARI and silhouette scores for your solution and compare it with those of the k-means and hierarchical clustering solutions that you implemented in the previous checkpoint assignments. Which algorithm performs best?"
   ]
  },
  {
   "cell_type": "code",
   "execution_count": 10,
   "metadata": {},
   "outputs": [
    {
     "name": "stdout",
     "output_type": "stream",
     "text": [
      "\n",
      "ARI score for 2 components: 0.4207322145049338\n",
      "Silhouette coefficient for 2 components: 0.16118591340148433\n"
     ]
    },
    {
     "data": {
      "application/javascript": [
       "\n",
       "            setTimeout(function() {\n",
       "                var nbb_cell_id = 10;\n",
       "                var nbb_unformatted_code = \"n_components = 2\\ngmm = GaussianMixture(n_components=n_components)\\ny_pred = gmm.fit_predict(X_std)\\n\\nprint(\\n    f\\\"\\\\nARI score for {n_components} components: {metrics.adjusted_rand_score(y, y_pred)}\\\\n\\\"\\n    f\\\"Silhouette coefficient for {n_components} components: {metrics.silhouette_score(X_std, y_pred, metric='euclidean')}\\\"\\n)\";\n",
       "                var nbb_formatted_code = \"n_components = 2\\ngmm = GaussianMixture(n_components=n_components)\\ny_pred = gmm.fit_predict(X_std)\\n\\nprint(\\n    f\\\"\\\\nARI score for {n_components} components: {metrics.adjusted_rand_score(y, y_pred)}\\\\n\\\"\\n    f\\\"Silhouette coefficient for {n_components} components: {metrics.silhouette_score(X_std, y_pred, metric='euclidean')}\\\"\\n)\";\n",
       "                var nbb_cells = Jupyter.notebook.get_cells();\n",
       "                for (var i = 0; i < nbb_cells.length; ++i) {\n",
       "                    if (nbb_cells[i].input_prompt_number == nbb_cell_id) {\n",
       "                        if (nbb_cells[i].get_text() == nbb_unformatted_code) {\n",
       "                             nbb_cells[i].set_text(nbb_formatted_code);\n",
       "                        }\n",
       "                        break;\n",
       "                    }\n",
       "                }\n",
       "            }, 500);\n",
       "            "
      ],
      "text/plain": [
       "<IPython.core.display.Javascript object>"
      ]
     },
     "metadata": {},
     "output_type": "display_data"
    }
   ],
   "source": [
    "n_components = 2\n",
    "gmm = GaussianMixture(n_components=n_components)\n",
    "y_pred = gmm.fit_predict(X_std)\n",
    "\n",
    "print(\n",
    "    f\"\\nARI score for {n_components} components: {metrics.adjusted_rand_score(y, y_pred)}\\n\"\n",
    "    f\"Silhouette coefficient for {n_components} components: {metrics.silhouette_score(X_std, y_pred, metric='euclidean')}\"\n",
    ")"
   ]
  },
  {
   "cell_type": "code",
   "execution_count": 11,
   "metadata": {},
   "outputs": [
    {
     "name": "stdout",
     "output_type": "stream",
     "text": [
      "\n",
      "ARI score for kmeans, k = 2: 0.4380857727169879\n",
      "Silhouette coefficient for kmeans, k = 2: 0.17530682286260937\n"
     ]
    },
    {
     "data": {
      "application/javascript": [
       "\n",
       "            setTimeout(function() {\n",
       "                var nbb_cell_id = 11;\n",
       "                var nbb_unformatted_code = \"k = 2\\nkm = KMeans(n_clusters=k)\\ny_pred = km.fit_predict(X_std)\\n\\nprint(\\n    f\\\"\\\\nARI score for kmeans, k = {n_components}: {metrics.adjusted_rand_score(y, y_pred)}\\\\n\\\"\\n    f\\\"Silhouette coefficient for kmeans, k = {n_components}: {metrics.silhouette_score(X_std, y_pred, metric='euclidean')}\\\"\\n)\";\n",
       "                var nbb_formatted_code = \"k = 2\\nkm = KMeans(n_clusters=k)\\ny_pred = km.fit_predict(X_std)\\n\\nprint(\\n    f\\\"\\\\nARI score for kmeans, k = {n_components}: {metrics.adjusted_rand_score(y, y_pred)}\\\\n\\\"\\n    f\\\"Silhouette coefficient for kmeans, k = {n_components}: {metrics.silhouette_score(X_std, y_pred, metric='euclidean')}\\\"\\n)\";\n",
       "                var nbb_cells = Jupyter.notebook.get_cells();\n",
       "                for (var i = 0; i < nbb_cells.length; ++i) {\n",
       "                    if (nbb_cells[i].input_prompt_number == nbb_cell_id) {\n",
       "                        if (nbb_cells[i].get_text() == nbb_unformatted_code) {\n",
       "                             nbb_cells[i].set_text(nbb_formatted_code);\n",
       "                        }\n",
       "                        break;\n",
       "                    }\n",
       "                }\n",
       "            }, 500);\n",
       "            "
      ],
      "text/plain": [
       "<IPython.core.display.Javascript object>"
      ]
     },
     "metadata": {},
     "output_type": "display_data"
    }
   ],
   "source": [
    "k = 2\n",
    "km = KMeans(n_clusters=k)\n",
    "y_pred = km.fit_predict(X_std)\n",
    "\n",
    "print(\n",
    "    f\"\\nARI score for kmeans, k = {n_components}: {metrics.adjusted_rand_score(y, y_pred)}\\n\"\n",
    "    f\"Silhouette coefficient for kmeans, k = {n_components}: {metrics.silhouette_score(X_std, y_pred, metric='euclidean')}\"\n",
    ")"
   ]
  },
  {
   "cell_type": "code",
   "execution_count": 12,
   "metadata": {},
   "outputs": [
    {
     "name": "stdout",
     "output_type": "stream",
     "text": [
      "\n",
      "ARI score for Agglomerative Clustering with complete linkage method: -0.0010061512759301477\n",
      "Silhouette coefficient for Agglomerative Clustering with complete linkage method: 0.34836188921330785\n",
      "\n",
      "ARI score for Agglomerative Clustering with average linkage method: -0.0010061512759301477\n",
      "Silhouette coefficient for Agglomerative Clustering with average linkage method: 0.34836188921330785\n",
      "\n",
      "ARI score for Agglomerative Clustering with ward linkage method: 0.146129913123814\n",
      "Silhouette coefficient for Agglomerative Clustering with ward linkage method: 0.1387197366557222\n"
     ]
    },
    {
     "data": {
      "application/javascript": [
       "\n",
       "            setTimeout(function() {\n",
       "                var nbb_cell_id = 12;\n",
       "                var nbb_unformatted_code = \"links = [\\\"complete\\\", \\\"average\\\", \\\"ward\\\"]\\nfor link in links:\\n    agg_cluster = AgglomerativeClustering(n_clusters=2, linkage=link)\\n    y_pred = agg_cluster.fit_predict(X_std)\\n    print(\\n        f\\\"\\\\nARI score for Agglomerative Clustering with {link} linkage method: {metrics.adjusted_rand_score(y, y_pred)}\\\\n\\\"\\n        f\\\"Silhouette coefficient for Agglomerative Clustering with {link} linkage method: {metrics.silhouette_score(X_std, y_pred, metric='euclidean')}\\\"\\n    )\";\n",
       "                var nbb_formatted_code = \"links = [\\\"complete\\\", \\\"average\\\", \\\"ward\\\"]\\nfor link in links:\\n    agg_cluster = AgglomerativeClustering(n_clusters=2, linkage=link)\\n    y_pred = agg_cluster.fit_predict(X_std)\\n    print(\\n        f\\\"\\\\nARI score for Agglomerative Clustering with {link} linkage method: {metrics.adjusted_rand_score(y, y_pred)}\\\\n\\\"\\n        f\\\"Silhouette coefficient for Agglomerative Clustering with {link} linkage method: {metrics.silhouette_score(X_std, y_pred, metric='euclidean')}\\\"\\n    )\";\n",
       "                var nbb_cells = Jupyter.notebook.get_cells();\n",
       "                for (var i = 0; i < nbb_cells.length; ++i) {\n",
       "                    if (nbb_cells[i].input_prompt_number == nbb_cell_id) {\n",
       "                        if (nbb_cells[i].get_text() == nbb_unformatted_code) {\n",
       "                             nbb_cells[i].set_text(nbb_formatted_code);\n",
       "                        }\n",
       "                        break;\n",
       "                    }\n",
       "                }\n",
       "            }, 500);\n",
       "            "
      ],
      "text/plain": [
       "<IPython.core.display.Javascript object>"
      ]
     },
     "metadata": {},
     "output_type": "display_data"
    }
   ],
   "source": [
    "links = [\"complete\", \"average\", \"ward\"]\n",
    "for link in links:\n",
    "    agg_cluster = AgglomerativeClustering(n_clusters=2, linkage=link)\n",
    "    y_pred = agg_cluster.fit_predict(X_std)\n",
    "    print(\n",
    "        f\"\\nARI score for Agglomerative Clustering with {link} linkage method: {metrics.adjusted_rand_score(y, y_pred)}\\n\"\n",
    "        f\"Silhouette coefficient for Agglomerative Clustering with {link} linkage method: {metrics.silhouette_score(X_std, y_pred, metric='euclidean')}\"\n",
    "    )"
   ]
  },
  {
   "cell_type": "markdown",
   "metadata": {},
   "source": [
    "2. GMM implementation of scikit-learn has a parameter called covariance_type. This parameter determines the type of covariance parameters to use. There are four types that you can specify:\n",
    "\n",
    "* full: This is the default. Each component has its own general covariance matrix.\n",
    "* tied: All components share the same general covariance matrix.\n",
    "* diag: Each component has its own diagonal covariance matrix.\n",
    "* spherical: Each component has its own single variance.\n",
    "\n",
    "Try all of these. Which one performs best in terms of ARI and silhouette scores?"
   ]
  },
  {
   "cell_type": "code",
   "execution_count": 13,
   "metadata": {},
   "outputs": [
    {
     "name": "stdout",
     "output_type": "stream",
     "text": [
      "\n",
      "ARI score with full covariance: 0.4207322145049338\n",
      "Silhouette coefficient with full covariance: 0.16118591340148433\n",
      "\n",
      "ARI score with tied covariance: 0.18389186035089963\n",
      "Silhouette coefficient with tied covariance: 0.13628813153331445\n",
      "\n",
      "ARI score with diag covariance: 0.3870024156200561\n",
      "Silhouette coefficient with diag covariance: 0.1604139815113049\n",
      "\n",
      "ARI score with spherical covariance: 0.20765243525722465\n",
      "Silhouette coefficient with spherical covariance: 0.12468753110276876\n"
     ]
    },
    {
     "data": {
      "application/javascript": [
       "\n",
       "            setTimeout(function() {\n",
       "                var nbb_cell_id = 13;\n",
       "                var nbb_unformatted_code = \"n_components = 2\\ncovariance_types = ['full', 'tied', 'diag', 'spherical']\\n\\nfor cov_type in covariance_types:\\n    gmm = GaussianMixture(n_components=n_components, covariance_type=cov_type)\\n    y_pred = gmm.fit_predict(X_std)\\n\\n    print(\\n        f\\\"\\\\nARI score with {cov_type} covariance: {metrics.adjusted_rand_score(y, y_pred)}\\\\n\\\"\\n        f\\\"Silhouette coefficient with {cov_type} covariance: {metrics.silhouette_score(X_std, y_pred, metric='euclidean')}\\\"\\n    )\";\n",
       "                var nbb_formatted_code = \"n_components = 2\\ncovariance_types = [\\\"full\\\", \\\"tied\\\", \\\"diag\\\", \\\"spherical\\\"]\\n\\nfor cov_type in covariance_types:\\n    gmm = GaussianMixture(n_components=n_components, covariance_type=cov_type)\\n    y_pred = gmm.fit_predict(X_std)\\n\\n    print(\\n        f\\\"\\\\nARI score with {cov_type} covariance: {metrics.adjusted_rand_score(y, y_pred)}\\\\n\\\"\\n        f\\\"Silhouette coefficient with {cov_type} covariance: {metrics.silhouette_score(X_std, y_pred, metric='euclidean')}\\\"\\n    )\";\n",
       "                var nbb_cells = Jupyter.notebook.get_cells();\n",
       "                for (var i = 0; i < nbb_cells.length; ++i) {\n",
       "                    if (nbb_cells[i].input_prompt_number == nbb_cell_id) {\n",
       "                        if (nbb_cells[i].get_text() == nbb_unformatted_code) {\n",
       "                             nbb_cells[i].set_text(nbb_formatted_code);\n",
       "                        }\n",
       "                        break;\n",
       "                    }\n",
       "                }\n",
       "            }, 500);\n",
       "            "
      ],
      "text/plain": [
       "<IPython.core.display.Javascript object>"
      ]
     },
     "metadata": {},
     "output_type": "display_data"
    }
   ],
   "source": [
    "n_components = 2\n",
    "covariance_types = [\"full\", \"tied\", \"diag\", \"spherical\"]\n",
    "\n",
    "for cov_type in covariance_types:\n",
    "    gmm = GaussianMixture(n_components=n_components, covariance_type=cov_type)\n",
    "    y_pred = gmm.fit_predict(X_std)\n",
    "\n",
    "    print(\n",
    "        f\"\\nARI score with {cov_type} covariance: {metrics.adjusted_rand_score(y, y_pred)}\\n\"\n",
    "        f\"Silhouette coefficient with {cov_type} covariance: {metrics.silhouette_score(X_std, y_pred, metric='euclidean')}\"\n",
    "    )"
   ]
  },
  {
   "cell_type": "code",
   "execution_count": null,
   "metadata": {},
   "outputs": [],
   "source": [
    "# full covariance looks like it performs best"
   ]
  }
 ],
 "metadata": {
  "kernelspec": {
   "display_name": "Python 3",
   "language": "python",
   "name": "python3"
  },
  "language_info": {
   "codemirror_mode": {
    "name": "ipython",
    "version": 3
   },
   "file_extension": ".py",
   "mimetype": "text/x-python",
   "name": "python",
   "nbconvert_exporter": "python",
   "pygments_lexer": "ipython3",
   "version": "3.8.5"
  }
 },
 "nbformat": 4,
 "nbformat_minor": 4
}
