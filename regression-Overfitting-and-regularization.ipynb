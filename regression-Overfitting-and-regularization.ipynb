{
 "cells": [
  {
   "cell_type": "code",
   "execution_count": 1,
   "metadata": {},
   "outputs": [
    {
     "data": {
      "application/javascript": [
       "\n",
       "            setTimeout(function() {\n",
       "                var nbb_cell_id = 1;\n",
       "                var nbb_unformatted_code = \"%load_ext nb_black\\nimport pandas as pd\\nimport numpy as np\\nimport matplotlib.pyplot as plt\\nfrom sqlalchemy import create_engine\\nimport seaborn as sns\\n\\n%matplotlib inline\";\n",
       "                var nbb_formatted_code = \"%load_ext nb_black\\nimport pandas as pd\\nimport numpy as np\\nimport matplotlib.pyplot as plt\\nfrom sqlalchemy import create_engine\\nimport seaborn as sns\\n\\n%matplotlib inline\";\n",
       "                var nbb_cells = Jupyter.notebook.get_cells();\n",
       "                for (var i = 0; i < nbb_cells.length; ++i) {\n",
       "                    if (nbb_cells[i].input_prompt_number == nbb_cell_id) {\n",
       "                        if (nbb_cells[i].get_text() == nbb_unformatted_code) {\n",
       "                             nbb_cells[i].set_text(nbb_formatted_code);\n",
       "                        }\n",
       "                        break;\n",
       "                    }\n",
       "                }\n",
       "            }, 500);\n",
       "            "
      ],
      "text/plain": [
       "<IPython.core.display.Javascript object>"
      ]
     },
     "metadata": {},
     "output_type": "display_data"
    }
   ],
   "source": [
    "%load_ext nb_black\n",
    "import pandas as pd\n",
    "import numpy as np\n",
    "import matplotlib.pyplot as plt\n",
    "from sqlalchemy import create_engine\n",
    "import seaborn as sns\n",
    "\n",
    "%matplotlib inline"
   ]
  },
  {
   "cell_type": "code",
   "execution_count": 2,
   "metadata": {},
   "outputs": [
    {
     "data": {
      "application/javascript": [
       "\n",
       "            setTimeout(function() {\n",
       "                var nbb_cell_id = 2;\n",
       "                var nbb_unformatted_code = \"# Load the houseprices data from Thinkful's database.\\npostgres_user = \\\"dsbc_student\\\"\\npostgres_pw = \\\"7*.8G9QH21\\\"\\npostgres_host = \\\"142.93.121.174\\\"\\npostgres_port = \\\"5432\\\"\\npostgres_db = \\\"houseprices\\\"\\ntable_name = \\\"houseprices\\\"\\n\\ndb_url = f\\\"postgresql://{postgres_user}:{postgres_pw}@{postgres_host}:{postgres_port}/{postgres_db}\\\"\\n\\nengine = create_engine(db_url)\\n\\nprices_df = pd.read_sql_query(f\\\"SELECT * FROM {table_name};\\\", con=engine)\\n\\n# close the db connetion\\nengine.dispose()\";\n",
       "                var nbb_formatted_code = \"# Load the houseprices data from Thinkful's database.\\npostgres_user = \\\"dsbc_student\\\"\\npostgres_pw = \\\"7*.8G9QH21\\\"\\npostgres_host = \\\"142.93.121.174\\\"\\npostgres_port = \\\"5432\\\"\\npostgres_db = \\\"houseprices\\\"\\ntable_name = \\\"houseprices\\\"\\n\\ndb_url = f\\\"postgresql://{postgres_user}:{postgres_pw}@{postgres_host}:{postgres_port}/{postgres_db}\\\"\\n\\nengine = create_engine(db_url)\\n\\nprices_df = pd.read_sql_query(f\\\"SELECT * FROM {table_name};\\\", con=engine)\\n\\n# close the db connetion\\nengine.dispose()\";\n",
       "                var nbb_cells = Jupyter.notebook.get_cells();\n",
       "                for (var i = 0; i < nbb_cells.length; ++i) {\n",
       "                    if (nbb_cells[i].input_prompt_number == nbb_cell_id) {\n",
       "                        if (nbb_cells[i].get_text() == nbb_unformatted_code) {\n",
       "                             nbb_cells[i].set_text(nbb_formatted_code);\n",
       "                        }\n",
       "                        break;\n",
       "                    }\n",
       "                }\n",
       "            }, 500);\n",
       "            "
      ],
      "text/plain": [
       "<IPython.core.display.Javascript object>"
      ]
     },
     "metadata": {},
     "output_type": "display_data"
    }
   ],
   "source": [
    "# Load the houseprices data from Thinkful's database.\n",
    "postgres_user = \"dsbc_student\"\n",
    "postgres_pw = \"7*.8G9QH21\"\n",
    "postgres_host = \"142.93.121.174\"\n",
    "postgres_port = \"5432\"\n",
    "postgres_db = \"houseprices\"\n",
    "table_name = \"houseprices\"\n",
    "\n",
    "db_url = f\"postgresql://{postgres_user}:{postgres_pw}@{postgres_host}:{postgres_port}/{postgres_db}\"\n",
    "\n",
    "engine = create_engine(db_url)\n",
    "\n",
    "prices_df = pd.read_sql_query(f\"SELECT * FROM {table_name};\", con=engine)\n",
    "\n",
    "# close the db connetion\n",
    "engine.dispose()"
   ]
  },
  {
   "cell_type": "code",
   "execution_count": 3,
   "metadata": {},
   "outputs": [
    {
     "name": "stdout",
     "output_type": "stream",
     "text": [
      "garagetype      0.055479\n",
      "garageyrblt     0.055479\n",
      "garagefinish    0.055479\n",
      "garagequal      0.055479\n",
      "garagecond      0.055479\n",
      "bsmtfintype2    0.026027\n",
      "bsmtexposure    0.026027\n",
      "bsmtfintype1    0.025342\n",
      "bsmtcond        0.025342\n",
      "bsmtqual        0.025342\n",
      "masvnrtype      0.005479\n",
      "masvnrarea      0.005479\n",
      "electrical      0.000685\n",
      "yearremodadd    0.000000\n",
      "dtype: float64\n"
     ]
    },
    {
     "data": {
      "text/html": [
       "<div>\n",
       "<style scoped>\n",
       "    .dataframe tbody tr th:only-of-type {\n",
       "        vertical-align: middle;\n",
       "    }\n",
       "\n",
       "    .dataframe tbody tr th {\n",
       "        vertical-align: top;\n",
       "    }\n",
       "\n",
       "    .dataframe thead th {\n",
       "        text-align: right;\n",
       "    }\n",
       "</style>\n",
       "<table border=\"1\" class=\"dataframe\">\n",
       "  <thead>\n",
       "    <tr style=\"text-align: right;\">\n",
       "      <th></th>\n",
       "      <th>mssubclass</th>\n",
       "      <th>mszoning</th>\n",
       "      <th>lotarea</th>\n",
       "      <th>street</th>\n",
       "      <th>lotshape</th>\n",
       "      <th>landcontour</th>\n",
       "      <th>utilities</th>\n",
       "      <th>lotconfig</th>\n",
       "      <th>landslope</th>\n",
       "      <th>neighborhood</th>\n",
       "      <th>...</th>\n",
       "      <th>enclosedporch</th>\n",
       "      <th>threessnporch</th>\n",
       "      <th>screenporch</th>\n",
       "      <th>poolarea</th>\n",
       "      <th>miscval</th>\n",
       "      <th>mosold</th>\n",
       "      <th>yrsold</th>\n",
       "      <th>saletype</th>\n",
       "      <th>salecondition</th>\n",
       "      <th>saleprice</th>\n",
       "    </tr>\n",
       "  </thead>\n",
       "  <tbody>\n",
       "    <tr>\n",
       "      <th>0</th>\n",
       "      <td>60</td>\n",
       "      <td>RL</td>\n",
       "      <td>8450</td>\n",
       "      <td>Pave</td>\n",
       "      <td>Reg</td>\n",
       "      <td>Lvl</td>\n",
       "      <td>AllPub</td>\n",
       "      <td>Inside</td>\n",
       "      <td>Gtl</td>\n",
       "      <td>CollgCr</td>\n",
       "      <td>...</td>\n",
       "      <td>0</td>\n",
       "      <td>0</td>\n",
       "      <td>0</td>\n",
       "      <td>0</td>\n",
       "      <td>0</td>\n",
       "      <td>2</td>\n",
       "      <td>2008</td>\n",
       "      <td>WD</td>\n",
       "      <td>Normal</td>\n",
       "      <td>208500</td>\n",
       "    </tr>\n",
       "    <tr>\n",
       "      <th>1</th>\n",
       "      <td>20</td>\n",
       "      <td>RL</td>\n",
       "      <td>9600</td>\n",
       "      <td>Pave</td>\n",
       "      <td>Reg</td>\n",
       "      <td>Lvl</td>\n",
       "      <td>AllPub</td>\n",
       "      <td>FR2</td>\n",
       "      <td>Gtl</td>\n",
       "      <td>Veenker</td>\n",
       "      <td>...</td>\n",
       "      <td>0</td>\n",
       "      <td>0</td>\n",
       "      <td>0</td>\n",
       "      <td>0</td>\n",
       "      <td>0</td>\n",
       "      <td>5</td>\n",
       "      <td>2007</td>\n",
       "      <td>WD</td>\n",
       "      <td>Normal</td>\n",
       "      <td>181500</td>\n",
       "    </tr>\n",
       "    <tr>\n",
       "      <th>2</th>\n",
       "      <td>60</td>\n",
       "      <td>RL</td>\n",
       "      <td>11250</td>\n",
       "      <td>Pave</td>\n",
       "      <td>IR1</td>\n",
       "      <td>Lvl</td>\n",
       "      <td>AllPub</td>\n",
       "      <td>Inside</td>\n",
       "      <td>Gtl</td>\n",
       "      <td>CollgCr</td>\n",
       "      <td>...</td>\n",
       "      <td>0</td>\n",
       "      <td>0</td>\n",
       "      <td>0</td>\n",
       "      <td>0</td>\n",
       "      <td>0</td>\n",
       "      <td>9</td>\n",
       "      <td>2008</td>\n",
       "      <td>WD</td>\n",
       "      <td>Normal</td>\n",
       "      <td>223500</td>\n",
       "    </tr>\n",
       "    <tr>\n",
       "      <th>3</th>\n",
       "      <td>70</td>\n",
       "      <td>RL</td>\n",
       "      <td>9550</td>\n",
       "      <td>Pave</td>\n",
       "      <td>IR1</td>\n",
       "      <td>Lvl</td>\n",
       "      <td>AllPub</td>\n",
       "      <td>Corner</td>\n",
       "      <td>Gtl</td>\n",
       "      <td>Crawfor</td>\n",
       "      <td>...</td>\n",
       "      <td>272</td>\n",
       "      <td>0</td>\n",
       "      <td>0</td>\n",
       "      <td>0</td>\n",
       "      <td>0</td>\n",
       "      <td>2</td>\n",
       "      <td>2006</td>\n",
       "      <td>WD</td>\n",
       "      <td>Abnorml</td>\n",
       "      <td>140000</td>\n",
       "    </tr>\n",
       "    <tr>\n",
       "      <th>4</th>\n",
       "      <td>60</td>\n",
       "      <td>RL</td>\n",
       "      <td>14260</td>\n",
       "      <td>Pave</td>\n",
       "      <td>IR1</td>\n",
       "      <td>Lvl</td>\n",
       "      <td>AllPub</td>\n",
       "      <td>FR2</td>\n",
       "      <td>Gtl</td>\n",
       "      <td>NoRidge</td>\n",
       "      <td>...</td>\n",
       "      <td>0</td>\n",
       "      <td>0</td>\n",
       "      <td>0</td>\n",
       "      <td>0</td>\n",
       "      <td>0</td>\n",
       "      <td>12</td>\n",
       "      <td>2008</td>\n",
       "      <td>WD</td>\n",
       "      <td>Normal</td>\n",
       "      <td>250000</td>\n",
       "    </tr>\n",
       "  </tbody>\n",
       "</table>\n",
       "<p>5 rows × 74 columns</p>\n",
       "</div>"
      ],
      "text/plain": [
       "   mssubclass mszoning  lotarea street lotshape landcontour utilities  \\\n",
       "0          60       RL     8450   Pave      Reg         Lvl    AllPub   \n",
       "1          20       RL     9600   Pave      Reg         Lvl    AllPub   \n",
       "2          60       RL    11250   Pave      IR1         Lvl    AllPub   \n",
       "3          70       RL     9550   Pave      IR1         Lvl    AllPub   \n",
       "4          60       RL    14260   Pave      IR1         Lvl    AllPub   \n",
       "\n",
       "  lotconfig landslope neighborhood  ... enclosedporch threessnporch  \\\n",
       "0    Inside       Gtl      CollgCr  ...             0             0   \n",
       "1       FR2       Gtl      Veenker  ...             0             0   \n",
       "2    Inside       Gtl      CollgCr  ...             0             0   \n",
       "3    Corner       Gtl      Crawfor  ...           272             0   \n",
       "4       FR2       Gtl      NoRidge  ...             0             0   \n",
       "\n",
       "  screenporch poolarea  miscval  mosold  yrsold  saletype salecondition  \\\n",
       "0           0        0        0       2    2008        WD        Normal   \n",
       "1           0        0        0       5    2007        WD        Normal   \n",
       "2           0        0        0       9    2008        WD        Normal   \n",
       "3           0        0        0       2    2006        WD       Abnorml   \n",
       "4           0        0        0      12    2008        WD        Normal   \n",
       "\n",
       "  saleprice  \n",
       "0    208500  \n",
       "1    181500  \n",
       "2    223500  \n",
       "3    140000  \n",
       "4    250000  \n",
       "\n",
       "[5 rows x 74 columns]"
      ]
     },
     "execution_count": 3,
     "metadata": {},
     "output_type": "execute_result"
    },
    {
     "data": {
      "application/javascript": [
       "\n",
       "            setTimeout(function() {\n",
       "                var nbb_cell_id = 3;\n",
       "                var nbb_unformatted_code = \"prices_df2 = prices_df.copy()\\ncols_to_drop = [\\n    \\\"lotfrontage\\\",\\n    \\\"fireplacequ\\\",\\n    \\\"fence\\\",\\n    \\\"alley\\\",\\n    \\\"miscfeature\\\",\\n    \\\"poolqc\\\",\\n    \\\"id\\\",\\n]\\nprices_df2.drop(columns=cols_to_drop, inplace=True)\\nprint(\\n    (prices_df2.isnull().sum() / prices_df2.isnull().count())\\n    .sort_values(ascending=False)\\n    .head(14)\\n)\\nprices_df2.head()\";\n",
       "                var nbb_formatted_code = \"prices_df2 = prices_df.copy()\\ncols_to_drop = [\\n    \\\"lotfrontage\\\",\\n    \\\"fireplacequ\\\",\\n    \\\"fence\\\",\\n    \\\"alley\\\",\\n    \\\"miscfeature\\\",\\n    \\\"poolqc\\\",\\n    \\\"id\\\",\\n]\\nprices_df2.drop(columns=cols_to_drop, inplace=True)\\nprint(\\n    (prices_df2.isnull().sum() / prices_df2.isnull().count())\\n    .sort_values(ascending=False)\\n    .head(14)\\n)\\nprices_df2.head()\";\n",
       "                var nbb_cells = Jupyter.notebook.get_cells();\n",
       "                for (var i = 0; i < nbb_cells.length; ++i) {\n",
       "                    if (nbb_cells[i].input_prompt_number == nbb_cell_id) {\n",
       "                        if (nbb_cells[i].get_text() == nbb_unformatted_code) {\n",
       "                             nbb_cells[i].set_text(nbb_formatted_code);\n",
       "                        }\n",
       "                        break;\n",
       "                    }\n",
       "                }\n",
       "            }, 500);\n",
       "            "
      ],
      "text/plain": [
       "<IPython.core.display.Javascript object>"
      ]
     },
     "metadata": {},
     "output_type": "display_data"
    }
   ],
   "source": [
    "prices_df2 = prices_df.copy()\n",
    "cols_to_drop = [\n",
    "    \"lotfrontage\",\n",
    "    \"fireplacequ\",\n",
    "    \"fence\",\n",
    "    \"alley\",\n",
    "    \"miscfeature\",\n",
    "    \"poolqc\",\n",
    "    \"id\",\n",
    "]\n",
    "prices_df2.drop(columns=cols_to_drop, inplace=True)\n",
    "print(\n",
    "    (prices_df2.isnull().sum() / prices_df2.isnull().count())\n",
    "    .sort_values(ascending=False)\n",
    "    .head(14)\n",
    ")\n",
    "prices_df2.head()\n",
    "\n"
   ]
  },
  {
   "cell_type": "code",
   "execution_count": 4,
   "metadata": {},
   "outputs": [
    {
     "data": {
      "text/plain": [
       "saleprice       0.0\n",
       "roofstyle       0.0\n",
       "exterior1st     0.0\n",
       "exterior2nd     0.0\n",
       "masvnrtype      0.0\n",
       "masvnrarea      0.0\n",
       "exterqual       0.0\n",
       "extercond       0.0\n",
       "foundation      0.0\n",
       "bsmtqual        0.0\n",
       "bsmtcond        0.0\n",
       "bsmtexposure    0.0\n",
       "dtype: float64"
      ]
     },
     "execution_count": 4,
     "metadata": {},
     "output_type": "execute_result"
    },
    {
     "data": {
      "application/javascript": [
       "\n",
       "            setTimeout(function() {\n",
       "                var nbb_cell_id = 4;\n",
       "                var nbb_unformatted_code = \"cols_with_nulls = (\\n    (prices_df2.isnull().sum() / prices_df2.isnull().count())\\n    .sort_values(ascending=False)\\n    .head(13)\\n    .index\\n)\\n\\nprices_df2.dropna(inplace=True)\\n(prices_df2.isnull().sum() / prices_df2.isnull().count()).sort_values(\\n    ascending=False\\n).head(12)\";\n",
       "                var nbb_formatted_code = \"cols_with_nulls = (\\n    (prices_df2.isnull().sum() / prices_df2.isnull().count())\\n    .sort_values(ascending=False)\\n    .head(13)\\n    .index\\n)\\n\\nprices_df2.dropna(inplace=True)\\n(prices_df2.isnull().sum() / prices_df2.isnull().count()).sort_values(\\n    ascending=False\\n).head(12)\";\n",
       "                var nbb_cells = Jupyter.notebook.get_cells();\n",
       "                for (var i = 0; i < nbb_cells.length; ++i) {\n",
       "                    if (nbb_cells[i].input_prompt_number == nbb_cell_id) {\n",
       "                        if (nbb_cells[i].get_text() == nbb_unformatted_code) {\n",
       "                             nbb_cells[i].set_text(nbb_formatted_code);\n",
       "                        }\n",
       "                        break;\n",
       "                    }\n",
       "                }\n",
       "            }, 500);\n",
       "            "
      ],
      "text/plain": [
       "<IPython.core.display.Javascript object>"
      ]
     },
     "metadata": {},
     "output_type": "display_data"
    }
   ],
   "source": [
    "cols_with_nulls = (\n",
    "    (prices_df2.isnull().sum() / prices_df2.isnull().count())\n",
    "    .sort_values(ascending=False)\n",
    "    .head(13)\n",
    "    .index\n",
    ")\n",
    "\n",
    "prices_df2.dropna(inplace=True)\n",
    "(prices_df2.isnull().sum() / prices_df2.isnull().count()).sort_values(\n",
    "    ascending=False\n",
    ").head(12)"
   ]
  },
  {
   "cell_type": "code",
   "execution_count": 5,
   "metadata": {},
   "outputs": [
    {
     "data": {
      "application/javascript": [
       "\n",
       "            setTimeout(function() {\n",
       "                var nbb_cell_id = 5;\n",
       "                var nbb_unformatted_code = \"y = prices_df2[\\\"saleprice\\\"]\\nX = prices_df2.select_dtypes(include=\\\"number\\\")\\nX = X.drop(\\\"saleprice\\\", axis=1)\";\n",
       "                var nbb_formatted_code = \"y = prices_df2[\\\"saleprice\\\"]\\nX = prices_df2.select_dtypes(include=\\\"number\\\")\\nX = X.drop(\\\"saleprice\\\", axis=1)\";\n",
       "                var nbb_cells = Jupyter.notebook.get_cells();\n",
       "                for (var i = 0; i < nbb_cells.length; ++i) {\n",
       "                    if (nbb_cells[i].input_prompt_number == nbb_cell_id) {\n",
       "                        if (nbb_cells[i].get_text() == nbb_unformatted_code) {\n",
       "                             nbb_cells[i].set_text(nbb_formatted_code);\n",
       "                        }\n",
       "                        break;\n",
       "                    }\n",
       "                }\n",
       "            }, 500);\n",
       "            "
      ],
      "text/plain": [
       "<IPython.core.display.Javascript object>"
      ]
     },
     "metadata": {},
     "output_type": "display_data"
    }
   ],
   "source": [
    "y = prices_df2[\"saleprice\"]\n",
    "X = prices_df2.select_dtypes(include=\"number\")\n",
    "X = X.drop(\"saleprice\", axis=1)"
   ]
  },
  {
   "cell_type": "code",
   "execution_count": 6,
   "metadata": {},
   "outputs": [
    {
     "data": {
      "application/javascript": [
       "\n",
       "            setTimeout(function() {\n",
       "                var nbb_cell_id = 6;\n",
       "                var nbb_unformatted_code = \"# Split data into train and test sets.\\n\\nfrom sklearn.model_selection import train_test_split\\n\\nX_train, X_test, y_train, y_test = train_test_split(X, y, test_size=0.2)\";\n",
       "                var nbb_formatted_code = \"# Split data into train and test sets.\\n\\nfrom sklearn.model_selection import train_test_split\\n\\nX_train, X_test, y_train, y_test = train_test_split(X, y, test_size=0.2)\";\n",
       "                var nbb_cells = Jupyter.notebook.get_cells();\n",
       "                for (var i = 0; i < nbb_cells.length; ++i) {\n",
       "                    if (nbb_cells[i].input_prompt_number == nbb_cell_id) {\n",
       "                        if (nbb_cells[i].get_text() == nbb_unformatted_code) {\n",
       "                             nbb_cells[i].set_text(nbb_formatted_code);\n",
       "                        }\n",
       "                        break;\n",
       "                    }\n",
       "                }\n",
       "            }, 500);\n",
       "            "
      ],
      "text/plain": [
       "<IPython.core.display.Javascript object>"
      ]
     },
     "metadata": {},
     "output_type": "display_data"
    }
   ],
   "source": [
    "# Split data into train and test sets.\n",
    "\n",
    "from sklearn.model_selection import train_test_split\n",
    "\n",
    "X_train, X_test, y_train, y_test = train_test_split(X, y, test_size=0.2)"
   ]
  },
  {
   "cell_type": "code",
   "execution_count": 7,
   "metadata": {},
   "outputs": [
    {
     "data": {
      "application/javascript": [
       "\n",
       "            setTimeout(function() {\n",
       "                var nbb_cell_id = 7;\n",
       "                var nbb_unformatted_code = \"from sklearn.linear_model import LinearRegression, Lasso, Ridge, ElasticNet\\nfrom sklearn.model_selection import GridSearchCV\";\n",
       "                var nbb_formatted_code = \"from sklearn.linear_model import LinearRegression, Lasso, Ridge, ElasticNet\\nfrom sklearn.model_selection import GridSearchCV\";\n",
       "                var nbb_cells = Jupyter.notebook.get_cells();\n",
       "                for (var i = 0; i < nbb_cells.length; ++i) {\n",
       "                    if (nbb_cells[i].input_prompt_number == nbb_cell_id) {\n",
       "                        if (nbb_cells[i].get_text() == nbb_unformatted_code) {\n",
       "                             nbb_cells[i].set_text(nbb_formatted_code);\n",
       "                        }\n",
       "                        break;\n",
       "                    }\n",
       "                }\n",
       "            }, 500);\n",
       "            "
      ],
      "text/plain": [
       "<IPython.core.display.Javascript object>"
      ]
     },
     "metadata": {},
     "output_type": "display_data"
    }
   ],
   "source": [
    "from sklearn.linear_model import LinearRegression, Lasso, Ridge, ElasticNet\n",
    "from sklearn.model_selection import GridSearchCV\n"
   ]
  },
  {
   "cell_type": "code",
   "execution_count": 8,
   "metadata": {},
   "outputs": [
    {
     "data": {
      "text/plain": [
       "LinearRegression(copy_X=True, fit_intercept=True, n_jobs=None, normalize=False)"
      ]
     },
     "execution_count": 8,
     "metadata": {},
     "output_type": "execute_result"
    },
    {
     "data": {
      "application/javascript": [
       "\n",
       "            setTimeout(function() {\n",
       "                var nbb_cell_id = 8;\n",
       "                var nbb_unformatted_code = \"line = LinearRegression()\\nline.fit(X_train, y_train)\";\n",
       "                var nbb_formatted_code = \"line = LinearRegression()\\nline.fit(X_train, y_train)\";\n",
       "                var nbb_cells = Jupyter.notebook.get_cells();\n",
       "                for (var i = 0; i < nbb_cells.length; ++i) {\n",
       "                    if (nbb_cells[i].input_prompt_number == nbb_cell_id) {\n",
       "                        if (nbb_cells[i].get_text() == nbb_unformatted_code) {\n",
       "                             nbb_cells[i].set_text(nbb_formatted_code);\n",
       "                        }\n",
       "                        break;\n",
       "                    }\n",
       "                }\n",
       "            }, 500);\n",
       "            "
      ],
      "text/plain": [
       "<IPython.core.display.Javascript object>"
      ]
     },
     "metadata": {},
     "output_type": "display_data"
    }
   ],
   "source": [
    "line = LinearRegression()\n",
    "line.fit(X_train, y_train)"
   ]
  },
  {
   "cell_type": "code",
   "execution_count": 9,
   "metadata": {},
   "outputs": [
    {
     "data": {
      "application/javascript": [
       "\n",
       "            setTimeout(function() {\n",
       "                var nbb_cell_id = 9;\n",
       "                var nbb_unformatted_code = \"y_test_pred = line.predict(X_test)\";\n",
       "                var nbb_formatted_code = \"y_test_pred = line.predict(X_test)\";\n",
       "                var nbb_cells = Jupyter.notebook.get_cells();\n",
       "                for (var i = 0; i < nbb_cells.length; ++i) {\n",
       "                    if (nbb_cells[i].input_prompt_number == nbb_cell_id) {\n",
       "                        if (nbb_cells[i].get_text() == nbb_unformatted_code) {\n",
       "                             nbb_cells[i].set_text(nbb_formatted_code);\n",
       "                        }\n",
       "                        break;\n",
       "                    }\n",
       "                }\n",
       "            }, 500);\n",
       "            "
      ],
      "text/plain": [
       "<IPython.core.display.Javascript object>"
      ]
     },
     "metadata": {},
     "output_type": "display_data"
    }
   ],
   "source": [
    "y_test_pred = line.predict(X_test)"
   ]
  },
  {
   "cell_type": "code",
   "execution_count": 10,
   "metadata": {},
   "outputs": [
    {
     "data": {
      "text/plain": [
       "Text(0, 0.5, 'Predicted prices')"
      ]
     },
     "execution_count": 10,
     "metadata": {},
     "output_type": "execute_result"
    },
    {
     "data": {
      "image/png": "[encoded data removed]",
      "text/plain": [
       "<Figure size 432x288 with 1 Axes>"
      ]
     },
     "metadata": {
      "needs_background": "light"
     },
     "output_type": "display_data"
    },
    {
     "data": {
      "application/javascript": [
       "\n",
       "            setTimeout(function() {\n",
       "                var nbb_cell_id = 10;\n",
       "                var nbb_unformatted_code = \"plt.scatter(y_test, y_test_pred)\\nplt.plot(y_test, y_test, color=\\\"r\\\")\\nplt.xlabel(\\\"True prices\\\")\\nplt.ylabel(\\\"Predicted prices\\\")\";\n",
       "                var nbb_formatted_code = \"plt.scatter(y_test, y_test_pred)\\nplt.plot(y_test, y_test, color=\\\"r\\\")\\nplt.xlabel(\\\"True prices\\\")\\nplt.ylabel(\\\"Predicted prices\\\")\";\n",
       "                var nbb_cells = Jupyter.notebook.get_cells();\n",
       "                for (var i = 0; i < nbb_cells.length; ++i) {\n",
       "                    if (nbb_cells[i].input_prompt_number == nbb_cell_id) {\n",
       "                        if (nbb_cells[i].get_text() == nbb_unformatted_code) {\n",
       "                             nbb_cells[i].set_text(nbb_formatted_code);\n",
       "                        }\n",
       "                        break;\n",
       "                    }\n",
       "                }\n",
       "            }, 500);\n",
       "            "
      ],
      "text/plain": [
       "<IPython.core.display.Javascript object>"
      ]
     },
     "metadata": {},
     "output_type": "display_data"
    }
   ],
   "source": [
    "plt.scatter(y_test, y_test_pred)\n",
    "plt.plot(y_test, y_test, color=\"r\")\n",
    "plt.xlabel(\"True prices\")\n",
    "plt.ylabel(\"Predicted prices\")"
   ]
  },
  {
   "cell_type": "code",
   "execution_count": 11,
   "metadata": {},
   "outputs": [
    {
     "name": "stdout",
     "output_type": "stream",
     "text": [
      "Train score: 0.813\n",
      "Test: score: 0.784\n",
      "Mean absolute error: 21891.921\n",
      "MSE: 1657028687.578\n",
      "RMSE: 40706.617\n",
      "MAPE: 11.381\n"
     ]
    },
    {
     "data": {
      "application/javascript": [
       "\n",
       "            setTimeout(function() {\n",
       "                var nbb_cell_id = 11;\n",
       "                var nbb_unformatted_code = \"from sklearn.metrics import mean_absolute_error, mean_squared_error\\n\\nprint(\\n    f\\\"Train score: {line.score(X_train, y_train):.3f}\\\\n\\\"\\n    f\\\"Test: score: {line.score(X_test, y_test):.3f}\\\\n\\\"\\n    f\\\"Mean absolute error: {mean_absolute_error(y_test, y_test_pred):.3f}\\\\n\\\"\\n    f\\\"MSE: {mean_squared_error(y_test, y_test_pred):.3f}\\\\n\\\"\\n    f\\\"RMSE: {mean_squared_error(y_test, y_test_pred, squared=False):.3f}\\\\n\\\"\\n    f\\\"MAPE: {np.mean(np.abs((y_test - y_test_pred) / y_test)) * 100:.3f}\\\"\\n)\";\n",
       "                var nbb_formatted_code = \"from sklearn.metrics import mean_absolute_error, mean_squared_error\\n\\nprint(\\n    f\\\"Train score: {line.score(X_train, y_train):.3f}\\\\n\\\"\\n    f\\\"Test: score: {line.score(X_test, y_test):.3f}\\\\n\\\"\\n    f\\\"Mean absolute error: {mean_absolute_error(y_test, y_test_pred):.3f}\\\\n\\\"\\n    f\\\"MSE: {mean_squared_error(y_test, y_test_pred):.3f}\\\\n\\\"\\n    f\\\"RMSE: {mean_squared_error(y_test, y_test_pred, squared=False):.3f}\\\\n\\\"\\n    f\\\"MAPE: {np.mean(np.abs((y_test - y_test_pred) / y_test)) * 100:.3f}\\\"\\n)\";\n",
       "                var nbb_cells = Jupyter.notebook.get_cells();\n",
       "                for (var i = 0; i < nbb_cells.length; ++i) {\n",
       "                    if (nbb_cells[i].input_prompt_number == nbb_cell_id) {\n",
       "                        if (nbb_cells[i].get_text() == nbb_unformatted_code) {\n",
       "                             nbb_cells[i].set_text(nbb_formatted_code);\n",
       "                        }\n",
       "                        break;\n",
       "                    }\n",
       "                }\n",
       "            }, 500);\n",
       "            "
      ],
      "text/plain": [
       "<IPython.core.display.Javascript object>"
      ]
     },
     "metadata": {},
     "output_type": "display_data"
    }
   ],
   "source": [
    "from sklearn.metrics import mean_absolute_error, mean_squared_error\n",
    "\n",
    "print(\n",
    "    f\"Train score: {line.score(X_train, y_train):.3f}\\n\"\n",
    "    f\"Test: score: {line.score(X_test, y_test):.3f}\\n\"\n",
    "    f\"Mean absolute error: {mean_absolute_error(y_test, y_test_pred):.3f}\\n\"\n",
    "    f\"MSE: {mean_squared_error(y_test, y_test_pred):.3f}\\n\"\n",
    "    f\"RMSE: {mean_squared_error(y_test, y_test_pred, squared=False):.3f}\\n\"\n",
    "    f\"MAPE: {np.mean(np.abs((y_test - y_test_pred) / y_test)) * 100:.3f}\"\n",
    ")"
   ]
  },
  {
   "cell_type": "code",
   "execution_count": 12,
   "metadata": {},
   "outputs": [
    {
     "data": {
      "application/javascript": [
       "\n",
       "            setTimeout(function() {\n",
       "                var nbb_cell_id = 12;\n",
       "                var nbb_unformatted_code = \"# Ridge\\ngrid = {\\\"alpha\\\": np.logspace(-3, 5, 9)}\\nridge_cv = GridSearchCV(Ridge(), grid, cv=5)\\nridge_cv.fit(X_train, y_train)\\ny_test_pred = ridge_cv.best_estimator_.predict(X_test)\";\n",
       "                var nbb_formatted_code = \"# Ridge\\ngrid = {\\\"alpha\\\": np.logspace(-3, 5, 9)}\\nridge_cv = GridSearchCV(Ridge(), grid, cv=5)\\nridge_cv.fit(X_train, y_train)\\ny_test_pred = ridge_cv.best_estimator_.predict(X_test)\";\n",
       "                var nbb_cells = Jupyter.notebook.get_cells();\n",
       "                for (var i = 0; i < nbb_cells.length; ++i) {\n",
       "                    if (nbb_cells[i].input_prompt_number == nbb_cell_id) {\n",
       "                        if (nbb_cells[i].get_text() == nbb_unformatted_code) {\n",
       "                             nbb_cells[i].set_text(nbb_formatted_code);\n",
       "                        }\n",
       "                        break;\n",
       "                    }\n",
       "                }\n",
       "            }, 500);\n",
       "            "
      ],
      "text/plain": [
       "<IPython.core.display.Javascript object>"
      ]
     },
     "metadata": {},
     "output_type": "display_data"
    }
   ],
   "source": [
    "# Ridge\n",
    "grid = {\"alpha\": np.logspace(-3, 5, 9)}\n",
    "ridge_cv = GridSearchCV(Ridge(), grid, cv=5)\n",
    "ridge_cv.fit(X_train, y_train)\n",
    "y_test_pred = ridge_cv.best_estimator_.predict(X_test)"
   ]
  },
  {
   "cell_type": "code",
   "execution_count": 13,
   "metadata": {},
   "outputs": [
    {
     "name": "stdout",
     "output_type": "stream",
     "text": [
      "alpha: 10.0\n",
      "Train score: 0.813\n",
      "Test: score: 0.785\n",
      "Mean absolute error: 21760.989\n",
      "MSE: 1647997727.535\n",
      "RMSE: 40595.538\n",
      "MAPE: 11.282\n"
     ]
    },
    {
     "data": {
      "application/javascript": [
       "\n",
       "            setTimeout(function() {\n",
       "                var nbb_cell_id = 13;\n",
       "                var nbb_unformatted_code = \"print(\\n    f\\\"alpha: {ridge_cv.best_estimator_.alpha}\\\\n\\\"\\n    f\\\"Train score: {ridge_cv.best_estimator_.score(X_train, y_train):.3f}\\\\n\\\"\\n    f\\\"Test: score: {ridge_cv.best_estimator_.score(X_test, y_test):.3f}\\\\n\\\"\\n    f\\\"Mean absolute error: {mean_absolute_error(y_test, y_test_pred):.3f}\\\\n\\\"\\n    f\\\"MSE: {mean_squared_error(y_test, y_test_pred):.3f}\\\\n\\\"\\n    f\\\"RMSE: {mean_squared_error(y_test, y_test_pred, squared=False):.3f}\\\\n\\\"\\n    f\\\"MAPE: {np.mean(np.abs((y_test - y_test_pred) / y_test)) * 100:.3f}\\\"\\n)\";\n",
       "                var nbb_formatted_code = \"print(\\n    f\\\"alpha: {ridge_cv.best_estimator_.alpha}\\\\n\\\"\\n    f\\\"Train score: {ridge_cv.best_estimator_.score(X_train, y_train):.3f}\\\\n\\\"\\n    f\\\"Test: score: {ridge_cv.best_estimator_.score(X_test, y_test):.3f}\\\\n\\\"\\n    f\\\"Mean absolute error: {mean_absolute_error(y_test, y_test_pred):.3f}\\\\n\\\"\\n    f\\\"MSE: {mean_squared_error(y_test, y_test_pred):.3f}\\\\n\\\"\\n    f\\\"RMSE: {mean_squared_error(y_test, y_test_pred, squared=False):.3f}\\\\n\\\"\\n    f\\\"MAPE: {np.mean(np.abs((y_test - y_test_pred) / y_test)) * 100:.3f}\\\"\\n)\";\n",
       "                var nbb_cells = Jupyter.notebook.get_cells();\n",
       "                for (var i = 0; i < nbb_cells.length; ++i) {\n",
       "                    if (nbb_cells[i].input_prompt_number == nbb_cell_id) {\n",
       "                        if (nbb_cells[i].get_text() == nbb_unformatted_code) {\n",
       "                             nbb_cells[i].set_text(nbb_formatted_code);\n",
       "                        }\n",
       "                        break;\n",
       "                    }\n",
       "                }\n",
       "            }, 500);\n",
       "            "
      ],
      "text/plain": [
       "<IPython.core.display.Javascript object>"
      ]
     },
     "metadata": {},
     "output_type": "display_data"
    }
   ],
   "source": [
    "print(\n",
    "    f\"alpha: {ridge_cv.best_estimator_.alpha}\\n\"\n",
    "    f\"Train score: {ridge_cv.best_estimator_.score(X_train, y_train):.3f}\\n\"\n",
    "    f\"Test: score: {ridge_cv.best_estimator_.score(X_test, y_test):.3f}\\n\"\n",
    "    f\"Mean absolute error: {mean_absolute_error(y_test, y_test_pred):.3f}\\n\"\n",
    "    f\"MSE: {mean_squared_error(y_test, y_test_pred):.3f}\\n\"\n",
    "    f\"RMSE: {mean_squared_error(y_test, y_test_pred, squared=False):.3f}\\n\"\n",
    "    f\"MAPE: {np.mean(np.abs((y_test - y_test_pred) / y_test)) * 100:.3f}\"\n",
    ")"
   ]
  },
  {
   "cell_type": "code",
   "execution_count": 14,
   "metadata": {},
   "outputs": [
    {
     "data": {
      "text/plain": [
       "Text(0, 0.5, 'Predicted prices')"
      ]
     },
     "execution_count": 14,
     "metadata": {},
     "output_type": "execute_result"
    },
    {
     "data": {
      "image/png": "[encoded data removed]",
      "text/plain": [
       "<Figure size 432x288 with 1 Axes>"
      ]
     },
     "metadata": {
      "needs_background": "light"
     },
     "output_type": "display_data"
    },
    {
     "data": {
      "application/javascript": [
       "\n",
       "            setTimeout(function() {\n",
       "                var nbb_cell_id = 14;\n",
       "                var nbb_unformatted_code = \"plt.scatter(y_test, y_test_pred)\\nplt.plot(y_test, y_test, color=\\\"r\\\")\\nplt.xlabel(\\\"True prices\\\")\\nplt.ylabel(\\\"Predicted prices\\\")\";\n",
       "                var nbb_formatted_code = \"plt.scatter(y_test, y_test_pred)\\nplt.plot(y_test, y_test, color=\\\"r\\\")\\nplt.xlabel(\\\"True prices\\\")\\nplt.ylabel(\\\"Predicted prices\\\")\";\n",
       "                var nbb_cells = Jupyter.notebook.get_cells();\n",
       "                for (var i = 0; i < nbb_cells.length; ++i) {\n",
       "                    if (nbb_cells[i].input_prompt_number == nbb_cell_id) {\n",
       "                        if (nbb_cells[i].get_text() == nbb_unformatted_code) {\n",
       "                             nbb_cells[i].set_text(nbb_formatted_code);\n",
       "                        }\n",
       "                        break;\n",
       "                    }\n",
       "                }\n",
       "            }, 500);\n",
       "            "
      ],
      "text/plain": [
       "<IPython.core.display.Javascript object>"
      ]
     },
     "metadata": {},
     "output_type": "display_data"
    }
   ],
   "source": [
    "plt.scatter(y_test, y_test_pred)\n",
    "plt.plot(y_test, y_test, color=\"r\")\n",
    "plt.xlabel(\"True prices\")\n",
    "plt.ylabel(\"Predicted prices\")"
   ]
  },
  {
   "cell_type": "code",
   "execution_count": 15,
   "metadata": {},
   "outputs": [
    {
     "name": "stderr",
     "output_type": "stream",
     "text": [
      "/Users/abilenky/miniconda3/lib/python3.8/site-packages/sklearn/linear_model/_coordinate_descent.py:474: ConvergenceWarning: Objective did not converge. You might want to increase the number of iterations. Duality gap: 43167279920.832886, tolerance: 505983142.3124131\n",
      "  model = cd_fast.enet_coordinate_descent(\n",
      "/Users/abilenky/miniconda3/lib/python3.8/site-packages/sklearn/linear_model/_coordinate_descent.py:474: ConvergenceWarning: Objective did not converge. You might want to increase the number of iterations. Duality gap: 43167602554.84253, tolerance: 505983142.3124131\n",
      "  model = cd_fast.enet_coordinate_descent(\n",
      "/Users/abilenky/miniconda3/lib/python3.8/site-packages/sklearn/linear_model/_coordinate_descent.py:474: ConvergenceWarning: Objective did not converge. You might want to increase the number of iterations. Duality gap: 43170224584.490234, tolerance: 505983142.3124131\n",
      "  model = cd_fast.enet_coordinate_descent(\n",
      "/Users/abilenky/miniconda3/lib/python3.8/site-packages/sklearn/linear_model/_coordinate_descent.py:474: ConvergenceWarning: Objective did not converge. You might want to increase the number of iterations. Duality gap: 43196386628.41638, tolerance: 505983142.3124131\n",
      "  model = cd_fast.enet_coordinate_descent(\n"
     ]
    },
    {
     "data": {
      "application/javascript": [
       "\n",
       "            setTimeout(function() {\n",
       "                var nbb_cell_id = 15;\n",
       "                var nbb_unformatted_code = \"# Lasso\\nlasso_cv = GridSearchCV(Lasso(max_iter=10000), grid, cv=5)\\nlasso_cv.fit(X_train, y_train)\\ny_test_pred = lasso_cv.best_estimator_.predict(X_test)\";\n",
       "                var nbb_formatted_code = \"# Lasso\\nlasso_cv = GridSearchCV(Lasso(max_iter=10000), grid, cv=5)\\nlasso_cv.fit(X_train, y_train)\\ny_test_pred = lasso_cv.best_estimator_.predict(X_test)\";\n",
       "                var nbb_cells = Jupyter.notebook.get_cells();\n",
       "                for (var i = 0; i < nbb_cells.length; ++i) {\n",
       "                    if (nbb_cells[i].input_prompt_number == nbb_cell_id) {\n",
       "                        if (nbb_cells[i].get_text() == nbb_unformatted_code) {\n",
       "                             nbb_cells[i].set_text(nbb_formatted_code);\n",
       "                        }\n",
       "                        break;\n",
       "                    }\n",
       "                }\n",
       "            }, 500);\n",
       "            "
      ],
      "text/plain": [
       "<IPython.core.display.Javascript object>"
      ]
     },
     "metadata": {},
     "output_type": "display_data"
    }
   ],
   "source": [
    "# Lasso\n",
    "lasso_cv = GridSearchCV(Lasso(max_iter=10000), grid, cv=5)\n",
    "lasso_cv.fit(X_train, y_train)\n",
    "y_test_pred = lasso_cv.best_estimator_.predict(X_test)"
   ]
  },
  {
   "cell_type": "code",
   "execution_count": 16,
   "metadata": {},
   "outputs": [
    {
     "name": "stdout",
     "output_type": "stream",
     "text": [
      "alpha: 10.0\n",
      "Train score: 0.813\n",
      "Test: score: 0.784\n",
      "Mean absolute error: 21874.539\n",
      "MSE: 1655886821.262\n",
      "RMSE: 40692.589\n",
      "MAPE: 11.370\n"
     ]
    },
    {
     "data": {
      "application/javascript": [
       "\n",
       "            setTimeout(function() {\n",
       "                var nbb_cell_id = 16;\n",
       "                var nbb_unformatted_code = \"print(\\n    f\\\"alpha: {lasso_cv.best_estimator_.alpha}\\\\n\\\"\\n    f\\\"Train score: {lasso_cv.best_estimator_.score(X_train, y_train):.3f}\\\\n\\\"\\n    f\\\"Test: score: {lasso_cv.best_estimator_.score(X_test, y_test):.3f}\\\\n\\\"\\n    f\\\"Mean absolute error: {mean_absolute_error(y_test, y_test_pred):.3f}\\\\n\\\"\\n    f\\\"MSE: {mean_squared_error(y_test, y_test_pred):.3f}\\\\n\\\"\\n    f\\\"RMSE: {mean_squared_error(y_test, y_test_pred, squared=False):.3f}\\\\n\\\"\\n    f\\\"MAPE: {np.mean(np.abs((y_test - y_test_pred) / y_test)) * 100:.3f}\\\"\\n)\";\n",
       "                var nbb_formatted_code = \"print(\\n    f\\\"alpha: {lasso_cv.best_estimator_.alpha}\\\\n\\\"\\n    f\\\"Train score: {lasso_cv.best_estimator_.score(X_train, y_train):.3f}\\\\n\\\"\\n    f\\\"Test: score: {lasso_cv.best_estimator_.score(X_test, y_test):.3f}\\\\n\\\"\\n    f\\\"Mean absolute error: {mean_absolute_error(y_test, y_test_pred):.3f}\\\\n\\\"\\n    f\\\"MSE: {mean_squared_error(y_test, y_test_pred):.3f}\\\\n\\\"\\n    f\\\"RMSE: {mean_squared_error(y_test, y_test_pred, squared=False):.3f}\\\\n\\\"\\n    f\\\"MAPE: {np.mean(np.abs((y_test - y_test_pred) / y_test)) * 100:.3f}\\\"\\n)\";\n",
       "                var nbb_cells = Jupyter.notebook.get_cells();\n",
       "                for (var i = 0; i < nbb_cells.length; ++i) {\n",
       "                    if (nbb_cells[i].input_prompt_number == nbb_cell_id) {\n",
       "                        if (nbb_cells[i].get_text() == nbb_unformatted_code) {\n",
       "                             nbb_cells[i].set_text(nbb_formatted_code);\n",
       "                        }\n",
       "                        break;\n",
       "                    }\n",
       "                }\n",
       "            }, 500);\n",
       "            "
      ],
      "text/plain": [
       "<IPython.core.display.Javascript object>"
      ]
     },
     "metadata": {},
     "output_type": "display_data"
    }
   ],
   "source": [
    "print(\n",
    "    f\"alpha: {lasso_cv.best_estimator_.alpha}\\n\"\n",
    "    f\"Train score: {lasso_cv.best_estimator_.score(X_train, y_train):.3f}\\n\"\n",
    "    f\"Test: score: {lasso_cv.best_estimator_.score(X_test, y_test):.3f}\\n\"\n",
    "    f\"Mean absolute error: {mean_absolute_error(y_test, y_test_pred):.3f}\\n\"\n",
    "    f\"MSE: {mean_squared_error(y_test, y_test_pred):.3f}\\n\"\n",
    "    f\"RMSE: {mean_squared_error(y_test, y_test_pred, squared=False):.3f}\\n\"\n",
    "    f\"MAPE: {np.mean(np.abs((y_test - y_test_pred) / y_test)) * 100:.3f}\"\n",
    ")"
   ]
  },
  {
   "cell_type": "code",
   "execution_count": 17,
   "metadata": {},
   "outputs": [
    {
     "data": {
      "text/plain": [
       "Text(0, 0.5, 'Predicted prices')"
      ]
     },
     "execution_count": 17,
     "metadata": {},
     "output_type": "execute_result"
    },
    {
     "data": {
      "image/png": "[encoded data removed]",
      "text/plain": [
       "<Figure size 432x288 with 1 Axes>"
      ]
     },
     "metadata": {
      "needs_background": "light"
     },
     "output_type": "display_data"
    },
    {
     "data": {
      "application/javascript": [
       "\n",
       "            setTimeout(function() {\n",
       "                var nbb_cell_id = 17;\n",
       "                var nbb_unformatted_code = \"plt.scatter(y_test, y_test_pred)\\nplt.plot(y_test, y_test, color=\\\"r\\\")\\nplt.xlabel(\\\"True prices\\\")\\nplt.ylabel(\\\"Predicted prices\\\")\";\n",
       "                var nbb_formatted_code = \"plt.scatter(y_test, y_test_pred)\\nplt.plot(y_test, y_test, color=\\\"r\\\")\\nplt.xlabel(\\\"True prices\\\")\\nplt.ylabel(\\\"Predicted prices\\\")\";\n",
       "                var nbb_cells = Jupyter.notebook.get_cells();\n",
       "                for (var i = 0; i < nbb_cells.length; ++i) {\n",
       "                    if (nbb_cells[i].input_prompt_number == nbb_cell_id) {\n",
       "                        if (nbb_cells[i].get_text() == nbb_unformatted_code) {\n",
       "                             nbb_cells[i].set_text(nbb_formatted_code);\n",
       "                        }\n",
       "                        break;\n",
       "                    }\n",
       "                }\n",
       "            }, 500);\n",
       "            "
      ],
      "text/plain": [
       "<IPython.core.display.Javascript object>"
      ]
     },
     "metadata": {},
     "output_type": "display_data"
    }
   ],
   "source": [
    "plt.scatter(y_test, y_test_pred)\n",
    "plt.plot(y_test, y_test, color=\"r\")\n",
    "plt.xlabel(\"True prices\")\n",
    "plt.ylabel(\"Predicted prices\")"
   ]
  },
  {
   "cell_type": "code",
   "execution_count": 18,
   "metadata": {},
   "outputs": [
    {
     "name": "stdout",
     "output_type": "stream",
     "text": [
      "Fitting 5 folds for each of 36 candidates, totalling 180 fits\n"
     ]
    },
    {
     "name": "stderr",
     "output_type": "stream",
     "text": [
      "[Parallel(n_jobs=1)]: Using backend SequentialBackend with 1 concurrent workers.\n",
      "/Users/abilenky/miniconda3/lib/python3.8/site-packages/sklearn/linear_model/_coordinate_descent.py:474: ConvergenceWarning: Objective did not converge. You might want to increase the number of iterations. Duality gap: 499366282785.24255, tolerance: 505983142.3124131\n",
      "  model = cd_fast.enet_coordinate_descent(\n",
      "/Users/abilenky/miniconda3/lib/python3.8/site-packages/sklearn/linear_model/_coordinate_descent.py:474: ConvergenceWarning: Objective did not converge. You might want to increase the number of iterations. Duality gap: 510548218876.7536, tolerance: 534821945.2753646\n",
      "  model = cd_fast.enet_coordinate_descent(\n",
      "/Users/abilenky/miniconda3/lib/python3.8/site-packages/sklearn/linear_model/_coordinate_descent.py:474: ConvergenceWarning: Objective did not converge. You might want to increase the number of iterations. Duality gap: 466040898896.2755, tolerance: 489192333.4545633\n",
      "  model = cd_fast.enet_coordinate_descent(\n",
      "/Users/abilenky/miniconda3/lib/python3.8/site-packages/sklearn/linear_model/_coordinate_descent.py:474: ConvergenceWarning: Objective did not converge. You might want to increase the number of iterations. Duality gap: 480228384220.5509, tolerance: 504821520.5827942\n",
      "  model = cd_fast.enet_coordinate_descent(\n",
      "/Users/abilenky/miniconda3/lib/python3.8/site-packages/sklearn/linear_model/_coordinate_descent.py:474: ConvergenceWarning: Objective did not converge. You might want to increase the number of iterations. Duality gap: 299820559048.4665, tolerance: 465745401.13399327\n",
      "  model = cd_fast.enet_coordinate_descent(\n",
      "/Users/abilenky/miniconda3/lib/python3.8/site-packages/sklearn/linear_model/_coordinate_descent.py:474: ConvergenceWarning: Objective did not converge. You might want to increase the number of iterations. Duality gap: 486522070559.4587, tolerance: 505983142.3124131\n",
      "  model = cd_fast.enet_coordinate_descent(\n",
      "/Users/abilenky/miniconda3/lib/python3.8/site-packages/sklearn/linear_model/_coordinate_descent.py:474: ConvergenceWarning: Objective did not converge. You might want to increase the number of iterations. Duality gap: 496896423375.32153, tolerance: 534821945.2753646\n",
      "  model = cd_fast.enet_coordinate_descent(\n",
      "/Users/abilenky/miniconda3/lib/python3.8/site-packages/sklearn/linear_model/_coordinate_descent.py:474: ConvergenceWarning: Objective did not converge. You might want to increase the number of iterations. Duality gap: 456634315284.124, tolerance: 489192333.4545633\n",
      "  model = cd_fast.enet_coordinate_descent(\n",
      "/Users/abilenky/miniconda3/lib/python3.8/site-packages/sklearn/linear_model/_coordinate_descent.py:474: ConvergenceWarning: Objective did not converge. You might want to increase the number of iterations. Duality gap: 467835272297.1655, tolerance: 504821520.5827942\n",
      "  model = cd_fast.enet_coordinate_descent(\n",
      "/Users/abilenky/miniconda3/lib/python3.8/site-packages/sklearn/linear_model/_coordinate_descent.py:474: ConvergenceWarning: Objective did not converge. You might want to increase the number of iterations. Duality gap: 291910972486.3926, tolerance: 465745401.13399327\n",
      "  model = cd_fast.enet_coordinate_descent(\n",
      "/Users/abilenky/miniconda3/lib/python3.8/site-packages/sklearn/linear_model/_coordinate_descent.py:474: ConvergenceWarning: Objective did not converge. You might want to increase the number of iterations. Duality gap: 449378673798.9058, tolerance: 505983142.3124131\n",
      "  model = cd_fast.enet_coordinate_descent(\n",
      "/Users/abilenky/miniconda3/lib/python3.8/site-packages/sklearn/linear_model/_coordinate_descent.py:474: ConvergenceWarning: Objective did not converge. You might want to increase the number of iterations. Duality gap: 457382844257.4402, tolerance: 534821945.2753646\n",
      "  model = cd_fast.enet_coordinate_descent(\n",
      "/Users/abilenky/miniconda3/lib/python3.8/site-packages/sklearn/linear_model/_coordinate_descent.py:474: ConvergenceWarning: Objective did not converge. You might want to increase the number of iterations. Duality gap: 429325968979.80896, tolerance: 489192333.4545633\n",
      "  model = cd_fast.enet_coordinate_descent(\n",
      "/Users/abilenky/miniconda3/lib/python3.8/site-packages/sklearn/linear_model/_coordinate_descent.py:474: ConvergenceWarning: Objective did not converge. You might want to increase the number of iterations. Duality gap: 431967483608.5926, tolerance: 504821520.5827942\n",
      "  model = cd_fast.enet_coordinate_descent(\n",
      "/Users/abilenky/miniconda3/lib/python3.8/site-packages/sklearn/linear_model/_coordinate_descent.py:474: ConvergenceWarning: Objective did not converge. You might want to increase the number of iterations. Duality gap: 269532251021.48218, tolerance: 465745401.13399327\n",
      "  model = cd_fast.enet_coordinate_descent(\n",
      "/Users/abilenky/miniconda3/lib/python3.8/site-packages/sklearn/linear_model/_coordinate_descent.py:474: ConvergenceWarning: Objective did not converge. You might want to increase the number of iterations. Duality gap: 43167279920.832886, tolerance: 505983142.3124131\n",
      "  model = cd_fast.enet_coordinate_descent(\n",
      "/Users/abilenky/miniconda3/lib/python3.8/site-packages/sklearn/linear_model/_coordinate_descent.py:474: ConvergenceWarning: Objective did not converge. You might want to increase the number of iterations. Duality gap: 504396712246.8386, tolerance: 505983142.3124131\n",
      "  model = cd_fast.enet_coordinate_descent(\n",
      "/Users/abilenky/miniconda3/lib/python3.8/site-packages/sklearn/linear_model/_coordinate_descent.py:474: ConvergenceWarning: Objective did not converge. You might want to increase the number of iterations. Duality gap: 515303113181.04926, tolerance: 534821945.2753646\n",
      "  model = cd_fast.enet_coordinate_descent(\n",
      "/Users/abilenky/miniconda3/lib/python3.8/site-packages/sklearn/linear_model/_coordinate_descent.py:474: ConvergenceWarning: Objective did not converge. You might want to increase the number of iterations. Duality gap: 470343996471.2689, tolerance: 489192333.4545633\n",
      "  model = cd_fast.enet_coordinate_descent(\n",
      "/Users/abilenky/miniconda3/lib/python3.8/site-packages/sklearn/linear_model/_coordinate_descent.py:474: ConvergenceWarning: Objective did not converge. You might want to increase the number of iterations. Duality gap: 484568585615.0089, tolerance: 504821520.5827942\n",
      "  model = cd_fast.enet_coordinate_descent(\n",
      "/Users/abilenky/miniconda3/lib/python3.8/site-packages/sklearn/linear_model/_coordinate_descent.py:474: ConvergenceWarning: Objective did not converge. You might want to increase the number of iterations. Duality gap: 303680902701.6312, tolerance: 465745401.13399327\n",
      "  model = cd_fast.enet_coordinate_descent(\n",
      "/Users/abilenky/miniconda3/lib/python3.8/site-packages/sklearn/linear_model/_coordinate_descent.py:474: ConvergenceWarning: Objective did not converge. You might want to increase the number of iterations. Duality gap: 490363044518.92816, tolerance: 505983142.3124131\n",
      "  model = cd_fast.enet_coordinate_descent(\n",
      "/Users/abilenky/miniconda3/lib/python3.8/site-packages/sklearn/linear_model/_coordinate_descent.py:474: ConvergenceWarning: Objective did not converge. You might want to increase the number of iterations. Duality gap: 500467230512.2501, tolerance: 534821945.2753646\n",
      "  model = cd_fast.enet_coordinate_descent(\n",
      "/Users/abilenky/miniconda3/lib/python3.8/site-packages/sklearn/linear_model/_coordinate_descent.py:474: ConvergenceWarning: Objective did not converge. You might want to increase the number of iterations. Duality gap: 459695905763.0119, tolerance: 489192333.4545633\n",
      "  model = cd_fast.enet_coordinate_descent(\n",
      "/Users/abilenky/miniconda3/lib/python3.8/site-packages/sklearn/linear_model/_coordinate_descent.py:474: ConvergenceWarning: Objective did not converge. You might want to increase the number of iterations. Duality gap: 471084173230.6528, tolerance: 504821520.5827942\n",
      "  model = cd_fast.enet_coordinate_descent(\n",
      "/Users/abilenky/miniconda3/lib/python3.8/site-packages/sklearn/linear_model/_coordinate_descent.py:474: ConvergenceWarning: Objective did not converge. You might want to increase the number of iterations. Duality gap: 294519388206.29944, tolerance: 465745401.13399327\n",
      "  model = cd_fast.enet_coordinate_descent(\n",
      "/Users/abilenky/miniconda3/lib/python3.8/site-packages/sklearn/linear_model/_coordinate_descent.py:474: ConvergenceWarning: Objective did not converge. You might want to increase the number of iterations. Duality gap: 451918644870.35065, tolerance: 505983142.3124131\n",
      "  model = cd_fast.enet_coordinate_descent(\n"
     ]
    },
    {
     "name": "stderr",
     "output_type": "stream",
     "text": [
      "/Users/abilenky/miniconda3/lib/python3.8/site-packages/sklearn/linear_model/_coordinate_descent.py:474: ConvergenceWarning: Objective did not converge. You might want to increase the number of iterations. Duality gap: 459675147680.10254, tolerance: 534821945.2753646\n",
      "  model = cd_fast.enet_coordinate_descent(\n",
      "/Users/abilenky/miniconda3/lib/python3.8/site-packages/sklearn/linear_model/_coordinate_descent.py:474: ConvergenceWarning: Objective did not converge. You might want to increase the number of iterations. Duality gap: 431056438620.90765, tolerance: 489192333.4545633\n",
      "  model = cd_fast.enet_coordinate_descent(\n",
      "/Users/abilenky/miniconda3/lib/python3.8/site-packages/sklearn/linear_model/_coordinate_descent.py:474: ConvergenceWarning: Objective did not converge. You might want to increase the number of iterations. Duality gap: 434041054960.071, tolerance: 504821520.5827942\n",
      "  model = cd_fast.enet_coordinate_descent(\n",
      "/Users/abilenky/miniconda3/lib/python3.8/site-packages/sklearn/linear_model/_coordinate_descent.py:474: ConvergenceWarning: Objective did not converge. You might want to increase the number of iterations. Duality gap: 270740109174.4427, tolerance: 465745401.13399327\n",
      "  model = cd_fast.enet_coordinate_descent(\n",
      "/Users/abilenky/miniconda3/lib/python3.8/site-packages/sklearn/linear_model/_coordinate_descent.py:474: ConvergenceWarning: Objective did not converge. You might want to increase the number of iterations. Duality gap: 43167602554.84253, tolerance: 505983142.3124131\n",
      "  model = cd_fast.enet_coordinate_descent(\n",
      "/Users/abilenky/miniconda3/lib/python3.8/site-packages/sklearn/linear_model/_coordinate_descent.py:474: ConvergenceWarning: Objective did not converge. You might want to increase the number of iterations. Duality gap: 531525131809.97107, tolerance: 505983142.3124131\n",
      "  model = cd_fast.enet_coordinate_descent(\n",
      "/Users/abilenky/miniconda3/lib/python3.8/site-packages/sklearn/linear_model/_coordinate_descent.py:474: ConvergenceWarning: Objective did not converge. You might want to increase the number of iterations. Duality gap: 542514797149.922, tolerance: 534821945.2753646\n",
      "  model = cd_fast.enet_coordinate_descent(\n",
      "/Users/abilenky/miniconda3/lib/python3.8/site-packages/sklearn/linear_model/_coordinate_descent.py:474: ConvergenceWarning: Objective did not converge. You might want to increase the number of iterations. Duality gap: 496369140546.42755, tolerance: 489192333.4545633\n",
      "  model = cd_fast.enet_coordinate_descent(\n",
      "/Users/abilenky/miniconda3/lib/python3.8/site-packages/sklearn/linear_model/_coordinate_descent.py:474: ConvergenceWarning: Objective did not converge. You might want to increase the number of iterations. Duality gap: 509604640776.7584, tolerance: 504821520.5827942\n",
      "  model = cd_fast.enet_coordinate_descent(\n",
      "/Users/abilenky/miniconda3/lib/python3.8/site-packages/sklearn/linear_model/_coordinate_descent.py:474: ConvergenceWarning: Objective did not converge. You might want to increase the number of iterations. Duality gap: 322071882441.23584, tolerance: 465745401.13399327\n",
      "  model = cd_fast.enet_coordinate_descent(\n",
      "/Users/abilenky/miniconda3/lib/python3.8/site-packages/sklearn/linear_model/_coordinate_descent.py:474: ConvergenceWarning: Objective did not converge. You might want to increase the number of iterations. Duality gap: 511966679121.37695, tolerance: 505983142.3124131\n",
      "  model = cd_fast.enet_coordinate_descent(\n",
      "/Users/abilenky/miniconda3/lib/python3.8/site-packages/sklearn/linear_model/_coordinate_descent.py:474: ConvergenceWarning: Objective did not converge. You might want to increase the number of iterations. Duality gap: 521907406347.71716, tolerance: 534821945.2753646\n",
      "  model = cd_fast.enet_coordinate_descent(\n",
      "/Users/abilenky/miniconda3/lib/python3.8/site-packages/sklearn/linear_model/_coordinate_descent.py:474: ConvergenceWarning: Objective did not converge. You might want to increase the number of iterations. Duality gap: 479561280169.72217, tolerance: 489192333.4545633\n",
      "  model = cd_fast.enet_coordinate_descent(\n",
      "/Users/abilenky/miniconda3/lib/python3.8/site-packages/sklearn/linear_model/_coordinate_descent.py:474: ConvergenceWarning: Objective did not converge. You might want to increase the number of iterations. Duality gap: 490576497500.7155, tolerance: 504821520.5827942\n",
      "  model = cd_fast.enet_coordinate_descent(\n",
      "/Users/abilenky/miniconda3/lib/python3.8/site-packages/sklearn/linear_model/_coordinate_descent.py:474: ConvergenceWarning: Objective did not converge. You might want to increase the number of iterations. Duality gap: 308531996269.0374, tolerance: 465745401.13399327\n",
      "  model = cd_fast.enet_coordinate_descent(\n",
      "/Users/abilenky/miniconda3/lib/python3.8/site-packages/sklearn/linear_model/_coordinate_descent.py:474: ConvergenceWarning: Objective did not converge. You might want to increase the number of iterations. Duality gap: 467440569026.5106, tolerance: 505983142.3124131\n",
      "  model = cd_fast.enet_coordinate_descent(\n",
      "/Users/abilenky/miniconda3/lib/python3.8/site-packages/sklearn/linear_model/_coordinate_descent.py:474: ConvergenceWarning: Objective did not converge. You might want to increase the number of iterations. Duality gap: 474573030218.23755, tolerance: 534821945.2753646\n",
      "  model = cd_fast.enet_coordinate_descent(\n",
      "/Users/abilenky/miniconda3/lib/python3.8/site-packages/sklearn/linear_model/_coordinate_descent.py:474: ConvergenceWarning: Objective did not converge. You might want to increase the number of iterations. Duality gap: 443418523382.95654, tolerance: 489192333.4545633\n",
      "  model = cd_fast.enet_coordinate_descent(\n",
      "/Users/abilenky/miniconda3/lib/python3.8/site-packages/sklearn/linear_model/_coordinate_descent.py:474: ConvergenceWarning: Objective did not converge. You might want to increase the number of iterations. Duality gap: 447325211908.46277, tolerance: 504821520.5827942\n",
      "  model = cd_fast.enet_coordinate_descent(\n",
      "/Users/abilenky/miniconda3/lib/python3.8/site-packages/sklearn/linear_model/_coordinate_descent.py:474: ConvergenceWarning: Objective did not converge. You might want to increase the number of iterations. Duality gap: 278678203336.36285, tolerance: 465745401.13399327\n",
      "  model = cd_fast.enet_coordinate_descent(\n",
      "/Users/abilenky/miniconda3/lib/python3.8/site-packages/sklearn/linear_model/_coordinate_descent.py:474: ConvergenceWarning: Objective did not converge. You might want to increase the number of iterations. Duality gap: 43170224584.490234, tolerance: 505983142.3124131\n",
      "  model = cd_fast.enet_coordinate_descent(\n",
      "/Users/abilenky/miniconda3/lib/python3.8/site-packages/sklearn/linear_model/_coordinate_descent.py:474: ConvergenceWarning: Objective did not converge. You might want to increase the number of iterations. Duality gap: 619864102469.0696, tolerance: 505983142.3124131\n",
      "  model = cd_fast.enet_coordinate_descent(\n",
      "/Users/abilenky/miniconda3/lib/python3.8/site-packages/sklearn/linear_model/_coordinate_descent.py:474: ConvergenceWarning: Objective did not converge. You might want to increase the number of iterations. Duality gap: 630219577685.4225, tolerance: 534821945.2753646\n",
      "  model = cd_fast.enet_coordinate_descent(\n",
      "/Users/abilenky/miniconda3/lib/python3.8/site-packages/sklearn/linear_model/_coordinate_descent.py:474: ConvergenceWarning: Objective did not converge. You might want to increase the number of iterations. Duality gap: 576490029067.2317, tolerance: 489192333.4545633\n",
      "  model = cd_fast.enet_coordinate_descent(\n",
      "/Users/abilenky/miniconda3/lib/python3.8/site-packages/sklearn/linear_model/_coordinate_descent.py:474: ConvergenceWarning: Objective did not converge. You might want to increase the number of iterations. Duality gap: 591514176994.4507, tolerance: 504821520.5827942\n",
      "  model = cd_fast.enet_coordinate_descent(\n",
      "/Users/abilenky/miniconda3/lib/python3.8/site-packages/sklearn/linear_model/_coordinate_descent.py:474: ConvergenceWarning: Objective did not converge. You might want to increase the number of iterations. Duality gap: 375118693378.78784, tolerance: 465745401.13399327\n",
      "  model = cd_fast.enet_coordinate_descent(\n",
      "/Users/abilenky/miniconda3/lib/python3.8/site-packages/sklearn/linear_model/_coordinate_descent.py:474: ConvergenceWarning: Objective did not converge. You might want to increase the number of iterations. Duality gap: 589328546779.2103, tolerance: 505983142.3124131\n",
      "  model = cd_fast.enet_coordinate_descent(\n"
     ]
    },
    {
     "name": "stderr",
     "output_type": "stream",
     "text": [
      "/Users/abilenky/miniconda3/lib/python3.8/site-packages/sklearn/linear_model/_coordinate_descent.py:474: ConvergenceWarning: Objective did not converge. You might want to increase the number of iterations. Duality gap: 599469067749.4493, tolerance: 534821945.2753646\n",
      "  model = cd_fast.enet_coordinate_descent(\n",
      "/Users/abilenky/miniconda3/lib/python3.8/site-packages/sklearn/linear_model/_coordinate_descent.py:474: ConvergenceWarning: Objective did not converge. You might want to increase the number of iterations. Duality gap: 550702683860.3434, tolerance: 489192333.4545633\n",
      "  model = cd_fast.enet_coordinate_descent(\n",
      "/Users/abilenky/miniconda3/lib/python3.8/site-packages/sklearn/linear_model/_coordinate_descent.py:474: ConvergenceWarning: Objective did not converge. You might want to increase the number of iterations. Duality gap: 562366954791.6893, tolerance: 504821520.5827942\n",
      "  model = cd_fast.enet_coordinate_descent(\n",
      "/Users/abilenky/miniconda3/lib/python3.8/site-packages/sklearn/linear_model/_coordinate_descent.py:474: ConvergenceWarning: Objective did not converge. You might want to increase the number of iterations. Duality gap: 353333442553.43207, tolerance: 465745401.13399327\n",
      "  model = cd_fast.enet_coordinate_descent(\n",
      "/Users/abilenky/miniconda3/lib/python3.8/site-packages/sklearn/linear_model/_coordinate_descent.py:474: ConvergenceWarning: Objective did not converge. You might want to increase the number of iterations. Duality gap: 525743752695.31494, tolerance: 505983142.3124131\n",
      "  model = cd_fast.enet_coordinate_descent(\n",
      "/Users/abilenky/miniconda3/lib/python3.8/site-packages/sklearn/linear_model/_coordinate_descent.py:474: ConvergenceWarning: Objective did not converge. You might want to increase the number of iterations. Duality gap: 533855518240.7166, tolerance: 534821945.2753646\n",
      "  model = cd_fast.enet_coordinate_descent(\n",
      "/Users/abilenky/miniconda3/lib/python3.8/site-packages/sklearn/linear_model/_coordinate_descent.py:474: ConvergenceWarning: Objective did not converge. You might want to increase the number of iterations. Duality gap: 497004505097.39795, tolerance: 489192333.4545633\n",
      "  model = cd_fast.enet_coordinate_descent(\n",
      "/Users/abilenky/miniconda3/lib/python3.8/site-packages/sklearn/linear_model/_coordinate_descent.py:474: ConvergenceWarning: Objective did not converge. You might want to increase the number of iterations. Duality gap: 500620100977.76013, tolerance: 504821520.5827942\n",
      "  model = cd_fast.enet_coordinate_descent(\n",
      "/Users/abilenky/miniconda3/lib/python3.8/site-packages/sklearn/linear_model/_coordinate_descent.py:474: ConvergenceWarning: Objective did not converge. You might want to increase the number of iterations. Duality gap: 308558802367.0825, tolerance: 465745401.13399327\n",
      "  model = cd_fast.enet_coordinate_descent(\n",
      "/Users/abilenky/miniconda3/lib/python3.8/site-packages/sklearn/linear_model/_coordinate_descent.py:474: ConvergenceWarning: Objective did not converge. You might want to increase the number of iterations. Duality gap: 43196386628.41638, tolerance: 505983142.3124131\n",
      "  model = cd_fast.enet_coordinate_descent(\n",
      "/Users/abilenky/miniconda3/lib/python3.8/site-packages/sklearn/linear_model/_coordinate_descent.py:474: ConvergenceWarning: Objective did not converge. You might want to increase the number of iterations. Duality gap: 693039433250.6057, tolerance: 505983142.3124131\n",
      "  model = cd_fast.enet_coordinate_descent(\n",
      "/Users/abilenky/miniconda3/lib/python3.8/site-packages/sklearn/linear_model/_coordinate_descent.py:474: ConvergenceWarning: Objective did not converge. You might want to increase the number of iterations. Duality gap: 700656683778.004, tolerance: 534821945.2753646\n",
      "  model = cd_fast.enet_coordinate_descent(\n",
      "/Users/abilenky/miniconda3/lib/python3.8/site-packages/sklearn/linear_model/_coordinate_descent.py:474: ConvergenceWarning: Objective did not converge. You might want to increase the number of iterations. Duality gap: 636647615585.0022, tolerance: 489192333.4545633\n",
      "  model = cd_fast.enet_coordinate_descent(\n",
      "/Users/abilenky/miniconda3/lib/python3.8/site-packages/sklearn/linear_model/_coordinate_descent.py:474: ConvergenceWarning: Objective did not converge. You might want to increase the number of iterations. Duality gap: 655180427870.6375, tolerance: 504821520.5827942\n",
      "  model = cd_fast.enet_coordinate_descent(\n",
      "/Users/abilenky/miniconda3/lib/python3.8/site-packages/sklearn/linear_model/_coordinate_descent.py:474: ConvergenceWarning: Objective did not converge. You might want to increase the number of iterations. Duality gap: 412669392448.6219, tolerance: 465745401.13399327\n",
      "  model = cd_fast.enet_coordinate_descent(\n",
      "/Users/abilenky/miniconda3/lib/python3.8/site-packages/sklearn/linear_model/_coordinate_descent.py:474: ConvergenceWarning: Objective did not converge. You might want to increase the number of iterations. Duality gap: 670609092859.7181, tolerance: 505983142.3124131\n",
      "  model = cd_fast.enet_coordinate_descent(\n",
      "/Users/abilenky/miniconda3/lib/python3.8/site-packages/sklearn/linear_model/_coordinate_descent.py:474: ConvergenceWarning: Objective did not converge. You might want to increase the number of iterations. Duality gap: 678077253024.6089, tolerance: 534821945.2753646\n",
      "  model = cd_fast.enet_coordinate_descent(\n",
      "/Users/abilenky/miniconda3/lib/python3.8/site-packages/sklearn/linear_model/_coordinate_descent.py:474: ConvergenceWarning: Objective did not converge. You might want to increase the number of iterations. Duality gap: 618020562184.633, tolerance: 489192333.4545633\n",
      "  model = cd_fast.enet_coordinate_descent(\n",
      "/Users/abilenky/miniconda3/lib/python3.8/site-packages/sklearn/linear_model/_coordinate_descent.py:474: ConvergenceWarning: Objective did not converge. You might want to increase the number of iterations. Duality gap: 632802697996.7775, tolerance: 504821520.5827942\n",
      "  model = cd_fast.enet_coordinate_descent(\n",
      "/Users/abilenky/miniconda3/lib/python3.8/site-packages/sklearn/linear_model/_coordinate_descent.py:474: ConvergenceWarning: Objective did not converge. You might want to increase the number of iterations. Duality gap: 391319233145.40265, tolerance: 465745401.13399327\n",
      "  model = cd_fast.enet_coordinate_descent(\n",
      "/Users/abilenky/miniconda3/lib/python3.8/site-packages/sklearn/linear_model/_coordinate_descent.py:474: ConvergenceWarning: Objective did not converge. You might want to increase the number of iterations. Duality gap: 620245472137.6705, tolerance: 505983142.3124131\n",
      "  model = cd_fast.enet_coordinate_descent(\n",
      "/Users/abilenky/miniconda3/lib/python3.8/site-packages/sklearn/linear_model/_coordinate_descent.py:474: ConvergenceWarning: Objective did not converge. You might want to increase the number of iterations. Duality gap: 626992991378.1796, tolerance: 534821945.2753646\n",
      "  model = cd_fast.enet_coordinate_descent(\n",
      "/Users/abilenky/miniconda3/lib/python3.8/site-packages/sklearn/linear_model/_coordinate_descent.py:474: ConvergenceWarning: Objective did not converge. You might want to increase the number of iterations. Duality gap: 576452921006.8342, tolerance: 489192333.4545633\n",
      "  model = cd_fast.enet_coordinate_descent(\n",
      "/Users/abilenky/miniconda3/lib/python3.8/site-packages/sklearn/linear_model/_coordinate_descent.py:474: ConvergenceWarning: Objective did not converge. You might want to increase the number of iterations. Duality gap: 582968651123.8693, tolerance: 504821520.5827942\n",
      "  model = cd_fast.enet_coordinate_descent(\n",
      "/Users/abilenky/miniconda3/lib/python3.8/site-packages/sklearn/linear_model/_coordinate_descent.py:474: ConvergenceWarning: Objective did not converge. You might want to increase the number of iterations. Duality gap: 346384222632.49835, tolerance: 465745401.13399327\n",
      "  model = cd_fast.enet_coordinate_descent(\n",
      "[Parallel(n_jobs=1)]: Done 180 out of 180 | elapsed:   43.7s finished\n",
      "/Users/abilenky/miniconda3/lib/python3.8/site-packages/sklearn/linear_model/_coordinate_descent.py:474: ConvergenceWarning: Objective did not converge. You might want to increase the number of iterations. Duality gap: 537184234805.30963, tolerance: 625362250.8865591\n",
      "  model = cd_fast.enet_coordinate_descent(\n"
     ]
    },
    {
     "data": {
      "application/javascript": [
       "\n",
       "            setTimeout(function() {\n",
       "                var nbb_cell_id = 18;\n",
       "                var nbb_unformatted_code = \"# ElasticNet\\n\\ngrid = {\\\"alpha\\\": np.logspace(-3, 5, 9),\\n        'l1_ratio':[0.25,0.5,0.75, 1]\\n       }\\n\\n\\nelastic_cv = GridSearchCV(ElasticNet(max_iter=10000), grid, cv=5, verbose=1)\\nelastic_cv.fit(X_train, y_train)\\ny_test_pred = elastic_cv.best_estimator_.predict(X_test)\";\n",
       "                var nbb_formatted_code = \"# ElasticNet\\n\\ngrid = {\\\"alpha\\\": np.logspace(-3, 5, 9), \\\"l1_ratio\\\": [0.25, 0.5, 0.75, 1]}\\n\\n\\nelastic_cv = GridSearchCV(ElasticNet(max_iter=10000), grid, cv=5, verbose=1)\\nelastic_cv.fit(X_train, y_train)\\ny_test_pred = elastic_cv.best_estimator_.predict(X_test)\";\n",
       "                var nbb_cells = Jupyter.notebook.get_cells();\n",
       "                for (var i = 0; i < nbb_cells.length; ++i) {\n",
       "                    if (nbb_cells[i].input_prompt_number == nbb_cell_id) {\n",
       "                        if (nbb_cells[i].get_text() == nbb_unformatted_code) {\n",
       "                             nbb_cells[i].set_text(nbb_formatted_code);\n",
       "                        }\n",
       "                        break;\n",
       "                    }\n",
       "                }\n",
       "            }, 500);\n",
       "            "
      ],
      "text/plain": [
       "<IPython.core.display.Javascript object>"
      ]
     },
     "metadata": {},
     "output_type": "display_data"
    }
   ],
   "source": [
    "# ElasticNet\n",
    "\n",
    "grid = {\"alpha\": np.logspace(-3, 5, 9),\n",
    "        'l1_ratio':[0.25,0.5,0.75, 1]\n",
    "       }\n",
    "\n",
    "\n",
    "elastic_cv = GridSearchCV(ElasticNet(max_iter=10000), grid, cv=5, verbose=1)\n",
    "elastic_cv.fit(X_train, y_train)\n",
    "y_test_pred = elastic_cv.best_estimator_.predict(X_test)\n"
   ]
  },
  {
   "cell_type": "code",
   "execution_count": 19,
   "metadata": {},
   "outputs": [
    {
     "name": "stdout",
     "output_type": "stream",
     "text": [
      "alpha: 0.1\n",
      "l1 ratio: 0.75\n",
      "Train score: 0.812\n",
      "Test: score: 0.786\n",
      "Mean absolute error: 21658.893\n",
      "MSE: 1640641730.371\n",
      "RMSE: 40504.836\n",
      "MAPE: 11.197\n"
     ]
    },
    {
     "data": {
      "application/javascript": [
       "\n",
       "            setTimeout(function() {\n",
       "                var nbb_cell_id = 19;\n",
       "                var nbb_unformatted_code = \"print(\\n    f\\\"alpha: {elastic_cv.best_estimator_.alpha}\\\\n\\\"\\n    f\\\"l1 ratio: {elastic_cv.best_estimator_.l1_ratio}\\\\n\\\"\\n    f\\\"Train score: {elastic_cv.best_estimator_.score(X_train, y_train):.3f}\\\\n\\\"\\n    f\\\"Test: score: {elastic_cv.best_estimator_.score(X_test, y_test):.3f}\\\\n\\\"\\n    f\\\"Mean absolute error: {mean_absolute_error(y_test, y_test_pred):.3f}\\\\n\\\"\\n    f\\\"MSE: {mean_squared_error(y_test, y_test_pred):.3f}\\\\n\\\"\\n    f\\\"RMSE: {mean_squared_error(y_test, y_test_pred, squared=False):.3f}\\\\n\\\"\\n    f\\\"MAPE: {np.mean(np.abs((y_test - y_test_pred) / y_test)) * 100:.3f}\\\"\\n)\";\n",
       "                var nbb_formatted_code = \"print(\\n    f\\\"alpha: {elastic_cv.best_estimator_.alpha}\\\\n\\\"\\n    f\\\"l1 ratio: {elastic_cv.best_estimator_.l1_ratio}\\\\n\\\"\\n    f\\\"Train score: {elastic_cv.best_estimator_.score(X_train, y_train):.3f}\\\\n\\\"\\n    f\\\"Test: score: {elastic_cv.best_estimator_.score(X_test, y_test):.3f}\\\\n\\\"\\n    f\\\"Mean absolute error: {mean_absolute_error(y_test, y_test_pred):.3f}\\\\n\\\"\\n    f\\\"MSE: {mean_squared_error(y_test, y_test_pred):.3f}\\\\n\\\"\\n    f\\\"RMSE: {mean_squared_error(y_test, y_test_pred, squared=False):.3f}\\\\n\\\"\\n    f\\\"MAPE: {np.mean(np.abs((y_test - y_test_pred) / y_test)) * 100:.3f}\\\"\\n)\";\n",
       "                var nbb_cells = Jupyter.notebook.get_cells();\n",
       "                for (var i = 0; i < nbb_cells.length; ++i) {\n",
       "                    if (nbb_cells[i].input_prompt_number == nbb_cell_id) {\n",
       "                        if (nbb_cells[i].get_text() == nbb_unformatted_code) {\n",
       "                             nbb_cells[i].set_text(nbb_formatted_code);\n",
       "                        }\n",
       "                        break;\n",
       "                    }\n",
       "                }\n",
       "            }, 500);\n",
       "            "
      ],
      "text/plain": [
       "<IPython.core.display.Javascript object>"
      ]
     },
     "metadata": {},
     "output_type": "display_data"
    }
   ],
   "source": [
    "print(\n",
    "    f\"alpha: {elastic_cv.best_estimator_.alpha}\\n\"\n",
    "    f\"l1 ratio: {elastic_cv.best_estimator_.l1_ratio}\\n\"\n",
    "    f\"Train score: {elastic_cv.best_estimator_.score(X_train, y_train):.3f}\\n\"\n",
    "    f\"Test: score: {elastic_cv.best_estimator_.score(X_test, y_test):.3f}\\n\"\n",
    "    f\"Mean absolute error: {mean_absolute_error(y_test, y_test_pred):.3f}\\n\"\n",
    "    f\"MSE: {mean_squared_error(y_test, y_test_pred):.3f}\\n\"\n",
    "    f\"RMSE: {mean_squared_error(y_test, y_test_pred, squared=False):.3f}\\n\"\n",
    "    f\"MAPE: {np.mean(np.abs((y_test - y_test_pred) / y_test)) * 100:.3f}\"\n",
    ")"
   ]
  },
  {
   "cell_type": "code",
   "execution_count": 20,
   "metadata": {},
   "outputs": [
    {
     "data": {
      "text/plain": [
       "Text(0, 0.5, 'Predicted prices')"
      ]
     },
     "execution_count": 20,
     "metadata": {},
     "output_type": "execute_result"
    },
    {
     "data": {
      "image/png": "[encoded data removed]",
      "text/plain": [
       "<Figure size 432x288 with 1 Axes>"
      ]
     },
     "metadata": {
      "needs_background": "light"
     },
     "output_type": "display_data"
    },
    {
     "data": {
      "application/javascript": [
       "\n",
       "            setTimeout(function() {\n",
       "                var nbb_cell_id = 20;\n",
       "                var nbb_unformatted_code = \"plt.scatter(y_test, y_test_pred)\\nplt.plot(y_test, y_test, color=\\\"r\\\")\\nplt.xlabel(\\\"True prices\\\")\\nplt.ylabel(\\\"Predicted prices\\\")\";\n",
       "                var nbb_formatted_code = \"plt.scatter(y_test, y_test_pred)\\nplt.plot(y_test, y_test, color=\\\"r\\\")\\nplt.xlabel(\\\"True prices\\\")\\nplt.ylabel(\\\"Predicted prices\\\")\";\n",
       "                var nbb_cells = Jupyter.notebook.get_cells();\n",
       "                for (var i = 0; i < nbb_cells.length; ++i) {\n",
       "                    if (nbb_cells[i].input_prompt_number == nbb_cell_id) {\n",
       "                        if (nbb_cells[i].get_text() == nbb_unformatted_code) {\n",
       "                             nbb_cells[i].set_text(nbb_formatted_code);\n",
       "                        }\n",
       "                        break;\n",
       "                    }\n",
       "                }\n",
       "            }, 500);\n",
       "            "
      ],
      "text/plain": [
       "<IPython.core.display.Javascript object>"
      ]
     },
     "metadata": {},
     "output_type": "display_data"
    }
   ],
   "source": [
    "plt.scatter(y_test, y_test_pred)\n",
    "plt.plot(y_test, y_test, color=\"r\")\n",
    "plt.xlabel(\"True prices\")\n",
    "plt.ylabel(\"Predicted prices\")"
   ]
  },
  {
   "cell_type": "code",
   "execution_count": null,
   "metadata": {},
   "outputs": [],
   "source": []
  }
 ],
 "metadata": {
  "kernelspec": {
   "display_name": "Python 3",
   "language": "python",
   "name": "python3"
  },
  "language_info": {
   "codemirror_mode": {
    "name": "ipython",
    "version": 3
   },
   "file_extension": ".py",
   "mimetype": "text/x-python",
   "name": "python",
   "nbconvert_exporter": "python",
   "pygments_lexer": "ipython3",
   "version": "3.8.5"
  }
 },
 "nbformat": 4,
 "nbformat_minor": 4
}
